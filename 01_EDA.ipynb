{
 "cells": [
  {
   "cell_type": "code",
   "execution_count": 97,
   "id": "178e4f42-4074-4b94-bb4a-46270244dfc6",
   "metadata": {},
   "outputs": [],
   "source": [
    "import pandas as pd\n",
    "import numpy as np\n",
    "import matplotlib.pyplot as plt\n",
    "import plotly.express as px"
   ]
  },
  {
   "cell_type": "markdown",
   "id": "93922e26-ae39-4b5c-8e47-e034ed16207c",
   "metadata": {
    "tags": []
   },
   "source": [
    "# Fossil Watch Flow Chart"
   ]
  },
  {
   "cell_type": "code",
   "execution_count": 80,
   "id": "f892d03c-36b0-40f8-b176-a76aea9cdf39",
   "metadata": {},
   "outputs": [],
   "source": [
    "df_watch_chart = pd.read_excel('data/FOSSIL WATCH FLOW CHART 0416.xlsx',header=1)"
   ]
  },
  {
   "cell_type": "code",
   "execution_count": 82,
   "id": "af46c4ea-67f3-4223-9822-38e6bfc7f0ff",
   "metadata": {},
   "outputs": [],
   "source": [
    "df_watch_chart.drop(columns=['IMAGE','MAY', 'JUN', 'JUL', 'AUG', 'SEP', 'OCT', 'NOV', 'DEC','Unnamed: 16','Unnamed: 29'],index=0,inplace=True)"
   ]
  },
  {
   "cell_type": "code",
   "execution_count": 83,
   "id": "b5b6ad79-17b1-4770-ab8a-9d1f7cfabe66",
   "metadata": {},
   "outputs": [],
   "source": [
    "df_watch_chart.columns = df_watch_chart.columns.astype(str).str.strip().str.lower().str.replace(' ','_')"
   ]
  },
  {
   "cell_type": "code",
   "execution_count": 84,
   "id": "82495067-f106-41bf-8f8b-a7f5fa1ee0e8",
   "metadata": {},
   "outputs": [
    {
     "name": "stdout",
     "output_type": "stream",
     "text": [
      "<class 'pandas.core.frame.DataFrame'>\n",
      "RangeIndex: 1590 entries, 1 to 1590\n",
      "Data columns (total 23 columns):\n",
      " #   Column             Non-Null Count  Dtype  \n",
      "---  ------             --------------  -----  \n",
      " 0   style              1589 non-null   object \n",
      " 1   retail             1588 non-null   float64\n",
      " 2   upc                1589 non-null   float64\n",
      " 3   description        1589 non-null   object \n",
      " 4   collection         1587 non-null   object \n",
      " 5   size               1587 non-null   object \n",
      " 6   gender             1589 non-null   object \n",
      " 7   status             1259 non-null   object \n",
      " 8   2015               1489 non-null   float64\n",
      " 9   2016               1489 non-null   float64\n",
      " 10  2017               1489 non-null   float64\n",
      " 11  2018               1489 non-null   float64\n",
      " 12  2019               1582 non-null   float64\n",
      " 13  2020               1589 non-null   float64\n",
      " 14  2021               1589 non-null   float64\n",
      " 15  jan                1589 non-null   float64\n",
      " 16  feb                1589 non-null   float64\n",
      " 17  mar                1589 non-null   float64\n",
      " 18  apr                1589 non-null   float64\n",
      " 19  so                 1589 non-null   float64\n",
      " 20  total_sales_2022   1589 non-null   float64\n",
      " 21  oh                 1589 non-null   float64\n",
      " 22  monthly_avrg_2022  1589 non-null   float64\n",
      "dtypes: float64(17), object(6)\n",
      "memory usage: 285.8+ KB\n"
     ]
    }
   ],
   "source": [
    "df_watch_chart.info()"
   ]
  },
  {
   "cell_type": "code",
   "execution_count": 108,
   "id": "9caad370-4041-4055-9867-0e9b1b8b7415",
   "metadata": {},
   "outputs": [
    {
     "data": {
      "text/html": [
       "<div>\n",
       "<style scoped>\n",
       "    .dataframe tbody tr th:only-of-type {\n",
       "        vertical-align: middle;\n",
       "    }\n",
       "\n",
       "    .dataframe tbody tr th {\n",
       "        vertical-align: top;\n",
       "    }\n",
       "\n",
       "    .dataframe thead th {\n",
       "        text-align: right;\n",
       "    }\n",
       "</style>\n",
       "<table border=\"1\" class=\"dataframe\">\n",
       "  <thead>\n",
       "    <tr style=\"text-align: right;\">\n",
       "      <th></th>\n",
       "      <th>style</th>\n",
       "      <th>retail</th>\n",
       "      <th>upc</th>\n",
       "      <th>description</th>\n",
       "      <th>collection</th>\n",
       "      <th>size</th>\n",
       "      <th>gender</th>\n",
       "      <th>status</th>\n",
       "      <th>2015</th>\n",
       "      <th>2016</th>\n",
       "      <th>...</th>\n",
       "      <th>2020</th>\n",
       "      <th>2021</th>\n",
       "      <th>jan</th>\n",
       "      <th>feb</th>\n",
       "      <th>mar</th>\n",
       "      <th>apr</th>\n",
       "      <th>so</th>\n",
       "      <th>total_sales_2022</th>\n",
       "      <th>oh</th>\n",
       "      <th>monthly_avrg_2022</th>\n",
       "    </tr>\n",
       "  </thead>\n",
       "  <tbody>\n",
       "    <tr>\n",
       "      <th>646</th>\n",
       "      <td>FS5697</td>\n",
       "      <td>169.0</td>\n",
       "      <td>7.964835e+11</td>\n",
       "      <td>FOSSIL / MENS / FORRESTER CHRONO 46MM</td>\n",
       "      <td>NaN</td>\n",
       "      <td>NaN</td>\n",
       "      <td>MENS</td>\n",
       "      <td>2020H1</td>\n",
       "      <td>0.0</td>\n",
       "      <td>0.0</td>\n",
       "      <td>...</td>\n",
       "      <td>14.0</td>\n",
       "      <td>6.0</td>\n",
       "      <td>0.0</td>\n",
       "      <td>0.0</td>\n",
       "      <td>0.0</td>\n",
       "      <td>0.0</td>\n",
       "      <td>0.0</td>\n",
       "      <td>0.0</td>\n",
       "      <td>0.0</td>\n",
       "      <td>0.00</td>\n",
       "    </tr>\n",
       "    <tr>\n",
       "      <th>786</th>\n",
       "      <td>LE1095</td>\n",
       "      <td>119.0</td>\n",
       "      <td>7.964835e+11</td>\n",
       "      <td>FOSSIL / LADIES / JACQUELINE 36MM</td>\n",
       "      <td>NaN</td>\n",
       "      <td>NaN</td>\n",
       "      <td>LADIES</td>\n",
       "      <td>2020H1</td>\n",
       "      <td>0.0</td>\n",
       "      <td>0.0</td>\n",
       "      <td>...</td>\n",
       "      <td>5.0</td>\n",
       "      <td>3.0</td>\n",
       "      <td>1.0</td>\n",
       "      <td>0.0</td>\n",
       "      <td>0.0</td>\n",
       "      <td>0.0</td>\n",
       "      <td>0.0</td>\n",
       "      <td>1.0</td>\n",
       "      <td>11.0</td>\n",
       "      <td>0.25</td>\n",
       "    </tr>\n",
       "    <tr>\n",
       "      <th>899</th>\n",
       "      <td>NaN</td>\n",
       "      <td>NaN</td>\n",
       "      <td>NaN</td>\n",
       "      <td>NaN</td>\n",
       "      <td>NaN</td>\n",
       "      <td>NaN</td>\n",
       "      <td>NaN</td>\n",
       "      <td>NaN</td>\n",
       "      <td>NaN</td>\n",
       "      <td>NaN</td>\n",
       "      <td>...</td>\n",
       "      <td>NaN</td>\n",
       "      <td>NaN</td>\n",
       "      <td>NaN</td>\n",
       "      <td>NaN</td>\n",
       "      <td>NaN</td>\n",
       "      <td>NaN</td>\n",
       "      <td>NaN</td>\n",
       "      <td>NaN</td>\n",
       "      <td>NaN</td>\n",
       "      <td>NaN</td>\n",
       "    </tr>\n",
       "  </tbody>\n",
       "</table>\n",
       "<p>3 rows × 23 columns</p>\n",
       "</div>"
      ],
      "text/plain": [
       "      style  retail           upc                            description  \\\n",
       "646  FS5697   169.0  7.964835e+11  FOSSIL / MENS / FORRESTER CHRONO 46MM   \n",
       "786  LE1095   119.0  7.964835e+11      FOSSIL / LADIES / JACQUELINE 36MM   \n",
       "899     NaN     NaN           NaN                                    NaN   \n",
       "\n",
       "    collection size  gender  status  2015  2016  ...  2020  2021  jan  feb  \\\n",
       "646        NaN  NaN    MENS  2020H1   0.0   0.0  ...  14.0   6.0  0.0  0.0   \n",
       "786        NaN  NaN  LADIES  2020H1   0.0   0.0  ...   5.0   3.0  1.0  0.0   \n",
       "899        NaN  NaN     NaN     NaN   NaN   NaN  ...   NaN   NaN  NaN  NaN   \n",
       "\n",
       "     mar  apr   so  total_sales_2022    oh  monthly_avrg_2022  \n",
       "646  0.0  0.0  0.0               0.0   0.0               0.00  \n",
       "786  0.0  0.0  0.0               1.0  11.0               0.25  \n",
       "899  NaN  NaN  NaN               NaN   NaN                NaN  \n",
       "\n",
       "[3 rows x 23 columns]"
      ]
     },
     "execution_count": 108,
     "metadata": {},
     "output_type": "execute_result"
    }
   ],
   "source": [
    "df_watch_chart[df_watch_chart['collection'].isna()]"
   ]
  },
  {
   "cell_type": "code",
   "execution_count": 85,
   "id": "8cec7b49-ac0b-4ca2-a586-4f333aeea59c",
   "metadata": {},
   "outputs": [
    {
     "data": {
      "text/html": [
       "<div>\n",
       "<style scoped>\n",
       "    .dataframe tbody tr th:only-of-type {\n",
       "        vertical-align: middle;\n",
       "    }\n",
       "\n",
       "    .dataframe tbody tr th {\n",
       "        vertical-align: top;\n",
       "    }\n",
       "\n",
       "    .dataframe thead th {\n",
       "        text-align: right;\n",
       "    }\n",
       "</style>\n",
       "<table border=\"1\" class=\"dataframe\">\n",
       "  <thead>\n",
       "    <tr style=\"text-align: right;\">\n",
       "      <th></th>\n",
       "      <th>retail</th>\n",
       "      <th>upc</th>\n",
       "      <th>2015</th>\n",
       "      <th>2016</th>\n",
       "      <th>2017</th>\n",
       "      <th>2018</th>\n",
       "      <th>2019</th>\n",
       "      <th>2020</th>\n",
       "      <th>2021</th>\n",
       "      <th>jan</th>\n",
       "      <th>feb</th>\n",
       "      <th>mar</th>\n",
       "      <th>apr</th>\n",
       "      <th>so</th>\n",
       "      <th>total_sales_2022</th>\n",
       "      <th>oh</th>\n",
       "      <th>monthly_avrg_2022</th>\n",
       "    </tr>\n",
       "  </thead>\n",
       "  <tbody>\n",
       "    <tr>\n",
       "      <th>count</th>\n",
       "      <td>1588.0</td>\n",
       "      <td>1.589000e+03</td>\n",
       "      <td>1489.0</td>\n",
       "      <td>1489.0</td>\n",
       "      <td>1489.0</td>\n",
       "      <td>1489.0</td>\n",
       "      <td>1582.0</td>\n",
       "      <td>1589.0</td>\n",
       "      <td>1589.0</td>\n",
       "      <td>1589.0</td>\n",
       "      <td>1589.0</td>\n",
       "      <td>1589.0</td>\n",
       "      <td>1589.0</td>\n",
       "      <td>1589.0</td>\n",
       "      <td>1589.0</td>\n",
       "      <td>1589.0</td>\n",
       "      <td>1589.0</td>\n",
       "    </tr>\n",
       "    <tr>\n",
       "      <th>mean</th>\n",
       "      <td>143.5</td>\n",
       "      <td>7.974690e+11</td>\n",
       "      <td>5.0</td>\n",
       "      <td>13.3</td>\n",
       "      <td>22.8</td>\n",
       "      <td>27.1</td>\n",
       "      <td>17.0</td>\n",
       "      <td>10.7</td>\n",
       "      <td>12.4</td>\n",
       "      <td>1.3</td>\n",
       "      <td>1.0</td>\n",
       "      <td>1.5</td>\n",
       "      <td>0.6</td>\n",
       "      <td>0.4</td>\n",
       "      <td>4.4</td>\n",
       "      <td>5.8</td>\n",
       "      <td>1.1</td>\n",
       "    </tr>\n",
       "    <tr>\n",
       "      <th>std</th>\n",
       "      <td>32.6</td>\n",
       "      <td>1.441317e+11</td>\n",
       "      <td>16.0</td>\n",
       "      <td>33.3</td>\n",
       "      <td>46.6</td>\n",
       "      <td>70.5</td>\n",
       "      <td>47.9</td>\n",
       "      <td>23.9</td>\n",
       "      <td>25.5</td>\n",
       "      <td>3.7</td>\n",
       "      <td>3.0</td>\n",
       "      <td>4.4</td>\n",
       "      <td>2.7</td>\n",
       "      <td>1.4</td>\n",
       "      <td>11.1</td>\n",
       "      <td>14.0</td>\n",
       "      <td>2.8</td>\n",
       "    </tr>\n",
       "    <tr>\n",
       "      <th>min</th>\n",
       "      <td>75.0</td>\n",
       "      <td>7.964834e+10</td>\n",
       "      <td>0.0</td>\n",
       "      <td>0.0</td>\n",
       "      <td>-1.0</td>\n",
       "      <td>-2.0</td>\n",
       "      <td>-2.0</td>\n",
       "      <td>-1.0</td>\n",
       "      <td>-1.0</td>\n",
       "      <td>0.0</td>\n",
       "      <td>0.0</td>\n",
       "      <td>0.0</td>\n",
       "      <td>0.0</td>\n",
       "      <td>0.0</td>\n",
       "      <td>0.0</td>\n",
       "      <td>0.0</td>\n",
       "      <td>0.0</td>\n",
       "    </tr>\n",
       "    <tr>\n",
       "      <th>25%</th>\n",
       "      <td>125.0</td>\n",
       "      <td>7.964833e+11</td>\n",
       "      <td>0.0</td>\n",
       "      <td>0.0</td>\n",
       "      <td>0.0</td>\n",
       "      <td>0.0</td>\n",
       "      <td>0.0</td>\n",
       "      <td>0.0</td>\n",
       "      <td>0.0</td>\n",
       "      <td>0.0</td>\n",
       "      <td>0.0</td>\n",
       "      <td>0.0</td>\n",
       "      <td>0.0</td>\n",
       "      <td>0.0</td>\n",
       "      <td>0.0</td>\n",
       "      <td>0.0</td>\n",
       "      <td>0.0</td>\n",
       "    </tr>\n",
       "    <tr>\n",
       "      <th>50%</th>\n",
       "      <td>139.0</td>\n",
       "      <td>7.964834e+11</td>\n",
       "      <td>0.0</td>\n",
       "      <td>0.0</td>\n",
       "      <td>0.0</td>\n",
       "      <td>0.0</td>\n",
       "      <td>0.0</td>\n",
       "      <td>0.0</td>\n",
       "      <td>0.0</td>\n",
       "      <td>0.0</td>\n",
       "      <td>0.0</td>\n",
       "      <td>0.0</td>\n",
       "      <td>0.0</td>\n",
       "      <td>0.0</td>\n",
       "      <td>0.0</td>\n",
       "      <td>0.0</td>\n",
       "      <td>0.0</td>\n",
       "    </tr>\n",
       "    <tr>\n",
       "      <th>75%</th>\n",
       "      <td>155.0</td>\n",
       "      <td>7.964835e+11</td>\n",
       "      <td>0.0</td>\n",
       "      <td>6.0</td>\n",
       "      <td>30.0</td>\n",
       "      <td>14.0</td>\n",
       "      <td>6.0</td>\n",
       "      <td>10.0</td>\n",
       "      <td>14.0</td>\n",
       "      <td>0.0</td>\n",
       "      <td>0.0</td>\n",
       "      <td>0.0</td>\n",
       "      <td>0.0</td>\n",
       "      <td>0.0</td>\n",
       "      <td>2.0</td>\n",
       "      <td>0.0</td>\n",
       "      <td>0.5</td>\n",
       "    </tr>\n",
       "    <tr>\n",
       "      <th>max</th>\n",
       "      <td>325.0</td>\n",
       "      <td>4.053859e+12</td>\n",
       "      <td>112.0</td>\n",
       "      <td>266.0</td>\n",
       "      <td>619.0</td>\n",
       "      <td>764.0</td>\n",
       "      <td>702.0</td>\n",
       "      <td>197.0</td>\n",
       "      <td>260.0</td>\n",
       "      <td>39.0</td>\n",
       "      <td>31.0</td>\n",
       "      <td>45.0</td>\n",
       "      <td>44.0</td>\n",
       "      <td>15.0</td>\n",
       "      <td>116.0</td>\n",
       "      <td>158.0</td>\n",
       "      <td>29.0</td>\n",
       "    </tr>\n",
       "  </tbody>\n",
       "</table>\n",
       "</div>"
      ],
      "text/plain": [
       "       retail           upc    2015    2016    2017    2018    2019    2020  \\\n",
       "count  1588.0  1.589000e+03  1489.0  1489.0  1489.0  1489.0  1582.0  1589.0   \n",
       "mean    143.5  7.974690e+11     5.0    13.3    22.8    27.1    17.0    10.7   \n",
       "std      32.6  1.441317e+11    16.0    33.3    46.6    70.5    47.9    23.9   \n",
       "min      75.0  7.964834e+10     0.0     0.0    -1.0    -2.0    -2.0    -1.0   \n",
       "25%     125.0  7.964833e+11     0.0     0.0     0.0     0.0     0.0     0.0   \n",
       "50%     139.0  7.964834e+11     0.0     0.0     0.0     0.0     0.0     0.0   \n",
       "75%     155.0  7.964835e+11     0.0     6.0    30.0    14.0     6.0    10.0   \n",
       "max     325.0  4.053859e+12   112.0   266.0   619.0   764.0   702.0   197.0   \n",
       "\n",
       "         2021     jan     feb     mar     apr      so  total_sales_2022  \\\n",
       "count  1589.0  1589.0  1589.0  1589.0  1589.0  1589.0            1589.0   \n",
       "mean     12.4     1.3     1.0     1.5     0.6     0.4               4.4   \n",
       "std      25.5     3.7     3.0     4.4     2.7     1.4              11.1   \n",
       "min      -1.0     0.0     0.0     0.0     0.0     0.0               0.0   \n",
       "25%       0.0     0.0     0.0     0.0     0.0     0.0               0.0   \n",
       "50%       0.0     0.0     0.0     0.0     0.0     0.0               0.0   \n",
       "75%      14.0     0.0     0.0     0.0     0.0     0.0               2.0   \n",
       "max     260.0    39.0    31.0    45.0    44.0    15.0             116.0   \n",
       "\n",
       "           oh  monthly_avrg_2022  \n",
       "count  1589.0             1589.0  \n",
       "mean      5.8                1.1  \n",
       "std      14.0                2.8  \n",
       "min       0.0                0.0  \n",
       "25%       0.0                0.0  \n",
       "50%       0.0                0.0  \n",
       "75%       0.0                0.5  \n",
       "max     158.0               29.0  "
      ]
     },
     "execution_count": 85,
     "metadata": {},
     "output_type": "execute_result"
    }
   ],
   "source": [
    "df_watch_chart.describe().round(1)"
   ]
  },
  {
   "cell_type": "code",
   "execution_count": 86,
   "id": "b39a926a-1140-4d70-a1d6-003d72b0a157",
   "metadata": {},
   "outputs": [
    {
     "data": {
      "text/html": [
       "<div>\n",
       "<style scoped>\n",
       "    .dataframe tbody tr th:only-of-type {\n",
       "        vertical-align: middle;\n",
       "    }\n",
       "\n",
       "    .dataframe tbody tr th {\n",
       "        vertical-align: top;\n",
       "    }\n",
       "\n",
       "    .dataframe thead th {\n",
       "        text-align: right;\n",
       "    }\n",
       "</style>\n",
       "<table border=\"1\" class=\"dataframe\">\n",
       "  <thead>\n",
       "    <tr style=\"text-align: right;\">\n",
       "      <th></th>\n",
       "      <th>style</th>\n",
       "      <th>retail</th>\n",
       "      <th>upc</th>\n",
       "      <th>description</th>\n",
       "      <th>collection</th>\n",
       "      <th>size</th>\n",
       "      <th>gender</th>\n",
       "      <th>status</th>\n",
       "      <th>2015</th>\n",
       "      <th>2016</th>\n",
       "      <th>...</th>\n",
       "      <th>2020</th>\n",
       "      <th>2021</th>\n",
       "      <th>jan</th>\n",
       "      <th>feb</th>\n",
       "      <th>mar</th>\n",
       "      <th>apr</th>\n",
       "      <th>so</th>\n",
       "      <th>total_sales_2022</th>\n",
       "      <th>oh</th>\n",
       "      <th>monthly_avrg_2022</th>\n",
       "    </tr>\n",
       "  </thead>\n",
       "  <tbody>\n",
       "    <tr>\n",
       "      <th>19</th>\n",
       "      <td>CE1093</td>\n",
       "      <td>249.0</td>\n",
       "      <td>7.964835e+11</td>\n",
       "      <td>FOSSIL / LADIES / CARLIE 38MM</td>\n",
       "      <td>CARLIE</td>\n",
       "      <td>38MM</td>\n",
       "      <td>LADIES</td>\n",
       "      <td>2020H1</td>\n",
       "      <td>0.0</td>\n",
       "      <td>0.0</td>\n",
       "      <td>...</td>\n",
       "      <td>50.0</td>\n",
       "      <td>-1.0</td>\n",
       "      <td>0.0</td>\n",
       "      <td>0.0</td>\n",
       "      <td>0.0</td>\n",
       "      <td>0.0</td>\n",
       "      <td>0.0</td>\n",
       "      <td>0.0</td>\n",
       "      <td>1.0</td>\n",
       "      <td>0.00</td>\n",
       "    </tr>\n",
       "    <tr>\n",
       "      <th>24</th>\n",
       "      <td>CE1107</td>\n",
       "      <td>219.0</td>\n",
       "      <td>7.964835e+11</td>\n",
       "      <td>FOSSIL / LADIES / FB-01 35MM</td>\n",
       "      <td>FB-01</td>\n",
       "      <td>35MM</td>\n",
       "      <td>LADIES</td>\n",
       "      <td>NaN</td>\n",
       "      <td>0.0</td>\n",
       "      <td>0.0</td>\n",
       "      <td>...</td>\n",
       "      <td>0.0</td>\n",
       "      <td>19.0</td>\n",
       "      <td>11.0</td>\n",
       "      <td>6.0</td>\n",
       "      <td>5.0</td>\n",
       "      <td>7.0</td>\n",
       "      <td>4.0</td>\n",
       "      <td>29.0</td>\n",
       "      <td>12.0</td>\n",
       "      <td>7.25</td>\n",
       "    </tr>\n",
       "    <tr>\n",
       "      <th>25</th>\n",
       "      <td>CE1108</td>\n",
       "      <td>219.0</td>\n",
       "      <td>7.964835e+11</td>\n",
       "      <td>FOSSIL / LADIES / FB-01 35MM</td>\n",
       "      <td>FB-01</td>\n",
       "      <td>35MM</td>\n",
       "      <td>LADIES</td>\n",
       "      <td>NaN</td>\n",
       "      <td>0.0</td>\n",
       "      <td>0.0</td>\n",
       "      <td>...</td>\n",
       "      <td>0.0</td>\n",
       "      <td>16.0</td>\n",
       "      <td>5.0</td>\n",
       "      <td>0.0</td>\n",
       "      <td>2.0</td>\n",
       "      <td>3.0</td>\n",
       "      <td>3.0</td>\n",
       "      <td>10.0</td>\n",
       "      <td>17.0</td>\n",
       "      <td>2.50</td>\n",
       "    </tr>\n",
       "    <tr>\n",
       "      <th>26</th>\n",
       "      <td>CE1110</td>\n",
       "      <td>219.0</td>\n",
       "      <td>7.964835e+11</td>\n",
       "      <td>FOSSIL / LADIES / GABBY 34MM</td>\n",
       "      <td>GABBY</td>\n",
       "      <td>34MM</td>\n",
       "      <td>LADIES</td>\n",
       "      <td>2021H3</td>\n",
       "      <td>NaN</td>\n",
       "      <td>NaN</td>\n",
       "      <td>...</td>\n",
       "      <td>0.0</td>\n",
       "      <td>0.0</td>\n",
       "      <td>8.0</td>\n",
       "      <td>3.0</td>\n",
       "      <td>7.0</td>\n",
       "      <td>3.0</td>\n",
       "      <td>1.0</td>\n",
       "      <td>21.0</td>\n",
       "      <td>3.0</td>\n",
       "      <td>5.25</td>\n",
       "    </tr>\n",
       "    <tr>\n",
       "      <th>27</th>\n",
       "      <td>CE1112</td>\n",
       "      <td>219.0</td>\n",
       "      <td>7.964835e+11</td>\n",
       "      <td>FOSSIL / LADIES / STELLA 38MM</td>\n",
       "      <td>STELLA</td>\n",
       "      <td>38MM</td>\n",
       "      <td>LADIES</td>\n",
       "      <td>2021H3</td>\n",
       "      <td>NaN</td>\n",
       "      <td>NaN</td>\n",
       "      <td>...</td>\n",
       "      <td>0.0</td>\n",
       "      <td>0.0</td>\n",
       "      <td>8.0</td>\n",
       "      <td>3.0</td>\n",
       "      <td>7.0</td>\n",
       "      <td>1.0</td>\n",
       "      <td>3.0</td>\n",
       "      <td>19.0</td>\n",
       "      <td>8.0</td>\n",
       "      <td>4.75</td>\n",
       "    </tr>\n",
       "    <tr>\n",
       "      <th>...</th>\n",
       "      <td>...</td>\n",
       "      <td>...</td>\n",
       "      <td>...</td>\n",
       "      <td>...</td>\n",
       "      <td>...</td>\n",
       "      <td>...</td>\n",
       "      <td>...</td>\n",
       "      <td>...</td>\n",
       "      <td>...</td>\n",
       "      <td>...</td>\n",
       "      <td>...</td>\n",
       "      <td>...</td>\n",
       "      <td>...</td>\n",
       "      <td>...</td>\n",
       "      <td>...</td>\n",
       "      <td>...</td>\n",
       "      <td>...</td>\n",
       "      <td>...</td>\n",
       "      <td>...</td>\n",
       "      <td>...</td>\n",
       "      <td>...</td>\n",
       "    </tr>\n",
       "    <tr>\n",
       "      <th>897</th>\n",
       "      <td>ES5192</td>\n",
       "      <td>170.0</td>\n",
       "      <td>7.964836e+11</td>\n",
       "      <td>FOSSIL / LADIES / STELLA 37MM</td>\n",
       "      <td>STELLA</td>\n",
       "      <td>37MM</td>\n",
       "      <td>LADIES</td>\n",
       "      <td>2022H2</td>\n",
       "      <td>0.0</td>\n",
       "      <td>0.0</td>\n",
       "      <td>...</td>\n",
       "      <td>0.0</td>\n",
       "      <td>0.0</td>\n",
       "      <td>0.0</td>\n",
       "      <td>0.0</td>\n",
       "      <td>0.0</td>\n",
       "      <td>0.0</td>\n",
       "      <td>0.0</td>\n",
       "      <td>0.0</td>\n",
       "      <td>30.0</td>\n",
       "      <td>0.00</td>\n",
       "    </tr>\n",
       "    <tr>\n",
       "      <th>898</th>\n",
       "      <td>FS5924</td>\n",
       "      <td>140.0</td>\n",
       "      <td>7.964836e+11</td>\n",
       "      <td>FOSSIL / GENTS / DAYLINER 42MM</td>\n",
       "      <td>DAYLINER</td>\n",
       "      <td>42MM</td>\n",
       "      <td>GENTS</td>\n",
       "      <td>2022H2</td>\n",
       "      <td>0.0</td>\n",
       "      <td>0.0</td>\n",
       "      <td>...</td>\n",
       "      <td>0.0</td>\n",
       "      <td>0.0</td>\n",
       "      <td>0.0</td>\n",
       "      <td>0.0</td>\n",
       "      <td>0.0</td>\n",
       "      <td>0.0</td>\n",
       "      <td>0.0</td>\n",
       "      <td>0.0</td>\n",
       "      <td>30.0</td>\n",
       "      <td>0.00</td>\n",
       "    </tr>\n",
       "    <tr>\n",
       "      <th>958</th>\n",
       "      <td>ME3177</td>\n",
       "      <td>219.0</td>\n",
       "      <td>7.964835e+11</td>\n",
       "      <td>FOSSIL / LADIES / CARLIE 35MM</td>\n",
       "      <td>CARLIE</td>\n",
       "      <td>35MM</td>\n",
       "      <td>LADIES</td>\n",
       "      <td>DISCD</td>\n",
       "      <td>0.0</td>\n",
       "      <td>0.0</td>\n",
       "      <td>...</td>\n",
       "      <td>5.0</td>\n",
       "      <td>0.0</td>\n",
       "      <td>1.0</td>\n",
       "      <td>2.0</td>\n",
       "      <td>0.0</td>\n",
       "      <td>0.0</td>\n",
       "      <td>1.0</td>\n",
       "      <td>3.0</td>\n",
       "      <td>5.0</td>\n",
       "      <td>0.75</td>\n",
       "    </tr>\n",
       "    <tr>\n",
       "      <th>1020</th>\n",
       "      <td>FS4812</td>\n",
       "      <td>129.0</td>\n",
       "      <td>7.964830e+11</td>\n",
       "      <td>FOSSIL / MENS / GRANT</td>\n",
       "      <td>GRANT</td>\n",
       "      <td>44MM</td>\n",
       "      <td>MEN</td>\n",
       "      <td>DISCD</td>\n",
       "      <td>38.0</td>\n",
       "      <td>105.0</td>\n",
       "      <td>...</td>\n",
       "      <td>0.0</td>\n",
       "      <td>1.0</td>\n",
       "      <td>5.0</td>\n",
       "      <td>3.0</td>\n",
       "      <td>10.0</td>\n",
       "      <td>0.0</td>\n",
       "      <td>2.0</td>\n",
       "      <td>18.0</td>\n",
       "      <td>19.0</td>\n",
       "      <td>4.50</td>\n",
       "    </tr>\n",
       "    <tr>\n",
       "      <th>1125</th>\n",
       "      <td>FS5545</td>\n",
       "      <td>105.0</td>\n",
       "      <td>7.964834e+11</td>\n",
       "      <td>FOSSIL / MENS / THE COMMUTER 3H DATE 42MM</td>\n",
       "      <td>THE COMMUTER 3H</td>\n",
       "      <td>42MM</td>\n",
       "      <td>MENS</td>\n",
       "      <td>DISCD</td>\n",
       "      <td>0.0</td>\n",
       "      <td>0.0</td>\n",
       "      <td>...</td>\n",
       "      <td>0.0</td>\n",
       "      <td>12.0</td>\n",
       "      <td>0.0</td>\n",
       "      <td>3.0</td>\n",
       "      <td>0.0</td>\n",
       "      <td>0.0</td>\n",
       "      <td>0.0</td>\n",
       "      <td>3.0</td>\n",
       "      <td>6.0</td>\n",
       "      <td>0.75</td>\n",
       "    </tr>\n",
       "  </tbody>\n",
       "</table>\n",
       "<p>361 rows × 23 columns</p>\n",
       "</div>"
      ],
      "text/plain": [
       "       style  retail           upc                                description  \\\n",
       "19    CE1093   249.0  7.964835e+11              FOSSIL / LADIES / CARLIE 38MM   \n",
       "24    CE1107   219.0  7.964835e+11               FOSSIL / LADIES / FB-01 35MM   \n",
       "25    CE1108   219.0  7.964835e+11               FOSSIL / LADIES / FB-01 35MM   \n",
       "26    CE1110   219.0  7.964835e+11               FOSSIL / LADIES / GABBY 34MM   \n",
       "27    CE1112   219.0  7.964835e+11              FOSSIL / LADIES / STELLA 38MM   \n",
       "...      ...     ...           ...                                        ...   \n",
       "897   ES5192   170.0  7.964836e+11              FOSSIL / LADIES / STELLA 37MM   \n",
       "898   FS5924   140.0  7.964836e+11             FOSSIL / GENTS / DAYLINER 42MM   \n",
       "958   ME3177   219.0  7.964835e+11              FOSSIL / LADIES / CARLIE 35MM   \n",
       "1020  FS4812   129.0  7.964830e+11                      FOSSIL / MENS / GRANT   \n",
       "1125  FS5545   105.0  7.964834e+11  FOSSIL / MENS / THE COMMUTER 3H DATE 42MM   \n",
       "\n",
       "           collection  size  gender  status  2015   2016  ...  2020  2021  \\\n",
       "19             CARLIE  38MM  LADIES  2020H1   0.0    0.0  ...  50.0  -1.0   \n",
       "24              FB-01  35MM  LADIES     NaN   0.0    0.0  ...   0.0  19.0   \n",
       "25              FB-01  35MM  LADIES     NaN   0.0    0.0  ...   0.0  16.0   \n",
       "26              GABBY  34MM  LADIES  2021H3   NaN    NaN  ...   0.0   0.0   \n",
       "27             STELLA  38MM  LADIES  2021H3   NaN    NaN  ...   0.0   0.0   \n",
       "...               ...   ...     ...     ...   ...    ...  ...   ...   ...   \n",
       "897            STELLA  37MM  LADIES  2022H2   0.0    0.0  ...   0.0   0.0   \n",
       "898          DAYLINER  42MM   GENTS  2022H2   0.0    0.0  ...   0.0   0.0   \n",
       "958            CARLIE  35MM  LADIES   DISCD   0.0    0.0  ...   5.0   0.0   \n",
       "1020            GRANT  44MM     MEN   DISCD  38.0  105.0  ...   0.0   1.0   \n",
       "1125  THE COMMUTER 3H  42MM    MENS   DISCD   0.0    0.0  ...   0.0  12.0   \n",
       "\n",
       "       jan  feb   mar  apr   so  total_sales_2022    oh  monthly_avrg_2022  \n",
       "19     0.0  0.0   0.0  0.0  0.0               0.0   1.0               0.00  \n",
       "24    11.0  6.0   5.0  7.0  4.0              29.0  12.0               7.25  \n",
       "25     5.0  0.0   2.0  3.0  3.0              10.0  17.0               2.50  \n",
       "26     8.0  3.0   7.0  3.0  1.0              21.0   3.0               5.25  \n",
       "27     8.0  3.0   7.0  1.0  3.0              19.0   8.0               4.75  \n",
       "...    ...  ...   ...  ...  ...               ...   ...                ...  \n",
       "897    0.0  0.0   0.0  0.0  0.0               0.0  30.0               0.00  \n",
       "898    0.0  0.0   0.0  0.0  0.0               0.0  30.0               0.00  \n",
       "958    1.0  2.0   0.0  0.0  1.0               3.0   5.0               0.75  \n",
       "1020   5.0  3.0  10.0  0.0  2.0              18.0  19.0               4.50  \n",
       "1125   0.0  3.0   0.0  0.0  0.0               3.0   6.0               0.75  \n",
       "\n",
       "[361 rows x 23 columns]"
      ]
     },
     "execution_count": 86,
     "metadata": {},
     "output_type": "execute_result"
    }
   ],
   "source": [
    "df_watch_chart[df_watch_chart['oh']>0]"
   ]
  },
  {
   "cell_type": "code",
   "execution_count": 96,
   "id": "f44f440c-e3f0-45fb-a41e-073700af4f07",
   "metadata": {},
   "outputs": [
    {
     "data": {
      "image/png": "[encoded data removed]",
      "text/plain": [
       "<Figure size 432x288 with 1 Axes>"
      ]
     },
     "metadata": {
      "needs_background": "light"
     },
     "output_type": "display_data"
    }
   ],
   "source": [
    "plt.hist(x=df_watch_chart['2021']);"
   ]
  },
  {
   "cell_type": "code",
   "execution_count": 98,
   "id": "a911770d-e4eb-4f89-a9f2-7f14884b1069",
   "metadata": {},
   "outputs": [
    {
     "data": {
      "text/plain": [
       "Index(['style', 'retail', 'upc', 'description', 'collection', 'size', 'gender',\n",
       "       'status', '2015', '2016', '2017', '2018', '2019', '2020', '2021', 'jan',\n",
       "       'feb', 'mar', 'apr', 'so', 'total_sales_2022', 'oh',\n",
       "       'monthly_avrg_2022'],\n",
       "      dtype='object')"
      ]
     },
     "execution_count": 98,
     "metadata": {},
     "output_type": "execute_result"
    }
   ],
   "source": [
    "df_watch_chart.columns\n"
   ]
  },
  {
   "cell_type": "code",
   "execution_count": 181,
   "id": "462faa60-11fa-4b4d-a3e4-ad1bd10fac37",
   "metadata": {},
   "outputs": [
    {
     "data": {
      "application/vnd.plotly.v1+json": {
       "config": {
        "plotlyServerURL": "https://plot.ly"
       },
       "data": [
        {
         "alignmentgroup": "True",
         "hovertemplate": "collection=%{y}<br>value=%{x}<extra></extra>",
         "legendgroup": "MADELINE",
         "marker": {
          "color": "#636efa",
          "pattern": {
           "shape": ""
          }
         },
         "name": "MADELINE",
         "offsetgroup": "MADELINE",
         "orientation": "h",
         "showlegend": true,
         "textposition": "auto",
         "type": "bar",
         "x": [
          98,
          98,
          55
         ],
         "xaxis": "x",
         "y": [
          "MADELINE",
          "MADELINE",
          "MADELINE"
         ],
         "yaxis": "y"
        },
        {
         "alignmentgroup": "True",
         "hovertemplate": "collection=%{y}<br>value=%{x}<extra></extra>",
         "legendgroup": "NEELY",
         "marker": {
          "color": "#EF553B",
          "pattern": {
           "shape": ""
          }
         },
         "name": "NEELY",
         "offsetgroup": "NEELY",
         "orientation": "h",
         "showlegend": true,
         "textposition": "auto",
         "type": "bar",
         "x": [
          99
         ],
         "xaxis": "x",
         "y": [
          "NEELY"
         ],
         "yaxis": "y"
        },
        {
         "alignmentgroup": "True",
         "hovertemplate": "collection=%{y}<br>value=%{x}<extra></extra>",
         "legendgroup": "KALYA",
         "marker": {
          "color": "#00cc96",
          "pattern": {
           "shape": ""
          }
         },
         "name": "KALYA",
         "offsetgroup": "KALYA",
         "orientation": "h",
         "showlegend": true,
         "textposition": "auto",
         "type": "bar",
         "x": [
          100,
          61
         ],
         "xaxis": "x",
         "y": [
          "KALYA",
          "KALYA"
         ],
         "yaxis": "y"
        },
        {
         "alignmentgroup": "True",
         "hovertemplate": "collection=%{y}<br>value=%{x}<extra></extra>",
         "legendgroup": "LYRIC",
         "marker": {
          "color": "#ab63fa",
          "pattern": {
           "shape": ""
          }
         },
         "name": "LYRIC",
         "offsetgroup": "LYRIC",
         "orientation": "h",
         "showlegend": true,
         "textposition": "auto",
         "type": "bar",
         "x": [
          100
         ],
         "xaxis": "x",
         "y": [
          "LYRIC"
         ],
         "yaxis": "y"
        },
        {
         "alignmentgroup": "True",
         "hovertemplate": "collection=%{y}<br>value=%{x}<extra></extra>",
         "legendgroup": "FB-01",
         "marker": {
          "color": "#FFA15A",
          "pattern": {
           "shape": ""
          }
         },
         "name": "FB-01",
         "offsetgroup": "FB-01",
         "orientation": "h",
         "showlegend": true,
         "textposition": "auto",
         "type": "bar",
         "x": [
          100,
          85,
          62,
          65
         ],
         "xaxis": "x",
         "y": [
          "FB-01",
          "FB-01",
          "FB-01",
          "FB-01"
         ],
         "yaxis": "y"
        },
        {
         "alignmentgroup": "True",
         "hovertemplate": "collection=%{y}<br>value=%{x}<extra></extra>",
         "legendgroup": "MACHINE",
         "marker": {
          "color": "#19d3f3",
          "pattern": {
           "shape": ""
          }
         },
         "name": "MACHINE",
         "offsetgroup": "MACHINE",
         "orientation": "h",
         "showlegend": true,
         "textposition": "auto",
         "type": "bar",
         "x": [
          100,
          100,
          104,
          65,
          75,
          87,
          80,
          105,
          92,
          101,
          62
         ],
         "xaxis": "x",
         "y": [
          "MACHINE",
          "MACHINE",
          "MACHINE",
          "MACHINE",
          "MACHINE",
          "MACHINE",
          "MACHINE",
          "MACHINE",
          "MACHINE",
          "MACHINE",
          "MACHINE"
         ],
         "yaxis": "y"
        },
        {
         "alignmentgroup": "True",
         "hovertemplate": "collection=%{y}<br>value=%{x}<extra></extra>",
         "legendgroup": "THE MINIMALIST 3H",
         "marker": {
          "color": "#FF6692",
          "pattern": {
           "shape": ""
          }
         },
         "name": "THE MINIMALIST 3H",
         "offsetgroup": "THE MINIMALIST 3H",
         "orientation": "h",
         "showlegend": true,
         "textposition": "auto",
         "type": "bar",
         "x": [
          51,
          65
         ],
         "xaxis": "x",
         "y": [
          "THE MINIMALIST 3H",
          "THE MINIMALIST 3H"
         ],
         "yaxis": "y"
        },
        {
         "alignmentgroup": "True",
         "hovertemplate": "collection=%{y}<br>value=%{x}<extra></extra>",
         "legendgroup": "NEUTRA CHRONO",
         "marker": {
          "color": "#B6E880",
          "pattern": {
           "shape": ""
          }
         },
         "name": "NEUTRA CHRONO",
         "offsetgroup": "NEUTRA CHRONO",
         "orientation": "h",
         "showlegend": true,
         "textposition": "auto",
         "type": "bar",
         "x": [
          97,
          99,
          100,
          66,
          92,
          63,
          97,
          96,
          72,
          71,
          136
         ],
         "xaxis": "x",
         "y": [
          "NEUTRA CHRONO",
          "NEUTRA CHRONO",
          "NEUTRA CHRONO",
          "NEUTRA CHRONO",
          "NEUTRA CHRONO",
          "NEUTRA CHRONO",
          "NEUTRA CHRONO",
          "NEUTRA CHRONO",
          "NEUTRA CHRONO",
          "NEUTRA CHRONO",
          "NEUTRA CHRONO"
         ],
         "yaxis": "y"
        },
        {
         "alignmentgroup": "True",
         "hovertemplate": "collection=%{y}<br>value=%{x}<extra></extra>",
         "legendgroup": "COACHMAN",
         "marker": {
          "color": "#FF97FF",
          "pattern": {
           "shape": ""
          }
         },
         "name": "COACHMAN",
         "offsetgroup": "COACHMAN",
         "orientation": "h",
         "showlegend": true,
         "textposition": "auto",
         "type": "bar",
         "x": [
          86
         ],
         "xaxis": "x",
         "y": [
          "COACHMAN"
         ],
         "yaxis": "y"
        },
        {
         "alignmentgroup": "True",
         "hovertemplate": "collection=%{y}<br>value=%{x}<extra></extra>",
         "legendgroup": "DECKER",
         "marker": {
          "color": "#FECB52",
          "pattern": {
           "shape": ""
          }
         },
         "name": "DECKER",
         "offsetgroup": "DECKER",
         "orientation": "h",
         "showlegend": true,
         "textposition": "auto",
         "type": "bar",
         "x": [
          70
         ],
         "xaxis": "x",
         "y": [
          "DECKER"
         ],
         "yaxis": "y"
        },
        {
         "alignmentgroup": "True",
         "hovertemplate": "collection=%{y}<br>value=%{x}<extra></extra>",
         "legendgroup": "RILEY",
         "marker": {
          "color": "#636efa",
          "pattern": {
           "shape": ""
          }
         },
         "name": "RILEY",
         "offsetgroup": "RILEY",
         "orientation": "h",
         "showlegend": true,
         "textposition": "auto",
         "type": "bar",
         "x": [
          93,
          197,
          103,
          168,
          55
         ],
         "xaxis": "x",
         "y": [
          "RILEY",
          "RILEY",
          "RILEY",
          "RILEY",
          "RILEY"
         ],
         "yaxis": "y"
        },
        {
         "alignmentgroup": "True",
         "hovertemplate": "collection=%{y}<br>value=%{x}<extra></extra>",
         "legendgroup": "VIRGINIA",
         "marker": {
          "color": "#EF553B",
          "pattern": {
           "shape": ""
          }
         },
         "name": "VIRGINIA",
         "offsetgroup": "VIRGINIA",
         "orientation": "h",
         "showlegend": true,
         "textposition": "auto",
         "type": "bar",
         "x": [
          74,
          98,
          66,
          56
         ],
         "xaxis": "x",
         "y": [
          "VIRGINIA",
          "VIRGINIA",
          "VIRGINIA",
          "VIRGINIA"
         ],
         "yaxis": "y"
        },
        {
         "alignmentgroup": "True",
         "hovertemplate": "collection=%{y}<br>value=%{x}<extra></extra>",
         "legendgroup": "JACQUELINE",
         "marker": {
          "color": "#00cc96",
          "pattern": {
           "shape": ""
          }
         },
         "name": "JACQUELINE",
         "offsetgroup": "JACQUELINE",
         "orientation": "h",
         "showlegend": true,
         "textposition": "auto",
         "type": "bar",
         "x": [
          169,
          117,
          113,
          78,
          58,
          56,
          72,
          94,
          70,
          65,
          72,
          70
         ],
         "xaxis": "x",
         "y": [
          "JACQUELINE",
          "JACQUELINE",
          "JACQUELINE",
          "JACQUELINE",
          "JACQUELINE",
          "JACQUELINE",
          "JACQUELINE",
          "JACQUELINE",
          "JACQUELINE",
          "JACQUELINE",
          "JACQUELINE",
          "JACQUELINE"
         ],
         "yaxis": "y"
        },
        {
         "alignmentgroup": "True",
         "hovertemplate": "collection=%{y}<br>value=%{x}<extra></extra>",
         "legendgroup": "TAILOR",
         "marker": {
          "color": "#ab63fa",
          "pattern": {
           "shape": ""
          }
         },
         "name": "TAILOR",
         "offsetgroup": "TAILOR",
         "orientation": "h",
         "showlegend": true,
         "textposition": "auto",
         "type": "bar",
         "x": [
          197,
          94
         ],
         "xaxis": "x",
         "y": [
          "TAILOR",
          "TAILOR"
         ],
         "yaxis": "y"
        },
        {
         "alignmentgroup": "True",
         "hovertemplate": "collection=%{y}<br>value=%{x}<extra></extra>",
         "legendgroup": "TAILOR ",
         "marker": {
          "color": "#FFA15A",
          "pattern": {
           "shape": ""
          }
         },
         "name": "TAILOR ",
         "offsetgroup": "TAILOR ",
         "orientation": "h",
         "showlegend": true,
         "textposition": "auto",
         "type": "bar",
         "x": [
          59
         ],
         "xaxis": "x",
         "y": [
          "TAILOR "
         ],
         "yaxis": "y"
        },
        {
         "alignmentgroup": "True",
         "hovertemplate": "collection=%{y}<br>value=%{x}<extra></extra>",
         "legendgroup": "CARLIE",
         "marker": {
          "color": "#19d3f3",
          "pattern": {
           "shape": ""
          }
         },
         "name": "CARLIE",
         "offsetgroup": "CARLIE",
         "orientation": "h",
         "showlegend": true,
         "textposition": "auto",
         "type": "bar",
         "x": [
          84,
          70,
          52
         ],
         "xaxis": "x",
         "y": [
          "CARLIE",
          "CARLIE",
          "CARLIE"
         ],
         "yaxis": "y"
        },
        {
         "alignmentgroup": "True",
         "hovertemplate": "collection=%{y}<br>value=%{x}<extra></extra>",
         "legendgroup": "SCARLETTE MINI",
         "marker": {
          "color": "#FF6692",
          "pattern": {
           "shape": ""
          }
         },
         "name": "SCARLETTE MINI",
         "offsetgroup": "SCARLETTE MINI",
         "orientation": "h",
         "showlegend": true,
         "textposition": "auto",
         "type": "bar",
         "x": [
          95,
          103,
          122
         ],
         "xaxis": "x",
         "y": [
          "SCARLETTE MINI",
          "SCARLETTE MINI",
          "SCARLETTE MINI"
         ],
         "yaxis": "y"
        },
        {
         "alignmentgroup": "True",
         "hovertemplate": "collection=%{y}<br>value=%{x}<extra></extra>",
         "legendgroup": "THE COMMUTER 3H",
         "marker": {
          "color": "#B6E880",
          "pattern": {
           "shape": ""
          }
         },
         "name": "THE COMMUTER 3H",
         "offsetgroup": "THE COMMUTER 3H",
         "orientation": "h",
         "showlegend": true,
         "textposition": "auto",
         "type": "bar",
         "x": [
          51,
          95
         ],
         "xaxis": "x",
         "y": [
          "THE COMMUTER 3H",
          "THE COMMUTER 3H"
         ],
         "yaxis": "y"
        },
        {
         "alignmentgroup": "True",
         "hovertemplate": "collection=%{y}<br>value=%{x}<extra></extra>",
         "legendgroup": "CARLIE ",
         "marker": {
          "color": "#FF97FF",
          "pattern": {
           "shape": ""
          }
         },
         "name": "CARLIE ",
         "offsetgroup": "CARLIE ",
         "orientation": "h",
         "showlegend": true,
         "textposition": "auto",
         "type": "bar",
         "x": [
          91
         ],
         "xaxis": "x",
         "y": [
          "CARLIE "
         ],
         "yaxis": "y"
        },
        {
         "alignmentgroup": "True",
         "hovertemplate": "collection=%{y}<br>value=%{x}<extra></extra>",
         "legendgroup": "CARLIE MINI",
         "marker": {
          "color": "#FECB52",
          "pattern": {
           "shape": ""
          }
         },
         "name": "CARLIE MINI",
         "offsetgroup": "CARLIE MINI",
         "orientation": "h",
         "showlegend": true,
         "textposition": "auto",
         "type": "bar",
         "x": [
          57,
          78,
          71
         ],
         "xaxis": "x",
         "y": [
          "CARLIE MINI",
          "CARLIE MINI",
          "CARLIE MINI"
         ],
         "yaxis": "y"
        },
        {
         "alignmentgroup": "True",
         "hovertemplate": "collection=%{y}<br>value=%{x}<extra></extra>",
         "legendgroup": "FB - 01",
         "marker": {
          "color": "#636efa",
          "pattern": {
           "shape": ""
          }
         },
         "name": "FB - 01",
         "offsetgroup": "FB - 01",
         "orientation": "h",
         "showlegend": true,
         "textposition": "auto",
         "type": "bar",
         "x": [
          64,
          54,
          54,
          73,
          53,
          60
         ],
         "xaxis": "x",
         "y": [
          "FB - 01",
          "FB - 01",
          "FB - 01",
          "FB - 01",
          "FB - 01",
          "FB - 01"
         ],
         "yaxis": "y"
        },
        {
         "alignmentgroup": "True",
         "hovertemplate": "collection=%{y}<br>value=%{x}<extra></extra>",
         "legendgroup": "GWEN",
         "marker": {
          "color": "#EF553B",
          "pattern": {
           "shape": ""
          }
         },
         "name": "GWEN",
         "offsetgroup": "GWEN",
         "orientation": "h",
         "showlegend": true,
         "textposition": "auto",
         "type": "bar",
         "x": [
          54
         ],
         "xaxis": "x",
         "y": [
          "GWEN"
         ],
         "yaxis": "y"
        },
        {
         "alignmentgroup": "True",
         "hovertemplate": "collection=%{y}<br>value=%{x}<extra></extra>",
         "legendgroup": "GRANT",
         "marker": {
          "color": "#00cc96",
          "pattern": {
           "shape": ""
          }
         },
         "name": "GRANT",
         "offsetgroup": "GRANT",
         "orientation": "h",
         "showlegend": true,
         "textposition": "auto",
         "type": "bar",
         "x": [
          64,
          103,
          62,
          132
         ],
         "xaxis": "x",
         "y": [
          "GRANT",
          "GRANT",
          "GRANT",
          "GRANT"
         ],
         "yaxis": "y"
        },
        {
         "alignmentgroup": "True",
         "hovertemplate": "collection=%{y}<br>value=%{x}<extra></extra>",
         "legendgroup": "DEAN",
         "marker": {
          "color": "#ab63fa",
          "pattern": {
           "shape": ""
          }
         },
         "name": "DEAN",
         "offsetgroup": "DEAN",
         "orientation": "h",
         "showlegend": true,
         "textposition": "auto",
         "type": "bar",
         "x": [
          115
         ],
         "xaxis": "x",
         "y": [
          "DEAN"
         ],
         "yaxis": "y"
        },
        {
         "alignmentgroup": "True",
         "hovertemplate": "collection=%{y}<br>value=%{x}<extra></extra>",
         "legendgroup": " GRANT 44MM",
         "marker": {
          "color": "#FFA15A",
          "pattern": {
           "shape": ""
          }
         },
         "name": " GRANT 44MM",
         "offsetgroup": " GRANT 44MM",
         "orientation": "h",
         "showlegend": true,
         "textposition": "auto",
         "type": "bar",
         "x": [
          62
         ],
         "xaxis": "x",
         "y": [
          " GRANT 44MM"
         ],
         "yaxis": "y"
        },
        {
         "alignmentgroup": "True",
         "hovertemplate": "collection=%{y}<br>value=%{x}<extra></extra>",
         "legendgroup": "THE MINIMALIST",
         "marker": {
          "color": "#19d3f3",
          "pattern": {
           "shape": ""
          }
         },
         "name": "THE MINIMALIST",
         "offsetgroup": "THE MINIMALIST",
         "orientation": "h",
         "showlegend": true,
         "textposition": "auto",
         "type": "bar",
         "x": [
          118,
          79
         ],
         "xaxis": "x",
         "y": [
          "THE MINIMALIST",
          "THE MINIMALIST"
         ],
         "yaxis": "y"
        },
        {
         "alignmentgroup": "True",
         "hovertemplate": "collection=%{y}<br>value=%{x}<extra></extra>",
         "legendgroup": "MACHINE ",
         "marker": {
          "color": "#FF6692",
          "pattern": {
           "shape": ""
          }
         },
         "name": "MACHINE ",
         "offsetgroup": "MACHINE ",
         "orientation": "h",
         "showlegend": true,
         "textposition": "auto",
         "type": "bar",
         "x": [
          63
         ],
         "xaxis": "x",
         "y": [
          "MACHINE "
         ],
         "yaxis": "y"
        },
        {
         "alignmentgroup": "True",
         "hovertemplate": "collection=%{y}<br>value=%{x}<extra></extra>",
         "legendgroup": "THE COMMUTER",
         "marker": {
          "color": "#B6E880",
          "pattern": {
           "shape": ""
          }
         },
         "name": "THE COMMUTER",
         "offsetgroup": "THE COMMUTER",
         "orientation": "h",
         "showlegend": true,
         "textposition": "auto",
         "type": "bar",
         "x": [
          177
         ],
         "xaxis": "x",
         "y": [
          "THE COMMUTER"
         ],
         "yaxis": "y"
        },
        {
         "alignmentgroup": "True",
         "hovertemplate": "collection=%{y}<br>value=%{x}<extra></extra>",
         "legendgroup": "TOWNSMAN",
         "marker": {
          "color": "#FF97FF",
          "pattern": {
           "shape": ""
          }
         },
         "name": "TOWNSMAN",
         "offsetgroup": "TOWNSMAN",
         "orientation": "h",
         "showlegend": true,
         "textposition": "auto",
         "type": "bar",
         "x": [
          93
         ],
         "xaxis": "x",
         "y": [
          "TOWNSMAN"
         ],
         "yaxis": "y"
        },
        {
         "alignmentgroup": "True",
         "hovertemplate": "collection=%{y}<br>value=%{x}<extra></extra>",
         "legendgroup": "NEUTRA CHRONO  ",
         "marker": {
          "color": "#FECB52",
          "pattern": {
           "shape": ""
          }
         },
         "name": "NEUTRA CHRONO  ",
         "offsetgroup": "NEUTRA CHRONO  ",
         "orientation": "h",
         "showlegend": true,
         "textposition": "auto",
         "type": "bar",
         "x": [
          66
         ],
         "xaxis": "x",
         "y": [
          "NEUTRA CHRONO  "
         ],
         "yaxis": "y"
        },
        {
         "alignmentgroup": "True",
         "hovertemplate": "collection=%{y}<br>value=%{x}<extra></extra>",
         "legendgroup": "FORRESTER",
         "marker": {
          "color": "#636efa",
          "pattern": {
           "shape": ""
          }
         },
         "name": "FORRESTER",
         "offsetgroup": "FORRESTER",
         "orientation": "h",
         "showlegend": true,
         "textposition": "auto",
         "type": "bar",
         "x": [
          86
         ],
         "xaxis": "x",
         "y": [
          "FORRESTER"
         ],
         "yaxis": "y"
        },
        {
         "alignmentgroup": "True",
         "hovertemplate": "collection=%{y}<br>value=%{x}<extra></extra>",
         "legendgroup": "GARRETT",
         "marker": {
          "color": "#EF553B",
          "pattern": {
           "shape": ""
          }
         },
         "name": "GARRETT",
         "offsetgroup": "GARRETT",
         "orientation": "h",
         "showlegend": true,
         "textposition": "auto",
         "type": "bar",
         "x": [
          98,
          105,
          80
         ],
         "xaxis": "x",
         "y": [
          "GARRETT",
          "GARRETT",
          "GARRETT"
         ],
         "yaxis": "y"
        },
        {
         "alignmentgroup": "True",
         "hovertemplate": "collection=%{y}<br>value=%{x}<extra></extra>",
         "legendgroup": "FB - 02",
         "marker": {
          "color": "#00cc96",
          "pattern": {
           "shape": ""
          }
         },
         "name": "FB - 02",
         "offsetgroup": "FB - 02",
         "orientation": "h",
         "showlegend": true,
         "textposition": "auto",
         "type": "bar",
         "x": [
          112
         ],
         "xaxis": "x",
         "y": [
          "FB - 02"
         ],
         "yaxis": "y"
        },
        {
         "alignmentgroup": "True",
         "hovertemplate": "collection=%{y}<br>value=%{x}<extra></extra>",
         "legendgroup": "MONTY",
         "marker": {
          "color": "#ab63fa",
          "pattern": {
           "shape": ""
          }
         },
         "name": "MONTY",
         "offsetgroup": "MONTY",
         "orientation": "h",
         "showlegend": true,
         "textposition": "auto",
         "type": "bar",
         "x": [
          62,
          54
         ],
         "xaxis": "x",
         "y": [
          "MONTY",
          "MONTY"
         ],
         "yaxis": "y"
        },
        {
         "alignmentgroup": "True",
         "hovertemplate": "collection=%{y}<br>value=%{x}<extra></extra>",
         "legendgroup": "BRONSON",
         "marker": {
          "color": "#FFA15A",
          "pattern": {
           "shape": ""
          }
         },
         "name": "BRONSON",
         "offsetgroup": "BRONSON",
         "orientation": "h",
         "showlegend": true,
         "textposition": "auto",
         "type": "bar",
         "x": [
          55,
          60,
          55,
          75
         ],
         "xaxis": "x",
         "y": [
          "BRONSON",
          "BRONSON",
          "BRONSON",
          "BRONSON"
         ],
         "yaxis": "y"
        },
        {
         "alignmentgroup": "True",
         "hovertemplate": "collection=%{y}<br>value=%{x}<extra></extra>",
         "legendgroup": "MEGA",
         "marker": {
          "color": "#19d3f3",
          "pattern": {
           "shape": ""
          }
         },
         "name": "MEGA",
         "offsetgroup": "MEGA",
         "orientation": "h",
         "showlegend": true,
         "textposition": "auto",
         "type": "bar",
         "x": [
          65
         ],
         "xaxis": "x",
         "y": [
          "MEGA"
         ],
         "yaxis": "y"
        },
        {
         "alignmentgroup": "True",
         "hovertemplate": "collection=%{y}<br>value=%{x}<extra></extra>",
         "legendgroup": "THE COMMUTER CHRONO",
         "marker": {
          "color": "#FF6692",
          "pattern": {
           "shape": ""
          }
         },
         "name": "THE COMMUTER CHRONO",
         "offsetgroup": "THE COMMUTER CHRONO",
         "orientation": "h",
         "showlegend": true,
         "textposition": "auto",
         "type": "bar",
         "x": [
          106
         ],
         "xaxis": "x",
         "y": [
          "THE COMMUTER CHRONO"
         ],
         "yaxis": "y"
        }
       ],
       "layout": {
        "autosize": true,
        "barmode": "relative",
        "legend": {
         "title": {
          "text": "collection"
         },
         "tracegroupgap": 0
        },
        "margin": {
         "t": 60
        },
        "template": {
         "data": {
          "bar": [
           {
            "error_x": {
             "color": "#2a3f5f"
            },
            "error_y": {
             "color": "#2a3f5f"
            },
            "marker": {
             "line": {
              "color": "#E5ECF6",
              "width": 0.5
             },
             "pattern": {
              "fillmode": "overlay",
              "size": 10,
              "solidity": 0.2
             }
            },
            "type": "bar"
           }
          ],
          "barpolar": [
           {
            "marker": {
             "line": {
              "color": "#E5ECF6",
              "width": 0.5
             },
             "pattern": {
              "fillmode": "overlay",
              "size": 10,
              "solidity": 0.2
             }
            },
            "type": "barpolar"
           }
          ],
          "carpet": [
           {
            "aaxis": {
             "endlinecolor": "#2a3f5f",
             "gridcolor": "white",
             "linecolor": "white",
             "minorgridcolor": "white",
             "startlinecolor": "#2a3f5f"
            },
            "baxis": {
             "endlinecolor": "#2a3f5f",
             "gridcolor": "white",
             "linecolor": "white",
             "minorgridcolor": "white",
             "startlinecolor": "#2a3f5f"
            },
            "type": "carpet"
           }
          ],
          "choropleth": [
           {
            "colorbar": {
             "outlinewidth": 0,
             "ticks": ""
            },
            "type": "choropleth"
           }
          ],
          "contour": [
           {
            "colorbar": {
             "outlinewidth": 0,
             "ticks": ""
            },
            "colorscale": [
             [
              0,
              "#0d0887"
             ],
             [
              0.1111111111111111,
              "#46039f"
             ],
             [
              0.2222222222222222,
              "#7201a8"
             ],
             [
              0.3333333333333333,
              "#9c179e"
             ],
             [
              0.4444444444444444,
              "#bd3786"
             ],
             [
              0.5555555555555556,
              "#d8576b"
             ],
             [
              0.6666666666666666,
              "#ed7953"
             ],
             [
              0.7777777777777778,
              "#fb9f3a"
             ],
             [
              0.8888888888888888,
              "#fdca26"
             ],
             [
              1,
              "#f0f921"
             ]
            ],
            "type": "contour"
           }
          ],
          "contourcarpet": [
           {
            "colorbar": {
             "outlinewidth": 0,
             "ticks": ""
            },
            "type": "contourcarpet"
           }
          ],
          "heatmap": [
           {
            "colorbar": {
             "outlinewidth": 0,
             "ticks": ""
            },
            "colorscale": [
             [
              0,
              "#0d0887"
             ],
             [
              0.1111111111111111,
              "#46039f"
             ],
             [
              0.2222222222222222,
              "#7201a8"
             ],
             [
              0.3333333333333333,
              "#9c179e"
             ],
             [
              0.4444444444444444,
              "#bd3786"
             ],
             [
              0.5555555555555556,
              "#d8576b"
             ],
             [
              0.6666666666666666,
              "#ed7953"
             ],
             [
              0.7777777777777778,
              "#fb9f3a"
             ],
             [
              0.8888888888888888,
              "#fdca26"
             ],
             [
              1,
              "#f0f921"
             ]
            ],
            "type": "heatmap"
           }
          ],
          "heatmapgl": [
           {
            "colorbar": {
             "outlinewidth": 0,
             "ticks": ""
            },
            "colorscale": [
             [
              0,
              "#0d0887"
             ],
             [
              0.1111111111111111,
              "#46039f"
             ],
             [
              0.2222222222222222,
              "#7201a8"
             ],
             [
              0.3333333333333333,
              "#9c179e"
             ],
             [
              0.4444444444444444,
              "#bd3786"
             ],
             [
              0.5555555555555556,
              "#d8576b"
             ],
             [
              0.6666666666666666,
              "#ed7953"
             ],
             [
              0.7777777777777778,
              "#fb9f3a"
             ],
             [
              0.8888888888888888,
              "#fdca26"
             ],
             [
              1,
              "#f0f921"
             ]
            ],
            "type": "heatmapgl"
           }
          ],
          "histogram": [
           {
            "marker": {
             "pattern": {
              "fillmode": "overlay",
              "size": 10,
              "solidity": 0.2
             }
            },
            "type": "histogram"
           }
          ],
          "histogram2d": [
           {
            "colorbar": {
             "outlinewidth": 0,
             "ticks": ""
            },
            "colorscale": [
             [
              0,
              "#0d0887"
             ],
             [
              0.1111111111111111,
              "#46039f"
             ],
             [
              0.2222222222222222,
              "#7201a8"
             ],
             [
              0.3333333333333333,
              "#9c179e"
             ],
             [
              0.4444444444444444,
              "#bd3786"
             ],
             [
              0.5555555555555556,
              "#d8576b"
             ],
             [
              0.6666666666666666,
              "#ed7953"
             ],
             [
              0.7777777777777778,
              "#fb9f3a"
             ],
             [
              0.8888888888888888,
              "#fdca26"
             ],
             [
              1,
              "#f0f921"
             ]
            ],
            "type": "histogram2d"
           }
          ],
          "histogram2dcontour": [
           {
            "colorbar": {
             "outlinewidth": 0,
             "ticks": ""
            },
            "colorscale": [
             [
              0,
              "#0d0887"
             ],
             [
              0.1111111111111111,
              "#46039f"
             ],
             [
              0.2222222222222222,
              "#7201a8"
             ],
             [
              0.3333333333333333,
              "#9c179e"
             ],
             [
              0.4444444444444444,
              "#bd3786"
             ],
             [
              0.5555555555555556,
              "#d8576b"
             ],
             [
              0.6666666666666666,
              "#ed7953"
             ],
             [
              0.7777777777777778,
              "#fb9f3a"
             ],
             [
              0.8888888888888888,
              "#fdca26"
             ],
             [
              1,
              "#f0f921"
             ]
            ],
            "type": "histogram2dcontour"
           }
          ],
          "mesh3d": [
           {
            "colorbar": {
             "outlinewidth": 0,
             "ticks": ""
            },
            "type": "mesh3d"
           }
          ],
          "parcoords": [
           {
            "line": {
             "colorbar": {
              "outlinewidth": 0,
              "ticks": ""
             }
            },
            "type": "parcoords"
           }
          ],
          "pie": [
           {
            "automargin": true,
            "type": "pie"
           }
          ],
          "scatter": [
           {
            "fillpattern": {
             "fillmode": "overlay",
             "size": 10,
             "solidity": 0.2
            },
            "type": "scatter"
           }
          ],
          "scatter3d": [
           {
            "line": {
             "colorbar": {
              "outlinewidth": 0,
              "ticks": ""
             }
            },
            "marker": {
             "colorbar": {
              "outlinewidth": 0,
              "ticks": ""
             }
            },
            "type": "scatter3d"
           }
          ],
          "scattercarpet": [
           {
            "marker": {
             "colorbar": {
              "outlinewidth": 0,
              "ticks": ""
             }
            },
            "type": "scattercarpet"
           }
          ],
          "scattergeo": [
           {
            "marker": {
             "colorbar": {
              "outlinewidth": 0,
              "ticks": ""
             }
            },
            "type": "scattergeo"
           }
          ],
          "scattergl": [
           {
            "marker": {
             "colorbar": {
              "outlinewidth": 0,
              "ticks": ""
             }
            },
            "type": "scattergl"
           }
          ],
          "scattermapbox": [
           {
            "marker": {
             "colorbar": {
              "outlinewidth": 0,
              "ticks": ""
             }
            },
            "type": "scattermapbox"
           }
          ],
          "scatterpolar": [
           {
            "marker": {
             "colorbar": {
              "outlinewidth": 0,
              "ticks": ""
             }
            },
            "type": "scatterpolar"
           }
          ],
          "scatterpolargl": [
           {
            "marker": {
             "colorbar": {
              "outlinewidth": 0,
              "ticks": ""
             }
            },
            "type": "scatterpolargl"
           }
          ],
          "scatterternary": [
           {
            "marker": {
             "colorbar": {
              "outlinewidth": 0,
              "ticks": ""
             }
            },
            "type": "scatterternary"
           }
          ],
          "surface": [
           {
            "colorbar": {
             "outlinewidth": 0,
             "ticks": ""
            },
            "colorscale": [
             [
              0,
              "#0d0887"
             ],
             [
              0.1111111111111111,
              "#46039f"
             ],
             [
              0.2222222222222222,
              "#7201a8"
             ],
             [
              0.3333333333333333,
              "#9c179e"
             ],
             [
              0.4444444444444444,
              "#bd3786"
             ],
             [
              0.5555555555555556,
              "#d8576b"
             ],
             [
              0.6666666666666666,
              "#ed7953"
             ],
             [
              0.7777777777777778,
              "#fb9f3a"
             ],
             [
              0.8888888888888888,
              "#fdca26"
             ],
             [
              1,
              "#f0f921"
             ]
            ],
            "type": "surface"
           }
          ],
          "table": [
           {
            "cells": {
             "fill": {
              "color": "#EBF0F8"
             },
             "line": {
              "color": "white"
             }
            },
            "header": {
             "fill": {
              "color": "#C8D4E3"
             },
             "line": {
              "color": "white"
             }
            },
            "type": "table"
           }
          ]
         },
         "layout": {
          "annotationdefaults": {
           "arrowcolor": "#2a3f5f",
           "arrowhead": 0,
           "arrowwidth": 1
          },
          "autotypenumbers": "strict",
          "coloraxis": {
           "colorbar": {
            "outlinewidth": 0,
            "ticks": ""
           }
          },
          "colorscale": {
           "diverging": [
            [
             0,
             "#8e0152"
            ],
            [
             0.1,
             "#c51b7d"
            ],
            [
             0.2,
             "#de77ae"
            ],
            [
             0.3,
             "#f1b6da"
            ],
            [
             0.4,
             "#fde0ef"
            ],
            [
             0.5,
             "#f7f7f7"
            ],
            [
             0.6,
             "#e6f5d0"
            ],
            [
             0.7,
             "#b8e186"
            ],
            [
             0.8,
             "#7fbc41"
            ],
            [
             0.9,
             "#4d9221"
            ],
            [
             1,
             "#276419"
            ]
           ],
           "sequential": [
            [
             0,
             "#0d0887"
            ],
            [
             0.1111111111111111,
             "#46039f"
            ],
            [
             0.2222222222222222,
             "#7201a8"
            ],
            [
             0.3333333333333333,
             "#9c179e"
            ],
            [
             0.4444444444444444,
             "#bd3786"
            ],
            [
             0.5555555555555556,
             "#d8576b"
            ],
            [
             0.6666666666666666,
             "#ed7953"
            ],
            [
             0.7777777777777778,
             "#fb9f3a"
            ],
            [
             0.8888888888888888,
             "#fdca26"
            ],
            [
             1,
             "#f0f921"
            ]
           ],
           "sequentialminus": [
            [
             0,
             "#0d0887"
            ],
            [
             0.1111111111111111,
             "#46039f"
            ],
            [
             0.2222222222222222,
             "#7201a8"
            ],
            [
             0.3333333333333333,
             "#9c179e"
            ],
            [
             0.4444444444444444,
             "#bd3786"
            ],
            [
             0.5555555555555556,
             "#d8576b"
            ],
            [
             0.6666666666666666,
             "#ed7953"
            ],
            [
             0.7777777777777778,
             "#fb9f3a"
            ],
            [
             0.8888888888888888,
             "#fdca26"
            ],
            [
             1,
             "#f0f921"
            ]
           ]
          },
          "colorway": [
           "#636efa",
           "#EF553B",
           "#00cc96",
           "#ab63fa",
           "#FFA15A",
           "#19d3f3",
           "#FF6692",
           "#B6E880",
           "#FF97FF",
           "#FECB52"
          ],
          "font": {
           "color": "#2a3f5f"
          },
          "geo": {
           "bgcolor": "white",
           "lakecolor": "white",
           "landcolor": "#E5ECF6",
           "showlakes": true,
           "showland": true,
           "subunitcolor": "white"
          },
          "hoverlabel": {
           "align": "left"
          },
          "hovermode": "closest",
          "mapbox": {
           "style": "light"
          },
          "paper_bgcolor": "white",
          "plot_bgcolor": "#E5ECF6",
          "polar": {
           "angularaxis": {
            "gridcolor": "white",
            "linecolor": "white",
            "ticks": ""
           },
           "bgcolor": "#E5ECF6",
           "radialaxis": {
            "gridcolor": "white",
            "linecolor": "white",
            "ticks": ""
           }
          },
          "scene": {
           "xaxis": {
            "backgroundcolor": "#E5ECF6",
            "gridcolor": "white",
            "gridwidth": 2,
            "linecolor": "white",
            "showbackground": true,
            "ticks": "",
            "zerolinecolor": "white"
           },
           "yaxis": {
            "backgroundcolor": "#E5ECF6",
            "gridcolor": "white",
            "gridwidth": 2,
            "linecolor": "white",
            "showbackground": true,
            "ticks": "",
            "zerolinecolor": "white"
           },
           "zaxis": {
            "backgroundcolor": "#E5ECF6",
            "gridcolor": "white",
            "gridwidth": 2,
            "linecolor": "white",
            "showbackground": true,
            "ticks": "",
            "zerolinecolor": "white"
           }
          },
          "shapedefaults": {
           "line": {
            "color": "#2a3f5f"
           }
          },
          "ternary": {
           "aaxis": {
            "gridcolor": "white",
            "linecolor": "white",
            "ticks": ""
           },
           "baxis": {
            "gridcolor": "white",
            "linecolor": "white",
            "ticks": ""
           },
           "bgcolor": "#E5ECF6",
           "caxis": {
            "gridcolor": "white",
            "linecolor": "white",
            "ticks": ""
           }
          },
          "title": {
           "x": 0.05
          },
          "xaxis": {
           "automargin": true,
           "gridcolor": "white",
           "linecolor": "white",
           "ticks": "",
           "title": {
            "standoff": 15
           },
           "zerolinecolor": "white",
           "zerolinewidth": 2
          },
          "yaxis": {
           "automargin": true,
           "gridcolor": "white",
           "linecolor": "white",
           "ticks": "",
           "title": {
            "standoff": 15
           },
           "zerolinecolor": "white",
           "zerolinewidth": 2
          }
         }
        },
        "xaxis": {
         "anchor": "y",
         "autorange": true,
         "domain": [
          0,
          1
         ],
         "range": [
          0,
          1088.421052631579
         ],
         "title": {
          "text": "value"
         },
         "type": "linear"
        },
        "yaxis": {
         "anchor": "x",
         "autorange": true,
         "categoryarray": [
          "THE COMMUTER CHRONO",
          "MEGA",
          "BRONSON",
          "MONTY",
          "FB - 02",
          "GARRETT",
          "FORRESTER",
          "NEUTRA CHRONO  ",
          "TOWNSMAN",
          "THE COMMUTER",
          "MACHINE ",
          "THE MINIMALIST",
          " GRANT 44MM",
          "DEAN",
          "GRANT",
          "GWEN",
          "FB - 01",
          "CARLIE MINI",
          "CARLIE ",
          "THE COMMUTER 3H",
          "SCARLETTE MINI",
          "CARLIE",
          "TAILOR ",
          "TAILOR",
          "JACQUELINE",
          "VIRGINIA",
          "RILEY",
          "DECKER",
          "COACHMAN",
          "NEUTRA CHRONO",
          "THE MINIMALIST 3H",
          "MACHINE",
          "FB-01",
          "LYRIC",
          "KALYA",
          "NEELY",
          "MADELINE"
         ],
         "categoryorder": "array",
         "domain": [
          0,
          1
         ],
         "range": [
          -0.5,
          36.5
         ],
         "title": {
          "text": "collection"
         },
         "type": "category"
        }
       }
      },
      "image/png": "[encoded data removed]",
      "text/html": [
       "<div>                            <div id=\"78291686-795e-4d7f-8874-a0bc3100c491\" class=\"plotly-graph-div\" style=\"height:700px; width:100%;\"></div>            <script type=\"text/javascript\">                require([\"plotly\"], function(Plotly) {                    window.PLOTLYENV=window.PLOTLYENV || {};                                    if (document.getElementById(\"78291686-795e-4d7f-8874-a0bc3100c491\")) {                    Plotly.newPlot(                        \"78291686-795e-4d7f-8874-a0bc3100c491\",                        [{\"alignmentgroup\":\"True\",\"hovertemplate\":\"collection=%{y}<br>value=%{x}<extra></extra>\",\"legendgroup\":\"MADELINE\",\"marker\":{\"color\":\"#636efa\",\"pattern\":{\"shape\":\"\"}},\"name\":\"MADELINE\",\"offsetgroup\":\"MADELINE\",\"orientation\":\"h\",\"showlegend\":true,\"textposition\":\"auto\",\"x\":[98.0,98.0,55.0],\"xaxis\":\"x\",\"y\":[\"MADELINE\",\"MADELINE\",\"MADELINE\"],\"yaxis\":\"y\",\"type\":\"bar\"},{\"alignmentgroup\":\"True\",\"hovertemplate\":\"collection=%{y}<br>value=%{x}<extra></extra>\",\"legendgroup\":\"NEELY\",\"marker\":{\"color\":\"#EF553B\",\"pattern\":{\"shape\":\"\"}},\"name\":\"NEELY\",\"offsetgroup\":\"NEELY\",\"orientation\":\"h\",\"showlegend\":true,\"textposition\":\"auto\",\"x\":[99.0],\"xaxis\":\"x\",\"y\":[\"NEELY\"],\"yaxis\":\"y\",\"type\":\"bar\"},{\"alignmentgroup\":\"True\",\"hovertemplate\":\"collection=%{y}<br>value=%{x}<extra></extra>\",\"legendgroup\":\"KALYA\",\"marker\":{\"color\":\"#00cc96\",\"pattern\":{\"shape\":\"\"}},\"name\":\"KALYA\",\"offsetgroup\":\"KALYA\",\"orientation\":\"h\",\"showlegend\":true,\"textposition\":\"auto\",\"x\":[100.0,61.0],\"xaxis\":\"x\",\"y\":[\"KALYA\",\"KALYA\"],\"yaxis\":\"y\",\"type\":\"bar\"},{\"alignmentgroup\":\"True\",\"hovertemplate\":\"collection=%{y}<br>value=%{x}<extra></extra>\",\"legendgroup\":\"LYRIC\",\"marker\":{\"color\":\"#ab63fa\",\"pattern\":{\"shape\":\"\"}},\"name\":\"LYRIC\",\"offsetgroup\":\"LYRIC\",\"orientation\":\"h\",\"showlegend\":true,\"textposition\":\"auto\",\"x\":[100.0],\"xaxis\":\"x\",\"y\":[\"LYRIC\"],\"yaxis\":\"y\",\"type\":\"bar\"},{\"alignmentgroup\":\"True\",\"hovertemplate\":\"collection=%{y}<br>value=%{x}<extra></extra>\",\"legendgroup\":\"FB-01\",\"marker\":{\"color\":\"#FFA15A\",\"pattern\":{\"shape\":\"\"}},\"name\":\"FB-01\",\"offsetgroup\":\"FB-01\",\"orientation\":\"h\",\"showlegend\":true,\"textposition\":\"auto\",\"x\":[100.0,85.0,62.0,65.0],\"xaxis\":\"x\",\"y\":[\"FB-01\",\"FB-01\",\"FB-01\",\"FB-01\"],\"yaxis\":\"y\",\"type\":\"bar\"},{\"alignmentgroup\":\"True\",\"hovertemplate\":\"collection=%{y}<br>value=%{x}<extra></extra>\",\"legendgroup\":\"MACHINE\",\"marker\":{\"color\":\"#19d3f3\",\"pattern\":{\"shape\":\"\"}},\"name\":\"MACHINE\",\"offsetgroup\":\"MACHINE\",\"orientation\":\"h\",\"showlegend\":true,\"textposition\":\"auto\",\"x\":[100.0,100.0,104.0,65.0,75.0,87.0,80.0,105.0,92.0,101.0,62.0],\"xaxis\":\"x\",\"y\":[\"MACHINE\",\"MACHINE\",\"MACHINE\",\"MACHINE\",\"MACHINE\",\"MACHINE\",\"MACHINE\",\"MACHINE\",\"MACHINE\",\"MACHINE\",\"MACHINE\"],\"yaxis\":\"y\",\"type\":\"bar\"},{\"alignmentgroup\":\"True\",\"hovertemplate\":\"collection=%{y}<br>value=%{x}<extra></extra>\",\"legendgroup\":\"THE MINIMALIST 3H\",\"marker\":{\"color\":\"#FF6692\",\"pattern\":{\"shape\":\"\"}},\"name\":\"THE MINIMALIST 3H\",\"offsetgroup\":\"THE MINIMALIST 3H\",\"orientation\":\"h\",\"showlegend\":true,\"textposition\":\"auto\",\"x\":[51.0,65.0],\"xaxis\":\"x\",\"y\":[\"THE MINIMALIST 3H\",\"THE MINIMALIST 3H\"],\"yaxis\":\"y\",\"type\":\"bar\"},{\"alignmentgroup\":\"True\",\"hovertemplate\":\"collection=%{y}<br>value=%{x}<extra></extra>\",\"legendgroup\":\"NEUTRA CHRONO\",\"marker\":{\"color\":\"#B6E880\",\"pattern\":{\"shape\":\"\"}},\"name\":\"NEUTRA CHRONO\",\"offsetgroup\":\"NEUTRA CHRONO\",\"orientation\":\"h\",\"showlegend\":true,\"textposition\":\"auto\",\"x\":[97.0,99.0,100.0,66.0,92.0,63.0,97.0,96.0,72.0,71.0,136.0],\"xaxis\":\"x\",\"y\":[\"NEUTRA CHRONO\",\"NEUTRA CHRONO\",\"NEUTRA CHRONO\",\"NEUTRA CHRONO\",\"NEUTRA CHRONO\",\"NEUTRA CHRONO\",\"NEUTRA CHRONO\",\"NEUTRA CHRONO\",\"NEUTRA CHRONO\",\"NEUTRA CHRONO\",\"NEUTRA CHRONO\"],\"yaxis\":\"y\",\"type\":\"bar\"},{\"alignmentgroup\":\"True\",\"hovertemplate\":\"collection=%{y}<br>value=%{x}<extra></extra>\",\"legendgroup\":\"COACHMAN\",\"marker\":{\"color\":\"#FF97FF\",\"pattern\":{\"shape\":\"\"}},\"name\":\"COACHMAN\",\"offsetgroup\":\"COACHMAN\",\"orientation\":\"h\",\"showlegend\":true,\"textposition\":\"auto\",\"x\":[86.0],\"xaxis\":\"x\",\"y\":[\"COACHMAN\"],\"yaxis\":\"y\",\"type\":\"bar\"},{\"alignmentgroup\":\"True\",\"hovertemplate\":\"collection=%{y}<br>value=%{x}<extra></extra>\",\"legendgroup\":\"DECKER\",\"marker\":{\"color\":\"#FECB52\",\"pattern\":{\"shape\":\"\"}},\"name\":\"DECKER\",\"offsetgroup\":\"DECKER\",\"orientation\":\"h\",\"showlegend\":true,\"textposition\":\"auto\",\"x\":[70.0],\"xaxis\":\"x\",\"y\":[\"DECKER\"],\"yaxis\":\"y\",\"type\":\"bar\"},{\"alignmentgroup\":\"True\",\"hovertemplate\":\"collection=%{y}<br>value=%{x}<extra></extra>\",\"legendgroup\":\"RILEY\",\"marker\":{\"color\":\"#636efa\",\"pattern\":{\"shape\":\"\"}},\"name\":\"RILEY\",\"offsetgroup\":\"RILEY\",\"orientation\":\"h\",\"showlegend\":true,\"textposition\":\"auto\",\"x\":[93.0,197.0,103.0,168.0,55.0],\"xaxis\":\"x\",\"y\":[\"RILEY\",\"RILEY\",\"RILEY\",\"RILEY\",\"RILEY\"],\"yaxis\":\"y\",\"type\":\"bar\"},{\"alignmentgroup\":\"True\",\"hovertemplate\":\"collection=%{y}<br>value=%{x}<extra></extra>\",\"legendgroup\":\"VIRGINIA\",\"marker\":{\"color\":\"#EF553B\",\"pattern\":{\"shape\":\"\"}},\"name\":\"VIRGINIA\",\"offsetgroup\":\"VIRGINIA\",\"orientation\":\"h\",\"showlegend\":true,\"textposition\":\"auto\",\"x\":[74.0,98.0,66.0,56.0],\"xaxis\":\"x\",\"y\":[\"VIRGINIA\",\"VIRGINIA\",\"VIRGINIA\",\"VIRGINIA\"],\"yaxis\":\"y\",\"type\":\"bar\"},{\"alignmentgroup\":\"True\",\"hovertemplate\":\"collection=%{y}<br>value=%{x}<extra></extra>\",\"legendgroup\":\"JACQUELINE\",\"marker\":{\"color\":\"#00cc96\",\"pattern\":{\"shape\":\"\"}},\"name\":\"JACQUELINE\",\"offsetgroup\":\"JACQUELINE\",\"orientation\":\"h\",\"showlegend\":true,\"textposition\":\"auto\",\"x\":[169.0,117.0,113.0,78.0,58.0,56.0,72.0,94.0,70.0,65.0,72.0,70.0],\"xaxis\":\"x\",\"y\":[\"JACQUELINE\",\"JACQUELINE\",\"JACQUELINE\",\"JACQUELINE\",\"JACQUELINE\",\"JACQUELINE\",\"JACQUELINE\",\"JACQUELINE\",\"JACQUELINE\",\"JACQUELINE\",\"JACQUELINE\",\"JACQUELINE\"],\"yaxis\":\"y\",\"type\":\"bar\"},{\"alignmentgroup\":\"True\",\"hovertemplate\":\"collection=%{y}<br>value=%{x}<extra></extra>\",\"legendgroup\":\"TAILOR\",\"marker\":{\"color\":\"#ab63fa\",\"pattern\":{\"shape\":\"\"}},\"name\":\"TAILOR\",\"offsetgroup\":\"TAILOR\",\"orientation\":\"h\",\"showlegend\":true,\"textposition\":\"auto\",\"x\":[197.0,94.0],\"xaxis\":\"x\",\"y\":[\"TAILOR\",\"TAILOR\"],\"yaxis\":\"y\",\"type\":\"bar\"},{\"alignmentgroup\":\"True\",\"hovertemplate\":\"collection=%{y}<br>value=%{x}<extra></extra>\",\"legendgroup\":\"TAILOR \",\"marker\":{\"color\":\"#FFA15A\",\"pattern\":{\"shape\":\"\"}},\"name\":\"TAILOR \",\"offsetgroup\":\"TAILOR \",\"orientation\":\"h\",\"showlegend\":true,\"textposition\":\"auto\",\"x\":[59.0],\"xaxis\":\"x\",\"y\":[\"TAILOR \"],\"yaxis\":\"y\",\"type\":\"bar\"},{\"alignmentgroup\":\"True\",\"hovertemplate\":\"collection=%{y}<br>value=%{x}<extra></extra>\",\"legendgroup\":\"CARLIE\",\"marker\":{\"color\":\"#19d3f3\",\"pattern\":{\"shape\":\"\"}},\"name\":\"CARLIE\",\"offsetgroup\":\"CARLIE\",\"orientation\":\"h\",\"showlegend\":true,\"textposition\":\"auto\",\"x\":[84.0,70.0,52.0],\"xaxis\":\"x\",\"y\":[\"CARLIE\",\"CARLIE\",\"CARLIE\"],\"yaxis\":\"y\",\"type\":\"bar\"},{\"alignmentgroup\":\"True\",\"hovertemplate\":\"collection=%{y}<br>value=%{x}<extra></extra>\",\"legendgroup\":\"SCARLETTE MINI\",\"marker\":{\"color\":\"#FF6692\",\"pattern\":{\"shape\":\"\"}},\"name\":\"SCARLETTE MINI\",\"offsetgroup\":\"SCARLETTE MINI\",\"orientation\":\"h\",\"showlegend\":true,\"textposition\":\"auto\",\"x\":[95.0,103.0,122.0],\"xaxis\":\"x\",\"y\":[\"SCARLETTE MINI\",\"SCARLETTE MINI\",\"SCARLETTE MINI\"],\"yaxis\":\"y\",\"type\":\"bar\"},{\"alignmentgroup\":\"True\",\"hovertemplate\":\"collection=%{y}<br>value=%{x}<extra></extra>\",\"legendgroup\":\"THE COMMUTER 3H\",\"marker\":{\"color\":\"#B6E880\",\"pattern\":{\"shape\":\"\"}},\"name\":\"THE COMMUTER 3H\",\"offsetgroup\":\"THE COMMUTER 3H\",\"orientation\":\"h\",\"showlegend\":true,\"textposition\":\"auto\",\"x\":[51.0,95.0],\"xaxis\":\"x\",\"y\":[\"THE COMMUTER 3H\",\"THE COMMUTER 3H\"],\"yaxis\":\"y\",\"type\":\"bar\"},{\"alignmentgroup\":\"True\",\"hovertemplate\":\"collection=%{y}<br>value=%{x}<extra></extra>\",\"legendgroup\":\"CARLIE \",\"marker\":{\"color\":\"#FF97FF\",\"pattern\":{\"shape\":\"\"}},\"name\":\"CARLIE \",\"offsetgroup\":\"CARLIE \",\"orientation\":\"h\",\"showlegend\":true,\"textposition\":\"auto\",\"x\":[91.0],\"xaxis\":\"x\",\"y\":[\"CARLIE \"],\"yaxis\":\"y\",\"type\":\"bar\"},{\"alignmentgroup\":\"True\",\"hovertemplate\":\"collection=%{y}<br>value=%{x}<extra></extra>\",\"legendgroup\":\"CARLIE MINI\",\"marker\":{\"color\":\"#FECB52\",\"pattern\":{\"shape\":\"\"}},\"name\":\"CARLIE MINI\",\"offsetgroup\":\"CARLIE MINI\",\"orientation\":\"h\",\"showlegend\":true,\"textposition\":\"auto\",\"x\":[57.0,78.0,71.0],\"xaxis\":\"x\",\"y\":[\"CARLIE MINI\",\"CARLIE MINI\",\"CARLIE MINI\"],\"yaxis\":\"y\",\"type\":\"bar\"},{\"alignmentgroup\":\"True\",\"hovertemplate\":\"collection=%{y}<br>value=%{x}<extra></extra>\",\"legendgroup\":\"FB - 01\",\"marker\":{\"color\":\"#636efa\",\"pattern\":{\"shape\":\"\"}},\"name\":\"FB - 01\",\"offsetgroup\":\"FB - 01\",\"orientation\":\"h\",\"showlegend\":true,\"textposition\":\"auto\",\"x\":[64.0,54.0,54.0,73.0,53.0,60.0],\"xaxis\":\"x\",\"y\":[\"FB - 01\",\"FB - 01\",\"FB - 01\",\"FB - 01\",\"FB - 01\",\"FB - 01\"],\"yaxis\":\"y\",\"type\":\"bar\"},{\"alignmentgroup\":\"True\",\"hovertemplate\":\"collection=%{y}<br>value=%{x}<extra></extra>\",\"legendgroup\":\"GWEN\",\"marker\":{\"color\":\"#EF553B\",\"pattern\":{\"shape\":\"\"}},\"name\":\"GWEN\",\"offsetgroup\":\"GWEN\",\"orientation\":\"h\",\"showlegend\":true,\"textposition\":\"auto\",\"x\":[54.0],\"xaxis\":\"x\",\"y\":[\"GWEN\"],\"yaxis\":\"y\",\"type\":\"bar\"},{\"alignmentgroup\":\"True\",\"hovertemplate\":\"collection=%{y}<br>value=%{x}<extra></extra>\",\"legendgroup\":\"GRANT\",\"marker\":{\"color\":\"#00cc96\",\"pattern\":{\"shape\":\"\"}},\"name\":\"GRANT\",\"offsetgroup\":\"GRANT\",\"orientation\":\"h\",\"showlegend\":true,\"textposition\":\"auto\",\"x\":[64.0,103.0,62.0,132.0],\"xaxis\":\"x\",\"y\":[\"GRANT\",\"GRANT\",\"GRANT\",\"GRANT\"],\"yaxis\":\"y\",\"type\":\"bar\"},{\"alignmentgroup\":\"True\",\"hovertemplate\":\"collection=%{y}<br>value=%{x}<extra></extra>\",\"legendgroup\":\"DEAN\",\"marker\":{\"color\":\"#ab63fa\",\"pattern\":{\"shape\":\"\"}},\"name\":\"DEAN\",\"offsetgroup\":\"DEAN\",\"orientation\":\"h\",\"showlegend\":true,\"textposition\":\"auto\",\"x\":[115.0],\"xaxis\":\"x\",\"y\":[\"DEAN\"],\"yaxis\":\"y\",\"type\":\"bar\"},{\"alignmentgroup\":\"True\",\"hovertemplate\":\"collection=%{y}<br>value=%{x}<extra></extra>\",\"legendgroup\":\" GRANT 44MM\",\"marker\":{\"color\":\"#FFA15A\",\"pattern\":{\"shape\":\"\"}},\"name\":\" GRANT 44MM\",\"offsetgroup\":\" GRANT 44MM\",\"orientation\":\"h\",\"showlegend\":true,\"textposition\":\"auto\",\"x\":[62.0],\"xaxis\":\"x\",\"y\":[\" GRANT 44MM\"],\"yaxis\":\"y\",\"type\":\"bar\"},{\"alignmentgroup\":\"True\",\"hovertemplate\":\"collection=%{y}<br>value=%{x}<extra></extra>\",\"legendgroup\":\"THE MINIMALIST\",\"marker\":{\"color\":\"#19d3f3\",\"pattern\":{\"shape\":\"\"}},\"name\":\"THE MINIMALIST\",\"offsetgroup\":\"THE MINIMALIST\",\"orientation\":\"h\",\"showlegend\":true,\"textposition\":\"auto\",\"x\":[118.0,79.0],\"xaxis\":\"x\",\"y\":[\"THE MINIMALIST\",\"THE MINIMALIST\"],\"yaxis\":\"y\",\"type\":\"bar\"},{\"alignmentgroup\":\"True\",\"hovertemplate\":\"collection=%{y}<br>value=%{x}<extra></extra>\",\"legendgroup\":\"MACHINE \",\"marker\":{\"color\":\"#FF6692\",\"pattern\":{\"shape\":\"\"}},\"name\":\"MACHINE \",\"offsetgroup\":\"MACHINE \",\"orientation\":\"h\",\"showlegend\":true,\"textposition\":\"auto\",\"x\":[63.0],\"xaxis\":\"x\",\"y\":[\"MACHINE \"],\"yaxis\":\"y\",\"type\":\"bar\"},{\"alignmentgroup\":\"True\",\"hovertemplate\":\"collection=%{y}<br>value=%{x}<extra></extra>\",\"legendgroup\":\"THE COMMUTER\",\"marker\":{\"color\":\"#B6E880\",\"pattern\":{\"shape\":\"\"}},\"name\":\"THE COMMUTER\",\"offsetgroup\":\"THE COMMUTER\",\"orientation\":\"h\",\"showlegend\":true,\"textposition\":\"auto\",\"x\":[177.0],\"xaxis\":\"x\",\"y\":[\"THE COMMUTER\"],\"yaxis\":\"y\",\"type\":\"bar\"},{\"alignmentgroup\":\"True\",\"hovertemplate\":\"collection=%{y}<br>value=%{x}<extra></extra>\",\"legendgroup\":\"TOWNSMAN\",\"marker\":{\"color\":\"#FF97FF\",\"pattern\":{\"shape\":\"\"}},\"name\":\"TOWNSMAN\",\"offsetgroup\":\"TOWNSMAN\",\"orientation\":\"h\",\"showlegend\":true,\"textposition\":\"auto\",\"x\":[93.0],\"xaxis\":\"x\",\"y\":[\"TOWNSMAN\"],\"yaxis\":\"y\",\"type\":\"bar\"},{\"alignmentgroup\":\"True\",\"hovertemplate\":\"collection=%{y}<br>value=%{x}<extra></extra>\",\"legendgroup\":\"NEUTRA CHRONO\\u00a0 \",\"marker\":{\"color\":\"#FECB52\",\"pattern\":{\"shape\":\"\"}},\"name\":\"NEUTRA CHRONO\\u00a0 \",\"offsetgroup\":\"NEUTRA CHRONO\\u00a0 \",\"orientation\":\"h\",\"showlegend\":true,\"textposition\":\"auto\",\"x\":[66.0],\"xaxis\":\"x\",\"y\":[\"NEUTRA CHRONO\\u00a0 \"],\"yaxis\":\"y\",\"type\":\"bar\"},{\"alignmentgroup\":\"True\",\"hovertemplate\":\"collection=%{y}<br>value=%{x}<extra></extra>\",\"legendgroup\":\"FORRESTER\",\"marker\":{\"color\":\"#636efa\",\"pattern\":{\"shape\":\"\"}},\"name\":\"FORRESTER\",\"offsetgroup\":\"FORRESTER\",\"orientation\":\"h\",\"showlegend\":true,\"textposition\":\"auto\",\"x\":[86.0],\"xaxis\":\"x\",\"y\":[\"FORRESTER\"],\"yaxis\":\"y\",\"type\":\"bar\"},{\"alignmentgroup\":\"True\",\"hovertemplate\":\"collection=%{y}<br>value=%{x}<extra></extra>\",\"legendgroup\":\"GARRETT\",\"marker\":{\"color\":\"#EF553B\",\"pattern\":{\"shape\":\"\"}},\"name\":\"GARRETT\",\"offsetgroup\":\"GARRETT\",\"orientation\":\"h\",\"showlegend\":true,\"textposition\":\"auto\",\"x\":[98.0,105.0,80.0],\"xaxis\":\"x\",\"y\":[\"GARRETT\",\"GARRETT\",\"GARRETT\"],\"yaxis\":\"y\",\"type\":\"bar\"},{\"alignmentgroup\":\"True\",\"hovertemplate\":\"collection=%{y}<br>value=%{x}<extra></extra>\",\"legendgroup\":\"FB - 02\",\"marker\":{\"color\":\"#00cc96\",\"pattern\":{\"shape\":\"\"}},\"name\":\"FB - 02\",\"offsetgroup\":\"FB - 02\",\"orientation\":\"h\",\"showlegend\":true,\"textposition\":\"auto\",\"x\":[112.0],\"xaxis\":\"x\",\"y\":[\"FB - 02\"],\"yaxis\":\"y\",\"type\":\"bar\"},{\"alignmentgroup\":\"True\",\"hovertemplate\":\"collection=%{y}<br>value=%{x}<extra></extra>\",\"legendgroup\":\"MONTY\",\"marker\":{\"color\":\"#ab63fa\",\"pattern\":{\"shape\":\"\"}},\"name\":\"MONTY\",\"offsetgroup\":\"MONTY\",\"orientation\":\"h\",\"showlegend\":true,\"textposition\":\"auto\",\"x\":[62.0,54.0],\"xaxis\":\"x\",\"y\":[\"MONTY\",\"MONTY\"],\"yaxis\":\"y\",\"type\":\"bar\"},{\"alignmentgroup\":\"True\",\"hovertemplate\":\"collection=%{y}<br>value=%{x}<extra></extra>\",\"legendgroup\":\"BRONSON\",\"marker\":{\"color\":\"#FFA15A\",\"pattern\":{\"shape\":\"\"}},\"name\":\"BRONSON\",\"offsetgroup\":\"BRONSON\",\"orientation\":\"h\",\"showlegend\":true,\"textposition\":\"auto\",\"x\":[55.0,60.0,55.0,75.0],\"xaxis\":\"x\",\"y\":[\"BRONSON\",\"BRONSON\",\"BRONSON\",\"BRONSON\"],\"yaxis\":\"y\",\"type\":\"bar\"},{\"alignmentgroup\":\"True\",\"hovertemplate\":\"collection=%{y}<br>value=%{x}<extra></extra>\",\"legendgroup\":\"MEGA\",\"marker\":{\"color\":\"#19d3f3\",\"pattern\":{\"shape\":\"\"}},\"name\":\"MEGA\",\"offsetgroup\":\"MEGA\",\"orientation\":\"h\",\"showlegend\":true,\"textposition\":\"auto\",\"x\":[65.0],\"xaxis\":\"x\",\"y\":[\"MEGA\"],\"yaxis\":\"y\",\"type\":\"bar\"},{\"alignmentgroup\":\"True\",\"hovertemplate\":\"collection=%{y}<br>value=%{x}<extra></extra>\",\"legendgroup\":\"THE COMMUTER CHRONO\",\"marker\":{\"color\":\"#FF6692\",\"pattern\":{\"shape\":\"\"}},\"name\":\"THE COMMUTER CHRONO\",\"offsetgroup\":\"THE COMMUTER CHRONO\",\"orientation\":\"h\",\"showlegend\":true,\"textposition\":\"auto\",\"x\":[106.0],\"xaxis\":\"x\",\"y\":[\"THE COMMUTER CHRONO\"],\"yaxis\":\"y\",\"type\":\"bar\"}],                        {\"template\":{\"data\":{\"histogram2dcontour\":[{\"type\":\"histogram2dcontour\",\"colorbar\":{\"outlinewidth\":0,\"ticks\":\"\"},\"colorscale\":[[0.0,\"#0d0887\"],[0.1111111111111111,\"#46039f\"],[0.2222222222222222,\"#7201a8\"],[0.3333333333333333,\"#9c179e\"],[0.4444444444444444,\"#bd3786\"],[0.5555555555555556,\"#d8576b\"],[0.6666666666666666,\"#ed7953\"],[0.7777777777777778,\"#fb9f3a\"],[0.8888888888888888,\"#fdca26\"],[1.0,\"#f0f921\"]]}],\"choropleth\":[{\"type\":\"choropleth\",\"colorbar\":{\"outlinewidth\":0,\"ticks\":\"\"}}],\"histogram2d\":[{\"type\":\"histogram2d\",\"colorbar\":{\"outlinewidth\":0,\"ticks\":\"\"},\"colorscale\":[[0.0,\"#0d0887\"],[0.1111111111111111,\"#46039f\"],[0.2222222222222222,\"#7201a8\"],[0.3333333333333333,\"#9c179e\"],[0.4444444444444444,\"#bd3786\"],[0.5555555555555556,\"#d8576b\"],[0.6666666666666666,\"#ed7953\"],[0.7777777777777778,\"#fb9f3a\"],[0.8888888888888888,\"#fdca26\"],[1.0,\"#f0f921\"]]}],\"heatmap\":[{\"type\":\"heatmap\",\"colorbar\":{\"outlinewidth\":0,\"ticks\":\"\"},\"colorscale\":[[0.0,\"#0d0887\"],[0.1111111111111111,\"#46039f\"],[0.2222222222222222,\"#7201a8\"],[0.3333333333333333,\"#9c179e\"],[0.4444444444444444,\"#bd3786\"],[0.5555555555555556,\"#d8576b\"],[0.6666666666666666,\"#ed7953\"],[0.7777777777777778,\"#fb9f3a\"],[0.8888888888888888,\"#fdca26\"],[1.0,\"#f0f921\"]]}],\"heatmapgl\":[{\"type\":\"heatmapgl\",\"colorbar\":{\"outlinewidth\":0,\"ticks\":\"\"},\"colorscale\":[[0.0,\"#0d0887\"],[0.1111111111111111,\"#46039f\"],[0.2222222222222222,\"#7201a8\"],[0.3333333333333333,\"#9c179e\"],[0.4444444444444444,\"#bd3786\"],[0.5555555555555556,\"#d8576b\"],[0.6666666666666666,\"#ed7953\"],[0.7777777777777778,\"#fb9f3a\"],[0.8888888888888888,\"#fdca26\"],[1.0,\"#f0f921\"]]}],\"contourcarpet\":[{\"type\":\"contourcarpet\",\"colorbar\":{\"outlinewidth\":0,\"ticks\":\"\"}}],\"contour\":[{\"type\":\"contour\",\"colorbar\":{\"outlinewidth\":0,\"ticks\":\"\"},\"colorscale\":[[0.0,\"#0d0887\"],[0.1111111111111111,\"#46039f\"],[0.2222222222222222,\"#7201a8\"],[0.3333333333333333,\"#9c179e\"],[0.4444444444444444,\"#bd3786\"],[0.5555555555555556,\"#d8576b\"],[0.6666666666666666,\"#ed7953\"],[0.7777777777777778,\"#fb9f3a\"],[0.8888888888888888,\"#fdca26\"],[1.0,\"#f0f921\"]]}],\"surface\":[{\"type\":\"surface\",\"colorbar\":{\"outlinewidth\":0,\"ticks\":\"\"},\"colorscale\":[[0.0,\"#0d0887\"],[0.1111111111111111,\"#46039f\"],[0.2222222222222222,\"#7201a8\"],[0.3333333333333333,\"#9c179e\"],[0.4444444444444444,\"#bd3786\"],[0.5555555555555556,\"#d8576b\"],[0.6666666666666666,\"#ed7953\"],[0.7777777777777778,\"#fb9f3a\"],[0.8888888888888888,\"#fdca26\"],[1.0,\"#f0f921\"]]}],\"mesh3d\":[{\"type\":\"mesh3d\",\"colorbar\":{\"outlinewidth\":0,\"ticks\":\"\"}}],\"scatter\":[{\"fillpattern\":{\"fillmode\":\"overlay\",\"size\":10,\"solidity\":0.2},\"type\":\"scatter\"}],\"parcoords\":[{\"type\":\"parcoords\",\"line\":{\"colorbar\":{\"outlinewidth\":0,\"ticks\":\"\"}}}],\"scatterpolargl\":[{\"type\":\"scatterpolargl\",\"marker\":{\"colorbar\":{\"outlinewidth\":0,\"ticks\":\"\"}}}],\"bar\":[{\"error_x\":{\"color\":\"#2a3f5f\"},\"error_y\":{\"color\":\"#2a3f5f\"},\"marker\":{\"line\":{\"color\":\"#E5ECF6\",\"width\":0.5},\"pattern\":{\"fillmode\":\"overlay\",\"size\":10,\"solidity\":0.2}},\"type\":\"bar\"}],\"scattergeo\":[{\"type\":\"scattergeo\",\"marker\":{\"colorbar\":{\"outlinewidth\":0,\"ticks\":\"\"}}}],\"scatterpolar\":[{\"type\":\"scatterpolar\",\"marker\":{\"colorbar\":{\"outlinewidth\":0,\"ticks\":\"\"}}}],\"histogram\":[{\"marker\":{\"pattern\":{\"fillmode\":\"overlay\",\"size\":10,\"solidity\":0.2}},\"type\":\"histogram\"}],\"scattergl\":[{\"type\":\"scattergl\",\"marker\":{\"colorbar\":{\"outlinewidth\":0,\"ticks\":\"\"}}}],\"scatter3d\":[{\"type\":\"scatter3d\",\"line\":{\"colorbar\":{\"outlinewidth\":0,\"ticks\":\"\"}},\"marker\":{\"colorbar\":{\"outlinewidth\":0,\"ticks\":\"\"}}}],\"scattermapbox\":[{\"type\":\"scattermapbox\",\"marker\":{\"colorbar\":{\"outlinewidth\":0,\"ticks\":\"\"}}}],\"scatterternary\":[{\"type\":\"scatterternary\",\"marker\":{\"colorbar\":{\"outlinewidth\":0,\"ticks\":\"\"}}}],\"scattercarpet\":[{\"type\":\"scattercarpet\",\"marker\":{\"colorbar\":{\"outlinewidth\":0,\"ticks\":\"\"}}}],\"carpet\":[{\"aaxis\":{\"endlinecolor\":\"#2a3f5f\",\"gridcolor\":\"white\",\"linecolor\":\"white\",\"minorgridcolor\":\"white\",\"startlinecolor\":\"#2a3f5f\"},\"baxis\":{\"endlinecolor\":\"#2a3f5f\",\"gridcolor\":\"white\",\"linecolor\":\"white\",\"minorgridcolor\":\"white\",\"startlinecolor\":\"#2a3f5f\"},\"type\":\"carpet\"}],\"table\":[{\"cells\":{\"fill\":{\"color\":\"#EBF0F8\"},\"line\":{\"color\":\"white\"}},\"header\":{\"fill\":{\"color\":\"#C8D4E3\"},\"line\":{\"color\":\"white\"}},\"type\":\"table\"}],\"barpolar\":[{\"marker\":{\"line\":{\"color\":\"#E5ECF6\",\"width\":0.5},\"pattern\":{\"fillmode\":\"overlay\",\"size\":10,\"solidity\":0.2}},\"type\":\"barpolar\"}],\"pie\":[{\"automargin\":true,\"type\":\"pie\"}]},\"layout\":{\"autotypenumbers\":\"strict\",\"colorway\":[\"#636efa\",\"#EF553B\",\"#00cc96\",\"#ab63fa\",\"#FFA15A\",\"#19d3f3\",\"#FF6692\",\"#B6E880\",\"#FF97FF\",\"#FECB52\"],\"font\":{\"color\":\"#2a3f5f\"},\"hovermode\":\"closest\",\"hoverlabel\":{\"align\":\"left\"},\"paper_bgcolor\":\"white\",\"plot_bgcolor\":\"#E5ECF6\",\"polar\":{\"bgcolor\":\"#E5ECF6\",\"angularaxis\":{\"gridcolor\":\"white\",\"linecolor\":\"white\",\"ticks\":\"\"},\"radialaxis\":{\"gridcolor\":\"white\",\"linecolor\":\"white\",\"ticks\":\"\"}},\"ternary\":{\"bgcolor\":\"#E5ECF6\",\"aaxis\":{\"gridcolor\":\"white\",\"linecolor\":\"white\",\"ticks\":\"\"},\"baxis\":{\"gridcolor\":\"white\",\"linecolor\":\"white\",\"ticks\":\"\"},\"caxis\":{\"gridcolor\":\"white\",\"linecolor\":\"white\",\"ticks\":\"\"}},\"coloraxis\":{\"colorbar\":{\"outlinewidth\":0,\"ticks\":\"\"}},\"colorscale\":{\"sequential\":[[0.0,\"#0d0887\"],[0.1111111111111111,\"#46039f\"],[0.2222222222222222,\"#7201a8\"],[0.3333333333333333,\"#9c179e\"],[0.4444444444444444,\"#bd3786\"],[0.5555555555555556,\"#d8576b\"],[0.6666666666666666,\"#ed7953\"],[0.7777777777777778,\"#fb9f3a\"],[0.8888888888888888,\"#fdca26\"],[1.0,\"#f0f921\"]],\"sequentialminus\":[[0.0,\"#0d0887\"],[0.1111111111111111,\"#46039f\"],[0.2222222222222222,\"#7201a8\"],[0.3333333333333333,\"#9c179e\"],[0.4444444444444444,\"#bd3786\"],[0.5555555555555556,\"#d8576b\"],[0.6666666666666666,\"#ed7953\"],[0.7777777777777778,\"#fb9f3a\"],[0.8888888888888888,\"#fdca26\"],[1.0,\"#f0f921\"]],\"diverging\":[[0,\"#8e0152\"],[0.1,\"#c51b7d\"],[0.2,\"#de77ae\"],[0.3,\"#f1b6da\"],[0.4,\"#fde0ef\"],[0.5,\"#f7f7f7\"],[0.6,\"#e6f5d0\"],[0.7,\"#b8e186\"],[0.8,\"#7fbc41\"],[0.9,\"#4d9221\"],[1,\"#276419\"]]},\"xaxis\":{\"gridcolor\":\"white\",\"linecolor\":\"white\",\"ticks\":\"\",\"title\":{\"standoff\":15},\"zerolinecolor\":\"white\",\"automargin\":true,\"zerolinewidth\":2},\"yaxis\":{\"gridcolor\":\"white\",\"linecolor\":\"white\",\"ticks\":\"\",\"title\":{\"standoff\":15},\"zerolinecolor\":\"white\",\"automargin\":true,\"zerolinewidth\":2},\"scene\":{\"xaxis\":{\"backgroundcolor\":\"#E5ECF6\",\"gridcolor\":\"white\",\"linecolor\":\"white\",\"showbackground\":true,\"ticks\":\"\",\"zerolinecolor\":\"white\",\"gridwidth\":2},\"yaxis\":{\"backgroundcolor\":\"#E5ECF6\",\"gridcolor\":\"white\",\"linecolor\":\"white\",\"showbackground\":true,\"ticks\":\"\",\"zerolinecolor\":\"white\",\"gridwidth\":2},\"zaxis\":{\"backgroundcolor\":\"#E5ECF6\",\"gridcolor\":\"white\",\"linecolor\":\"white\",\"showbackground\":true,\"ticks\":\"\",\"zerolinecolor\":\"white\",\"gridwidth\":2}},\"shapedefaults\":{\"line\":{\"color\":\"#2a3f5f\"}},\"annotationdefaults\":{\"arrowcolor\":\"#2a3f5f\",\"arrowhead\":0,\"arrowwidth\":1},\"geo\":{\"bgcolor\":\"white\",\"landcolor\":\"#E5ECF6\",\"subunitcolor\":\"white\",\"showland\":true,\"showlakes\":true,\"lakecolor\":\"white\"},\"title\":{\"x\":0.05},\"mapbox\":{\"style\":\"light\"}}},\"xaxis\":{\"anchor\":\"y\",\"domain\":[0.0,1.0],\"title\":{\"text\":\"value\"}},\"yaxis\":{\"anchor\":\"x\",\"domain\":[0.0,1.0],\"title\":{\"text\":\"collection\"},\"categoryorder\":\"array\",\"categoryarray\":[\"THE COMMUTER CHRONO\",\"MEGA\",\"BRONSON\",\"MONTY\",\"FB - 02\",\"GARRETT\",\"FORRESTER\",\"NEUTRA CHRONO\\u00a0 \",\"TOWNSMAN\",\"THE COMMUTER\",\"MACHINE \",\"THE MINIMALIST\",\" GRANT 44MM\",\"DEAN\",\"GRANT\",\"GWEN\",\"FB - 01\",\"CARLIE MINI\",\"CARLIE \",\"THE COMMUTER 3H\",\"SCARLETTE MINI\",\"CARLIE\",\"TAILOR \",\"TAILOR\",\"JACQUELINE\",\"VIRGINIA\",\"RILEY\",\"DECKER\",\"COACHMAN\",\"NEUTRA CHRONO\",\"THE MINIMALIST 3H\",\"MACHINE\",\"FB-01\",\"LYRIC\",\"KALYA\",\"NEELY\",\"MADELINE\"]},\"legend\":{\"title\":{\"text\":\"collection\"},\"tracegroupgap\":0},\"margin\":{\"t\":60},\"barmode\":\"relative\",\"height\":700},                        {\"responsive\": true}                    ).then(function(){\n",
       "                            \n",
       "var gd = document.getElementById('78291686-795e-4d7f-8874-a0bc3100c491');\n",
       "var x = new MutationObserver(function (mutations, observer) {{\n",
       "        var display = window.getComputedStyle(gd).display;\n",
       "        if (!display || display === 'none') {{\n",
       "            console.log([gd, 'removed!']);\n",
       "            Plotly.purge(gd);\n",
       "            observer.disconnect();\n",
       "        }}\n",
       "}});\n",
       "\n",
       "// Listen for the removal of the full notebook cells\n",
       "var notebookContainer = gd.closest('#notebook-container');\n",
       "if (notebookContainer) {{\n",
       "    x.observe(notebookContainer, {childList: true});\n",
       "}}\n",
       "\n",
       "// Listen for the clearing of the current output cell\n",
       "var outputEl = gd.closest('.output');\n",
       "if (outputEl) {{\n",
       "    x.observe(outputEl, {childList: true});\n",
       "}}\n",
       "\n",
       "                        })                };                });            </script>        </div>"
      ]
     },
     "metadata": {},
     "output_type": "display_data"
    }
   ],
   "source": [
    "px.bar(df_watch_chart[ df_watch_chart['2020'] > 50 ].dropna(subset='collection'), y='collection',x=['2020'],color='collection',orientation='h',height=700)"
   ]
  },
  {
   "cell_type": "markdown",
   "id": "3bad6010-50f5-4716-bba2-4e7a41e6e583",
   "metadata": {},
   "source": [
    "# Fossil Proposal"
   ]
  },
  {
   "cell_type": "code",
   "execution_count": 149,
   "id": "590b3c28-ef2c-4fb2-b6b3-10e7b1e403c4",
   "metadata": {},
   "outputs": [],
   "source": [
    "df_proposal = pd.read_excel('data/FOSSIL  PROPOSAL APRIL 16.xlsx')"
   ]
  },
  {
   "cell_type": "code",
   "execution_count": 155,
   "id": "75079c61-4e5b-4b39-aec8-49dc9f7a5a2f",
   "metadata": {},
   "outputs": [],
   "source": [
    "df_proposal.drop(columns=['IMAGE','Unnamed: 12','Unnamed: 14','Unnamed: 17'],inplace=True)"
   ]
  },
  {
   "cell_type": "code",
   "execution_count": 162,
   "id": "346885ff-82a3-4e9b-91f1-d14ed20cdc4a",
   "metadata": {},
   "outputs": [],
   "source": [
    "df_proposal.dropna(subset='Material',inplace=True)"
   ]
  },
  {
   "cell_type": "code",
   "execution_count": 163,
   "id": "b59ef870-630f-48b1-b635-5f23ffd4ce48",
   "metadata": {},
   "outputs": [
    {
     "data": {
      "text/plain": [
       "Index(['Material', 'UPC', 'STATUS', 'RETAIL', 'GENDER', 'COLLECTION', 'CASE',\n",
       "       'INVENTORY', 'QTY OH', 'QTY OOR', 'TOTAL', 'ORDER', 'SOLD LAST 6M',\n",
       "       'AVERAGE/MO', 'MONTHS/SUP', 'WHOLESALE', 'COST', 'EXT COST'],\n",
       "      dtype='object')"
      ]
     },
     "execution_count": 163,
     "metadata": {},
     "output_type": "execute_result"
    }
   ],
   "source": [
    "df_proposal.columns"
   ]
  },
  {
   "cell_type": "code",
   "execution_count": 169,
   "id": "e5cc1014-76f0-468d-a0f9-ca7cc398bbc6",
   "metadata": {},
   "outputs": [
    {
     "data": {
      "text/html": [
       "<div>\n",
       "<style scoped>\n",
       "    .dataframe tbody tr th:only-of-type {\n",
       "        vertical-align: middle;\n",
       "    }\n",
       "\n",
       "    .dataframe tbody tr th {\n",
       "        vertical-align: top;\n",
       "    }\n",
       "\n",
       "    .dataframe thead th {\n",
       "        text-align: right;\n",
       "    }\n",
       "</style>\n",
       "<table border=\"1\" class=\"dataframe\">\n",
       "  <thead>\n",
       "    <tr style=\"text-align: right;\">\n",
       "      <th></th>\n",
       "      <th>Material</th>\n",
       "      <th>UPC</th>\n",
       "      <th>STATUS</th>\n",
       "      <th>RETAIL</th>\n",
       "      <th>GENDER</th>\n",
       "      <th>COLLECTION</th>\n",
       "      <th>CASE</th>\n",
       "      <th>INVENTORY</th>\n",
       "      <th>QTY OH</th>\n",
       "      <th>QTY OOR</th>\n",
       "      <th>TOTAL</th>\n",
       "      <th>ORDER</th>\n",
       "      <th>SOLD LAST 6M</th>\n",
       "      <th>AVERAGE/MO</th>\n",
       "      <th>MONTHS/SUP</th>\n",
       "      <th>WHOLESALE</th>\n",
       "      <th>COST</th>\n",
       "      <th>EXT COST</th>\n",
       "    </tr>\n",
       "  </thead>\n",
       "  <tbody>\n",
       "    <tr>\n",
       "      <th>87</th>\n",
       "      <td>ES5168</td>\n",
       "      <td>7.964836e+11</td>\n",
       "      <td>2022H1</td>\n",
       "      <td>140.0</td>\n",
       "      <td>WOMEN</td>\n",
       "      <td>JACQUELINE</td>\n",
       "      <td>36MM</td>\n",
       "      <td>Available</td>\n",
       "      <td>20.0</td>\n",
       "      <td>0</td>\n",
       "      <td>20.0</td>\n",
       "      <td>0.0</td>\n",
       "      <td>0</td>\n",
       "      <td>0.0</td>\n",
       "      <td>NaN</td>\n",
       "      <td>70.0</td>\n",
       "      <td>49.0</td>\n",
       "      <td>0.0</td>\n",
       "    </tr>\n",
       "    <tr>\n",
       "      <th>89</th>\n",
       "      <td>ES5176SET</td>\n",
       "      <td>7.964836e+11</td>\n",
       "      <td>2022H1</td>\n",
       "      <td>260.0</td>\n",
       "      <td>WOMEN</td>\n",
       "      <td>ADDISON</td>\n",
       "      <td>30MM</td>\n",
       "      <td>Available</td>\n",
       "      <td>40.0</td>\n",
       "      <td>0</td>\n",
       "      <td>40.0</td>\n",
       "      <td>0.0</td>\n",
       "      <td>0</td>\n",
       "      <td>0.0</td>\n",
       "      <td>NaN</td>\n",
       "      <td>130.0</td>\n",
       "      <td>91.0</td>\n",
       "      <td>0.0</td>\n",
       "    </tr>\n",
       "    <tr>\n",
       "      <th>90</th>\n",
       "      <td>ES5183SET</td>\n",
       "      <td>7.964836e+11</td>\n",
       "      <td>2022H2</td>\n",
       "      <td>140.0</td>\n",
       "      <td>WOMEN</td>\n",
       "      <td>CARLIE</td>\n",
       "      <td>28MM</td>\n",
       "      <td>Available</td>\n",
       "      <td>0.0</td>\n",
       "      <td>0</td>\n",
       "      <td>0.0</td>\n",
       "      <td>40.0</td>\n",
       "      <td>0</td>\n",
       "      <td>0.0</td>\n",
       "      <td>NaN</td>\n",
       "      <td>70.0</td>\n",
       "      <td>49.0</td>\n",
       "      <td>1960.0</td>\n",
       "    </tr>\n",
       "    <tr>\n",
       "      <th>91</th>\n",
       "      <td>ES5184</td>\n",
       "      <td>7.964836e+11</td>\n",
       "      <td>2022H2</td>\n",
       "      <td>120.0</td>\n",
       "      <td>WOMEN</td>\n",
       "      <td>SCARLETTE</td>\n",
       "      <td>32MM</td>\n",
       "      <td>Available</td>\n",
       "      <td>30.0</td>\n",
       "      <td>20</td>\n",
       "      <td>50.0</td>\n",
       "      <td>0.0</td>\n",
       "      <td>0</td>\n",
       "      <td>0.0</td>\n",
       "      <td>NaN</td>\n",
       "      <td>60.0</td>\n",
       "      <td>42.0</td>\n",
       "      <td>0.0</td>\n",
       "    </tr>\n",
       "    <tr>\n",
       "      <th>92</th>\n",
       "      <td>ES5187</td>\n",
       "      <td>7.964836e+11</td>\n",
       "      <td>2022H2</td>\n",
       "      <td>120.0</td>\n",
       "      <td>WOMEN</td>\n",
       "      <td>CARLIE</td>\n",
       "      <td>35MM</td>\n",
       "      <td>Available</td>\n",
       "      <td>0.0</td>\n",
       "      <td>20</td>\n",
       "      <td>20.0</td>\n",
       "      <td>0.0</td>\n",
       "      <td>0</td>\n",
       "      <td>0.0</td>\n",
       "      <td>NaN</td>\n",
       "      <td>60.0</td>\n",
       "      <td>42.0</td>\n",
       "      <td>0.0</td>\n",
       "    </tr>\n",
       "    <tr>\n",
       "      <th>...</th>\n",
       "      <td>...</td>\n",
       "      <td>...</td>\n",
       "      <td>...</td>\n",
       "      <td>...</td>\n",
       "      <td>...</td>\n",
       "      <td>...</td>\n",
       "      <td>...</td>\n",
       "      <td>...</td>\n",
       "      <td>...</td>\n",
       "      <td>...</td>\n",
       "      <td>...</td>\n",
       "      <td>...</td>\n",
       "      <td>...</td>\n",
       "      <td>...</td>\n",
       "      <td>...</td>\n",
       "      <td>...</td>\n",
       "      <td>...</td>\n",
       "      <td>...</td>\n",
       "    </tr>\n",
       "    <tr>\n",
       "      <th>289</th>\n",
       "      <td>ME3202</td>\n",
       "      <td>7.964835e+11</td>\n",
       "      <td>C</td>\n",
       "      <td>240.0</td>\n",
       "      <td>MEN</td>\n",
       "      <td>INSCRIPTION</td>\n",
       "      <td>42MM</td>\n",
       "      <td>Delivery within 6 weeks</td>\n",
       "      <td>0.0</td>\n",
       "      <td>10</td>\n",
       "      <td>10.0</td>\n",
       "      <td>0.0</td>\n",
       "      <td>0</td>\n",
       "      <td>0.0</td>\n",
       "      <td>NaN</td>\n",
       "      <td>120.0</td>\n",
       "      <td>84.0</td>\n",
       "      <td>0.0</td>\n",
       "    </tr>\n",
       "    <tr>\n",
       "      <th>290</th>\n",
       "      <td>ME3203</td>\n",
       "      <td>7.964835e+11</td>\n",
       "      <td>C</td>\n",
       "      <td>260.0</td>\n",
       "      <td>MEN</td>\n",
       "      <td>INSCRIPTION</td>\n",
       "      <td>42MM</td>\n",
       "      <td>Delivery within 6 weeks</td>\n",
       "      <td>0.0</td>\n",
       "      <td>10</td>\n",
       "      <td>10.0</td>\n",
       "      <td>0.0</td>\n",
       "      <td>0</td>\n",
       "      <td>0.0</td>\n",
       "      <td>NaN</td>\n",
       "      <td>130.0</td>\n",
       "      <td>91.0</td>\n",
       "      <td>0.0</td>\n",
       "    </tr>\n",
       "    <tr>\n",
       "      <th>291</th>\n",
       "      <td>ME3204</td>\n",
       "      <td>7.964835e+11</td>\n",
       "      <td>C</td>\n",
       "      <td>260.0</td>\n",
       "      <td>MEN</td>\n",
       "      <td>INSCRIPTION</td>\n",
       "      <td>42MM</td>\n",
       "      <td>Delivery within 6 weeks</td>\n",
       "      <td>0.0</td>\n",
       "      <td>15</td>\n",
       "      <td>15.0</td>\n",
       "      <td>0.0</td>\n",
       "      <td>0</td>\n",
       "      <td>0.0</td>\n",
       "      <td>NaN</td>\n",
       "      <td>130.0</td>\n",
       "      <td>91.0</td>\n",
       "      <td>0.0</td>\n",
       "    </tr>\n",
       "    <tr>\n",
       "      <th>292</th>\n",
       "      <td>ME3205</td>\n",
       "      <td>7.964835e+11</td>\n",
       "      <td>C</td>\n",
       "      <td>240.0</td>\n",
       "      <td>MEN</td>\n",
       "      <td>INSCRIPTION</td>\n",
       "      <td>42MM</td>\n",
       "      <td>Delivery within 6 weeks</td>\n",
       "      <td>0.0</td>\n",
       "      <td>15</td>\n",
       "      <td>15.0</td>\n",
       "      <td>0.0</td>\n",
       "      <td>0</td>\n",
       "      <td>0.0</td>\n",
       "      <td>NaN</td>\n",
       "      <td>120.0</td>\n",
       "      <td>84.0</td>\n",
       "      <td>0.0</td>\n",
       "    </tr>\n",
       "    <tr>\n",
       "      <th>299</th>\n",
       "      <td>ME3220</td>\n",
       "      <td>7.964836e+11</td>\n",
       "      <td>2022H2</td>\n",
       "      <td>260.0</td>\n",
       "      <td>MEN</td>\n",
       "      <td>EVERETT</td>\n",
       "      <td>42MM</td>\n",
       "      <td>Delivery within 6 weeks</td>\n",
       "      <td>0.0</td>\n",
       "      <td>30</td>\n",
       "      <td>30.0</td>\n",
       "      <td>0.0</td>\n",
       "      <td>0</td>\n",
       "      <td>0.0</td>\n",
       "      <td>NaN</td>\n",
       "      <td>130.0</td>\n",
       "      <td>91.0</td>\n",
       "      <td>0.0</td>\n",
       "    </tr>\n",
       "  </tbody>\n",
       "</table>\n",
       "<p>84 rows × 18 columns</p>\n",
       "</div>"
      ],
      "text/plain": [
       "      Material           UPC  STATUS  RETAIL GENDER   COLLECTION  CASE  \\\n",
       "87      ES5168  7.964836e+11  2022H1   140.0  WOMEN   JACQUELINE  36MM   \n",
       "89   ES5176SET  7.964836e+11  2022H1   260.0  WOMEN      ADDISON  30MM   \n",
       "90   ES5183SET  7.964836e+11  2022H2   140.0  WOMEN       CARLIE  28MM   \n",
       "91      ES5184  7.964836e+11  2022H2   120.0  WOMEN    SCARLETTE  32MM   \n",
       "92      ES5187  7.964836e+11  2022H2   120.0  WOMEN       CARLIE  35MM   \n",
       "..         ...           ...     ...     ...    ...          ...   ...   \n",
       "289     ME3202  7.964835e+11       C   240.0    MEN  INSCRIPTION  42MM   \n",
       "290     ME3203  7.964835e+11       C   260.0    MEN  INSCRIPTION  42MM   \n",
       "291     ME3204  7.964835e+11       C   260.0    MEN  INSCRIPTION  42MM   \n",
       "292     ME3205  7.964835e+11       C   240.0    MEN  INSCRIPTION  42MM   \n",
       "299     ME3220  7.964836e+11  2022H2   260.0    MEN      EVERETT  42MM   \n",
       "\n",
       "                   INVENTORY  QTY OH QTY OOR  TOTAL  ORDER SOLD LAST 6M  \\\n",
       "87                 Available    20.0       0   20.0    0.0            0   \n",
       "89                 Available    40.0       0   40.0    0.0            0   \n",
       "90                 Available     0.0       0    0.0   40.0            0   \n",
       "91                 Available    30.0      20   50.0    0.0            0   \n",
       "92                 Available     0.0      20   20.0    0.0            0   \n",
       "..                       ...     ...     ...    ...    ...          ...   \n",
       "289  Delivery within 6 weeks     0.0      10   10.0    0.0            0   \n",
       "290  Delivery within 6 weeks     0.0      10   10.0    0.0            0   \n",
       "291  Delivery within 6 weeks     0.0      15   15.0    0.0            0   \n",
       "292  Delivery within 6 weeks     0.0      15   15.0    0.0            0   \n",
       "299  Delivery within 6 weeks     0.0      30   30.0    0.0            0   \n",
       "\n",
       "     AVERAGE/MO MONTHS/SUP  WHOLESALE  COST  EXT COST  \n",
       "87          0.0        NaN       70.0  49.0       0.0  \n",
       "89          0.0        NaN      130.0  91.0       0.0  \n",
       "90          0.0        NaN       70.0  49.0    1960.0  \n",
       "91          0.0        NaN       60.0  42.0       0.0  \n",
       "92          0.0        NaN       60.0  42.0       0.0  \n",
       "..          ...        ...        ...   ...       ...  \n",
       "289         0.0        NaN      120.0  84.0       0.0  \n",
       "290         0.0        NaN      130.0  91.0       0.0  \n",
       "291         0.0        NaN      130.0  91.0       0.0  \n",
       "292         0.0        NaN      120.0  84.0       0.0  \n",
       "299         0.0        NaN      130.0  91.0       0.0  \n",
       "\n",
       "[84 rows x 18 columns]"
      ]
     },
     "execution_count": 169,
     "metadata": {},
     "output_type": "execute_result"
    }
   ],
   "source": [
    "df_proposal[df_proposal['MONTHS/SUP'].isna()]"
   ]
  },
  {
   "cell_type": "code",
   "execution_count": 168,
   "id": "170a5418-b4a2-4593-b03e-6358d7c411ff",
   "metadata": {},
   "outputs": [
    {
     "name": "stdout",
     "output_type": "stream",
     "text": [
      "<class 'pandas.core.frame.DataFrame'>\n",
      "Int64Index: 300 entries, 0 to 299\n",
      "Data columns (total 18 columns):\n",
      " #   Column        Non-Null Count  Dtype  \n",
      "---  ------        --------------  -----  \n",
      " 0   Material      300 non-null    object \n",
      " 1   UPC           300 non-null    float64\n",
      " 2   STATUS        300 non-null    object \n",
      " 3   RETAIL        300 non-null    float64\n",
      " 4   GENDER        300 non-null    object \n",
      " 5   COLLECTION    300 non-null    object \n",
      " 6   CASE          300 non-null    object \n",
      " 7   INVENTORY     300 non-null    object \n",
      " 8   QTY OH        300 non-null    float64\n",
      " 9   QTY OOR       300 non-null    object \n",
      " 10  TOTAL         300 non-null    float64\n",
      " 11  ORDER         300 non-null    float64\n",
      " 12  SOLD LAST 6M  300 non-null    object \n",
      " 13  AVERAGE/MO    300 non-null    float64\n",
      " 14  MONTHS/SUP    216 non-null    object \n",
      " 15  WHOLESALE     300 non-null    float64\n",
      " 16  COST          300 non-null    float64\n",
      " 17  EXT COST      300 non-null    float64\n",
      "dtypes: float64(9), object(9)\n",
      "memory usage: 44.5+ KB\n"
     ]
    }
   ],
   "source": [
    "df_proposal.info()"
   ]
  },
  {
   "cell_type": "code",
   "execution_count": null,
   "id": "ffec6085-1fd2-440f-a6b5-7619695ffd0d",
   "metadata": {},
   "outputs": [],
   "source": []
  }
 ],
 "metadata": {
  "kernelspec": {
   "display_name": "Python 3 (ipykernel)",
   "language": "python",
   "name": "python3"
  },
  "language_info": {
   "codemirror_mode": {
    "name": "ipython",
    "version": 3
   },
   "file_extension": ".py",
   "mimetype": "text/x-python",
   "name": "python",
   "nbconvert_exporter": "python",
   "pygments_lexer": "ipython3",
   "version": "3.8.8"
  }
 },
 "nbformat": 4,
 "nbformat_minor": 5
}
