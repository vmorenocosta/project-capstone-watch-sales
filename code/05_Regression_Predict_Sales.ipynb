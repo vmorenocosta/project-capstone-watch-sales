{
 "cells": [
  {
   "cell_type": "markdown",
   "id": "e2f9a737-f236-496b-be63-04437d6e185c",
   "metadata": {},
   "source": [
    "# Notebook 05: Linear Regression - Predicting Sales for New Models\n",
    "\n",
    "This notebook develops a regression model and evaluates predictions for new model sales using attributes for watches in datasets cleaned in [Notebook 1: Data Cleaning](01_data_cleaning.ipynb)."
   ]
  },
  {
   "cell_type": "code",
   "execution_count": 1,
   "id": "040f6738-673c-4d4d-8272-c5337f0ec63f",
   "metadata": {},
   "outputs": [],
   "source": [
    "# Imports\n",
    "import pandas as pd\n",
    "import numpy as np\n",
    "import matplotlib.pyplot as plt\n",
    "import seaborn as sns\n",
    "\n",
    "from sklearn.linear_model import LogisticRegression, LinearRegression, RidgeCV, LassoCV\n",
    "from sklearn.model_selection import train_test_split\n",
    "from sklearn.compose import ColumnTransformer\n",
    "from sklearn.preprocessing import OneHotEncoder, StandardScaler\n",
    "from sklearn.pipeline import Pipeline\n",
    "from sklearn.neighbors import KNeighborsRegressor\n",
    "from sklearn.metrics import mean_squared_error, r2_score\n",
    "from sklearn.ensemble import RandomForestRegressor, AdaBoostRegressor, ExtraTreesRegressor\n",
    "from sklearn.impute import KNNImputer\n",
    "\n",
    "# custom function imports\n",
    "from custom_functions import *"
   ]
  },
  {
   "cell_type": "code",
   "execution_count": 2,
   "id": "11208dbb-65e5-4b82-8b1f-7e5aa9f11833",
   "metadata": {},
   "outputs": [],
   "source": [
    "# Import data\n",
    "df_all_models = pd.read_csv('../data/cleaned_datasets/df_models.csv')\n",
    "\n",
    "time_now = datetime.datetime.now()\n",
    "df_models = df_all_models.dropna(subset=time_now.strftime(f\"%Y-%m\"))"
   ]
  },
  {
   "cell_type": "code",
   "execution_count": 3,
   "id": "9e0bd17b-71ef-44e9-968d-f9c5caa7ad64",
   "metadata": {},
   "outputs": [],
   "source": [
    "df_models = df_models.merge(pd.DataFrame(return_date_col(df_models.set_index('style_id')).T.sum(),columns=['overall_sales']),left_on = 'style_id',right_index=True)"
   ]
  },
  {
   "cell_type": "markdown",
   "id": "0f18db1d-5653-412d-b117-e6e3e6bab0da",
   "metadata": {},
   "source": [
    "### Train-test split"
   ]
  },
  {
   "cell_type": "code",
   "execution_count": 4,
   "id": "48493318-5498-41a2-9b39-d6e37704b29d",
   "metadata": {},
   "outputs": [
    {
     "data": {
      "image/png": "[encoded data removed]",
      "text/plain": [
       "<Figure size 432x288 with 1 Axes>"
      ]
     },
     "metadata": {
      "needs_background": "light"
     },
     "output_type": "display_data"
    }
   ],
   "source": [
    "# Calculate a target value - Normalized Sales, which is the overall sales divided by the number of years that the model was sold\n",
    "yearly_sales = return_sales(df_models,'style_id').resample('Y').sum().T\n",
    "norm_sales = []\n",
    "for i,x in enumerate(yearly_sales.index):\n",
    "    years_of_sales = sum([1 for sales in yearly_sales.loc[x,yearly_sales.iloc[:,0:-1].columns] if sales > 0])\n",
    "    if yearly_sales.iloc[i,-1] > 0:\n",
    "        years_of_sales += 4/12\n",
    "    if years_of_sales == 0:\n",
    "        norm_sales.append(0)\n",
    "    else:\n",
    "        norm_sales.append(df_models.loc[i,'overall_sales']/years_of_sales)\n",
    "yearly_sales['norm_sales'] = norm_sales\n",
    "df_models = df_models.merge(yearly_sales[['norm_sales']],left_on = 'style_id',right_index=True)\n",
    "\n",
    "plt.title('Normalized Sales')\n",
    "plt.hist(norm_sales)\n",
    "plt.xlabel('Sales/years sold')\n",
    "plt.ylabel('Num models');"
   ]
  },
  {
   "cell_type": "code",
   "execution_count": 5,
   "id": "85e09b24-2829-4a65-9b6a-743982c2f6ad",
   "metadata": {},
   "outputs": [],
   "source": [
    "attributes = ['retail_price', 'collection', 'color', 'band_color',\n",
    "       'gender', 'case_size', 'band_material']\n",
    "\n",
    "X = df_models[attributes]\n",
    "\n",
    "y = df_models['norm_sales']\n",
    "\n",
    "X_train, X_test, y_train, y_test = train_test_split(X, y, random_state=42)"
   ]
  },
  {
   "cell_type": "code",
   "execution_count": 6,
   "id": "ee4d6018-b490-48f0-aea8-57fe59af63ef",
   "metadata": {},
   "outputs": [
    {
     "data": {
      "text/plain": [
       "Index(['retail_price', 'collection', 'color', 'band_color', 'gender',\n",
       "       'case_size', 'band_material'],\n",
       "      dtype='object')"
      ]
     },
     "execution_count": 6,
     "metadata": {},
     "output_type": "execute_result"
    }
   ],
   "source": [
    "X_train.columns"
   ]
  },
  {
   "cell_type": "code",
   "execution_count": 7,
   "id": "7475ff59-b098-4edb-a0e9-d183e62c62a4",
   "metadata": {},
   "outputs": [
    {
     "name": "stdout",
     "output_type": "stream",
     "text": [
      "<class 'pandas.core.frame.DataFrame'>\n",
      "Int64Index: 1293 entries, 453 to 1126\n",
      "Data columns (total 7 columns):\n",
      " #   Column         Non-Null Count  Dtype  \n",
      "---  ------         --------------  -----  \n",
      " 0   retail_price   1293 non-null   float64\n",
      " 1   collection     1292 non-null   object \n",
      " 2   color          1293 non-null   object \n",
      " 3   band_color     1293 non-null   object \n",
      " 4   gender         1293 non-null   object \n",
      " 5   case_size      1293 non-null   object \n",
      " 6   band_material  1293 non-null   object \n",
      "dtypes: float64(1), object(6)\n",
      "memory usage: 80.8+ KB\n"
     ]
    }
   ],
   "source": [
    "X_train.info()"
   ]
  },
  {
   "cell_type": "code",
   "execution_count": null,
   "id": "17687823-cb5a-4a58-892f-5585e89d18d9",
   "metadata": {},
   "outputs": [],
   "source": []
  },
  {
   "cell_type": "markdown",
   "id": "4a9e664b-56ff-4f7d-9922-3f00216c2364",
   "metadata": {},
   "source": [
    "## Baseline Model"
   ]
  },
  {
   "cell_type": "code",
   "execution_count": 8,
   "id": "7857a025-3b2c-44d1-bb68-65260dbef2d3",
   "metadata": {},
   "outputs": [],
   "source": [
    "baseline = np.full_like(y_test, y_train.mean())"
   ]
  },
  {
   "cell_type": "code",
   "execution_count": 9,
   "id": "e10fdacb-29be-467f-9edc-a8468d04ad2e",
   "metadata": {},
   "outputs": [
    {
     "data": {
      "text/plain": [
       "30.549539363532595"
      ]
     },
     "execution_count": 9,
     "metadata": {},
     "output_type": "execute_result"
    }
   ],
   "source": [
    "rmse_baseline = mean_squared_error(y_test,baseline,squared=False)\n",
    "rmse_baseline"
   ]
  },
  {
   "cell_type": "code",
   "execution_count": 10,
   "id": "431c6ee6-5d79-4f0c-9cb2-95335d8a3d4f",
   "metadata": {},
   "outputs": [],
   "source": [
    "residuals_baseline = y_test - baseline"
   ]
  },
  {
   "cell_type": "code",
   "execution_count": 11,
   "id": "dd6c5c4a-b1cc-4cc8-bae2-3633542e23e6",
   "metadata": {},
   "outputs": [
    {
     "data": {
      "text/plain": [
       "-0.005632179565686846"
      ]
     },
     "execution_count": 11,
     "metadata": {},
     "output_type": "execute_result"
    }
   ],
   "source": [
    "r2_baseline = r2_score(y_test,baseline)\n",
    "r2_baseline"
   ]
  },
  {
   "cell_type": "code",
   "execution_count": 12,
   "id": "cd597b64-4c4f-44dd-8560-1b782a658cf7",
   "metadata": {},
   "outputs": [
    {
     "name": "stderr",
     "output_type": "stream",
     "text": [
      "/Applications/anaconda3/lib/python3.8/site-packages/statsmodels/nonparametric/smoothers_lowess.py:227: RuntimeWarning: invalid value encountered in true_divide\n",
      "  res, _ = _lowess(y, x, x, np.ones_like(x),\n"
     ]
    },
    {
     "data": {
      "image/png": "[encoded data removed]",
      "text/plain": [
       "<Figure size 432x288 with 1 Axes>"
      ]
     },
     "metadata": {
      "needs_background": "light"
     },
     "output_type": "display_data"
    }
   ],
   "source": [
    "sns.residplot(x = baseline,\n",
    "              y = residuals_baseline,\n",
    "              lowess = True,\n",
    "              line_kws = {'color':'red'})\n",
    "plt.title('Residuals vs predicted sales using Mean')\n",
    "plt.xlabel('Predicted sales')\n",
    "plt.ylabel('Residuals');"
   ]
  },
  {
   "cell_type": "code",
   "execution_count": 13,
   "id": "b41db536-7acb-4e6d-946d-10a8c6d91f24",
   "metadata": {},
   "outputs": [
    {
     "data": {
      "image/png": "[encoded data removed]",
      "text/plain": [
       "<Figure size 360x360 with 1 Axes>"
      ]
     },
     "metadata": {
      "needs_background": "light"
     },
     "output_type": "display_data"
    }
   ],
   "source": [
    "# Create residuals histogram to check for normal distribution of errors\n",
    "sns.displot(residuals_baseline, binwidth =12)\n",
    "plt.title('Distribution of residuals using Mean')\n",
    "plt.xlabel('Residual value');"
   ]
  },
  {
   "cell_type": "markdown",
   "id": "8278d486-a7bc-4f04-a483-9eb41b55e899",
   "metadata": {},
   "source": [
    "Definitely not normally distributed. There is a tail for the higher sales models."
   ]
  },
  {
   "cell_type": "markdown",
   "id": "cd18591d-b650-4dff-aa5b-d8e009da5dfb",
   "metadata": {},
   "source": [
    "## Exploring different models"
   ]
  },
  {
   "cell_type": "code",
   "execution_count": 14,
   "id": "d81db05f-6f14-4dd6-91e1-231911a21222",
   "metadata": {},
   "outputs": [
    {
     "ename": "NameError",
     "evalue": "name 'ct' is not defined",
     "output_type": "error",
     "traceback": [
      "\u001b[0;31m---------------------------------------------------------------------------\u001b[0m",
      "\u001b[0;31mNameError\u001b[0m                                 Traceback (most recent call last)",
      "Input \u001b[0;32mIn [14]\u001b[0m, in \u001b[0;36m<cell line: 1>\u001b[0;34m()\u001b[0m\n\u001b[1;32m      1\u001b[0m pipe_lr \u001b[38;5;241m=\u001b[39m Pipeline([\n\u001b[0;32m----> 2\u001b[0m     (\u001b[38;5;124m'\u001b[39m\u001b[38;5;124mct\u001b[39m\u001b[38;5;124m'\u001b[39m,\u001b[43mct\u001b[49m),\n\u001b[1;32m      3\u001b[0m     (\u001b[38;5;124m'\u001b[39m\u001b[38;5;124mss\u001b[39m\u001b[38;5;124m'\u001b[39m,StandardScaler()),\n\u001b[1;32m      4\u001b[0m     (\u001b[38;5;124m'\u001b[39m\u001b[38;5;124mlr\u001b[39m\u001b[38;5;124m'\u001b[39m,LinearRegression())\n\u001b[1;32m      5\u001b[0m ])\n",
      "\u001b[0;31mNameError\u001b[0m: name 'ct' is not defined"
     ]
    }
   ],
   "source": [
    "pipe_lr = Pipeline([\n",
    "    ('ct',ct),\n",
    "    ('ss',StandardScaler()),\n",
    "    ('lr',LinearRegression())\n",
    "])"
   ]
  },
  {
   "cell_type": "code",
   "execution_count": null,
   "id": "dfd2d8f4-f2c8-417d-ae8f-b76cd94bfd45",
   "metadata": {},
   "outputs": [],
   "source": [
    "pipe_lr.fit(X_train,y_train)\n",
    "pipe_lr.score(X_train,y_train), pipe_lr.score(X_test,y_test)"
   ]
  },
  {
   "cell_type": "code",
   "execution_count": null,
   "id": "62c880b0-d143-41b7-92f5-62c524c4cc70",
   "metadata": {},
   "outputs": [],
   "source": [
    "preds_lr = pipe_lr.predict(X_test)"
   ]
  },
  {
   "cell_type": "code",
   "execution_count": null,
   "id": "4a6f2564-edcd-4db9-a586-db1dd74cda8d",
   "metadata": {},
   "outputs": [],
   "source": [
    "preds_lr_zero = [x if x > 0 else 0 for x in preds_lr]\n",
    "preds_lr_zero = [x if x < 1000 else 0 for x in preds_lr_zero]"
   ]
  },
  {
   "cell_type": "code",
   "execution_count": null,
   "id": "97fd6d7c-cf4c-4e22-ada4-a2fab69b9b06",
   "metadata": {},
   "outputs": [],
   "source": [
    "residuals_lr = y_test - preds_lr_zero"
   ]
  },
  {
   "cell_type": "code",
   "execution_count": null,
   "id": "e2777271-3382-44de-bb3f-e8461cb30718",
   "metadata": {},
   "outputs": [],
   "source": [
    "mean_squared_error(y_test, preds_lr_zero)"
   ]
  },
  {
   "cell_type": "code",
   "execution_count": null,
   "id": "85dedce6-74e5-4e9a-ba50-510744b06031",
   "metadata": {},
   "outputs": [],
   "source": [
    "plt.scatter(preds_lr_zero,y_test)\n",
    "xpoints = ypoints = plt.xlim()\n",
    "plt.plot(xpoints, ypoints, linestyle='--', color='k', lw=3, scalex=False, scaley=False)\n",
    "plt.xlabel('Predicted sales')\n",
    "plt.ylabel('Actual sales')\n",
    "plt.title('Predicted vs Actual Sales: Linear Regression');"
   ]
  },
  {
   "cell_type": "code",
   "execution_count": null,
   "id": "33621bc9-620e-47e9-a048-8570d040a612",
   "metadata": {},
   "outputs": [],
   "source": [
    "sns.residplot(x = y_test,\n",
    "              y = residuals_lr,\n",
    "              lowess = True,\n",
    "              line_kws = {'color':'red'})\n",
    "plt.title('Residuals vs predicted sales: Linear Regression')\n",
    "plt.xlabel('Predicted sales')\n",
    "plt.ylabel('Residuals');"
   ]
  },
  {
   "cell_type": "code",
   "execution_count": null,
   "id": "ec366f64-1738-4578-80ea-eed3296a18a3",
   "metadata": {},
   "outputs": [],
   "source": [
    "# Create residuals histogram to check for normal distribution of errors\n",
    "sns.displot(residuals_lr, binwidth =12)\n",
    "plt.title('Distribution of residuals: Linear Regression')\n",
    "plt.xlabel('Residual value');"
   ]
  },
  {
   "cell_type": "markdown",
   "id": "68617d7f-e3a9-4103-98cc-e91a7e59cf1d",
   "metadata": {},
   "source": [
    "Errors appear to be normally distributed."
   ]
  },
  {
   "cell_type": "code",
   "execution_count": null,
   "id": "e6451565-1126-4e3d-b1cf-a94e5d3a3433",
   "metadata": {},
   "outputs": [],
   "source": [
    "def create_evaluate_model(model, X, y):\n",
    "    print(model[1])\n",
    "    X_train, X_test, y_train, y_test = train_test_split(X, y, random_state=42)\n",
    "    \n",
    "    ct = ColumnTransformer([('ohe',OneHotEncoder(drop='first',sparse=False,handle_unknown='ignore'),\n",
    "                         attributes[1::])],\n",
    "                      remainder='passthrough',\n",
    "                      verbose_feature_names_out=False)\n",
    "    \n",
    "    pipe = Pipeline([\n",
    "        ('ct',ct),\n",
    "        ('ss',StandardScaler()),\n",
    "        model\n",
    "    ])\n",
    "\n",
    "    pipe.fit(X_train,y_train)\n",
    "    print('Train score:', pipe.score(X_train,y_train))\n",
    "    print('Test raw score:', pipe_lr.score(X_test,y_test))\n",
    "\n",
    "    preds = pipe.predict(X_test)\n",
    "\n",
    "    preds = [x if x > 0 else 0 for x in preds]\n",
    "    preds = [x if x < 1000 else 0 for x in preds]\n",
    "\n",
    "    test_cleaned_rmse = mean_squared_error(y_test, preds,squared=False)\n",
    "\n",
    "    print('Test cleaned score:', r2_score(y_test, preds))\n",
    "    print('Test cleaned RMSE:',test_cleaned_rmse)\n",
    "    print('Baseline RMSE:', mean_squared_error(y_test,np.full_like(y_test, y_train.mean()),squared=False))\n",
    "    \n",
    "    residuals = y_test - preds\n",
    "    plt1 = plt.figure()\n",
    "    plt.scatter(preds,y_test)\n",
    "    xpoints = ypoints = plt.xlim()\n",
    "    plt.plot(xpoints, ypoints, linestyle='--', color='k', lw=3, scalex=False, scaley=False)\n",
    "    plt.xlabel('Predicted sales')\n",
    "    plt.ylabel('Actual sales')\n",
    "    plt.title(f'Predicted vs Actual Sales: {model[1]}');\n",
    "\n",
    "    plt2 = plt.figure()\n",
    "    plt2.suptitle(f'Residuals vs predicted sales: {model[1]}')\n",
    "    sns.residplot(x = y_test,\n",
    "                  y = residuals,\n",
    "                  lowess = True,\n",
    "                  line_kws = {'color':'red'})\n",
    "    plt.xlabel('Predicted sales')\n",
    "    plt.ylabel('Residuals');\n",
    "    \n",
    "    print()\n",
    "    return preds, test_cleaned_rmse"
   ]
  },
  {
   "cell_type": "code",
   "execution_count": null,
   "id": "49aa43eb-f017-4f7e-ad81-7db11e8d34ae",
   "metadata": {},
   "outputs": [],
   "source": [
    "def plot_preds(y_test, preds, model_name):\n",
    "    \"\"\" This function creates two plots: the predictions against the actual values, and the predictions against the residuals.\n",
    "    \n",
    "    Args:\n",
    "        y_test (Pandas series): actual values\n",
    "        preds (Pandas series): predictions\n",
    "    \"\"\"    \n",
    "    residuals = y_test - preds\n",
    "    plt1 = plt.figure()\n",
    "    plt.scatter(preds,y_test)\n",
    "    xpoints = ypoints = plt.xlim()\n",
    "    plt.plot(xpoints, ypoints, linestyle='--', color='k', lw=3, scalex=False, scaley=False)\n",
    "    plt.xlabel('Predicted sales')\n",
    "    plt.ylabel('Actual sales')\n",
    "    plt.title(f'Predicted vs Actual Sales: {model_name}');\n",
    "\n",
    "    plt2 = plt.figure()\n",
    "    plt2.suptitle(f'Residuals vs predicted sales: {model_name}')\n",
    "    sns.residplot(x = y_test,\n",
    "                  y = residuals,\n",
    "                  lowess = True,\n",
    "                  line_kws = {'color':'red'})\n",
    "    plt.xlabel('Predicted sales')\n",
    "    plt.ylabel('Residuals');\n",
    "    "
   ]
  },
  {
   "cell_type": "code",
   "execution_count": null,
   "id": "6c15c4ec-73c8-40a2-a3b0-ef3725eec056",
   "metadata": {},
   "outputs": [],
   "source": [
    "def create_evaluate_model(model, X, y):\n",
    "    print(model[1])\n",
    "    X_train, X_test, y_train, y_test = train_test_split(X, y, random_state=42)\n",
    "    \n",
    "    pipe = Pipeline([\n",
    "        ('ct',ct),\n",
    "        ('ss',StandardScaler()),\n",
    "        model\n",
    "    ])\n",
    "\n",
    "    pipe.fit(X_train,y_train)\n",
    "    print('Train score:', pipe.score(X_train,y_train))\n",
    "    print('Test raw score:', pipe_lr.score(X_test,y_test))\n",
    "\n",
    "    preds = pipe.predict(X_test)\n",
    "\n",
    "    preds = [x if x > 0 else 0 for x in preds]\n",
    "    preds = [x if x < 1000 else 0 for x in preds]\n",
    "\n",
    "    test_cleaned_rmse = mean_squared_error(y_test, preds,squared=False)\n",
    "\n",
    "    print('Test cleaned score:', r2_score(y_test, preds))\n",
    "    print('Test cleaned RMSE:',test_cleaned_rmse)\n",
    "    print('Baseline RMSE:', mean_squared_error(y_test,np.full_like(y_test, y_train.mean()),squared=False))\n",
    "    \n",
    "    plot_preds(y_test, preds, model[0])\n",
    "    \n",
    "    print()\n",
    "    return preds, test_cleaned_rmse"
   ]
  },
  {
   "cell_type": "code",
   "execution_count": null,
   "id": "3711cff9-3043-4b6a-9795-a3bab0b26df4",
   "metadata": {
    "tags": []
   },
   "outputs": [],
   "source": [
    "models = [('lr',LinearRegression()), ('ridge',RidgeCV(alphas=np.logspace(0,5,100))),\n",
    "          ('lasso',LassoCV(alphas=np.arange(0.001,10,1))),('knn',KNeighborsRegressor(n_neighbors=3)),\n",
    "          ('rf', RandomForestRegressor(n_estimators=500)), ('ab', AdaBoostRegressor(base_estimator=RandomForestRegressor())),\n",
    "          ('et', ExtraTreesRegressor(n_estimators=200))]"
   ]
  },
  {
   "cell_type": "code",
   "execution_count": null,
   "id": "ff478ce0-36c2-4966-85d1-a5f74085d7ee",
   "metadata": {
    "tags": []
   },
   "outputs": [],
   "source": [
    "best_rmse = 1000000\n",
    "dcolumnsreds = X_test.copy()\n",
    "df_preds['y_test'] = y_test\n",
    "df_preds = df_preds[['y_test']]\n",
    "for model in models:\n",
    "    preds, rmse = create_evaluate_model(model, X, y)\n",
    "    df_preds[f'preds_{model[0]}'] = preds\n",
    "    if rmse < best_rmse:\n",
    "        best_rmse = rmse\n",
    "        best_model = model[0]\n",
    "        \n",
    "print('Best RMSE:', best_rmse)\n",
    "print('Best model:', best_model)"
   ]
  },
  {
   "cell_type": "code",
   "execution_count": null,
   "id": "eae0c1bc-2ce3-4c07-a5cb-e648772e69ed",
   "metadata": {},
   "outputs": [],
   "source": [
    "df_preds_avg = df_preds[['preds_ridge','preds_rf']]\n",
    "df_preds['avg'] = 0\n",
    "for pred in df_preds_avg:\n",
    "    df_preds['avg'] = df_preds['avg'] + df_preds_avg[pred]\n",
    "df_preds['avg'] = df_preds['avg']/len(df_preds_avg.columns)"
   ]
  },
  {
   "cell_type": "code",
   "execution_count": null,
   "id": "d25db4b6-fbf2-474c-97b5-6218331d35d9",
   "metadata": {},
   "outputs": [],
   "source": [
    "df_preds"
   ]
  },
  {
   "cell_type": "code",
   "execution_count": null,
   "id": "d72c2211-2fa2-49e7-8586-833c47d35667",
   "metadata": {},
   "outputs": [],
   "source": [
    "mean_squared_error(y_test,df_preds['avg'],squared=False)"
   ]
  },
  {
   "cell_type": "code",
   "execution_count": null,
   "id": "0d5049e6-5d22-4856-bfe8-1ae3a6b3601e",
   "metadata": {},
   "outputs": [],
   "source": [
    "plot_preds(y_test,df_preds['avg'],'Average of Models')"
   ]
  },
  {
   "cell_type": "markdown",
   "id": "47c840b7-945a-4881-9871-73c9d7720571",
   "metadata": {},
   "source": [
    "## Production model"
   ]
  },
  {
   "cell_type": "code",
   "execution_count": null,
   "id": "5054ca7d-5b2e-48a4-81dd-8df9f3dbf6ab",
   "metadata": {},
   "outputs": [],
   "source": [
    "# Create new data frame with attributes from model to make predictions for new models in proposal\n",
    "test = df_new_models[attributes]\n",
    "\n",
    "# Impute missing retail prices\n",
    "knn_imp = KNNImputer()\n",
    "test['retail_price'] = knn_imp.fit_transform(test[['retail_price']])\n",
    "\n",
    "# Fix small casting issue\n",
    "test['case_size'] = test['case_size'].astype(str)\n",
    "\n",
    "# Setup pipeline for preprocessing and modeling\n",
    "ct = ColumnTransformer([('ohe',OneHotEncoder(drop='first',sparse=False,handle_unknown='ignore'),\n",
    "                         attributes[1::])],\n",
    "                      remainder='passthrough',\n",
    "                      verbose_feature_names_out=False)\n",
    "pipe = Pipeline([\n",
    "    ('ct',ct),\n",
    "    ('ss',StandardScaler()),\n",
    "    ('rf',RandomForestRegressor(n_estimators=500))\n",
    "])\n",
    "\n",
    "# Fit model with train set\n",
    "pipe.fit(X_train,y_train)\n",
    "\n",
    "# Generate predictions for new models\n",
    "preds = pipe.predict(test)\n",
    "\n",
    "# Save new model predictions (monthly order) to csv\n",
    "new_model_predictions = df_new_models[['style_id']]\n",
    "new_model_predictions['monthly_predictions_Q3'] = preds/12\n",
    "new_model_predictions.to_csv('../cleaned_datasets/new_models_predictions.csv',index=False)"
   ]
  },
  {
   "cell_type": "code",
   "execution_count": null,
   "id": "4daeed53-e39d-4f1c-a1b6-d9458ab13ef2",
   "metadata": {},
   "outputs": [],
   "source": []
  }
 ],
 "metadata": {
  "kernelspec": {
   "display_name": "Python 3 (ipykernel)",
   "language": "python",
   "name": "python3"
  },
  "language_info": {
   "codemirror_mode": {
    "name": "ipython",
    "version": 3
   },
   "file_extension": ".py",
   "mimetype": "text/x-python",
   "name": "python",
   "nbconvert_exporter": "python",
   "pygments_lexer": "ipython3",
   "version": "3.8.8"
  }
 },
 "nbformat": 4,
 "nbformat_minor": 5
}
