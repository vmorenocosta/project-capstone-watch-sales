{
 "cells": [
  {
   "cell_type": "markdown",
   "id": "a0b720b9-7b38-4273-ba55-bbedb379f829",
   "metadata": {},
   "source": [
    "# Notebook 06: Classification - Predicting Sales for New Models\n",
    "\n",
    "This notebook develops a classification model and evaluates predictions for new model sales using attributes for watches in datasets cleaned in [Notebook 1: Data Cleaning](01_data_cleaning.ipynb)."
   ]
  },
  {
   "cell_type": "code",
   "execution_count": 1,
   "id": "a1e36d8b-0e3d-4d23-8324-29730fb0c382",
   "metadata": {},
   "outputs": [],
   "source": [
    "# Imports\n",
    "import pandas as pd\n",
    "import numpy as np\n",
    "import matplotlib.pyplot as plt\n",
    "import seaborn as sns\n",
    "\n",
    "from sklearn.preprocessing import OneHotEncoder, StandardScaler, PolynomialFeatures\n",
    "from sklearn.model_selection import train_test_split, GridSearchCV\n",
    "from sklearn.pipeline import Pipeline\n",
    "from sklearn.linear_model import LogisticRegressionCV, LogisticRegression\n",
    "from sklearn.compose import make_column_transformer\n",
    "from sklearn.metrics import ConfusionMatrixDisplay, recall_score, accuracy_score, balanced_accuracy_score, f1_score, roc_auc_score, roc_curve\n",
    "from sklearn.tree import DecisionTreeClassifier\n",
    "from sklearn.neighbors import KNeighborsClassifier\n",
    "from sklearn.ensemble import RandomForestClassifier, ExtraTreesClassifier, VotingClassifier, AdaBoostClassifier\n",
    "from sklearn.impute import KNNImputer\n",
    "from sklearn.feature_selection import RFE\n",
    "\n",
    "\n",
    "# custom function imports\n",
    "from custom_functions import *\n",
    "from regression_custom_functions import *"
   ]
  },
  {
   "cell_type": "code",
   "execution_count": 2,
   "id": "a27bf7e1-0049-46d4-9d20-a46bc78397be",
   "metadata": {},
   "outputs": [],
   "source": [
    "# Import data\n",
    "df_all_models = pd.read_csv('../data/cleaned_datasets/df_models.csv')\n",
    "\n",
    "# Create a new dataframe with only models where there is historical sales data\n",
    "time_now = datetime.datetime.now()\n",
    "df_models = df_all_models.dropna(subset=time_now.strftime(f\"%Y-%m\"))\n",
    "\n",
    "# Create new data frame with attributes from model to make predictions for new models in proposal\n",
    "df_new_models = df_all_models[df_all_models[time_now.strftime(f\"%Y-%m\")].isna()]"
   ]
  },
  {
   "cell_type": "code",
   "execution_count": 3,
   "id": "c9c687c0-e4e9-4007-a9c7-4f3e7a8ea4ee",
   "metadata": {},
   "outputs": [
    {
     "data": {
      "image/png": "[encoded data removed]",
      "text/plain": [
       "<Figure size 432x288 with 1 Axes>"
      ]
     },
     "metadata": {
      "needs_background": "light"
     },
     "output_type": "display_data"
    }
   ],
   "source": [
    "# Calculate a target value - Normalized Yearly Sales\n",
    "df_models = calc_norm_yearly_sales(df_models, 4, 2019)"
   ]
  },
  {
   "cell_type": "markdown",
   "id": "10ede64e-5834-4342-bb52-981f08b1bc01",
   "metadata": {},
   "source": [
    "## Label models by normalized yearly sales"
   ]
  },
  {
   "cell_type": "code",
   "execution_count": 4,
   "id": "f734bf07-de8a-4b06-b4fc-43c2f56f3e20",
   "metadata": {
    "tags": []
   },
   "outputs": [
    {
     "data": {
      "image/png": "[encoded data removed]",
      "text/plain": [
       "<Figure size 432x288 with 1 Axes>"
      ]
     },
     "metadata": {
      "needs_background": "light"
     },
     "output_type": "display_data"
    }
   ],
   "source": [
    "# Define upper bounds for normalized yearly sales to classify data\n",
    "class_upper = {0:5,   # none\n",
    "                   1:15,  # poor\n",
    "                   2:30,  # fair\n",
    "                   3:60, # average\n",
    "                   4:90  # good\n",
    "                  }       # excellent\n",
    "\n",
    "\n",
    "# Use custom function and upper bounds to make classes\n",
    "df_models['class'] = make_classes(df_models.norm_yearly_sales, class_upper)"
   ]
  },
  {
   "cell_type": "code",
   "execution_count": 5,
   "id": "95a78f88-a184-4804-adc3-b46d9cc8d399",
   "metadata": {},
   "outputs": [
    {
     "data": {
      "image/png": "[encoded data removed]",
      "text/plain": [
       "<Figure size 432x288 with 1 Axes>"
      ]
     },
     "metadata": {
      "needs_background": "light"
     },
     "output_type": "display_data"
    }
   ],
   "source": [
    "# compare to planned order for new models to check if similar distribution\n",
    "df_new_models.planned_order.hist()\n",
    "plt.title('Distribution of planned orders for new models')\n",
    "plt.xlabel('Planned order (est. quarterly sales)')\n",
    "plt.ylabel('Count');"
   ]
  },
  {
   "cell_type": "markdown",
   "id": "1a087ebc-bba5-4837-91a8-40f3e78d2dfd",
   "metadata": {},
   "source": [
    "## Baseline Model"
   ]
  },
  {
   "cell_type": "code",
   "execution_count": 6,
   "id": "15939dea-c999-4afc-8a56-696f1235b9b2",
   "metadata": {},
   "outputs": [
    {
     "data": {
      "text/plain": [
       "0"
      ]
     },
     "execution_count": 6,
     "metadata": {},
     "output_type": "execute_result"
    }
   ],
   "source": [
    "# Create X & y for model creation using attributes\n",
    "attributes = ['country_of_origin','warranty', 'band_color', 'band_material',\n",
    "       'case_material', 'dial_color', 'case_size', 'gender', 'color',\n",
    "       'retail_price', 'collection', 'clasp_type', 'water_resistance',\n",
    "       'movement_type']\n",
    "\n",
    "X = df_models[attributes]\n",
    "y = df_models['class']\n",
    "\n",
    "# Train test split\n",
    "X_train, X_test, y_train, y_test = train_test_split(X, y, random_state=42)\n",
    "\n",
    "# Check no null values in X\n",
    "X.isna().sum().sum() #Should return 0"
   ]
  },
  {
   "cell_type": "code",
   "execution_count": 7,
   "id": "efde1d78-f625-4d1e-b0df-d713e2f56931",
   "metadata": {},
   "outputs": [
    {
     "name": "stderr",
     "output_type": "stream",
     "text": [
      "/var/folders/0z/k5klxhhj5j9g8hc5ygn0nwsr0000gn/T/ipykernel_33730/1977101099.py:6: SettingWithCopyWarning: \n",
      "A value is trying to be set on a copy of a slice from a DataFrame.\n",
      "Try using .loc[row_indexer,col_indexer] = value instead\n",
      "\n",
      "See the caveats in the documentation: https://pandas.pydata.org/pandas-docs/stable/user_guide/indexing.html#returning-a-view-versus-a-copy\n",
      "  test['retail_price'] = knn_imp.fit_transform(test[['retail_price']])\n"
     ]
    },
    {
     "data": {
      "text/plain": [
       "0"
      ]
     },
     "execution_count": 7,
     "metadata": {},
     "output_type": "execute_result"
    }
   ],
   "source": [
    "# Create test set for later model testing\n",
    "test = df_new_models[attributes]\n",
    "\n",
    "# Impute missing retail prices\n",
    "knn_imp = KNNImputer()\n",
    "test['retail_price'] = knn_imp.fit_transform(test[['retail_price']])\n",
    "\n",
    "# Check no null values in test\n",
    "test.isna().sum().sum() #Should return 0"
   ]
  },
  {
   "cell_type": "code",
   "execution_count": 8,
   "id": "84ee60f5-d203-4598-b982-a73fbbf4445b",
   "metadata": {},
   "outputs": [
    {
     "data": {
      "text/plain": [
       "2    0.292343\n",
       "3    0.292343\n",
       "1    0.122970\n",
       "4    0.113689\n",
       "0    0.092807\n",
       "5    0.085847\n",
       "Name: class, dtype: float64"
      ]
     },
     "execution_count": 8,
     "metadata": {},
     "output_type": "execute_result"
    }
   ],
   "source": [
    "# Check for distribution of classes\n",
    "test_counts = y_test.value_counts(normalize=True)\n",
    "test_counts"
   ]
  },
  {
   "cell_type": "markdown",
   "id": "9e9b8f0e-3c22-4ef5-8c69-22a8d043e853",
   "metadata": {},
   "source": [
    "While the classes are imbalanced, I do not think this will significantly impact the model so I will not implement any techniques to create a balanced dataset. I will use an f1 score as well as accuracy as metrics to evaluate models due to the imbalanced nature."
   ]
  },
  {
   "cell_type": "code",
   "execution_count": 9,
   "id": "ca00975d-3f2d-4b65-8f2f-b8542f17d1e6",
   "metadata": {},
   "outputs": [
    {
     "name": "stdout",
     "output_type": "stream",
     "text": [
      "Baseline accuracy is 9.3%.\n",
      "Baseline f1 score is 13.2%.\n"
     ]
    }
   ],
   "source": [
    "baseline_preds = np.full_like(y_test,test_counts.index[0])\n",
    "\n",
    "baseline_accuracy = test_counts[0]/sum(test_counts)\n",
    "baseline_f1 = f1_score(y_test, baseline_preds, average='weighted')\n",
    "\n",
    "print(f'Baseline accuracy is {round(baseline_accuracy*100,1)}%.')\n",
    "print(f'Baseline f1 score is {round(baseline_f1*100,1)}%.')"
   ]
  },
  {
   "cell_type": "markdown",
   "id": "7e00836f-bf5b-459b-a426-da23540c6026",
   "metadata": {},
   "source": [
    "## Exploring different models"
   ]
  },
  {
   "cell_type": "code",
   "execution_count": 10,
   "id": "9d389741-0860-41b6-9c63-c22877560c79",
   "metadata": {
    "tags": []
   },
   "outputs": [
    {
     "name": "stdout",
     "output_type": "stream",
     "text": [
      "LogisticRegression(max_iter=1000)\n"
     ]
    },
    {
     "name": "stderr",
     "output_type": "stream",
     "text": [
      "/Applications/anaconda3/lib/python3.8/site-packages/sklearn/preprocessing/_encoders.py:170: UserWarning: Found unknown categories in columns [2, 4, 9, 10] during transform. These unknown categories will be encoded as all zeros\n",
      "  warnings.warn(\n",
      "/Applications/anaconda3/lib/python3.8/site-packages/sklearn/preprocessing/_encoders.py:170: UserWarning: Found unknown categories in columns [2, 4, 9, 10] during transform. These unknown categories will be encoded as all zeros\n",
      "  warnings.warn(\n",
      "/Applications/anaconda3/lib/python3.8/site-packages/sklearn/preprocessing/_encoders.py:170: UserWarning: Found unknown categories in columns [2, 4, 9, 10] during transform. These unknown categories will be encoded as all zeros\n",
      "  warnings.warn(\n"
     ]
    },
    {
     "name": "stdout",
     "output_type": "stream",
     "text": [
      "Train accuracy: 0.7416860015467904\n",
      "Test accuracy: 0.35730858468677495\n",
      "Test f1 score: 0.3540670887880754\n",
      "\n",
      "KNeighborsClassifier()\n",
      "Train accuracy: 0.5808197989172467\n",
      "Test accuracy: 0.3248259860788863\n",
      "Test f1 score: 0.3204454287269241\n",
      "\n",
      "RandomForestClassifier(n_estimators=200)\n"
     ]
    },
    {
     "name": "stderr",
     "output_type": "stream",
     "text": [
      "/Applications/anaconda3/lib/python3.8/site-packages/sklearn/preprocessing/_encoders.py:170: UserWarning: Found unknown categories in columns [2, 4, 9, 10] during transform. These unknown categories will be encoded as all zeros\n",
      "  warnings.warn(\n",
      "/Applications/anaconda3/lib/python3.8/site-packages/sklearn/preprocessing/_encoders.py:170: UserWarning: Found unknown categories in columns [2, 4, 9, 10] during transform. These unknown categories will be encoded as all zeros\n",
      "  warnings.warn(\n",
      "/Applications/anaconda3/lib/python3.8/site-packages/sklearn/preprocessing/_encoders.py:170: UserWarning: Found unknown categories in columns [2, 4, 9, 10] during transform. These unknown categories will be encoded as all zeros\n",
      "  warnings.warn(\n"
     ]
    },
    {
     "name": "stdout",
     "output_type": "stream",
     "text": [
      "Train accuracy: 0.9203402938901779\n",
      "Test accuracy: 0.3851508120649652\n",
      "Test f1 score: 0.3763515743228728\n",
      "\n",
      "AdaBoostClassifier(base_estimator=LogisticRegression())\n"
     ]
    },
    {
     "name": "stderr",
     "output_type": "stream",
     "text": [
      "/Applications/anaconda3/lib/python3.8/site-packages/sklearn/preprocessing/_encoders.py:170: UserWarning: Found unknown categories in columns [2, 4, 9, 10] during transform. These unknown categories will be encoded as all zeros\n",
      "  warnings.warn(\n",
      "/Applications/anaconda3/lib/python3.8/site-packages/sklearn/preprocessing/_encoders.py:170: UserWarning: Found unknown categories in columns [2, 4, 9, 10] during transform. These unknown categories will be encoded as all zeros\n",
      "  warnings.warn(\n"
     ]
    },
    {
     "name": "stdout",
     "output_type": "stream",
     "text": [
      "Train accuracy: 0.522815158546017\n",
      "Test accuracy: 0.37354988399071926\n",
      "Test f1 score: 0.37374159525051787\n",
      "\n",
      "ExtraTreesClassifier(n_estimators=200)\n"
     ]
    },
    {
     "name": "stderr",
     "output_type": "stream",
     "text": [
      "/Applications/anaconda3/lib/python3.8/site-packages/sklearn/preprocessing/_encoders.py:170: UserWarning: Found unknown categories in columns [2, 4, 9, 10] during transform. These unknown categories will be encoded as all zeros\n",
      "  warnings.warn(\n",
      "/Applications/anaconda3/lib/python3.8/site-packages/sklearn/preprocessing/_encoders.py:170: UserWarning: Found unknown categories in columns [2, 4, 9, 10] during transform. These unknown categories will be encoded as all zeros\n",
      "  warnings.warn(\n"
     ]
    },
    {
     "name": "stdout",
     "output_type": "stream",
     "text": [
      "Train accuracy: 0.9203402938901779\n",
      "Test accuracy: 0.3805104408352668\n",
      "Test f1 score: 0.37382486639430407\n",
      "\n",
      "Best test accuracy: 0.3851508120649652\n",
      "Best model: Pipeline(steps=[('ct',\n",
      "                 ColumnTransformer(remainder='passthrough',\n",
      "                                   transformers=[('ohe',\n",
      "                                                  OneHotEncoder(drop='first',\n",
      "                                                                handle_unknown='ignore',\n",
      "                                                                sparse=False),\n",
      "                                                  ['country_of_origin',\n",
      "                                                   'warranty', 'band_color',\n",
      "                                                   'band_material',\n",
      "                                                   'case_material',\n",
      "                                                   'dial_color', 'case_size',\n",
      "                                                   'gender', 'color',\n",
      "                                                   'retail_price', 'collection',\n",
      "                                                   'clasp_type',\n",
      "                                                   'water_resistance',\n",
      "                                                   'movement_type'])],\n",
      "                                   verbose_feature_names_out=False)),\n",
      "                ('ss', StandardScaler()),\n",
      "                ('rf', RandomForestClassifier(n_estimators=200))])\n"
     ]
    },
    {
     "data": {
      "image/png": "[encoded data removed]",
      "text/plain": [
       "<Figure size 432x288 with 2 Axes>"
      ]
     },
     "metadata": {
      "needs_background": "light"
     },
     "output_type": "display_data"
    },
    {
     "data": {
      "image/png": "[encoded data removed]",
      "text/plain": [
       "<Figure size 432x288 with 2 Axes>"
      ]
     },
     "metadata": {
      "needs_background": "light"
     },
     "output_type": "display_data"
    },
    {
     "data": {
      "image/png": "[encoded data removed]",
      "text/plain": [
       "<Figure size 432x288 with 2 Axes>"
      ]
     },
     "metadata": {
      "needs_background": "light"
     },
     "output_type": "display_data"
    },
    {
     "data": {
      "image/png": "[encoded data removed]",
      "text/plain": [
       "<Figure size 432x288 with 2 Axes>"
      ]
     },
     "metadata": {
      "needs_background": "light"
     },
     "output_type": "display_data"
    },
    {
     "data": {
      "image/png": "[encoded data removed]",
      "text/plain": [
       "<Figure size 432x288 with 2 Axes>"
      ]
     },
     "metadata": {
      "needs_background": "light"
     },
     "output_type": "display_data"
    }
   ],
   "source": [
    "# Instantiate various model types to feed into a function that creates and evaluates various the models\n",
    "# This will be used to quickly narrow down models that will be further tuned for a final production model\n",
    "models = [('lr',LogisticRegression(max_iter=1_000)),('knn',KNeighborsClassifier()),\n",
    "          ('rf', RandomForestClassifier(n_estimators=200)), ('ab', AdaBoostClassifier(base_estimator=LogisticRegression())),\n",
    "          ('et', ExtraTreesClassifier(n_estimators=200))]\n",
    "\n",
    "best_accuracy = baseline_accuracy\n",
    "best_model = 'baseline'\n",
    "df_preds = pd.DataFrame(y_test.values, columns=['y_test'])\n",
    "\n",
    "for model in models:\n",
    "    pipe, preds, test_accuracy = create_evaluate_model_class(model, X_train, X_test, y_train, y_test)\n",
    "    df_preds[f'preds_{model[0]}'] = preds\n",
    "    if test_accuracy > best_accuracy:\n",
    "        best_accuracy = test_accuracy\n",
    "        best_model = pipe\n",
    "        \n",
    "print('Best test accuracy:', best_accuracy)\n",
    "print('Best model:', best_model)"
   ]
  },
  {
   "cell_type": "markdown",
   "id": "12c92434-e6a7-4b52-b83b-f7ab529abaab",
   "metadata": {},
   "source": [
    "## Developing a Production model"
   ]
  },
  {
   "cell_type": "markdown",
   "id": "5285471b-6482-442f-8407-58cad44e109e",
   "metadata": {},
   "source": [
    "Based on the results and f1 scores of the exploration, I will narrow down selection of a few models and try a voting classifier to try to improve the accuracy and f1 score, and increase bias."
   ]
  },
  {
   "cell_type": "markdown",
   "id": "8658c425-415e-44e3-8516-5f41d2eafa3a",
   "metadata": {
    "tags": []
   },
   "source": [
    "#### Logistic Regression"
   ]
  },
  {
   "cell_type": "code",
   "execution_count": 11,
   "id": "24ace1b1-149e-42d5-a7dc-0792d9ef66ba",
   "metadata": {},
   "outputs": [
    {
     "name": "stdout",
     "output_type": "stream",
     "text": [
      "LogisticRegressionCV(max_iter=1000, n_jobs=-1, random_state=42)\n"
     ]
    },
    {
     "name": "stderr",
     "output_type": "stream",
     "text": [
      "/Applications/anaconda3/lib/python3.8/site-packages/sklearn/preprocessing/_encoders.py:170: UserWarning: Found unknown categories in columns [2, 4, 9, 10] during transform. These unknown categories will be encoded as all zeros\n",
      "  warnings.warn(\n",
      "/Applications/anaconda3/lib/python3.8/site-packages/sklearn/preprocessing/_encoders.py:170: UserWarning: Found unknown categories in columns [2, 4, 9, 10] during transform. These unknown categories will be encoded as all zeros\n",
      "  warnings.warn(\n"
     ]
    },
    {
     "name": "stdout",
     "output_type": "stream",
     "text": [
      "Train accuracy: 0.6403712296983759\n",
      "Test accuracy: 0.38979118329466356\n",
      "Test f1 score: 0.37765502887786456\n",
      "\n"
     ]
    },
    {
     "data": {
      "image/png": "[encoded data removed]",
      "text/plain": [
       "<Figure size 432x288 with 2 Axes>"
      ]
     },
     "metadata": {
      "needs_background": "light"
     },
     "output_type": "display_data"
    }
   ],
   "source": [
    "# Trying Logistic Regression CV with l2 regularization\n",
    "pipe_l2, preds_l2, test_accuracy_l2 = create_evaluate_model_class(('lr_l2',LogisticRegressionCV(max_iter=1000,n_jobs = -1, random_state=42)), X_train, X_test, y_train, y_test);"
   ]
  },
  {
   "cell_type": "code",
   "execution_count": 12,
   "id": "e792a5bb-cdab-4848-8a9c-87d4bb1105dd",
   "metadata": {},
   "outputs": [
    {
     "name": "stdout",
     "output_type": "stream",
     "text": [
      "LogisticRegressionCV(n_jobs=-1, penalty='l1', random_state=42, solver='saga',\n",
      "                     tol=0.1)\n"
     ]
    },
    {
     "name": "stderr",
     "output_type": "stream",
     "text": [
      "/Applications/anaconda3/lib/python3.8/site-packages/sklearn/preprocessing/_encoders.py:170: UserWarning: Found unknown categories in columns [2, 4, 9, 10] during transform. These unknown categories will be encoded as all zeros\n",
      "  warnings.warn(\n",
      "/Applications/anaconda3/lib/python3.8/site-packages/sklearn/preprocessing/_encoders.py:170: UserWarning: Found unknown categories in columns [2, 4, 9, 10] during transform. These unknown categories will be encoded as all zeros\n",
      "  warnings.warn(\n"
     ]
    },
    {
     "name": "stdout",
     "output_type": "stream",
     "text": [
      "Train accuracy: 0.6395978344934261\n",
      "Test accuracy: 0.37819025522041766\n",
      "Test f1 score: 0.37070452717951574\n",
      "\n"
     ]
    },
    {
     "data": {
      "image/png": "[encoded data removed]",
      "text/plain": [
       "<Figure size 432x288 with 2 Axes>"
      ]
     },
     "metadata": {
      "needs_background": "light"
     },
     "output_type": "display_data"
    }
   ],
   "source": [
    "# Trying Logistic Regression CV with l1 regularization\n",
    "pipe_l1, preds_l1, test_accuracy_l1 = create_evaluate_model_class(('lr_l1',LogisticRegressionCV(tol = 0.1, penalty='l1',solver='saga',n_jobs = -1,refit=True, random_state=42)), X_train, X_test, y_train, y_test);"
   ]
  },
  {
   "cell_type": "markdown",
   "id": "5f998143-1634-41cb-ae3b-08170c15906b",
   "metadata": {},
   "source": [
    "##### Compare the individual scores across each C for L1 and L2"
   ]
  },
  {
   "cell_type": "code",
   "execution_count": 13,
   "id": "459df57d-09ca-4c1e-8f21-042571a2e204",
   "metadata": {},
   "outputs": [
    {
     "data": {
      "text/plain": [
       "{0.0001: 0.2993026248840202,\n",
       " 0.000774263682681127: 0.37819879680344803,\n",
       " 0.005994842503189409: 0.4114543114543114,\n",
       " 0.046415888336127774: 0.3944389572296549,\n",
       " 0.3593813663804626: 0.38281703630540836,\n",
       " 2.782559402207126: 0.37431085570620454,\n",
       " 21.54434690031882: 0.3681542007123403,\n",
       " 166.81005372000558: 0.3573284247702852,\n",
       " 1291.5496650148827: 0.3596659782706294,\n",
       " 10000.0: 0.3596569991918829}"
      ]
     },
     "execution_count": 13,
     "metadata": {},
     "output_type": "execute_result"
    }
   ],
   "source": [
    "get_Cs_scores(pipe_l2, 'lr_l2')"
   ]
  },
  {
   "cell_type": "code",
   "execution_count": 14,
   "id": "3f81bbed-9073-4642-ab59-be44b0ae309f",
   "metadata": {},
   "outputs": [
    {
     "data": {
      "text/plain": [
       "{0.0001: 0.2993026248840202,\n",
       " 0.000774263682681127: 0.2993026248840202,\n",
       " 0.005994842503189409: 0.2993026248840202,\n",
       " 0.046415888336127774: 0.3890036215617611,\n",
       " 0.3593813663804626: 0.4091257370327138,\n",
       " 2.782559402207126: 0.40294513782885877,\n",
       " 21.54434690031882: 0.4037143455748106,\n",
       " 166.81005372000558: 0.4037143455748106,\n",
       " 1291.5496650148827: 0.40990990990990983,\n",
       " 10000.0: 0.4145491005956122}"
      ]
     },
     "execution_count": 14,
     "metadata": {},
     "output_type": "execute_result"
    }
   ],
   "source": [
    "get_Cs_scores(pipe_l1, 'lr_l1')"
   ]
  },
  {
   "cell_type": "markdown",
   "id": "ea12b6c9-2f84-4214-8a45-437b142ee331",
   "metadata": {},
   "source": [
    "Between L1 and L2, L2 had the strongest score at 0.006, but it is not as stable as the highest score with L1 over 0.35. I will continue to explore L1 over a more narrow range:"
   ]
  },
  {
   "cell_type": "code",
   "execution_count": 15,
   "id": "e4137a92-9652-4a4d-a35f-f83f6909c48d",
   "metadata": {},
   "outputs": [
    {
     "name": "stdout",
     "output_type": "stream",
     "text": [
      "LogisticRegressionCV(Cs=[0.05, 0.1, 0.25, 0.35, 0.45, 0.75, 1, 2, 3, 4, 5],\n",
      "                     n_jobs=-1, penalty='l1', random_state=42, solver='saga',\n",
      "                     tol=0.1)\n"
     ]
    },
    {
     "name": "stderr",
     "output_type": "stream",
     "text": [
      "/Applications/anaconda3/lib/python3.8/site-packages/sklearn/preprocessing/_encoders.py:170: UserWarning: Found unknown categories in columns [2, 4, 9, 10] during transform. These unknown categories will be encoded as all zeros\n",
      "  warnings.warn(\n",
      "/Applications/anaconda3/lib/python3.8/site-packages/sklearn/preprocessing/_encoders.py:170: UserWarning: Found unknown categories in columns [2, 4, 9, 10] during transform. These unknown categories will be encoded as all zeros\n",
      "  warnings.warn(\n"
     ]
    },
    {
     "name": "stdout",
     "output_type": "stream",
     "text": [
      "Train accuracy: 0.6388244392884764\n",
      "Test accuracy: 0.3805104408352668\n",
      "Test f1 score: 0.37285789043853185\n",
      "\n"
     ]
    },
    {
     "data": {
      "image/png": "[encoded data removed]",
      "text/plain": [
       "<Figure size 432x288 with 2 Axes>"
      ]
     },
     "metadata": {
      "needs_background": "light"
     },
     "output_type": "display_data"
    }
   ],
   "source": [
    "# Trying Logistic Regression CV with l1 regularization\n",
    "pipe_l1, preds_l1, test_accuracy_l1 = create_evaluate_model_class((\n",
    "    'lr_l1',LogisticRegressionCV(Cs=[0.05,0.1,0.25,0.35,0.45,0.75,1,2,3,4,5],\n",
    "                                 tol = 0.1, penalty='l1',solver='saga',\n",
    "                                 n_jobs = -1,refit=True, random_state=42)),\n",
    "    X_train, X_test, y_train, y_test);"
   ]
  },
  {
   "cell_type": "code",
   "execution_count": 16,
   "id": "8cd43e2e-65ef-4fea-a243-047c65ab2021",
   "metadata": {},
   "outputs": [
    {
     "data": {
      "text/plain": [
       "{0.05: 0.3936487982999611,\n",
       " 0.1: 0.3920984107030619,\n",
       " 0.25: 0.399063182784113,\n",
       " 0.35: 0.3975157882134627,\n",
       " 0.45: 0.3959803657478076,\n",
       " 0.75: 0.4029421448026099,\n",
       " 1.0: 0.404495525425758,\n",
       " 2.0: 0.4106791176558618,\n",
       " 3.0: 0.4106791176558618,\n",
       " 4.0: 0.4068061416898626,\n",
       " 5.0: 0.40835353626051296}"
      ]
     },
     "execution_count": 16,
     "metadata": {},
     "output_type": "execute_result"
    }
   ],
   "source": [
    "get_Cs_scores(pipe_l1, 'lr_l1')"
   ]
  },
  {
   "cell_type": "markdown",
   "id": "3818df80-0845-4b2b-8062-636df4ff36c1",
   "metadata": {},
   "source": [
    "Based on the new L1 scores, I will select a C of 4 (higher regularization, which could be helpful in increasing bias in the model)"
   ]
  },
  {
   "cell_type": "code",
   "execution_count": 17,
   "id": "241aa0f6-609c-400d-a62f-d6e980cb1729",
   "metadata": {},
   "outputs": [
    {
     "name": "stdout",
     "output_type": "stream",
     "text": [
      "LogisticRegression(C=4, n_jobs=-1, penalty='l1', random_state=42, solver='saga',\n",
      "                   tol=0.1)\n",
      "Train accuracy: 0.6133023975251354\n",
      "Test accuracy: 0.38979118329466356\n"
     ]
    },
    {
     "name": "stderr",
     "output_type": "stream",
     "text": [
      "/Applications/anaconda3/lib/python3.8/site-packages/sklearn/preprocessing/_encoders.py:170: UserWarning: Found unknown categories in columns [2, 4, 9, 10] during transform. These unknown categories will be encoded as all zeros\n",
      "  warnings.warn(\n",
      "/Applications/anaconda3/lib/python3.8/site-packages/sklearn/preprocessing/_encoders.py:170: UserWarning: Found unknown categories in columns [2, 4, 9, 10] during transform. These unknown categories will be encoded as all zeros\n",
      "  warnings.warn(\n"
     ]
    },
    {
     "name": "stdout",
     "output_type": "stream",
     "text": [
      "Test f1 score: 0.3798578050410647\n",
      "\n"
     ]
    },
    {
     "data": {
      "image/png": "[encoded data removed]",
      "text/plain": [
       "<Figure size 432x288 with 2 Axes>"
      ]
     },
     "metadata": {
      "needs_background": "light"
     },
     "output_type": "display_data"
    }
   ],
   "source": [
    "# Final L1 model\n",
    "model_lr = ('lr',LogisticRegression(tol = 0.1, C = 4, penalty='l1',solver='saga',n_jobs = -1,random_state=42))\n",
    "pipe_lr, preds_lr, test_accuracy_lr = create_evaluate_model_class(\n",
    "    model_lr,\n",
    "    X_train, X_test, y_train, y_test);"
   ]
  },
  {
   "cell_type": "code",
   "execution_count": 18,
   "id": "fd03afb0-0fd1-4c48-950c-17a50c389dc2",
   "metadata": {},
   "outputs": [
    {
     "data": {
      "text/html": [
       "<div>\n",
       "<style scoped>\n",
       "    .dataframe tbody tr th:only-of-type {\n",
       "        vertical-align: middle;\n",
       "    }\n",
       "\n",
       "    .dataframe tbody tr th {\n",
       "        vertical-align: top;\n",
       "    }\n",
       "\n",
       "    .dataframe thead th {\n",
       "        text-align: right;\n",
       "    }\n",
       "</style>\n",
       "<table border=\"1\" class=\"dataframe\">\n",
       "  <thead>\n",
       "    <tr style=\"text-align: right;\">\n",
       "      <th></th>\n",
       "      <th>coefs_class_0</th>\n",
       "      <th>coefs_class_1</th>\n",
       "      <th>coefs_class_2</th>\n",
       "      <th>coefs_class_3</th>\n",
       "      <th>coefs_class_4</th>\n",
       "      <th>coefs_class_5</th>\n",
       "    </tr>\n",
       "  </thead>\n",
       "  <tbody>\n",
       "    <tr>\n",
       "      <th>clasp_type_buckle</th>\n",
       "      <td>0.085584</td>\n",
       "      <td>0.088358</td>\n",
       "      <td>0.044767</td>\n",
       "      <td>-0.055416</td>\n",
       "      <td>-0.068674</td>\n",
       "      <td>-0.094572</td>\n",
       "    </tr>\n",
       "    <tr>\n",
       "      <th>water_resistance_3 atm</th>\n",
       "      <td>-0.011135</td>\n",
       "      <td>0.007410</td>\n",
       "      <td>0.004544</td>\n",
       "      <td>0.034691</td>\n",
       "      <td>0.024060</td>\n",
       "      <td>-0.060423</td>\n",
       "    </tr>\n",
       "    <tr>\n",
       "      <th>band_material_leather</th>\n",
       "      <td>0.034484</td>\n",
       "      <td>0.050589</td>\n",
       "      <td>0.050825</td>\n",
       "      <td>-0.042184</td>\n",
       "      <td>-0.040507</td>\n",
       "      <td>-0.053183</td>\n",
       "    </tr>\n",
       "    <tr>\n",
       "      <th>case_size_28.0</th>\n",
       "      <td>-0.018907</td>\n",
       "      <td>-0.000434</td>\n",
       "      <td>0.025627</td>\n",
       "      <td>0.019955</td>\n",
       "      <td>0.023080</td>\n",
       "      <td>-0.049328</td>\n",
       "    </tr>\n",
       "    <tr>\n",
       "      <th>case_size_32.0</th>\n",
       "      <td>0.007194</td>\n",
       "      <td>0.036317</td>\n",
       "      <td>-0.023048</td>\n",
       "      <td>0.043757</td>\n",
       "      <td>-0.017594</td>\n",
       "      <td>-0.046522</td>\n",
       "    </tr>\n",
       "    <tr>\n",
       "      <th>...</th>\n",
       "      <td>...</td>\n",
       "      <td>...</td>\n",
       "      <td>...</td>\n",
       "      <td>...</td>\n",
       "      <td>...</td>\n",
       "      <td>...</td>\n",
       "    </tr>\n",
       "    <tr>\n",
       "      <th>dial_color_gold</th>\n",
       "      <td>-0.018045</td>\n",
       "      <td>0.009034</td>\n",
       "      <td>-0.026300</td>\n",
       "      <td>-0.017005</td>\n",
       "      <td>-0.032189</td>\n",
       "      <td>0.085504</td>\n",
       "    </tr>\n",
       "    <tr>\n",
       "      <th>collection_stellasport</th>\n",
       "      <td>-0.012017</td>\n",
       "      <td>-0.007244</td>\n",
       "      <td>-0.020643</td>\n",
       "      <td>-0.036766</td>\n",
       "      <td>-0.010983</td>\n",
       "      <td>0.089809</td>\n",
       "    </tr>\n",
       "    <tr>\n",
       "      <th>band_material_stainless steel</th>\n",
       "      <td>-0.028816</td>\n",
       "      <td>-0.078224</td>\n",
       "      <td>-0.091852</td>\n",
       "      <td>0.057925</td>\n",
       "      <td>0.048973</td>\n",
       "      <td>0.092012</td>\n",
       "    </tr>\n",
       "    <tr>\n",
       "      <th>case_size_50.0</th>\n",
       "      <td>-0.029367</td>\n",
       "      <td>-0.015386</td>\n",
       "      <td>-0.034848</td>\n",
       "      <td>-0.004099</td>\n",
       "      <td>-0.013228</td>\n",
       "      <td>0.098873</td>\n",
       "    </tr>\n",
       "    <tr>\n",
       "      <th>clasp_type_no clasp type reported</th>\n",
       "      <td>-0.101222</td>\n",
       "      <td>-0.030817</td>\n",
       "      <td>0.004408</td>\n",
       "      <td>-0.011713</td>\n",
       "      <td>0.028150</td>\n",
       "      <td>0.110683</td>\n",
       "    </tr>\n",
       "  </tbody>\n",
       "</table>\n",
       "<p>368 rows × 6 columns</p>\n",
       "</div>"
      ],
      "text/plain": [
       "                                   coefs_class_0  coefs_class_1  \\\n",
       "clasp_type_buckle                       0.085584       0.088358   \n",
       "water_resistance_3 atm                 -0.011135       0.007410   \n",
       "band_material_leather                   0.034484       0.050589   \n",
       "case_size_28.0                         -0.018907      -0.000434   \n",
       "case_size_32.0                          0.007194       0.036317   \n",
       "...                                          ...            ...   \n",
       "dial_color_gold                        -0.018045       0.009034   \n",
       "collection_stellasport                 -0.012017      -0.007244   \n",
       "band_material_stainless steel          -0.028816      -0.078224   \n",
       "case_size_50.0                         -0.029367      -0.015386   \n",
       "clasp_type_no clasp type reported      -0.101222      -0.030817   \n",
       "\n",
       "                                   coefs_class_2  coefs_class_3  \\\n",
       "clasp_type_buckle                       0.044767      -0.055416   \n",
       "water_resistance_3 atm                  0.004544       0.034691   \n",
       "band_material_leather                   0.050825      -0.042184   \n",
       "case_size_28.0                          0.025627       0.019955   \n",
       "case_size_32.0                         -0.023048       0.043757   \n",
       "...                                          ...            ...   \n",
       "dial_color_gold                        -0.026300      -0.017005   \n",
       "collection_stellasport                 -0.020643      -0.036766   \n",
       "band_material_stainless steel          -0.091852       0.057925   \n",
       "case_size_50.0                         -0.034848      -0.004099   \n",
       "clasp_type_no clasp type reported       0.004408      -0.011713   \n",
       "\n",
       "                                   coefs_class_4  coefs_class_5  \n",
       "clasp_type_buckle                      -0.068674      -0.094572  \n",
       "water_resistance_3 atm                  0.024060      -0.060423  \n",
       "band_material_leather                  -0.040507      -0.053183  \n",
       "case_size_28.0                          0.023080      -0.049328  \n",
       "case_size_32.0                         -0.017594      -0.046522  \n",
       "...                                          ...            ...  \n",
       "dial_color_gold                        -0.032189       0.085504  \n",
       "collection_stellasport                 -0.010983       0.089809  \n",
       "band_material_stainless steel           0.048973       0.092012  \n",
       "case_size_50.0                         -0.013228       0.098873  \n",
       "clasp_type_no clasp type reported       0.028150       0.110683  \n",
       "\n",
       "[368 rows x 6 columns]"
      ]
     },
     "execution_count": 18,
     "metadata": {},
     "output_type": "execute_result"
    }
   ],
   "source": [
    "df_coefs_lr = get_coefs(pipe_lr, 'lr')\n",
    "df_coefs_lr.sort_values(by='coefs_class_5')"
   ]
  },
  {
   "cell_type": "markdown",
   "id": "ae466852-4e2c-4960-b33f-2de0aa2aa51c",
   "metadata": {},
   "source": [
    "#### Extra Trees Classifier\n",
    "\n",
    "Between Random Forest and Extra Trees, I will choose to explore extra trees further because they had similar performance, and Extra Trees adds some randomization since it chooses the split point randomly (and because it is faster)."
   ]
  },
  {
   "cell_type": "code",
   "execution_count": 19,
   "id": "a2149a46-d931-4ccc-b2d5-372e6c5bb09c",
   "metadata": {
    "tags": []
   },
   "outputs": [],
   "source": [
    "# # Conducting a grid search on extra trees\n",
    "# param_grid = {'et__max_features':['auto', 'sqrt','log2'],\n",
    "#               'et__criterion':['gini', 'entropy'],\n",
    "#               'et__class_weight': [None,\"balanced\",\"balanced_subsample\"]}\n",
    "              \n",
    "# # Create a column transformer to one hot encode categorical variables\n",
    "# categorical_attributes = []\n",
    "# for attribute in X_train.columns:\n",
    "#     try:\n",
    "#         int(attribute)\n",
    "#     except:\n",
    "#         categorical_attributes.append(attribute)\n",
    "\n",
    "# ct = ColumnTransformer([('ohe',OneHotEncoder(drop='first',sparse=False,handle_unknown='ignore'),\n",
    "#                      categorical_attributes)],\n",
    "#                   remainder='passthrough',\n",
    "#                   verbose_feature_names_out=False)\n",
    "\n",
    "# # Create a pipeline to transform, scale, and model\n",
    "# pipe_et = Pipeline([\n",
    "#     ('ct',ct),\n",
    "#     ('ss',StandardScaler()),\n",
    "#     ('et',ExtraTreesClassifier(n_jobs = -1,random_state=42,warm_start=True,max_depth=15))\n",
    "# ])\n",
    "    \n",
    "# pipe_gs_et = GridSearchCV(pipe_et, param_grid = param_grid,error_score='raise')\n",
    "\n",
    "# # Fit model with training data\n",
    "# pipe_gs_et.fit(X_train,y_train)\n",
    "\n",
    "# # Print traw and test score\n",
    "# test_accuracy = pipe_gs_et.score(X_test,y_test)\n",
    "# print('Train accuracy:', pipe_gs_et.score(X_train,y_train))\n",
    "# print('Test accuracy:', test_accuracy)\n",
    "\n",
    "# # Create predictions with test data\n",
    "# preds = pipe_gs_et.predict(X_test)\n",
    "\n",
    "# # Evaluate predictions\n",
    "# print('Test f1 score:', f1_score(y_test, preds, average='weighted'))\n",
    "\n",
    "# # Generate confusion matrix\n",
    "# ConfusionMatrixDisplay.from_predictions(y_test,preds)\n",
    "# plt.title(model[0])"
   ]
  },
  {
   "cell_type": "code",
   "execution_count": 20,
   "id": "217c9d6d-1f52-434a-bb79-01d7214e69a5",
   "metadata": {},
   "outputs": [],
   "source": [
    "# pipe_gs_et.best_estimator_ \n",
    "# Pipeline(steps=[('ct',\n",
    "#                  ColumnTransformer(remainder='passthrough',\n",
    "#                                    transformers=[('ohe',\n",
    "#                                                   OneHotEncoder(drop='first',\n",
    "#                                                                 handle_unknown='ignore',\n",
    "#                                                                 sparse=False),\n",
    "#                                                   ['country_of_origin',\n",
    "#                                                    'warranty', 'band_color',\n",
    "#                                                    'band_material',\n",
    "#                                                    'case_material',\n",
    "#                                                    'dial_color', 'case_size',\n",
    "#                                                    'color', 'retail_price',\n",
    "#                                                    'collection', 'clasp_type',\n",
    "#                                                    'water_resistance',\n",
    "#                                                    'movement_type'])],\n",
    "#                                    verbose_feature_names_out=False)),\n",
    "#                 ('ss', StandardScaler()),\n",
    "#                 ('et',\n",
    "#                  ExtraTreesClassifier(criterion='entropy', max_depth=15,\n",
    "#                                       n_jobs=-1, random_state=42,\n",
    "#                                       warm_start=True))])"
   ]
  },
  {
   "cell_type": "code",
   "execution_count": 21,
   "id": "881782cd-901d-4734-aa5c-8749fba4bffc",
   "metadata": {},
   "outputs": [
    {
     "name": "stdout",
     "output_type": "stream",
     "text": [
      "ExtraTreesClassifier(criterion='entropy', max_depth=15, n_estimators=500,\n",
      "                     n_jobs=-1, random_state=42)\n"
     ]
    },
    {
     "name": "stderr",
     "output_type": "stream",
     "text": [
      "/Applications/anaconda3/lib/python3.8/site-packages/sklearn/preprocessing/_encoders.py:170: UserWarning: Found unknown categories in columns [2, 4, 9, 10] during transform. These unknown categories will be encoded as all zeros\n",
      "  warnings.warn(\n"
     ]
    },
    {
     "name": "stdout",
     "output_type": "stream",
     "text": [
      "Train accuracy: 0.8762567672080434\n",
      "Test accuracy: 0.4037122969837587\n",
      "Test f1 score: 0.3834403323028712\n"
     ]
    },
    {
     "name": "stderr",
     "output_type": "stream",
     "text": [
      "/Applications/anaconda3/lib/python3.8/site-packages/sklearn/preprocessing/_encoders.py:170: UserWarning: Found unknown categories in columns [2, 4, 9, 10] during transform. These unknown categories will be encoded as all zeros\n",
      "  warnings.warn(\n"
     ]
    },
    {
     "name": "stdout",
     "output_type": "stream",
     "text": [
      "\n"
     ]
    },
    {
     "data": {
      "image/png": "[encoded data removed]",
      "text/plain": [
       "<Figure size 432x288 with 2 Axes>"
      ]
     },
     "metadata": {
      "needs_background": "light"
     },
     "output_type": "display_data"
    }
   ],
   "source": [
    "# Final extra trees classifier model\n",
    "model_et = ('et',ExtraTreesClassifier(criterion='entropy', max_depth=15,\n",
    "                                      n_estimators=500, n_jobs=-1,\n",
    "                                      random_state=42))\n",
    "pipe_et, preds_et, test_accuracy_et = create_evaluate_model_class(model_et\n",
    "                 , X_train, X_test, y_train, y_test);"
   ]
  },
  {
   "cell_type": "markdown",
   "id": "06e20ac7-4a0d-4f07-b573-c6b79852a257",
   "metadata": {},
   "source": [
    "#### Testing a voting classifier with logistic regression"
   ]
  },
  {
   "cell_type": "code",
   "execution_count": 22,
   "id": "02e9c8d4-2a90-4dea-9bb6-33c9bbfe70bc",
   "metadata": {},
   "outputs": [
    {
     "name": "stdout",
     "output_type": "stream",
     "text": [
      "VotingClassifier(estimators=[('et',\n",
      "                              ExtraTreesClassifier(criterion='entropy',\n",
      "                                                   max_depth=15,\n",
      "                                                   n_estimators=500, n_jobs=-1,\n",
      "                                                   random_state=42)),\n",
      "                             ('lr',\n",
      "                              LogisticRegression(C=4, n_jobs=-1, penalty='l1',\n",
      "                                                 random_state=42, solver='saga',\n",
      "                                                 tol=0.1))],\n",
      "                 n_jobs=-1, voting='soft', weights=[6, 1])\n"
     ]
    },
    {
     "name": "stderr",
     "output_type": "stream",
     "text": [
      "/Applications/anaconda3/lib/python3.8/site-packages/sklearn/preprocessing/_encoders.py:170: UserWarning: Found unknown categories in columns [2, 4, 9, 10] during transform. These unknown categories will be encoded as all zeros\n",
      "  warnings.warn(\n"
     ]
    },
    {
     "name": "stdout",
     "output_type": "stream",
     "text": [
      "Train accuracy: 0.8754833720030936\n",
      "Test accuracy: 0.4060324825986079\n"
     ]
    },
    {
     "name": "stderr",
     "output_type": "stream",
     "text": [
      "/Applications/anaconda3/lib/python3.8/site-packages/sklearn/preprocessing/_encoders.py:170: UserWarning: Found unknown categories in columns [2, 4, 9, 10] during transform. These unknown categories will be encoded as all zeros\n",
      "  warnings.warn(\n"
     ]
    },
    {
     "name": "stdout",
     "output_type": "stream",
     "text": [
      "Test f1 score: 0.3869863614595649\n",
      "\n"
     ]
    },
    {
     "data": {
      "image/png": "[encoded data removed]",
      "text/plain": [
       "<Figure size 432x288 with 2 Axes>"
      ]
     },
     "metadata": {
      "needs_background": "light"
     },
     "output_type": "display_data"
    }
   ],
   "source": [
    "# Experimenting with a voting classifier for the models\n",
    "model_vc = ('vc',VotingClassifier([model_et, model_lr],\n",
    "    n_jobs=-1,\n",
    "    voting = 'soft',\n",
    "    weights = [6,1]\n",
    "))\n",
    "\n",
    "# Fit and evaluate model\n",
    "pipe_vc, preds_vc, test_accuracy_vc = create_evaluate_model_class(\n",
    "    model_vc,\n",
    "    X_train, X_test, y_train, y_test);"
   ]
  },
  {
   "cell_type": "markdown",
   "id": "49dd1a25-cd58-473e-9db3-4e51e62a00c9",
   "metadata": {},
   "source": [
    "Tried:\n",
    "- ('et',ExtraTreesClassifier(criterion='entropy', max_depth=15, n_estimators=200, n_jobs=-1, random_state=42))\n",
    "Train accuracy: 0.7996906419180201\n",
    "Test accuracy: 0.3874709976798144\n",
    "Test f1 score: 0.3669389760023724\n",
    "- ('et',ExtraTreesClassifier(n_jobs=-1, random_state=42)):\n",
    "Train accuracy: 0.9203402938901779\n",
    "Test accuracy: 0.3874709976798144\n",
    "Test f1 score: 0.38068259110237207\n",
    "- ('rf',RandomForestClassifier(n_jobs=-1, random_state=42))\n",
    "Train accuracy: 0.9164733178654292\n",
    "Test accuracy: 0.3851508120649652\n",
    "Test f1 score: 0.37706929392554334\n",
    "\n",
    "Narrowed down on and tried various weights\n",
    "- ('et',ExtraTreesClassifier(criterion='entropy', max_depth=15,n_estimators=500, n_jobs=-1, random_state=42))\n",
    "- Weights - optimal location was [6,1]"
   ]
  },
  {
   "cell_type": "markdown",
   "id": "4dff6d2c-f8dd-4aca-88b1-fb14fe320e7c",
   "metadata": {},
   "source": [
    "### Production model"
   ]
  },
  {
   "cell_type": "code",
   "execution_count": 23,
   "id": "aad6e379-0110-491c-a8bd-bf51175e92a7",
   "metadata": {},
   "outputs": [
    {
     "name": "stderr",
     "output_type": "stream",
     "text": [
      "/Applications/anaconda3/lib/python3.8/site-packages/sklearn/preprocessing/_encoders.py:170: UserWarning: Found unknown categories in columns [6, 10, 11] during transform. These unknown categories will be encoded as all zeros\n",
      "  warnings.warn(\n"
     ]
    }
   ],
   "source": [
    "# Create a column transformer to one hot encode categorical variables\n",
    "categorical_attributes = []\n",
    "for attribute in X_train.columns:\n",
    "    try:\n",
    "        int(attribute)\n",
    "    except:\n",
    "        categorical_attributes.append(attribute)\n",
    "\n",
    "# Setup pipeline for preprocessing and modeling\n",
    "ct = ColumnTransformer([('ohe',OneHotEncoder(drop='first',sparse=False,handle_unknown='ignore'),\n",
    "                         categorical_attributes)],\n",
    "                      remainder='passthrough',\n",
    "                      verbose_feature_names_out=False)\n",
    "pipe = Pipeline([\n",
    "    ('ct',ct),\n",
    "    ('ss',StandardScaler()),\n",
    "    model_vc\n",
    "])\n",
    "\n",
    "# Fit model with train set\n",
    "pipe.fit(X_train,y_train)\n",
    "\n",
    "# Generate predictions for new models\n",
    "preds = pipe.predict(test)"
   ]
  },
  {
   "cell_type": "code",
   "execution_count": 24,
   "id": "05054a2d-718b-41e3-817f-1c5f194738d8",
   "metadata": {},
   "outputs": [
    {
     "data": {
      "image/png": "[encoded data removed]",
      "text/plain": [
       "<Figure size 432x288 with 1 Axes>"
      ]
     },
     "metadata": {
      "needs_background": "light"
     },
     "output_type": "display_data"
    }
   ],
   "source": [
    "df_new_models.planned_order.hist()\n",
    "plt.title('Distribution of planned orders for new models')\n",
    "plt.xlabel('Planned order (est. quarterly sales)')\n",
    "plt.ylabel('Count');"
   ]
  },
  {
   "cell_type": "code",
   "execution_count": 25,
   "id": "3e9536a7-708a-4b39-baed-5b32a6fcf9e5",
   "metadata": {},
   "outputs": [
    {
     "data": {
      "image/png": "[encoded data removed]",
      "text/plain": [
       "<Figure size 432x288 with 1 Axes>"
      ]
     },
     "metadata": {
      "needs_background": "light"
     },
     "output_type": "display_data"
    }
   ],
   "source": [
    "plt.hist(preds, bins=6)\n",
    "plt.title('Distribution of predicted classes for new models')\n",
    "plt.xlabel('Model classifications')\n",
    "plt.ylabel('Count');"
   ]
  },
  {
   "cell_type": "markdown",
   "id": "9ef668e3-fdef-41f1-9322-a2d5ed615629",
   "metadata": {},
   "source": [
    "The distribution doesn't quite match up. The model is more likely to classify the new models in the 0 order bucket, and less likely to place large orders. This will be an optimization for a later time."
   ]
  },
  {
   "cell_type": "code",
   "execution_count": 26,
   "id": "29c2d7a7-801f-47de-b3d0-49949f3c1a27",
   "metadata": {},
   "outputs": [
    {
     "data": {
      "image/png": "[encoded data removed]",
      "text/plain": [
       "<Figure size 432x288 with 1 Axes>"
      ]
     },
     "metadata": {
      "needs_background": "light"
     },
     "output_type": "display_data"
    }
   ],
   "source": [
    "df_models.planned_order.hist()\n",
    "plt.title('Distribution of planned orders for all models')\n",
    "plt.xlabel('Planned orders (est. quarterly sales)')\n",
    "plt.ylabel('Count');"
   ]
  },
  {
   "cell_type": "code",
   "execution_count": 32,
   "id": "d9228789-20b6-4bfb-9f4f-33ba2f9beb49",
   "metadata": {},
   "outputs": [
    {
     "name": "stderr",
     "output_type": "stream",
     "text": [
      "/var/folders/0z/k5klxhhj5j9g8hc5ygn0nwsr0000gn/T/ipykernel_33730/449321751.py:3: SettingWithCopyWarning: \n",
      "A value is trying to be set on a copy of a slice from a DataFrame.\n",
      "Try using .loc[row_indexer,col_indexer] = value instead\n",
      "\n",
      "See the caveats in the documentation: https://pandas.pydata.org/pandas-docs/stable/user_guide/indexing.html#returning-a-view-versus-a-copy\n",
      "  new_model_predictions[f'monthly_classifications_Q{(time_now.month - 1 ) // 3 + 1 + 1}'] = preds\n"
     ]
    }
   ],
   "source": [
    "# Save new model predictions (monthly order) to csv\n",
    "new_model_predictions = df_new_models[['style_id']]\n",
    "new_model_predictions[f'monthly_classifications_Q{(time_now.month - 1 ) // 3 + 1 + 1}'] = preds\n",
    "\n",
    "new_model_predictions.to_csv('../data/predictions/new_models_classifications.csv',index=False)"
   ]
  },
  {
   "cell_type": "code",
   "execution_count": null,
   "id": "83919d90-a256-4c93-a898-82b312cd81d7",
   "metadata": {},
   "outputs": [],
   "source": []
  }
 ],
 "metadata": {
  "kernelspec": {
   "display_name": "Python 3 (ipykernel)",
   "language": "python",
   "name": "python3"
  },
  "language_info": {
   "codemirror_mode": {
    "name": "ipython",
    "version": 3
   },
   "file_extension": ".py",
   "mimetype": "text/x-python",
   "name": "python",
   "nbconvert_exporter": "python",
   "pygments_lexer": "ipython3",
   "version": "3.8.8"
  }
 },
 "nbformat": 4,
 "nbformat_minor": 5
}
