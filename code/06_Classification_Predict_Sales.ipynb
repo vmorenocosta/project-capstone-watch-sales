{
 "cells": [
  {
   "cell_type": "markdown",
   "id": "a0b720b9-7b38-4273-ba55-bbedb379f829",
   "metadata": {},
   "source": [
    "# Notebook 06: Classification - Predicting Sales for New Models\n",
    "\n",
    "This notebook develops a classification model and evaluates predictions for new model sales using attributes for watches in datasets cleaned in [Notebook 1: Data Cleaning](01_data_cleaning.ipynb)."
   ]
  },
  {
   "cell_type": "code",
   "execution_count": 15,
   "id": "a1e36d8b-0e3d-4d23-8324-29730fb0c382",
   "metadata": {},
   "outputs": [],
   "source": [
    "# Imports\n",
    "import pandas as pd\n",
    "import numpy as np\n",
    "import matplotlib.pyplot as plt\n",
    "import seaborn as sns\n",
    "\n",
    "from sklearn.model_selection import train_test_split, GridSearchCV\n",
    "from sklearn.pipeline import Pipeline\n",
    "from sklearn.linear_model import LogisticRegressionCV, LogisticRegression\n",
    "from sklearn.compose import make_column_transformer\n",
    "from sklearn.metrics import ConfusionMatrixDisplay, recall_score, accuracy_score, balanced_accuracy_score, f1_score\n",
    "from sklearn.tree import DecisionTreeClassifier\n",
    "from sklearn.neighbors import KNeighborsClassifier\n",
    "from sklearn.ensemble import RandomForestClassifier, ExtraTreesClassifier, VotingClassifier, AdaBoostClassifier\n",
    "from sklearn.naive_bayes import MultinomialNB\n",
    "from sklearn.impute import KNNImputer\n",
    "\n",
    "# custom function imports\n",
    "from custom_functions import *\n",
    "from regression_custom_functions import *"
   ]
  },
  {
   "cell_type": "code",
   "execution_count": 2,
   "id": "a27bf7e1-0049-46d4-9d20-a46bc78397be",
   "metadata": {},
   "outputs": [],
   "source": [
    "# Import data\n",
    "df_all_models = pd.read_csv('../data/cleaned_datasets/df_models.csv')\n",
    "\n",
    "time_now = datetime.datetime.now()\n",
    "df_models = df_all_models.dropna(subset=time_now.strftime(f\"%Y-%m\"))"
   ]
  },
  {
   "cell_type": "code",
   "execution_count": 3,
   "id": "c9c687c0-e4e9-4007-a9c7-4f3e7a8ea4ee",
   "metadata": {},
   "outputs": [
    {
     "data": {
      "image/png": "[encoded data removed]",
      "text/plain": [
       "<Figure size 432x288 with 1 Axes>"
      ]
     },
     "metadata": {
      "needs_background": "light"
     },
     "output_type": "display_data"
    }
   ],
   "source": [
    "# Calculate a target value - Normalized Yearly Sales\n",
    "df_models = calc_norm_yearly_sales(df_models, 4, 2019)"
   ]
  },
  {
   "cell_type": "code",
   "execution_count": 4,
   "id": "d5fe552f-6daa-49a8-832c-6e02a0780c88",
   "metadata": {},
   "outputs": [],
   "source": [
    "# Create new data frame with attributes from model to make predictions for new models in proposal\n",
    "df_new_models = df_all_models[df_all_models[time_now.strftime(f\"%Y-%m\")].isna()]"
   ]
  },
  {
   "cell_type": "markdown",
   "id": "10ede64e-5834-4342-bb52-981f08b1bc01",
   "metadata": {},
   "source": [
    "## Label models by normalized yearly sales"
   ]
  },
  {
   "cell_type": "code",
   "execution_count": 5,
   "id": "f734bf07-de8a-4b06-b4fc-43c2f56f3e20",
   "metadata": {
    "tags": []
   },
   "outputs": [
    {
     "data": {
      "image/png": "[encoded data removed]",
      "text/plain": [
       "<Figure size 432x288 with 1 Axes>"
      ]
     },
     "metadata": {
      "needs_background": "light"
     },
     "output_type": "display_data"
    }
   ],
   "source": [
    "# Define upper bounds for normalized yearly sales to classify data\n",
    "class_upper = {0:5,   # none\n",
    "                   1:15,  # poor\n",
    "                   2:30,  # fair\n",
    "                   3:60, # average\n",
    "                   4:90  # good\n",
    "                  }       # excellent\n",
    "\n",
    "\n",
    "# Use custom function and upper bounds to make classes\n",
    "df_models['class'] = make_classes(df_models.norm_yearly_sales, class_upper)"
   ]
  },
  {
   "cell_type": "code",
   "execution_count": 6,
   "id": "95a78f88-a184-4804-adc3-b46d9cc8d399",
   "metadata": {},
   "outputs": [
    {
     "data": {
      "image/png": "[encoded data removed]",
      "text/plain": [
       "<Figure size 432x288 with 1 Axes>"
      ]
     },
     "metadata": {
      "needs_background": "light"
     },
     "output_type": "display_data"
    }
   ],
   "source": [
    "# compare to planned order for new models to check if same distribution\n",
    "df_new_models.planned_order.hist()\n",
    "plt.title('Distribution of planned orders for new models');"
   ]
  },
  {
   "cell_type": "markdown",
   "id": "1a087ebc-bba5-4837-91a8-40f3e78d2dfd",
   "metadata": {},
   "source": [
    "## Baseline Model"
   ]
  },
  {
   "cell_type": "code",
   "execution_count": 7,
   "id": "a7668d1d-6de0-4b7f-8831-409af35d184d",
   "metadata": {},
   "outputs": [
    {
     "data": {
      "text/plain": [
       "0.0"
      ]
     },
     "execution_count": 7,
     "metadata": {},
     "output_type": "execute_result"
    }
   ],
   "source": [
    "attributes = ['max_cart_qty','country_of_origin','warranty', 'band_color', 'band_material',\n",
    "       'case_material', 'dial_color', 'case_size', 'gender', 'color',\n",
    "       'retail_price', 'collection', 'clasp_type', 'water_resistance',\n",
    "       'movement_type']\n",
    "\n",
    "X = df_models[attributes]\n",
    "\n",
    "# Check no null values in X\n",
    "df_models[df_models.isna()].sum().sum() #Should return 0"
   ]
  },
  {
   "cell_type": "code",
   "execution_count": 8,
   "id": "7aab7010-d559-4eeb-b74c-1198a07f06ec",
   "metadata": {},
   "outputs": [],
   "source": [
    "y = df_models['class']\n",
    "\n",
    "X_train, X_test, y_train, y_test = train_test_split(X, y, random_state=42)"
   ]
  },
  {
   "cell_type": "code",
   "execution_count": 9,
   "id": "84ee60f5-d203-4598-b982-a73fbbf4445b",
   "metadata": {},
   "outputs": [
    {
     "data": {
      "text/plain": [
       "2    126\n",
       "3    126\n",
       "1     53\n",
       "4     49\n",
       "0     40\n",
       "5     37\n",
       "Name: class, dtype: int64"
      ]
     },
     "execution_count": 9,
     "metadata": {},
     "output_type": "execute_result"
    }
   ],
   "source": [
    "test_counts = y_test.value_counts()\n",
    "test_counts"
   ]
  },
  {
   "cell_type": "markdown",
   "id": "9e9b8f0e-3c22-4ef5-8c69-22a8d043e853",
   "metadata": {},
   "source": [
    "While the classes are imbalanced, I do not think this will significantly impact the model so I will not implement any techniques to create a balanced dataset"
   ]
  },
  {
   "cell_type": "code",
   "execution_count": 10,
   "id": "e27d056a-3a87-4ee9-8340-7cee139925a9",
   "metadata": {},
   "outputs": [
    {
     "name": "stdout",
     "output_type": "stream",
     "text": [
      "Baseline accuracy is 9.3%.\n"
     ]
    }
   ],
   "source": [
    "baseline = test_counts[0]/sum(test_counts)\n",
    "\n",
    "print(f'Baseline accuracy is {round(baseline*100,1)}%.')"
   ]
  },
  {
   "cell_type": "markdown",
   "id": "7e00836f-bf5b-459b-a426-da23540c6026",
   "metadata": {},
   "source": [
    "## Exploring different models"
   ]
  },
  {
   "cell_type": "code",
   "execution_count": 11,
   "id": "a9a9ce01-b2fa-4417-a21c-bd35eced1c26",
   "metadata": {
    "tags": []
   },
   "outputs": [],
   "source": [
    "models = [('lr',LogisticRegressionCV(max_iter=10_000)),('knn',KNeighborsClassifier(n_neighbors=3)),\n",
    "          ('rf', RandomForestClassifier(n_estimators=500)), ('ab', AdaBoostClassifier(base_estimator=LogisticRegression(),algorithm='SAMME')),\n",
    "          ('et', ExtraTreesClassifier(n_estimators=200))]"
   ]
  },
  {
   "cell_type": "code",
   "execution_count": 12,
   "id": "8e114f06-37bc-4ff4-a48b-fd4a0b56f77d",
   "metadata": {
    "tags": []
   },
   "outputs": [],
   "source": [
    "best_accuracy = baseline\n",
    "df_preds = pd.DataFrame(y_test.values, columns=['y_test'])"
   ]
  },
  {
   "cell_type": "code",
   "execution_count": 13,
   "id": "a89f490f-246c-45d5-a39a-345727e129a5",
   "metadata": {
    "tags": []
   },
   "outputs": [
    {
     "name": "stdout",
     "output_type": "stream",
     "text": [
      "LogisticRegressionCV(max_iter=10000)\n",
      "Train accuracy: 0.6488785769528229\n",
      "Test accuracy: 0.39443155452436196\n",
      "\n",
      "KNeighborsClassifier(n_neighbors=3)\n"
     ]
    },
    {
     "name": "stderr",
     "output_type": "stream",
     "text": [
      "/Applications/anaconda3/lib/python3.8/site-packages/sklearn/preprocessing/_encoders.py:170: UserWarning: Found unknown categories in columns [3, 5, 10, 11] during transform. These unknown categories will be encoded as all zeros\n",
      "  warnings.warn(\n",
      "/Applications/anaconda3/lib/python3.8/site-packages/sklearn/preprocessing/_encoders.py:170: UserWarning: Found unknown categories in columns [3, 5, 10, 11] during transform. These unknown categories will be encoded as all zeros\n",
      "  warnings.warn(\n",
      "/Applications/anaconda3/lib/python3.8/site-packages/sklearn/preprocessing/_encoders.py:170: UserWarning: Found unknown categories in columns [3, 5, 10, 11] during transform. These unknown categories will be encoded as all zeros\n",
      "  warnings.warn(\n"
     ]
    },
    {
     "name": "stdout",
     "output_type": "stream",
     "text": [
      "Train accuracy: 0.6295436968290796\n",
      "Test accuracy: 0.3225058004640371\n",
      "\n",
      "RandomForestClassifier(n_estimators=500)\n"
     ]
    },
    {
     "name": "stderr",
     "output_type": "stream",
     "text": [
      "/Applications/anaconda3/lib/python3.8/site-packages/sklearn/preprocessing/_encoders.py:170: UserWarning: Found unknown categories in columns [3, 5, 10, 11] during transform. These unknown categories will be encoded as all zeros\n",
      "  warnings.warn(\n",
      "/Applications/anaconda3/lib/python3.8/site-packages/sklearn/preprocessing/_encoders.py:170: UserWarning: Found unknown categories in columns [3, 5, 10, 11] during transform. These unknown categories will be encoded as all zeros\n",
      "  warnings.warn(\n",
      "/Applications/anaconda3/lib/python3.8/site-packages/sklearn/preprocessing/_encoders.py:170: UserWarning: Found unknown categories in columns [3, 5, 10, 11] during transform. These unknown categories will be encoded as all zeros\n",
      "  warnings.warn(\n"
     ]
    },
    {
     "name": "stdout",
     "output_type": "stream",
     "text": [
      "Train accuracy: 0.9218870843000774\n",
      "Test accuracy: 0.39211136890951276\n"
     ]
    },
    {
     "name": "stderr",
     "output_type": "stream",
     "text": [
      "/Applications/anaconda3/lib/python3.8/site-packages/sklearn/preprocessing/_encoders.py:170: UserWarning: Found unknown categories in columns [3, 5, 10, 11] during transform. These unknown categories will be encoded as all zeros\n",
      "  warnings.warn(\n",
      "/Applications/anaconda3/lib/python3.8/site-packages/sklearn/preprocessing/_encoders.py:170: UserWarning: Found unknown categories in columns [3, 5, 10, 11] during transform. These unknown categories will be encoded as all zeros\n",
      "  warnings.warn(\n",
      "/Applications/anaconda3/lib/python3.8/site-packages/sklearn/preprocessing/_encoders.py:170: UserWarning: Found unknown categories in columns [3, 5, 10, 11] during transform. These unknown categories will be encoded as all zeros\n",
      "  warnings.warn(\n"
     ]
    },
    {
     "name": "stdout",
     "output_type": "stream",
     "text": [
      "\n",
      "AdaBoostClassifier(algorithm='SAMME', base_estimator=LogisticRegression())\n",
      "Train accuracy: 0.48569218870843\n",
      "Test accuracy: 0.3433874709976798\n",
      "\n",
      "ExtraTreesClassifier(n_estimators=200)\n"
     ]
    },
    {
     "name": "stderr",
     "output_type": "stream",
     "text": [
      "/Applications/anaconda3/lib/python3.8/site-packages/sklearn/preprocessing/_encoders.py:170: UserWarning: Found unknown categories in columns [3, 5, 10, 11] during transform. These unknown categories will be encoded as all zeros\n",
      "  warnings.warn(\n",
      "/Applications/anaconda3/lib/python3.8/site-packages/sklearn/preprocessing/_encoders.py:170: UserWarning: Found unknown categories in columns [3, 5, 10, 11] during transform. These unknown categories will be encoded as all zeros\n",
      "  warnings.warn(\n",
      "/Applications/anaconda3/lib/python3.8/site-packages/sklearn/preprocessing/_encoders.py:170: UserWarning: Found unknown categories in columns [3, 5, 10, 11] during transform. These unknown categories will be encoded as all zeros\n",
      "  warnings.warn(\n"
     ]
    },
    {
     "name": "stdout",
     "output_type": "stream",
     "text": [
      "Train accuracy: 0.9218870843000774\n",
      "Test accuracy: 0.3990719257540603\n",
      "\n",
      "Best test accuracy: 0.3990719257540603\n",
      "Best model: Pipeline(steps=[('ct',\n",
      "                 ColumnTransformer(remainder='passthrough',\n",
      "                                   transformers=[('ohe',\n",
      "                                                  OneHotEncoder(drop='first',\n",
      "                                                                handle_unknown='ignore',\n",
      "                                                                sparse=False),\n",
      "                                                  ['max_cart_qty',\n",
      "                                                   'country_of_origin',\n",
      "                                                   'warranty', 'band_color',\n",
      "                                                   'band_material',\n",
      "                                                   'case_material',\n",
      "                                                   'dial_color', 'case_size',\n",
      "                                                   'gender', 'color',\n",
      "                                                   'retail_price', 'collection',\n",
      "                                                   'clasp_type',\n",
      "                                                   'water_resistance',\n",
      "                                                   'movement_type'])],\n",
      "                                   verbose_feature_names_out=False)),\n",
      "                ('ss', StandardScaler()),\n",
      "                ('et', ExtraTreesClassifier(n_estimators=200))])\n"
     ]
    },
    {
     "name": "stderr",
     "output_type": "stream",
     "text": [
      "/Applications/anaconda3/lib/python3.8/site-packages/sklearn/preprocessing/_encoders.py:170: UserWarning: Found unknown categories in columns [3, 5, 10, 11] during transform. These unknown categories will be encoded as all zeros\n",
      "  warnings.warn(\n",
      "/Applications/anaconda3/lib/python3.8/site-packages/sklearn/preprocessing/_encoders.py:170: UserWarning: Found unknown categories in columns [3, 5, 10, 11] during transform. These unknown categories will be encoded as all zeros\n",
      "  warnings.warn(\n",
      "/Applications/anaconda3/lib/python3.8/site-packages/sklearn/preprocessing/_encoders.py:170: UserWarning: Found unknown categories in columns [3, 5, 10, 11] during transform. These unknown categories will be encoded as all zeros\n",
      "  warnings.warn(\n"
     ]
    },
    {
     "data": {
      "image/png": "[encoded data removed]",
      "text/plain": [
       "<Figure size 432x288 with 2 Axes>"
      ]
     },
     "metadata": {
      "needs_background": "light"
     },
     "output_type": "display_data"
    },
    {
     "data": {
      "image/png": "[encoded data removed]",
      "text/plain": [
       "<Figure size 432x288 with 2 Axes>"
      ]
     },
     "metadata": {
      "needs_background": "light"
     },
     "output_type": "display_data"
    },
    {
     "data": {
      "image/png": "[encoded data removed]",
      "text/plain": [
       "<Figure size 432x288 with 2 Axes>"
      ]
     },
     "metadata": {
      "needs_background": "light"
     },
     "output_type": "display_data"
    },
    {
     "data": {
      "image/png": "[encoded data removed]",
      "text/plain": [
       "<Figure size 432x288 with 2 Axes>"
      ]
     },
     "metadata": {
      "needs_background": "light"
     },
     "output_type": "display_data"
    },
    {
     "data": {
      "image/png": "[encoded data removed]",
      "text/plain": [
       "<Figure size 432x288 with 2 Axes>"
      ]
     },
     "metadata": {
      "needs_background": "light"
     },
     "output_type": "display_data"
    }
   ],
   "source": [
    "for model in models:\n",
    "    pipe, preds, test_accuracy = create_evaluate_model_class(model, X_train, X_test, y_train, y_test)\n",
    "    df_preds[f'preds_{model[0]}'] = preds\n",
    "    if test_accuracy > best_accuracy:\n",
    "        best_accuracy = test_accuracy\n",
    "        best_model = pipe\n",
    "        \n",
    "print('Best test accuracy:', best_accuracy)\n",
    "print('Best model:', best_model)"
   ]
  },
  {
   "cell_type": "markdown",
   "id": "12c92434-e6a7-4b52-b83b-f7ab529abaab",
   "metadata": {},
   "source": [
    "## Production model"
   ]
  },
  {
   "cell_type": "code",
   "execution_count": 16,
   "id": "fd32826d-ce21-4b1d-8ab0-0cb6db1860f9",
   "metadata": {},
   "outputs": [
    {
     "name": "stderr",
     "output_type": "stream",
     "text": [
      "/var/folders/0z/k5klxhhj5j9g8hc5ygn0nwsr0000gn/T/ipykernel_6962/2521488237.py:6: SettingWithCopyWarning: \n",
      "A value is trying to be set on a copy of a slice from a DataFrame.\n",
      "Try using .loc[row_indexer,col_indexer] = value instead\n",
      "\n",
      "See the caveats in the documentation: https://pandas.pydata.org/pandas-docs/stable/user_guide/indexing.html#returning-a-view-versus-a-copy\n",
      "  test['retail_price'] = knn_imp.fit_transform(test[['retail_price']])\n"
     ]
    }
   ],
   "source": [
    "# Create new data frame with attributes from model to make predictions for new models in proposal\n",
    "test = df_new_models[attributes]\n",
    "\n",
    "# Impute missing retail prices\n",
    "knn_imp = KNNImputer()\n",
    "test['retail_price'] = knn_imp.fit_transform(test[['retail_price']])"
   ]
  },
  {
   "cell_type": "code",
   "execution_count": 18,
   "id": "b25ba259-e4e3-46d3-8e11-3112a51ccca8",
   "metadata": {},
   "outputs": [],
   "source": [
    "model = ('lr',LogisticRegressionCV(max_iter=10000))\n",
    "\n",
    "# Create a column transformer to one hot encode categorical variables\n",
    "categorical_attributes = []\n",
    "for attribute in X_train.columns:\n",
    "    try:\n",
    "        int(attribute)\n",
    "    except:\n",
    "        categorical_attributes.append(attribute)\n",
    "\n",
    "ct = ColumnTransformer([('ohe',OneHotEncoder(drop='first',sparse=False,handle_unknown='ignore'),\n",
    "                     categorical_attributes)],\n",
    "                  remainder='passthrough',\n",
    "                  verbose_feature_names_out=False)\n",
    "\n",
    "# Create a pipeline to transform, scale, and model\n",
    "pipe = Pipeline([\n",
    "    ('ct',ct),\n",
    "    ('ss',StandardScaler()),\n",
    "    model\n",
    "])\n",
    "\n",
    "# Fit model with training data\n",
    "pipe.fit(X_train,y_train)"
   ]
  },
  {
   "cell_type": "code",
   "execution_count": 31,
   "id": "5efcf618-b27b-4755-aa36-ddf6aa7e6fa4",
   "metadata": {},
   "outputs": [
    {
     "name": "stderr",
     "output_type": "stream",
     "text": [
      "/Applications/anaconda3/lib/python3.8/site-packages/sklearn/preprocessing/_encoders.py:170: UserWarning: Found unknown categories in columns [0, 7, 11, 12] during transform. These unknown categories will be encoded as all zeros\n",
      "  warnings.warn(\n"
     ]
    }
   ],
   "source": [
    "# Create predictions with test data\n",
    "preds = pipe.predict(test)"
   ]
  },
  {
   "cell_type": "code",
   "execution_count": 34,
   "id": "befd8787-1bc4-4586-a30d-e13cea6efb3c",
   "metadata": {},
   "outputs": [
    {
     "name": "stderr",
     "output_type": "stream",
     "text": [
      "/var/folders/0z/k5klxhhj5j9g8hc5ygn0nwsr0000gn/T/ipykernel_6962/703490528.py:3: SettingWithCopyWarning: \n",
      "A value is trying to be set on a copy of a slice from a DataFrame.\n",
      "Try using .loc[row_indexer,col_indexer] = value instead\n",
      "\n",
      "See the caveats in the documentation: https://pandas.pydata.org/pandas-docs/stable/user_guide/indexing.html#returning-a-view-versus-a-copy\n",
      "  new_model_predictions['monthly_classifications_Q3'] = preds/12\n"
     ]
    }
   ],
   "source": [
    "# Save new model predictions (monthly order) to csv\n",
    "new_model_predictions = df_new_models[['style_id']]\n",
    "new_model_predictions['monthly_classifications_Q3'] = preds/12\n",
    "\n",
    "new_model_predictions.to_csv('../data/predictions/new_models_classifications.csv',index=False)"
   ]
  },
  {
   "cell_type": "code",
   "execution_count": null,
   "id": "83919d90-a256-4c93-a898-82b312cd81d7",
   "metadata": {},
   "outputs": [],
   "source": []
  }
 ],
 "metadata": {
  "kernelspec": {
   "display_name": "Python 3 (ipykernel)",
   "language": "python",
   "name": "python3"
  },
  "language_info": {
   "codemirror_mode": {
    "name": "ipython",
    "version": 3
   },
   "file_extension": ".py",
   "mimetype": "text/x-python",
   "name": "python",
   "nbconvert_exporter": "python",
   "pygments_lexer": "ipython3",
   "version": "3.8.8"
  }
 },
 "nbformat": 4,
 "nbformat_minor": 5
}
