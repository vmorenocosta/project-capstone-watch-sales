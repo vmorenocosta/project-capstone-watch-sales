{
 "cells": [
  {
   "cell_type": "markdown",
   "id": "a0b720b9-7b38-4273-ba55-bbedb379f829",
   "metadata": {},
   "source": [
    "# Notebook 06: Classification - Predicting Sales for New Models\n",
    "\n",
    "This notebook develops a classification model and evaluates predictions for new model sales using attributes for watches in datasets cleaned in [Notebook 1: Data Cleaning](01_data_cleaning.ipynb)."
   ]
  },
  {
   "cell_type": "code",
   "execution_count": 1,
   "id": "a1e36d8b-0e3d-4d23-8324-29730fb0c382",
   "metadata": {},
   "outputs": [],
   "source": [
    "# Imports\n",
    "import pandas as pd\n",
    "import numpy as np\n",
    "import matplotlib.pyplot as plt\n",
    "import seaborn as sns\n",
    "\n",
    "from sklearn.preprocessing import OneHotEncoder, StandardScaler, PolynomialFeatures\n",
    "from sklearn.model_selection import train_test_split, GridSearchCV\n",
    "from sklearn.pipeline import Pipeline\n",
    "from sklearn.linear_model import LogisticRegressionCV, LogisticRegression\n",
    "from sklearn.compose import make_column_transformer\n",
    "from sklearn.metrics import ConfusionMatrixDisplay, recall_score, accuracy_score, balanced_accuracy_score, f1_score, roc_auc_score, roc_curve\n",
    "from sklearn.tree import DecisionTreeClassifier\n",
    "from sklearn.neighbors import KNeighborsClassifier\n",
    "from sklearn.ensemble import RandomForestClassifier, ExtraTreesClassifier, VotingClassifier, AdaBoostClassifier\n",
    "from sklearn.impute import KNNImputer\n",
    "from sklearn.feature_selection import RFE\n",
    "\n",
    "\n",
    "# custom function imports\n",
    "from custom_functions import *\n",
    "from regression_custom_functions import *"
   ]
  },
  {
   "cell_type": "code",
   "execution_count": 2,
   "id": "a27bf7e1-0049-46d4-9d20-a46bc78397be",
   "metadata": {},
   "outputs": [],
   "source": [
    "# Import data\n",
    "df_all_models = pd.read_csv('../data/cleaned_datasets/df_models.csv')\n",
    "\n",
    "# Create a new dataframe with only models where there is historical sales data\n",
    "time_now = datetime.datetime.now()\n",
    "df_models = df_all_models.dropna(subset=time_now.strftime(f\"%Y-%m\"))\n",
    "\n",
    "# Create new data frame with attributes from model to make predictions for new models in proposal\n",
    "df_new_models = df_all_models[df_all_models[time_now.strftime(f\"%Y-%m\")].isna()]"
   ]
  },
  {
   "cell_type": "code",
   "execution_count": 3,
   "id": "c9c687c0-e4e9-4007-a9c7-4f3e7a8ea4ee",
   "metadata": {},
   "outputs": [
    {
     "data": {
      "image/png": "[encoded data removed]",
      "text/plain": [
       "<Figure size 432x288 with 1 Axes>"
      ]
     },
     "metadata": {
      "needs_background": "light"
     },
     "output_type": "display_data"
    }
   ],
   "source": [
    "# Calculate a target value - Normalized Yearly Sales\n",
    "df_models = calc_norm_yearly_sales(df_models, 4, 2019)"
   ]
  },
  {
   "cell_type": "markdown",
   "id": "10ede64e-5834-4342-bb52-981f08b1bc01",
   "metadata": {},
   "source": [
    "## Label models by normalized yearly sales"
   ]
  },
  {
   "cell_type": "code",
   "execution_count": 4,
   "id": "f734bf07-de8a-4b06-b4fc-43c2f56f3e20",
   "metadata": {
    "tags": []
   },
   "outputs": [
    {
     "data": {
      "image/png": "[encoded data removed]",
      "text/plain": [
       "<Figure size 432x288 with 1 Axes>"
      ]
     },
     "metadata": {
      "needs_background": "light"
     },
     "output_type": "display_data"
    }
   ],
   "source": [
    "# Define upper bounds for normalized yearly sales to classify data\n",
    "class_upper = {0:5,   # none\n",
    "                   1:15,  # poor\n",
    "                   2:30,  # fair\n",
    "                   3:60, # average\n",
    "                   4:90  # good\n",
    "                  }       # excellent\n",
    "\n",
    "\n",
    "# Use custom function and upper bounds to make classes\n",
    "df_models['class'] = make_classes(df_models.norm_yearly_sales, class_upper)"
   ]
  },
  {
   "cell_type": "code",
   "execution_count": 5,
   "id": "95a78f88-a184-4804-adc3-b46d9cc8d399",
   "metadata": {},
   "outputs": [
    {
     "data": {
      "image/png": "[encoded data removed]",
      "text/plain": [
       "<Figure size 432x288 with 1 Axes>"
      ]
     },
     "metadata": {
      "needs_background": "light"
     },
     "output_type": "display_data"
    }
   ],
   "source": [
    "# compare to planned order for new models to check if similar distribution\n",
    "df_new_models.planned_order.hist()\n",
    "plt.title('Distribution of planned orders for new models');"
   ]
  },
  {
   "cell_type": "markdown",
   "id": "1a087ebc-bba5-4837-91a8-40f3e78d2dfd",
   "metadata": {},
   "source": [
    "## Baseline Model"
   ]
  },
  {
   "cell_type": "code",
   "execution_count": 6,
   "id": "15939dea-c999-4afc-8a56-696f1235b9b2",
   "metadata": {},
   "outputs": [
    {
     "data": {
      "text/plain": [
       "0"
      ]
     },
     "execution_count": 6,
     "metadata": {},
     "output_type": "execute_result"
    }
   ],
   "source": [
    "# Create X & y for model creation using attributes\n",
    "attributes = ['country_of_origin','warranty', 'band_color', 'band_material',\n",
    "       'case_material', 'dial_color', 'case_size', 'color',\n",
    "       'retail_price', 'collection', 'clasp_type', 'water_resistance',\n",
    "       'movement_type']\n",
    "\n",
    "X = df_models[attributes]\n",
    "y = df_models['class']\n",
    "\n",
    "# Train test split\n",
    "X_train, X_test, y_train, y_test = train_test_split(X, y, random_state=42)\n",
    "\n",
    "# Check no null values in X\n",
    "X.isna().sum().sum() #Should return 0"
   ]
  },
  {
   "cell_type": "code",
   "execution_count": 7,
   "id": "efde1d78-f625-4d1e-b0df-d713e2f56931",
   "metadata": {},
   "outputs": [
    {
     "name": "stderr",
     "output_type": "stream",
     "text": [
      "/var/folders/0z/k5klxhhj5j9g8hc5ygn0nwsr0000gn/T/ipykernel_26415/1977101099.py:6: SettingWithCopyWarning: \n",
      "A value is trying to be set on a copy of a slice from a DataFrame.\n",
      "Try using .loc[row_indexer,col_indexer] = value instead\n",
      "\n",
      "See the caveats in the documentation: https://pandas.pydata.org/pandas-docs/stable/user_guide/indexing.html#returning-a-view-versus-a-copy\n",
      "  test['retail_price'] = knn_imp.fit_transform(test[['retail_price']])\n"
     ]
    },
    {
     "data": {
      "text/plain": [
       "0"
      ]
     },
     "execution_count": 7,
     "metadata": {},
     "output_type": "execute_result"
    }
   ],
   "source": [
    "# Create test set for later model testing\n",
    "test = df_new_models[attributes]\n",
    "\n",
    "# Impute missing retail prices\n",
    "knn_imp = KNNImputer()\n",
    "test['retail_price'] = knn_imp.fit_transform(test[['retail_price']])\n",
    "\n",
    "# Check no null values in test\n",
    "test.isna().sum().sum() #Should return 0"
   ]
  },
  {
   "cell_type": "code",
   "execution_count": 8,
   "id": "84ee60f5-d203-4598-b982-a73fbbf4445b",
   "metadata": {},
   "outputs": [
    {
     "data": {
      "text/plain": [
       "2    0.292343\n",
       "3    0.292343\n",
       "1    0.122970\n",
       "4    0.113689\n",
       "0    0.092807\n",
       "5    0.085847\n",
       "Name: class, dtype: float64"
      ]
     },
     "execution_count": 8,
     "metadata": {},
     "output_type": "execute_result"
    }
   ],
   "source": [
    "# Check for distribution of classes\n",
    "test_counts = y_test.value_counts(normalize=True)\n",
    "test_counts"
   ]
  },
  {
   "cell_type": "markdown",
   "id": "9e9b8f0e-3c22-4ef5-8c69-22a8d043e853",
   "metadata": {},
   "source": [
    "While the classes are imbalanced, I do not think this will significantly impact the model so I will not implement any techniques to create a balanced dataset. I will use an f1 score as well as accuracy as metrics to evaluate models due to the imbalanced nature."
   ]
  },
  {
   "cell_type": "code",
   "execution_count": 9,
   "id": "ca00975d-3f2d-4b65-8f2f-b8542f17d1e6",
   "metadata": {},
   "outputs": [
    {
     "name": "stdout",
     "output_type": "stream",
     "text": [
      "Baseline accuracy is 9.3%.\n",
      "Baseline f1 score is 13.2%.\n"
     ]
    }
   ],
   "source": [
    "baseline_preds = np.full_like(y_test,test_counts.index[0])\n",
    "\n",
    "baseline_accuracy = test_counts[0]/sum(test_counts)\n",
    "baseline_f1 = f1_score(y_test, baseline_preds, average='weighted')\n",
    "\n",
    "print(f'Baseline accuracy is {round(baseline_accuracy*100,1)}%.')\n",
    "print(f'Baseline f1 score is {round(baseline_f1*100,1)}%.')"
   ]
  },
  {
   "cell_type": "markdown",
   "id": "7e00836f-bf5b-459b-a426-da23540c6026",
   "metadata": {},
   "source": [
    "## Exploring different models"
   ]
  },
  {
   "cell_type": "code",
   "execution_count": 10,
   "id": "9d389741-0860-41b6-9c63-c22877560c79",
   "metadata": {
    "tags": []
   },
   "outputs": [
    {
     "name": "stdout",
     "output_type": "stream",
     "text": [
      "LogisticRegression(max_iter=1000)\n"
     ]
    },
    {
     "name": "stderr",
     "output_type": "stream",
     "text": [
      "/Applications/anaconda3/lib/python3.8/site-packages/sklearn/preprocessing/_encoders.py:170: UserWarning: Found unknown categories in columns [2, 4, 8, 9] during transform. These unknown categories will be encoded as all zeros\n",
      "  warnings.warn(\n",
      "/Applications/anaconda3/lib/python3.8/site-packages/sklearn/preprocessing/_encoders.py:170: UserWarning: Found unknown categories in columns [2, 4, 8, 9] during transform. These unknown categories will be encoded as all zeros\n",
      "  warnings.warn(\n",
      "/Applications/anaconda3/lib/python3.8/site-packages/sklearn/preprocessing/_encoders.py:170: UserWarning: Found unknown categories in columns [2, 4, 8, 9] during transform. These unknown categories will be encoded as all zeros\n",
      "  warnings.warn(\n"
     ]
    },
    {
     "name": "stdout",
     "output_type": "stream",
     "text": [
      "Train accuracy: 0.7385924207269915\n",
      "Test accuracy: 0.35962877030162416\n",
      "Test f1 score: 0.3568436056020533\n",
      "\n",
      "KNeighborsClassifier()\n",
      "Train accuracy: 0.5777262180974478\n",
      "Test accuracy: 0.31554524361948955\n",
      "Test f1 score: 0.3126346426477837\n",
      "\n",
      "RandomForestClassifier(n_estimators=200)\n"
     ]
    },
    {
     "name": "stderr",
     "output_type": "stream",
     "text": [
      "/Applications/anaconda3/lib/python3.8/site-packages/sklearn/preprocessing/_encoders.py:170: UserWarning: Found unknown categories in columns [2, 4, 8, 9] during transform. These unknown categories will be encoded as all zeros\n",
      "  warnings.warn(\n",
      "/Applications/anaconda3/lib/python3.8/site-packages/sklearn/preprocessing/_encoders.py:170: UserWarning: Found unknown categories in columns [2, 4, 8, 9] during transform. These unknown categories will be encoded as all zeros\n",
      "  warnings.warn(\n",
      "/Applications/anaconda3/lib/python3.8/site-packages/sklearn/preprocessing/_encoders.py:170: UserWarning: Found unknown categories in columns [2, 4, 8, 9] during transform. These unknown categories will be encoded as all zeros\n",
      "  warnings.warn(\n"
     ]
    },
    {
     "name": "stdout",
     "output_type": "stream",
     "text": [
      "Train accuracy: 0.9203402938901779\n",
      "Test accuracy: 0.37122969837587005\n",
      "Test f1 score: 0.3609438938611786\n",
      "\n",
      "AdaBoostClassifier(algorithm='SAMME', base_estimator=RandomForestClassifier())\n"
     ]
    },
    {
     "name": "stderr",
     "output_type": "stream",
     "text": [
      "/Applications/anaconda3/lib/python3.8/site-packages/sklearn/preprocessing/_encoders.py:170: UserWarning: Found unknown categories in columns [2, 4, 8, 9] during transform. These unknown categories will be encoded as all zeros\n",
      "  warnings.warn(\n"
     ]
    },
    {
     "name": "stdout",
     "output_type": "stream",
     "text": [
      "Train accuracy: 0.9195668986852281\n",
      "Test accuracy: 0.3619489559164733\n"
     ]
    },
    {
     "name": "stderr",
     "output_type": "stream",
     "text": [
      "/Applications/anaconda3/lib/python3.8/site-packages/sklearn/preprocessing/_encoders.py:170: UserWarning: Found unknown categories in columns [2, 4, 8, 9] during transform. These unknown categories will be encoded as all zeros\n",
      "  warnings.warn(\n"
     ]
    },
    {
     "name": "stdout",
     "output_type": "stream",
     "text": [
      "Test f1 score: 0.3553257581748307\n",
      "\n",
      "ExtraTreesClassifier(n_estimators=200)\n"
     ]
    },
    {
     "name": "stderr",
     "output_type": "stream",
     "text": [
      "/Applications/anaconda3/lib/python3.8/site-packages/sklearn/preprocessing/_encoders.py:170: UserWarning: Found unknown categories in columns [2, 4, 8, 9] during transform. These unknown categories will be encoded as all zeros\n",
      "  warnings.warn(\n",
      "/Applications/anaconda3/lib/python3.8/site-packages/sklearn/preprocessing/_encoders.py:170: UserWarning: Found unknown categories in columns [2, 4, 8, 9] during transform. These unknown categories will be encoded as all zeros\n",
      "  warnings.warn(\n"
     ]
    },
    {
     "name": "stdout",
     "output_type": "stream",
     "text": [
      "Train accuracy: 0.9203402938901779\n",
      "Test accuracy: 0.37587006960556846\n",
      "Test f1 score: 0.3704211388394565\n",
      "\n",
      "Best test accuracy: 0.37587006960556846\n",
      "Best model: Pipeline(steps=[('ct',\n",
      "                 ColumnTransformer(remainder='passthrough',\n",
      "                                   transformers=[('ohe',\n",
      "                                                  OneHotEncoder(drop='first',\n",
      "                                                                handle_unknown='ignore',\n",
      "                                                                sparse=False),\n",
      "                                                  ['country_of_origin',\n",
      "                                                   'warranty', 'band_color',\n",
      "                                                   'band_material',\n",
      "                                                   'case_material',\n",
      "                                                   'dial_color', 'case_size',\n",
      "                                                   'color', 'retail_price',\n",
      "                                                   'collection', 'clasp_type',\n",
      "                                                   'water_resistance',\n",
      "                                                   'movement_type'])],\n",
      "                                   verbose_feature_names_out=False)),\n",
      "                ('ss', StandardScaler()),\n",
      "                ('et', ExtraTreesClassifier(n_estimators=200))])\n"
     ]
    },
    {
     "data": {
      "image/png": "[encoded data removed]",
      "text/plain": [
       "<Figure size 432x288 with 2 Axes>"
      ]
     },
     "metadata": {
      "needs_background": "light"
     },
     "output_type": "display_data"
    },
    {
     "data": {
      "image/png": "[encoded data removed]",
      "text/plain": [
       "<Figure size 432x288 with 2 Axes>"
      ]
     },
     "metadata": {
      "needs_background": "light"
     },
     "output_type": "display_data"
    },
    {
     "data": {
      "image/png": "[encoded data removed]",
      "text/plain": [
       "<Figure size 432x288 with 2 Axes>"
      ]
     },
     "metadata": {
      "needs_background": "light"
     },
     "output_type": "display_data"
    },
    {
     "data": {
      "image/png": "[encoded data removed]",
      "text/plain": [
       "<Figure size 432x288 with 2 Axes>"
      ]
     },
     "metadata": {
      "needs_background": "light"
     },
     "output_type": "display_data"
    },
    {
     "data": {
      "image/png": "[encoded data removed]",
      "text/plain": [
       "<Figure size 432x288 with 2 Axes>"
      ]
     },
     "metadata": {
      "needs_background": "light"
     },
     "output_type": "display_data"
    }
   ],
   "source": [
    "# Instantiate various model types to feed into a function that creates and evaluates various the models\n",
    "# This will be used to quickly narrow down models that will be further tuned for a final production model\n",
    "models = [('lr',LogisticRegression(max_iter=1_000)),('knn',KNeighborsClassifier()),\n",
    "          ('rf', RandomForestClassifier(n_estimators=200)), ('ab', AdaBoostClassifier(base_estimator=RandomForestClassifier(),algorithm='SAMME')),\n",
    "          ('et', ExtraTreesClassifier(n_estimators=200))]\n",
    "\n",
    "best_accuracy = baseline_accuracy\n",
    "best_model = 'baseline'\n",
    "df_preds = pd.DataFrame(y_test.values, columns=['y_test'])\n",
    "\n",
    "for model in models:\n",
    "    pipe, preds, test_accuracy = create_evaluate_model_class(model, X_train, X_test, y_train, y_test)\n",
    "    df_preds[f'preds_{model[0]}'] = preds\n",
    "    if test_accuracy > best_accuracy:\n",
    "        best_accuracy = test_accuracy\n",
    "        best_model = pipe\n",
    "        \n",
    "print('Best test accuracy:', best_accuracy)\n",
    "print('Best model:', best_model)"
   ]
  },
  {
   "cell_type": "markdown",
   "id": "12c92434-e6a7-4b52-b83b-f7ab529abaab",
   "metadata": {},
   "source": [
    "## Developing a Production model"
   ]
  },
  {
   "cell_type": "markdown",
   "id": "5285471b-6482-442f-8407-58cad44e109e",
   "metadata": {},
   "source": [
    "Based on the results and f1 scores of the exploration, I will narrow down selection of a few models and try a voting classifier to try to improve the accuracy and f1 score, and increase bias."
   ]
  },
  {
   "cell_type": "markdown",
   "id": "8658c425-415e-44e3-8516-5f41d2eafa3a",
   "metadata": {
    "tags": []
   },
   "source": [
    "#### Logistic Regression"
   ]
  },
  {
   "cell_type": "code",
   "execution_count": 11,
   "id": "24ace1b1-149e-42d5-a7dc-0792d9ef66ba",
   "metadata": {},
   "outputs": [
    {
     "name": "stdout",
     "output_type": "stream",
     "text": [
      "LogisticRegressionCV(max_iter=1000, n_jobs=-1, random_state=42)\n"
     ]
    },
    {
     "name": "stderr",
     "output_type": "stream",
     "text": [
      "/Applications/anaconda3/lib/python3.8/site-packages/sklearn/preprocessing/_encoders.py:170: UserWarning: Found unknown categories in columns [2, 4, 8, 9] during transform. These unknown categories will be encoded as all zeros\n",
      "  warnings.warn(\n",
      "/Applications/anaconda3/lib/python3.8/site-packages/sklearn/preprocessing/_encoders.py:170: UserWarning: Found unknown categories in columns [2, 4, 8, 9] during transform. These unknown categories will be encoded as all zeros\n",
      "  warnings.warn(\n"
     ]
    },
    {
     "name": "stdout",
     "output_type": "stream",
     "text": [
      "Train accuracy: 0.642691415313225\n",
      "Test accuracy: 0.39443155452436196\n",
      "Test f1 score: 0.38163808974178987\n",
      "\n"
     ]
    },
    {
     "data": {
      "image/png": "[encoded data removed]",
      "text/plain": [
       "<Figure size 432x288 with 2 Axes>"
      ]
     },
     "metadata": {
      "needs_background": "light"
     },
     "output_type": "display_data"
    }
   ],
   "source": [
    "# Trying Logistic Regression CV with l2 regularization\n",
    "pipe_l2, preds_l2, test_accuracy_l2 = create_evaluate_model_class(('lr_l2',LogisticRegressionCV(max_iter=1000,n_jobs = -1, random_state=42)), X_train, X_test, y_train, y_test);"
   ]
  },
  {
   "cell_type": "code",
   "execution_count": 12,
   "id": "e792a5bb-cdab-4848-8a9c-87d4bb1105dd",
   "metadata": {},
   "outputs": [
    {
     "name": "stdout",
     "output_type": "stream",
     "text": [
      "LogisticRegressionCV(n_jobs=-1, penalty='l1', random_state=42, solver='saga',\n",
      "                     tol=0.1)\n"
     ]
    },
    {
     "name": "stderr",
     "output_type": "stream",
     "text": [
      "/Applications/anaconda3/lib/python3.8/site-packages/sklearn/preprocessing/_encoders.py:170: UserWarning: Found unknown categories in columns [2, 4, 8, 9] during transform. These unknown categories will be encoded as all zeros\n",
      "  warnings.warn(\n",
      "/Applications/anaconda3/lib/python3.8/site-packages/sklearn/preprocessing/_encoders.py:170: UserWarning: Found unknown categories in columns [2, 4, 8, 9] during transform. These unknown categories will be encoded as all zeros\n",
      "  warnings.warn(\n"
     ]
    },
    {
     "name": "stdout",
     "output_type": "stream",
     "text": [
      "Train accuracy: 0.5846867749419954\n",
      "Test accuracy: 0.41067285382830626\n",
      "Test f1 score: 0.38653042209413063\n",
      "\n"
     ]
    },
    {
     "data": {
      "image/png": "[encoded data removed]",
      "text/plain": [
       "<Figure size 432x288 with 2 Axes>"
      ]
     },
     "metadata": {
      "needs_background": "light"
     },
     "output_type": "display_data"
    }
   ],
   "source": [
    "# Trying Logistic Regression CV with l1 regularization\n",
    "pipe_l1, preds_l1, test_accuracy_l1 = create_evaluate_model_class(('lr_l1',LogisticRegressionCV(tol = 0.1, penalty='l1',solver='saga',n_jobs = -1,refit=True, random_state=42)), X_train, X_test, y_train, y_test);"
   ]
  },
  {
   "cell_type": "markdown",
   "id": "5f998143-1634-41cb-ae3b-08170c15906b",
   "metadata": {},
   "source": [
    "##### Compare the individual scores across each C for L1 and L2"
   ]
  },
  {
   "cell_type": "code",
   "execution_count": 13,
   "id": "459df57d-09ca-4c1e-8f21-042571a2e204",
   "metadata": {},
   "outputs": [
    {
     "data": {
      "text/plain": [
       "{0.0001: 0.2993026248840202,\n",
       " 0.000774263682681127: 0.38129657897099756,\n",
       " 0.005994842503189409: 0.4122235192002634,\n",
       " 0.046415888336127774: 0.39211936188680374,\n",
       " 0.3593813663804626: 0.3843764029810542,\n",
       " 2.782559402207126: 0.37353865493400373,\n",
       " 21.54434690031882: 0.3650534255185418,\n",
       " 166.81005372000558: 0.3588818053934333,\n",
       " 1291.5496650148827: 0.356565203076831,\n",
       " 10000.0: 0.3627547813594325}"
      ]
     },
     "execution_count": 13,
     "metadata": {},
     "output_type": "execute_result"
    }
   ],
   "source": [
    "get_Cs_scores(pipe_l2, 'lr_l2')"
   ]
  },
  {
   "cell_type": "code",
   "execution_count": 14,
   "id": "3f81bbed-9073-4642-ab59-be44b0ae309f",
   "metadata": {},
   "outputs": [
    {
     "data": {
      "text/plain": [
       "{0.0001: 0.2993026248840202,\n",
       " 0.000774263682681127: 0.2993026248840202,\n",
       " 0.005994842503189409: 0.2993026248840202,\n",
       " 0.046415888336127774: 0.38513663164825956,\n",
       " 0.3593813663804626: 0.4114513184280627,\n",
       " 2.782559402207126: 0.4075783424620633,\n",
       " 21.54434690031882: 0.4052557540929634,\n",
       " 166.81005372000558: 0.4037143455748106,\n",
       " 1291.5496650148827: 0.4083685013917572,\n",
       " 10000.0: 0.40836550836550833}"
      ]
     },
     "execution_count": 14,
     "metadata": {},
     "output_type": "execute_result"
    }
   ],
   "source": [
    "get_Cs_scores(pipe_l1, 'lr_l1')"
   ]
  },
  {
   "cell_type": "markdown",
   "id": "ea12b6c9-2f84-4214-8a45-437b142ee331",
   "metadata": {},
   "source": [
    "Between L1 and L2, L2 had the strongest score at 0.006, but it is not as stable as the highest score with L1 over 0.35. I will continue to explore L1 over a more narrow range:"
   ]
  },
  {
   "cell_type": "code",
   "execution_count": 15,
   "id": "e4137a92-9652-4a4d-a35f-f83f6909c48d",
   "metadata": {},
   "outputs": [
    {
     "name": "stdout",
     "output_type": "stream",
     "text": [
      "LogisticRegressionCV(Cs=[0.05, 0.1, 0.25, 0.35, 0.45, 0.75, 1, 2, 3, 4, 5],\n",
      "                     n_jobs=-1, penalty='l1', random_state=42, solver='saga',\n",
      "                     tol=0.1)\n"
     ]
    },
    {
     "name": "stderr",
     "output_type": "stream",
     "text": [
      "/Applications/anaconda3/lib/python3.8/site-packages/sklearn/preprocessing/_encoders.py:170: UserWarning: Found unknown categories in columns [2, 4, 8, 9] during transform. These unknown categories will be encoded as all zeros\n",
      "  warnings.warn(\n",
      "/Applications/anaconda3/lib/python3.8/site-packages/sklearn/preprocessing/_encoders.py:170: UserWarning: Found unknown categories in columns [2, 4, 8, 9] during transform. These unknown categories will be encoded as all zeros\n",
      "  warnings.warn(\n"
     ]
    },
    {
     "name": "stdout",
     "output_type": "stream",
     "text": [
      "Train accuracy: 0.6566125290023201\n",
      "Test accuracy: 0.37122969837587005\n",
      "Test f1 score: 0.36576322221790936\n",
      "\n"
     ]
    },
    {
     "data": {
      "image/png": "[encoded data removed]",
      "text/plain": [
       "<Figure size 432x288 with 2 Axes>"
      ]
     },
     "metadata": {
      "needs_background": "light"
     },
     "output_type": "display_data"
    }
   ],
   "source": [
    "# Trying Logistic Regression CV with l1 regularization\n",
    "pipe_l1, preds_l1, test_accuracy_l1 = create_evaluate_model_class((\n",
    "    'lr_l1',LogisticRegressionCV(Cs=[0.05,0.1,0.25,0.35,0.45,0.75,1,2,3,4,5],\n",
    "                                 tol = 0.1, penalty='l1',solver='saga',\n",
    "                                 n_jobs = -1,refit=True, random_state=42)),\n",
    "    X_train, X_test, y_train, y_test);"
   ]
  },
  {
   "cell_type": "code",
   "execution_count": 16,
   "id": "8cd43e2e-65ef-4fea-a243-047c65ab2021",
   "metadata": {},
   "outputs": [
    {
     "data": {
      "text/plain": [
       "{0.05: 0.39287659752776033,\n",
       " 0.1: 0.39364281224746345,\n",
       " 0.25: 0.40060758432851457,\n",
       " 0.35: 0.39441800604591304,\n",
       " 0.45: 0.4021609649516627,\n",
       " 0.75: 0.402939151776361,\n",
       " 1.0: 0.40526174014546096,\n",
       " 2.0: 0.409122744006465,\n",
       " 3.0: 0.4075813354883122,\n",
       " 4.0: 0.40912873005896255,\n",
       " 5.0: 0.40681212774236036}"
      ]
     },
     "execution_count": 16,
     "metadata": {},
     "output_type": "execute_result"
    }
   ],
   "source": [
    "get_Cs_scores(pipe_l1, 'lr_l1')"
   ]
  },
  {
   "cell_type": "markdown",
   "id": "3818df80-0845-4b2b-8062-636df4ff36c1",
   "metadata": {},
   "source": [
    "Based on the new L1 scores, I will select a C of 4 (higher regularization, which could be helpful in increasing bias in the model)"
   ]
  },
  {
   "cell_type": "code",
   "execution_count": 17,
   "id": "241aa0f6-609c-400d-a62f-d6e980cb1729",
   "metadata": {},
   "outputs": [
    {
     "name": "stdout",
     "output_type": "stream",
     "text": [
      "LogisticRegression(C=4, n_jobs=-1, penalty='l1', random_state=42, solver='saga',\n",
      "                   tol=0.1)\n",
      "Train accuracy: 0.6148491879350348\n",
      "Test accuracy: 0.39211136890951276\n",
      "Test f1 score: 0.3822159040363141\n"
     ]
    },
    {
     "name": "stderr",
     "output_type": "stream",
     "text": [
      "/Applications/anaconda3/lib/python3.8/site-packages/sklearn/preprocessing/_encoders.py:170: UserWarning: Found unknown categories in columns [2, 4, 8, 9] during transform. These unknown categories will be encoded as all zeros\n",
      "  warnings.warn(\n",
      "/Applications/anaconda3/lib/python3.8/site-packages/sklearn/preprocessing/_encoders.py:170: UserWarning: Found unknown categories in columns [2, 4, 8, 9] during transform. These unknown categories will be encoded as all zeros\n",
      "  warnings.warn(\n"
     ]
    },
    {
     "name": "stdout",
     "output_type": "stream",
     "text": [
      "\n"
     ]
    },
    {
     "data": {
      "image/png": "[encoded data removed]",
      "text/plain": [
       "<Figure size 432x288 with 2 Axes>"
      ]
     },
     "metadata": {
      "needs_background": "light"
     },
     "output_type": "display_data"
    }
   ],
   "source": [
    "# Final L1 model\n",
    "model_lr = ('lr',LogisticRegression(tol = 0.1, C = 4, penalty='l1',solver='saga',n_jobs = -1,random_state=42))\n",
    "pipe_lr, preds_lr, test_accuracy_lr = create_evaluate_model_class(\n",
    "    model_lr,\n",
    "    X_train, X_test, y_train, y_test);"
   ]
  },
  {
   "cell_type": "code",
   "execution_count": 18,
   "id": "fd03afb0-0fd1-4c48-950c-17a50c389dc2",
   "metadata": {},
   "outputs": [
    {
     "data": {
      "text/html": [
       "<div>\n",
       "<style scoped>\n",
       "    .dataframe tbody tr th:only-of-type {\n",
       "        vertical-align: middle;\n",
       "    }\n",
       "\n",
       "    .dataframe tbody tr th {\n",
       "        vertical-align: top;\n",
       "    }\n",
       "\n",
       "    .dataframe thead th {\n",
       "        text-align: right;\n",
       "    }\n",
       "</style>\n",
       "<table border=\"1\" class=\"dataframe\">\n",
       "  <thead>\n",
       "    <tr style=\"text-align: right;\">\n",
       "      <th></th>\n",
       "      <th>coefs_class_0</th>\n",
       "      <th>coefs_class_1</th>\n",
       "      <th>coefs_class_2</th>\n",
       "      <th>coefs_class_3</th>\n",
       "      <th>coefs_class_4</th>\n",
       "      <th>coefs_class_5</th>\n",
       "    </tr>\n",
       "  </thead>\n",
       "  <tbody>\n",
       "    <tr>\n",
       "      <th>clasp_type_buckle</th>\n",
       "      <td>0.085741</td>\n",
       "      <td>0.087943</td>\n",
       "      <td>0.044616</td>\n",
       "      <td>-0.055210</td>\n",
       "      <td>-0.068554</td>\n",
       "      <td>-0.094490</td>\n",
       "    </tr>\n",
       "    <tr>\n",
       "      <th>water_resistance_3 atm</th>\n",
       "      <td>-0.011890</td>\n",
       "      <td>0.009819</td>\n",
       "      <td>0.005213</td>\n",
       "      <td>0.032683</td>\n",
       "      <td>0.023812</td>\n",
       "      <td>-0.060493</td>\n",
       "    </tr>\n",
       "    <tr>\n",
       "      <th>band_material_leather</th>\n",
       "      <td>0.034489</td>\n",
       "      <td>0.050264</td>\n",
       "      <td>0.050589</td>\n",
       "      <td>-0.041659</td>\n",
       "      <td>-0.040492</td>\n",
       "      <td>-0.053168</td>\n",
       "    </tr>\n",
       "    <tr>\n",
       "      <th>case_size_28.0</th>\n",
       "      <td>-0.019525</td>\n",
       "      <td>0.001572</td>\n",
       "      <td>0.026523</td>\n",
       "      <td>0.017455</td>\n",
       "      <td>0.022870</td>\n",
       "      <td>-0.049361</td>\n",
       "    </tr>\n",
       "    <tr>\n",
       "      <th>case_size_32.0</th>\n",
       "      <td>0.006480</td>\n",
       "      <td>0.039155</td>\n",
       "      <td>-0.022284</td>\n",
       "      <td>0.041126</td>\n",
       "      <td>-0.017763</td>\n",
       "      <td>-0.046609</td>\n",
       "    </tr>\n",
       "    <tr>\n",
       "      <th>...</th>\n",
       "      <td>...</td>\n",
       "      <td>...</td>\n",
       "      <td>...</td>\n",
       "      <td>...</td>\n",
       "      <td>...</td>\n",
       "      <td>...</td>\n",
       "    </tr>\n",
       "    <tr>\n",
       "      <th>collection_coachman</th>\n",
       "      <td>-0.010460</td>\n",
       "      <td>-0.010685</td>\n",
       "      <td>-0.023037</td>\n",
       "      <td>-0.028865</td>\n",
       "      <td>-0.010421</td>\n",
       "      <td>0.085527</td>\n",
       "    </tr>\n",
       "    <tr>\n",
       "      <th>collection_stellasport</th>\n",
       "      <td>-0.012114</td>\n",
       "      <td>-0.006892</td>\n",
       "      <td>-0.020558</td>\n",
       "      <td>-0.037064</td>\n",
       "      <td>-0.010988</td>\n",
       "      <td>0.089773</td>\n",
       "    </tr>\n",
       "    <tr>\n",
       "      <th>band_material_stainless steel</th>\n",
       "      <td>-0.028839</td>\n",
       "      <td>-0.077650</td>\n",
       "      <td>-0.091544</td>\n",
       "      <td>0.057182</td>\n",
       "      <td>0.048914</td>\n",
       "      <td>0.091954</td>\n",
       "    </tr>\n",
       "    <tr>\n",
       "      <th>case_size_50.0</th>\n",
       "      <td>-0.028975</td>\n",
       "      <td>-0.017109</td>\n",
       "      <td>-0.035290</td>\n",
       "      <td>-0.002582</td>\n",
       "      <td>-0.013081</td>\n",
       "      <td>0.098975</td>\n",
       "    </tr>\n",
       "    <tr>\n",
       "      <th>clasp_type_no clasp type reported</th>\n",
       "      <td>-0.101156</td>\n",
       "      <td>-0.031149</td>\n",
       "      <td>0.004246</td>\n",
       "      <td>-0.011189</td>\n",
       "      <td>0.028100</td>\n",
       "      <td>0.110612</td>\n",
       "    </tr>\n",
       "  </tbody>\n",
       "</table>\n",
       "<p>367 rows × 6 columns</p>\n",
       "</div>"
      ],
      "text/plain": [
       "                                   coefs_class_0  coefs_class_1  \\\n",
       "clasp_type_buckle                       0.085741       0.087943   \n",
       "water_resistance_3 atm                 -0.011890       0.009819   \n",
       "band_material_leather                   0.034489       0.050264   \n",
       "case_size_28.0                         -0.019525       0.001572   \n",
       "case_size_32.0                          0.006480       0.039155   \n",
       "...                                          ...            ...   \n",
       "collection_coachman                    -0.010460      -0.010685   \n",
       "collection_stellasport                 -0.012114      -0.006892   \n",
       "band_material_stainless steel          -0.028839      -0.077650   \n",
       "case_size_50.0                         -0.028975      -0.017109   \n",
       "clasp_type_no clasp type reported      -0.101156      -0.031149   \n",
       "\n",
       "                                   coefs_class_2  coefs_class_3  \\\n",
       "clasp_type_buckle                       0.044616      -0.055210   \n",
       "water_resistance_3 atm                  0.005213       0.032683   \n",
       "band_material_leather                   0.050589      -0.041659   \n",
       "case_size_28.0                          0.026523       0.017455   \n",
       "case_size_32.0                         -0.022284       0.041126   \n",
       "...                                          ...            ...   \n",
       "collection_coachman                    -0.023037      -0.028865   \n",
       "collection_stellasport                 -0.020558      -0.037064   \n",
       "band_material_stainless steel          -0.091544       0.057182   \n",
       "case_size_50.0                         -0.035290      -0.002582   \n",
       "clasp_type_no clasp type reported       0.004246      -0.011189   \n",
       "\n",
       "                                   coefs_class_4  coefs_class_5  \n",
       "clasp_type_buckle                      -0.068554      -0.094490  \n",
       "water_resistance_3 atm                  0.023812      -0.060493  \n",
       "band_material_leather                  -0.040492      -0.053168  \n",
       "case_size_28.0                          0.022870      -0.049361  \n",
       "case_size_32.0                         -0.017763      -0.046609  \n",
       "...                                          ...            ...  \n",
       "collection_coachman                    -0.010421       0.085527  \n",
       "collection_stellasport                 -0.010988       0.089773  \n",
       "band_material_stainless steel           0.048914       0.091954  \n",
       "case_size_50.0                         -0.013081       0.098975  \n",
       "clasp_type_no clasp type reported       0.028100       0.110612  \n",
       "\n",
       "[367 rows x 6 columns]"
      ]
     },
     "execution_count": 18,
     "metadata": {},
     "output_type": "execute_result"
    }
   ],
   "source": [
    "df_coefs_lr = get_coefs(pipe_lr, 'lr')\n",
    "df_coefs_lr.sort_values(by='coefs_class_5')"
   ]
  },
  {
   "cell_type": "markdown",
   "id": "ae466852-4e2c-4960-b33f-2de0aa2aa51c",
   "metadata": {},
   "source": [
    "#### Extra Trees Classifier\n",
    "\n",
    "Between Random Forest and Extra Trees, I will choose to explore extra trees further because they had similar performance, and Extra Trees adds some randomization since it chooses the split point randomly (and because it is faster)."
   ]
  },
  {
   "cell_type": "code",
   "execution_count": 19,
   "id": "8f3a53de-3ac4-4c12-9d1a-58ad44ee4bdd",
   "metadata": {},
   "outputs": [
    {
     "data": {
      "text/plain": [
       "{'bootstrap': False,\n",
       " 'ccp_alpha': 0.0,\n",
       " 'class_weight': None,\n",
       " 'criterion': 'gini',\n",
       " 'max_depth': None,\n",
       " 'max_features': 'auto',\n",
       " 'max_leaf_nodes': None,\n",
       " 'max_samples': None,\n",
       " 'min_impurity_decrease': 0.0,\n",
       " 'min_samples_leaf': 1,\n",
       " 'min_samples_split': 2,\n",
       " 'min_weight_fraction_leaf': 0.0,\n",
       " 'n_estimators': 100,\n",
       " 'n_jobs': None,\n",
       " 'oob_score': False,\n",
       " 'random_state': None,\n",
       " 'verbose': 0,\n",
       " 'warm_start': False}"
      ]
     },
     "execution_count": 19,
     "metadata": {},
     "output_type": "execute_result"
    }
   ],
   "source": [
    "ExtraTreesClassifier().get_params()"
   ]
  },
  {
   "cell_type": "code",
   "execution_count": 31,
   "id": "a2149a46-d931-4ccc-b2d5-372e6c5bb09c",
   "metadata": {
    "tags": []
   },
   "outputs": [],
   "source": [
    "# # Conducting a grid search on extra trees\n",
    "# param_grid = {'et__max_features':['auto', 'sqrt','log2'],\n",
    "#               'et__criterion':['gini', 'entropy'],\n",
    "#               'et__class_weight': [None,\"balanced\",\"balanced_subsample\"]}\n",
    "              \n",
    "# # Create a column transformer to one hot encode categorical variables\n",
    "# categorical_attributes = []\n",
    "# for attribute in X_train.columns:\n",
    "#     try:\n",
    "#         int(attribute)\n",
    "#     except:\n",
    "#         categorical_attributes.append(attribute)\n",
    "\n",
    "# ct = ColumnTransformer([('ohe',OneHotEncoder(drop='first',sparse=False,handle_unknown='ignore'),\n",
    "#                      categorical_attributes)],\n",
    "#                   remainder='passthrough',\n",
    "#                   verbose_feature_names_out=False)\n",
    "\n",
    "# # Create a pipeline to transform, scale, and model\n",
    "# pipe_et = Pipeline([\n",
    "#     ('ct',ct),\n",
    "#     ('ss',StandardScaler()),\n",
    "#     ('et',ExtraTreesClassifier(n_jobs = -1,random_state=42,warm_start=True,max_depth=15))\n",
    "# ])\n",
    "    \n",
    "# pipe_gs_et = GridSearchCV(pipe_et, param_grid = param_grid,error_score='raise')\n",
    "\n",
    "# # Fit model with training data\n",
    "# pipe_gs_et.fit(X_train,y_train)\n",
    "\n",
    "# # Print traw and test score\n",
    "# test_accuracy = pipe_gs_et.score(X_test,y_test)\n",
    "# print('Train accuracy:', pipe_gs_et.score(X_train,y_train))\n",
    "# print('Test accuracy:', test_accuracy)\n",
    "\n",
    "# # Create predictions with test data\n",
    "# preds = pipe_gs_et.predict(X_test)\n",
    "\n",
    "# # Evaluate predictions\n",
    "# print('Test f1 score:', f1_score(y_test, preds, average='weighted'))\n",
    "\n",
    "# # Generate confusion matrix\n",
    "# ConfusionMatrixDisplay.from_predictions(y_test,preds)\n",
    "# plt.title(model[0])"
   ]
  },
  {
   "cell_type": "code",
   "execution_count": 21,
   "id": "0bb31991-f16a-44d4-8cbe-12bc4cbbdf53",
   "metadata": {},
   "outputs": [
    {
     "data": {
      "text/plain": [
       "Pipeline(steps=[('ct',\n",
       "                 ColumnTransformer(remainder='passthrough',\n",
       "                                   transformers=[('ohe',\n",
       "                                                  OneHotEncoder(drop='first',\n",
       "                                                                handle_unknown='ignore',\n",
       "                                                                sparse=False),\n",
       "                                                  ['country_of_origin',\n",
       "                                                   'warranty', 'band_color',\n",
       "                                                   'band_material',\n",
       "                                                   'case_material',\n",
       "                                                   'dial_color', 'case_size',\n",
       "                                                   'color', 'retail_price',\n",
       "                                                   'collection', 'clasp_type',\n",
       "                                                   'water_resistance',\n",
       "                                                   'movement_type'])],\n",
       "                                   verbose_feature_names_out=False)),\n",
       "                ('ss', StandardScaler()),\n",
       "                ('et',\n",
       "                 ExtraTreesClassifier(criterion='entropy', max_depth=15,\n",
       "                                      n_jobs=-1, random_state=42,\n",
       "                                      warm_start=True))])"
      ]
     },
     "execution_count": 21,
     "metadata": {},
     "output_type": "execute_result"
    }
   ],
   "source": [
    "pipe_gs_et.best_estimator_"
   ]
  },
  {
   "cell_type": "code",
   "execution_count": 22,
   "id": "6141c185-b21f-4c21-acee-97dfeb90da1d",
   "metadata": {
    "tags": []
   },
   "outputs": [],
   "source": [
    "# # Conducting a grid search on extra trees\n",
    "# param_grid = {'et__max_features':['auto', 'sqrt','log2'],\n",
    "#               'et__criterion':['gini', 'entropy'],\n",
    "#               'et__max_depth':[3,6,15,30],\n",
    "#               'et__n_estimators': [50,100,200,500],\n",
    "#               'et__class_weight': [None,\"balanced\",\"balanced_subsample\"]}\n",
    "              \n",
    "# # Create a column transformer to one hot encode categorical variables\n",
    "# categorical_attributes = []\n",
    "# for attribute in X_train.columns:\n",
    "#     try:\n",
    "#         int(attribute)\n",
    "#     except:\n",
    "#         categorical_attributes.append(attribute)\n",
    "\n",
    "# ct = ColumnTransformer([('ohe',OneHotEncoder(drop='first',sparse=False,handle_unknown='ignore'),\n",
    "#                      categorical_attributes)],\n",
    "#                   remainder='passthrough',\n",
    "#                   verbose_feature_names_out=False)\n",
    "\n",
    "# # Create a pipeline to transform, scale, and model\n",
    "# pipe_et = Pipeline([\n",
    "#     ('ct',ct),\n",
    "#     ('ss',StandardScaler()),\n",
    "#     ('et',ExtraTreesClassifier(n_jobs = -1,random_state=42,warm_start=True))\n",
    "# ])\n",
    "    \n",
    "# pipe_gs_et = GridSearchCV(pipe_et, param_grid = param_grid,error_score='raise')\n",
    "\n",
    "# # Fit model with training data\n",
    "# pipe_gs_et.fit(X_train,y_train)\n",
    "\n",
    "# # Print traw and test score\n",
    "# test_accuracy = pipe_gs_et.score(X_test,y_test)\n",
    "# print('Train accuracy:', pipe_gs_et.score(X_train,y_train))\n",
    "# print('Test accuracy:', test_accuracy)\n",
    "\n",
    "# # Create predictions with test data\n",
    "# preds = pipe_gs_et.predict(X_test)\n",
    "\n",
    "# # Evaluate predictions\n",
    "# print('Test f1 score:', f1_score(y_test, preds, average='weighted'))\n",
    "\n",
    "# # Generate confusion matrix\n",
    "# ConfusionMatrixDisplay.from_predictions(y_test,preds)\n",
    "# plt.title(model[0])"
   ]
  },
  {
   "cell_type": "code",
   "execution_count": 23,
   "id": "217c9d6d-1f52-434a-bb79-01d7214e69a5",
   "metadata": {},
   "outputs": [],
   "source": [
    "# pipe_gs_et.best_estimator_ \n",
    "# Pipeline(steps=[('ct',\n",
    "#                  ColumnTransformer(remainder='passthrough',\n",
    "#                                    transformers=[('ohe',\n",
    "#                                                   OneHotEncoder(drop='first',\n",
    "#                                                                 handle_unknown='ignore',\n",
    "#                                                                 sparse=False),\n",
    "#                                                   ['country_of_origin',\n",
    "#                                                    'warranty', 'band_color',\n",
    "#                                                    'band_material',\n",
    "#                                                    'case_material',\n",
    "#                                                    'dial_color', 'case_size',\n",
    "#                                                    'color', 'retail_price',\n",
    "#                                                    'collection', 'clasp_type',\n",
    "#                                                    'water_resistance',\n",
    "#                                                    'movement_type'])],\n",
    "#                                    verbose_feature_names_out=False)),\n",
    "#                 ('ss', StandardScaler()),\n",
    "#                 ('et',\n",
    "#                  ExtraTreesClassifier(criterion='entropy', max_depth=15,\n",
    "#                                       n_jobs=-1, random_state=42,\n",
    "#                                       warm_start=True))])"
   ]
  },
  {
   "cell_type": "code",
   "execution_count": 24,
   "id": "881782cd-901d-4734-aa5c-8749fba4bffc",
   "metadata": {},
   "outputs": [
    {
     "name": "stdout",
     "output_type": "stream",
     "text": [
      "ExtraTreesClassifier(criterion='entropy', max_depth=15, n_estimators=500,\n",
      "                     n_jobs=-1, random_state=42)\n"
     ]
    },
    {
     "name": "stderr",
     "output_type": "stream",
     "text": [
      "/Applications/anaconda3/lib/python3.8/site-packages/sklearn/preprocessing/_encoders.py:170: UserWarning: Found unknown categories in columns [2, 4, 8, 9] during transform. These unknown categories will be encoded as all zeros\n",
      "  warnings.warn(\n"
     ]
    },
    {
     "name": "stdout",
     "output_type": "stream",
     "text": [
      "Train accuracy: 0.8662026295436969\n",
      "Test accuracy: 0.41531322505800466\n"
     ]
    },
    {
     "name": "stderr",
     "output_type": "stream",
     "text": [
      "/Applications/anaconda3/lib/python3.8/site-packages/sklearn/preprocessing/_encoders.py:170: UserWarning: Found unknown categories in columns [2, 4, 8, 9] during transform. These unknown categories will be encoded as all zeros\n",
      "  warnings.warn(\n"
     ]
    },
    {
     "name": "stdout",
     "output_type": "stream",
     "text": [
      "Test f1 score: 0.3938154607853025\n",
      "\n"
     ]
    },
    {
     "data": {
      "image/png": "[encoded data removed]",
      "text/plain": [
       "<Figure size 432x288 with 2 Axes>"
      ]
     },
     "metadata": {
      "needs_background": "light"
     },
     "output_type": "display_data"
    }
   ],
   "source": [
    "# Final extra trees classifier model\n",
    "model_et = ('et',ExtraTreesClassifier(criterion='entropy', max_depth=15,\n",
    "                                      n_estimators=500, n_jobs=-1,\n",
    "                                      random_state=42))\n",
    "pipe_et, preds_et, test_accuracy_et = create_evaluate_model_class(model_et\n",
    "                 , X_train, X_test, y_train, y_test);"
   ]
  },
  {
   "cell_type": "markdown",
   "id": "06e20ac7-4a0d-4f07-b573-c6b79852a257",
   "metadata": {},
   "source": [
    "#### Testing a voting classifier with logistic regression"
   ]
  },
  {
   "cell_type": "code",
   "execution_count": 25,
   "id": "02e9c8d4-2a90-4dea-9bb6-33c9bbfe70bc",
   "metadata": {},
   "outputs": [
    {
     "name": "stdout",
     "output_type": "stream",
     "text": [
      "VotingClassifier(estimators=[('et',\n",
      "                              ExtraTreesClassifier(criterion='entropy',\n",
      "                                                   max_depth=15,\n",
      "                                                   n_estimators=500, n_jobs=-1,\n",
      "                                                   random_state=42)),\n",
      "                             ('lr',\n",
      "                              LogisticRegression(C=4, n_jobs=-1, penalty='l1',\n",
      "                                                 random_state=42, solver='saga',\n",
      "                                                 tol=0.1))],\n",
      "                 n_jobs=-1, voting='soft', weights=[5, 1])\n"
     ]
    },
    {
     "name": "stderr",
     "output_type": "stream",
     "text": [
      "/Applications/anaconda3/lib/python3.8/site-packages/sklearn/preprocessing/_encoders.py:170: UserWarning: Found unknown categories in columns [2, 4, 8, 9] during transform. These unknown categories will be encoded as all zeros\n",
      "  warnings.warn(\n"
     ]
    },
    {
     "name": "stdout",
     "output_type": "stream",
     "text": [
      "Train accuracy: 0.860015467904099\n",
      "Test accuracy: 0.41299303944315546\n",
      "Test f1 score: 0.3942883639067882\n"
     ]
    },
    {
     "name": "stderr",
     "output_type": "stream",
     "text": [
      "/Applications/anaconda3/lib/python3.8/site-packages/sklearn/preprocessing/_encoders.py:170: UserWarning: Found unknown categories in columns [2, 4, 8, 9] during transform. These unknown categories will be encoded as all zeros\n",
      "  warnings.warn(\n"
     ]
    },
    {
     "name": "stdout",
     "output_type": "stream",
     "text": [
      "\n"
     ]
    },
    {
     "data": {
      "image/png": "[encoded data removed]",
      "text/plain": [
       "<Figure size 432x288 with 2 Axes>"
      ]
     },
     "metadata": {
      "needs_background": "light"
     },
     "output_type": "display_data"
    }
   ],
   "source": [
    "# Experimenting with a voting classifier for the models\n",
    "model_vc = ('vc',VotingClassifier([model_et, model_lr],\n",
    "    n_jobs=-1,\n",
    "    voting = 'soft',\n",
    "    weights = [5,1]\n",
    "))\n",
    "\n",
    "# Fit and evaluate model\n",
    "pipe_vc, preds_vc, test_accuracy_vc = create_evaluate_model_class(\n",
    "    model_vc,\n",
    "    X_train, X_test, y_train, y_test);"
   ]
  },
  {
   "cell_type": "markdown",
   "id": "49dd1a25-cd58-473e-9db3-4e51e62a00c9",
   "metadata": {},
   "source": [
    "Tried:\n",
    "- ('et',ExtraTreesClassifier(criterion='entropy', max_depth=15, n_estimators=200, n_jobs=-1, random_state=42))\n",
    "Train accuracy: 0.7996906419180201\n",
    "Test accuracy: 0.3874709976798144\n",
    "Test f1 score: 0.3669389760023724\n",
    "- ('et',ExtraTreesClassifier(n_jobs=-1, random_state=42)):\n",
    "Train accuracy: 0.9203402938901779\n",
    "Test accuracy: 0.3874709976798144\n",
    "Test f1 score: 0.38068259110237207\n",
    "- ('rf',RandomForestClassifier(n_jobs=-1, random_state=42))\n",
    "Train accuracy: 0.9164733178654292\n",
    "Test accuracy: 0.3851508120649652\n",
    "Test f1 score: 0.37706929392554334\n",
    "\n",
    "Narrowed down on and tried various weights\n",
    "- ('et',ExtraTreesClassifier(criterion='entropy', max_depth=15,n_estimators=500, n_jobs=-1, random_state=42))\n",
    "- Weights - optimal location was [5,1]"
   ]
  },
  {
   "cell_type": "markdown",
   "id": "4dff6d2c-f8dd-4aca-88b1-fb14fe320e7c",
   "metadata": {},
   "source": [
    "### Production model"
   ]
  },
  {
   "cell_type": "code",
   "execution_count": 26,
   "id": "aad6e379-0110-491c-a8bd-bf51175e92a7",
   "metadata": {},
   "outputs": [
    {
     "name": "stderr",
     "output_type": "stream",
     "text": [
      "/Applications/anaconda3/lib/python3.8/site-packages/sklearn/preprocessing/_encoders.py:170: UserWarning: Found unknown categories in columns [6, 9, 10] during transform. These unknown categories will be encoded as all zeros\n",
      "  warnings.warn(\n"
     ]
    }
   ],
   "source": [
    "# Create a column transformer to one hot encode categorical variables\n",
    "categorical_attributes = []\n",
    "for attribute in X_train.columns:\n",
    "    try:\n",
    "        int(attribute)\n",
    "    except:\n",
    "        categorical_attributes.append(attribute)\n",
    "\n",
    "# Setup pipeline for preprocessing and modeling\n",
    "ct = ColumnTransformer([('ohe',OneHotEncoder(drop='first',sparse=False,handle_unknown='ignore'),\n",
    "                         categorical_attributes)],\n",
    "                      remainder='passthrough',\n",
    "                      verbose_feature_names_out=False)\n",
    "pipe = Pipeline([\n",
    "    ('ct',ct),\n",
    "    ('ss',StandardScaler()),\n",
    "    model_vc\n",
    "])\n",
    "\n",
    "# Fit model with train set\n",
    "pipe.fit(X_train,y_train)\n",
    "\n",
    "# Generate predictions for new models\n",
    "preds = pipe.predict(test)"
   ]
  },
  {
   "cell_type": "code",
   "execution_count": 27,
   "id": "05054a2d-718b-41e3-817f-1c5f194738d8",
   "metadata": {},
   "outputs": [
    {
     "data": {
      "image/png": "[encoded data removed]",
      "text/plain": [
       "<Figure size 432x288 with 1 Axes>"
      ]
     },
     "metadata": {
      "needs_background": "light"
     },
     "output_type": "display_data"
    }
   ],
   "source": [
    "df_new_models.planned_order.hist()\n",
    "plt.title('Distribution of planned orders for new models')\n",
    "plt.xlabel('Planned order (est. quarterly sales)')\n",
    "plt.ylabel('Count');"
   ]
  },
  {
   "cell_type": "code",
   "execution_count": 28,
   "id": "3e9536a7-708a-4b39-baed-5b32a6fcf9e5",
   "metadata": {},
   "outputs": [
    {
     "data": {
      "image/png": "[encoded data removed]",
      "text/plain": [
       "<Figure size 432x288 with 1 Axes>"
      ]
     },
     "metadata": {
      "needs_background": "light"
     },
     "output_type": "display_data"
    }
   ],
   "source": [
    "plt.hist(preds, bins=6)\n",
    "plt.title('Distribution of predicted classes for new models')\n",
    "plt.xlabel('Model classifications')\n",
    "plt.ylabel('Count');"
   ]
  },
  {
   "cell_type": "markdown",
   "id": "9ef668e3-fdef-41f1-9322-a2d5ed615629",
   "metadata": {},
   "source": [
    "The distribution doesn't quite match up. The model is more likely to classify the new models in the 0 order bucket, and less likely to place large orders. This will be an optimization for a later time."
   ]
  },
  {
   "cell_type": "code",
   "execution_count": 29,
   "id": "29c2d7a7-801f-47de-b3d0-49949f3c1a27",
   "metadata": {},
   "outputs": [
    {
     "data": {
      "image/png": "[encoded data removed]",
      "text/plain": [
       "<Figure size 432x288 with 1 Axes>"
      ]
     },
     "metadata": {
      "needs_background": "light"
     },
     "output_type": "display_data"
    }
   ],
   "source": [
    "df_models.planned_order.hist()\n",
    "plt.title('Distribution of planned orders for all models')\n",
    "plt.xlabel('Planned orders (est. quarterly sales)')\n",
    "plt.ylabel('Count');"
   ]
  },
  {
   "cell_type": "code",
   "execution_count": 30,
   "id": "befd8787-1bc4-4586-a30d-e13cea6efb3c",
   "metadata": {},
   "outputs": [
    {
     "name": "stderr",
     "output_type": "stream",
     "text": [
      "/var/folders/0z/k5klxhhj5j9g8hc5ygn0nwsr0000gn/T/ipykernel_26415/449321751.py:3: SettingWithCopyWarning: \n",
      "A value is trying to be set on a copy of a slice from a DataFrame.\n",
      "Try using .loc[row_indexer,col_indexer] = value instead\n",
      "\n",
      "See the caveats in the documentation: https://pandas.pydata.org/pandas-docs/stable/user_guide/indexing.html#returning-a-view-versus-a-copy\n",
      "  new_model_predictions[f'monthly_classifications_Q{(time_now.month - 1 ) // 3 + 1 + 1}'] = preds\n"
     ]
    }
   ],
   "source": [
    "# Save new model predictions (monthly order) to csv\n",
    "new_model_predictions = df_new_models[['style_id']]\n",
    "new_model_predictions[f'monthly_classifications_Q{(time_now.month - 1 ) // 3 + 1 + 1}'] = preds\n",
    "\n",
    "new_model_predictions.to_csv('../data/predictions/new_models_classifications.csv',index=False)"
   ]
  },
  {
   "cell_type": "code",
   "execution_count": null,
   "id": "83919d90-a256-4c93-a898-82b312cd81d7",
   "metadata": {},
   "outputs": [],
   "source": []
  }
 ],
 "metadata": {
  "kernelspec": {
   "display_name": "Python 3 (ipykernel)",
   "language": "python",
   "name": "python3"
  },
  "language_info": {
   "codemirror_mode": {
    "name": "ipython",
    "version": 3
   },
   "file_extension": ".py",
   "mimetype": "text/x-python",
   "name": "python",
   "nbconvert_exporter": "python",
   "pygments_lexer": "ipython3",
   "version": "3.8.8"
  }
 },
 "nbformat": 4,
 "nbformat_minor": 5
}
