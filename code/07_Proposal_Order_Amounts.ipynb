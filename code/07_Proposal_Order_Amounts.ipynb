{
 "cells": [
  {
   "cell_type": "markdown",
   "id": "9c02ea90-36d6-46ff-922f-93ddb42b9a9b",
   "metadata": {},
   "source": [
    "# Notebook 07: Proposal Order Amounts\n",
    "\n",
    "This notebook generates sales orders for the 2022H3 proposal using forecasting and regression predictions generated in [Notebook 4: Forecasting Monthly](04_Forecasting_Monthly.ipynb) and [Notebook 5: Regression Predict Sales](05_Regression_Predict_Sales.ipynb)."
   ]
  },
  {
   "cell_type": "code",
   "execution_count": 34,
   "id": "1df8d6c4-6856-4c26-82a2-f3a339d609fa",
   "metadata": {},
   "outputs": [],
   "source": [
    "import pandas as pd\n",
    "import numpy as np\n",
    "import matplotlib.pyplot as plt\n",
    "import plotly.express as px\n",
    "import seaborn as sns\n",
    "from sklearn.metrics import mean_squared_error\n",
    "    \n",
    "from custom_functions import *\n",
    "from regression_custom_functions import *"
   ]
  },
  {
   "cell_type": "code",
   "execution_count": 35,
   "id": "4e6f8f94-7589-44ff-9b7c-b9bdf9b3d59e",
   "metadata": {},
   "outputs": [],
   "source": [
    "# Import datasets and predictions\n",
    "df_proposal = pd.read_csv('../data/cleaned_datasets/df_models.csv')\n",
    "proposal_predictions = pd.read_csv('../data/predictions/proposal_forecast.csv')\n",
    "new_model_predictions = pd.read_csv('../data/predictions/new_models_predictions.csv')\n",
    "\n",
    "# Drop items not on proposal\n",
    "df_proposal.dropna(subset='proposal_priority',inplace=True)"
   ]
  },
  {
   "cell_type": "code",
   "execution_count": 36,
   "id": "e5bef6ca-66e6-4ca5-b67f-117e8a5fce9c",
   "metadata": {},
   "outputs": [
    {
     "data": {
      "text/plain": [
       "Index(['style_id', 'max_cart_qty', 'availability', 'qty_on_hand',\n",
       "       'qty_on_order', 'qty_total_inv', 'qty_sold_last_6m', 'qty_avg/mo',\n",
       "       'months_of_supply', 'xyz_cost', 'qty_xyz_cost', 'wholesale_price',\n",
       "       'country_of_origin', 'warranty', 'band_color', 'band_material',\n",
       "       'case_material', 'dial_color', 'case_size', 'gender', 'color',\n",
       "       'retail_price', 'collection', 'clasp_type', 'water_resistance',\n",
       "       'movement_type', 'proposal_priority', 'status', 'planned_order'],\n",
       "      dtype='object')"
      ]
     },
     "execution_count": 36,
     "metadata": {},
     "output_type": "execute_result"
    }
   ],
   "source": [
    "return_nondate_col(df_proposal).columns"
   ]
  },
  {
   "cell_type": "code",
   "execution_count": 37,
   "id": "2ecfc2fb-2914-4b9f-9370-d3fa7a6f859f",
   "metadata": {},
   "outputs": [],
   "source": [
    "order_sheet_columns = ['style_id','proposal_priority', 'availability', \n",
    "       'max_cart_qty', 'retail_price', 'wholesale_price','xyz_cost','qty_total_inv', 'planned_order']"
   ]
  },
  {
   "cell_type": "code",
   "execution_count": 38,
   "id": "5b60c331-7f4a-4035-b375-e0133d91ade3",
   "metadata": {},
   "outputs": [],
   "source": [
    "order_sheet = df_proposal[order_sheet_columns]"
   ]
  },
  {
   "cell_type": "markdown",
   "id": "15788b12-4d08-48e8-a58c-0e1bd3fc6787",
   "metadata": {},
   "source": [
    "## Create new dataframe that merges proposal, proposal forecast, new models, and new model predictions to create an overall order."
   ]
  },
  {
   "cell_type": "code",
   "execution_count": 39,
   "id": "fbd2290d-f29a-4e6f-ae77-6010cc428129",
   "metadata": {},
   "outputs": [],
   "source": [
    "order_sheet = order_sheet.merge(proposal_predictions, how = 'left', on = 'style_id')\n",
    "order_sheet = order_sheet.merge(new_model_predictions, how = 'left', on = 'style_id')"
   ]
  },
  {
   "cell_type": "code",
   "execution_count": 40,
   "id": "2d7e2165-7b48-40c5-bceb-c11f2c373b5a",
   "metadata": {},
   "outputs": [],
   "source": [
    "order_sheet['quarterly_forecast'] = 0\n",
    "order_sheet['order'] = 0\n",
    "for i in order_sheet.index:\n",
    "    base = 5\n",
    "    if str(order_sheet.loc[i,'monthly_forecast_Q3']) == \"nan\":\n",
    "        quarterly = 3 * order_sheet.loc[i,'monthly_predictions_Q3']\n",
    "        order = quarterly\n",
    "    else:\n",
    "        quarterly = 3 * order_sheet.loc[i,'monthly_forecast_Q3']\n",
    "        order = quarterly - order_sheet.loc[i,'qty_total_inv']\n",
    "        if order < 0:\n",
    "            order = 0\n",
    "    order_sheet.loc[i,'quarterly_forecast'] = round(quarterly)\n",
    "    order_sheet.loc[i,'order'] = base * round(order/base)"
   ]
  },
  {
   "cell_type": "code",
   "execution_count": 41,
   "id": "34b843ce-17bf-44ad-9311-e8078208e6ef",
   "metadata": {},
   "outputs": [
    {
     "data": {
      "text/html": [
       "<div>\n",
       "<style scoped>\n",
       "    .dataframe tbody tr th:only-of-type {\n",
       "        vertical-align: middle;\n",
       "    }\n",
       "\n",
       "    .dataframe tbody tr th {\n",
       "        vertical-align: top;\n",
       "    }\n",
       "\n",
       "    .dataframe thead th {\n",
       "        text-align: right;\n",
       "    }\n",
       "</style>\n",
       "<table border=\"1\" class=\"dataframe\">\n",
       "  <thead>\n",
       "    <tr style=\"text-align: right;\">\n",
       "      <th></th>\n",
       "      <th>style_id</th>\n",
       "      <th>proposal_priority</th>\n",
       "      <th>availability</th>\n",
       "      <th>max_cart_qty</th>\n",
       "      <th>retail_price</th>\n",
       "      <th>wholesale_price</th>\n",
       "      <th>xyz_cost</th>\n",
       "      <th>qty_total_inv</th>\n",
       "      <th>planned_order</th>\n",
       "      <th>monthly_forecast_Q3</th>\n",
       "      <th>monthly_predictions_Q3</th>\n",
       "      <th>quarterly_forecast</th>\n",
       "      <th>order</th>\n",
       "    </tr>\n",
       "  </thead>\n",
       "  <tbody>\n",
       "    <tr>\n",
       "      <th>0</th>\n",
       "      <td>ce1107</td>\n",
       "      <td>c</td>\n",
       "      <td>available</td>\n",
       "      <td>100</td>\n",
       "      <td>219.0</td>\n",
       "      <td>109.5</td>\n",
       "      <td>76.65</td>\n",
       "      <td>12.0</td>\n",
       "      <td>10.0</td>\n",
       "      <td>5.537037</td>\n",
       "      <td>NaN</td>\n",
       "      <td>17</td>\n",
       "      <td>5</td>\n",
       "    </tr>\n",
       "    <tr>\n",
       "      <th>1</th>\n",
       "      <td>ce1108</td>\n",
       "      <td>c</td>\n",
       "      <td>available</td>\n",
       "      <td>100</td>\n",
       "      <td>219.0</td>\n",
       "      <td>109.5</td>\n",
       "      <td>76.65</td>\n",
       "      <td>17.0</td>\n",
       "      <td>0.0</td>\n",
       "      <td>2.259259</td>\n",
       "      <td>NaN</td>\n",
       "      <td>7</td>\n",
       "      <td>0</td>\n",
       "    </tr>\n",
       "    <tr>\n",
       "      <th>2</th>\n",
       "      <td>ce1111</td>\n",
       "      <td>c</td>\n",
       "      <td>available</td>\n",
       "      <td>100</td>\n",
       "      <td>230.0</td>\n",
       "      <td>115.0</td>\n",
       "      <td>80.50</td>\n",
       "      <td>0.0</td>\n",
       "      <td>10.0</td>\n",
       "      <td>0.000000</td>\n",
       "      <td>NaN</td>\n",
       "      <td>0</td>\n",
       "      <td>0</td>\n",
       "    </tr>\n",
       "    <tr>\n",
       "      <th>3</th>\n",
       "      <td>ce1112</td>\n",
       "      <td>c</td>\n",
       "      <td>available</td>\n",
       "      <td>100</td>\n",
       "      <td>219.0</td>\n",
       "      <td>109.5</td>\n",
       "      <td>76.65</td>\n",
       "      <td>8.0</td>\n",
       "      <td>5.0</td>\n",
       "      <td>3.666667</td>\n",
       "      <td>NaN</td>\n",
       "      <td>11</td>\n",
       "      <td>5</td>\n",
       "    </tr>\n",
       "    <tr>\n",
       "      <th>4</th>\n",
       "      <td>ce1113</td>\n",
       "      <td>c</td>\n",
       "      <td>available</td>\n",
       "      <td>100</td>\n",
       "      <td>219.0</td>\n",
       "      <td>109.5</td>\n",
       "      <td>76.65</td>\n",
       "      <td>14.0</td>\n",
       "      <td>5.0</td>\n",
       "      <td>4.333333</td>\n",
       "      <td>NaN</td>\n",
       "      <td>13</td>\n",
       "      <td>0</td>\n",
       "    </tr>\n",
       "    <tr>\n",
       "      <th>...</th>\n",
       "      <td>...</td>\n",
       "      <td>...</td>\n",
       "      <td>...</td>\n",
       "      <td>...</td>\n",
       "      <td>...</td>\n",
       "      <td>...</td>\n",
       "      <td>...</td>\n",
       "      <td>...</td>\n",
       "      <td>...</td>\n",
       "      <td>...</td>\n",
       "      <td>...</td>\n",
       "      <td>...</td>\n",
       "      <td>...</td>\n",
       "    </tr>\n",
       "    <tr>\n",
       "      <th>295</th>\n",
       "      <td>fs5949</td>\n",
       "      <td>2022h3</td>\n",
       "      <td>delivery more than 6 weeks</td>\n",
       "      <td>NaN</td>\n",
       "      <td>155.0</td>\n",
       "      <td>77.5</td>\n",
       "      <td>54.25</td>\n",
       "      <td>0.0</td>\n",
       "      <td>50.0</td>\n",
       "      <td>NaN</td>\n",
       "      <td>0.985520</td>\n",
       "      <td>3</td>\n",
       "      <td>5</td>\n",
       "    </tr>\n",
       "    <tr>\n",
       "      <th>296</th>\n",
       "      <td>fs5950</td>\n",
       "      <td>2022h3</td>\n",
       "      <td>delivery more than 6 weeks</td>\n",
       "      <td>NaN</td>\n",
       "      <td>155.0</td>\n",
       "      <td>77.5</td>\n",
       "      <td>54.25</td>\n",
       "      <td>0.0</td>\n",
       "      <td>40.0</td>\n",
       "      <td>NaN</td>\n",
       "      <td>2.909343</td>\n",
       "      <td>9</td>\n",
       "      <td>10</td>\n",
       "    </tr>\n",
       "    <tr>\n",
       "      <th>297</th>\n",
       "      <td>fs5951</td>\n",
       "      <td>2022h3</td>\n",
       "      <td>delivery more than 6 weeks</td>\n",
       "      <td>NaN</td>\n",
       "      <td>155.0</td>\n",
       "      <td>77.5</td>\n",
       "      <td>54.25</td>\n",
       "      <td>0.0</td>\n",
       "      <td>50.0</td>\n",
       "      <td>NaN</td>\n",
       "      <td>2.618136</td>\n",
       "      <td>8</td>\n",
       "      <td>10</td>\n",
       "    </tr>\n",
       "    <tr>\n",
       "      <th>298</th>\n",
       "      <td>fs5952</td>\n",
       "      <td>2022h3</td>\n",
       "      <td>delivery more than 6 weeks</td>\n",
       "      <td>NaN</td>\n",
       "      <td>155.0</td>\n",
       "      <td>77.5</td>\n",
       "      <td>54.25</td>\n",
       "      <td>0.0</td>\n",
       "      <td>50.0</td>\n",
       "      <td>NaN</td>\n",
       "      <td>1.385113</td>\n",
       "      <td>4</td>\n",
       "      <td>5</td>\n",
       "    </tr>\n",
       "    <tr>\n",
       "      <th>299</th>\n",
       "      <td>le1156</td>\n",
       "      <td>2022h3</td>\n",
       "      <td>delivery more than 6 weeks</td>\n",
       "      <td>NaN</td>\n",
       "      <td>195.0</td>\n",
       "      <td>97.5</td>\n",
       "      <td>68.25</td>\n",
       "      <td>0.0</td>\n",
       "      <td>0.0</td>\n",
       "      <td>NaN</td>\n",
       "      <td>0.023750</td>\n",
       "      <td>0</td>\n",
       "      <td>0</td>\n",
       "    </tr>\n",
       "  </tbody>\n",
       "</table>\n",
       "<p>300 rows × 13 columns</p>\n",
       "</div>"
      ],
      "text/plain": [
       "    style_id proposal_priority                availability max_cart_qty  \\\n",
       "0     ce1107                 c                   available          100   \n",
       "1     ce1108                 c                   available          100   \n",
       "2     ce1111                 c                   available          100   \n",
       "3     ce1112                 c                   available          100   \n",
       "4     ce1113                 c                   available          100   \n",
       "..       ...               ...                         ...          ...   \n",
       "295   fs5949            2022h3  delivery more than 6 weeks          NaN   \n",
       "296   fs5950            2022h3  delivery more than 6 weeks          NaN   \n",
       "297   fs5951            2022h3  delivery more than 6 weeks          NaN   \n",
       "298   fs5952            2022h3  delivery more than 6 weeks          NaN   \n",
       "299   le1156            2022h3  delivery more than 6 weeks          NaN   \n",
       "\n",
       "     retail_price  wholesale_price  xyz_cost  qty_total_inv  planned_order  \\\n",
       "0           219.0            109.5     76.65           12.0           10.0   \n",
       "1           219.0            109.5     76.65           17.0            0.0   \n",
       "2           230.0            115.0     80.50            0.0           10.0   \n",
       "3           219.0            109.5     76.65            8.0            5.0   \n",
       "4           219.0            109.5     76.65           14.0            5.0   \n",
       "..            ...              ...       ...            ...            ...   \n",
       "295         155.0             77.5     54.25            0.0           50.0   \n",
       "296         155.0             77.5     54.25            0.0           40.0   \n",
       "297         155.0             77.5     54.25            0.0           50.0   \n",
       "298         155.0             77.5     54.25            0.0           50.0   \n",
       "299         195.0             97.5     68.25            0.0            0.0   \n",
       "\n",
       "     monthly_forecast_Q3  monthly_predictions_Q3  quarterly_forecast  order  \n",
       "0               5.537037                     NaN                  17      5  \n",
       "1               2.259259                     NaN                   7      0  \n",
       "2               0.000000                     NaN                   0      0  \n",
       "3               3.666667                     NaN                  11      5  \n",
       "4               4.333333                     NaN                  13      0  \n",
       "..                   ...                     ...                 ...    ...  \n",
       "295                  NaN                0.985520                   3      5  \n",
       "296                  NaN                2.909343                   9     10  \n",
       "297                  NaN                2.618136                   8     10  \n",
       "298                  NaN                1.385113                   4      5  \n",
       "299                  NaN                0.023750                   0      0  \n",
       "\n",
       "[300 rows x 13 columns]"
      ]
     },
     "execution_count": 41,
     "metadata": {},
     "output_type": "execute_result"
    }
   ],
   "source": [
    "order_sheet"
   ]
  },
  {
   "cell_type": "code",
   "execution_count": 42,
   "id": "cf072f66-6fbe-4081-be2d-cccdeb22bcfd",
   "metadata": {
    "tags": []
   },
   "outputs": [
    {
     "name": "stderr",
     "output_type": "stream",
     "text": [
      "/Applications/anaconda3/lib/python3.8/site-packages/statsmodels/nonparametric/smoothers_lowess.py:227: RuntimeWarning: invalid value encountered in true_divide\n",
      "  res, _ = _lowess(y, x, x, np.ones_like(x),\n"
     ]
    },
    {
     "data": {
      "image/png": "[encoded data removed]",
      "text/plain": [
       "<Figure size 432x288 with 1 Axes>"
      ]
     },
     "metadata": {
      "needs_background": "light"
     },
     "output_type": "display_data"
    },
    {
     "data": {
      "image/png": "[encoded data removed]",
      "text/plain": [
       "<Figure size 432x288 with 1 Axes>"
      ]
     },
     "metadata": {
      "needs_background": "light"
     },
     "output_type": "display_data"
    }
   ],
   "source": [
    "plot_preds(order_sheet['planned_order'], order_sheet['order'], 'Order Estimate')"
   ]
  },
  {
   "cell_type": "code",
   "execution_count": 43,
   "id": "2481d25d-07b6-47bd-b295-a7b8568d7685",
   "metadata": {},
   "outputs": [
    {
     "data": {
      "text/plain": [
       "11.503622617824933"
      ]
     },
     "execution_count": 43,
     "metadata": {},
     "output_type": "execute_result"
    }
   ],
   "source": [
    "mean_squared_error(order_sheet['planned_order'],order_sheet['order'],squared=False)"
   ]
  },
  {
   "cell_type": "code",
   "execution_count": 44,
   "id": "e01323c9-e244-444f-b363-089f9d739193",
   "metadata": {},
   "outputs": [],
   "source": [
    "order_sheet.to_csv('../data/predictions/order_sheet.csv',index=False)"
   ]
  },
  {
   "cell_type": "code",
   "execution_count": null,
   "id": "7ff6065b-102d-477e-8cc9-4691e53ae79b",
   "metadata": {},
   "outputs": [],
   "source": []
  }
 ],
 "metadata": {
  "kernelspec": {
   "display_name": "Python 3 (ipykernel)",
   "language": "python",
   "name": "python3"
  },
  "language_info": {
   "codemirror_mode": {
    "name": "ipython",
    "version": 3
   },
   "file_extension": ".py",
   "mimetype": "text/x-python",
   "name": "python",
   "nbconvert_exporter": "python",
   "pygments_lexer": "ipython3",
   "version": "3.8.8"
  }
 },
 "nbformat": 4,
 "nbformat_minor": 5
}
