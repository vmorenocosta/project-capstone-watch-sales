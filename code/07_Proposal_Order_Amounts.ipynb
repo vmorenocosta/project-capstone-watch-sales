{
 "cells": [
  {
   "cell_type": "markdown",
   "id": "9c02ea90-36d6-46ff-922f-93ddb42b9a9b",
   "metadata": {},
   "source": [
    "# Notebook 07: Proposal Order Amounts\n",
    "\n",
    "This notebook generates sales orders for the 2022H3 proposal using forecasting and regression predictions generated in [Notebook 4: Forecasting Monthly](04_Forecasting_Monthly.ipynb) and [Notebook 5: Regression Predict Sales](05_Regression_Predict_Sales.ipynb)."
   ]
  },
  {
   "cell_type": "code",
   "execution_count": 1,
   "id": "1df8d6c4-6856-4c26-82a2-f3a339d609fa",
   "metadata": {},
   "outputs": [],
   "source": [
    "import pandas as pd\n",
    "import numpy as np\n",
    "import matplotlib.pyplot as plt\n",
    "import plotly.express as px\n",
    "import seaborn as sns"
   ]
  },
  {
   "cell_type": "code",
   "execution_count": 2,
   "id": "8f073421-85f2-484f-b5a3-6027055d8649",
   "metadata": {},
   "outputs": [],
   "source": [
    "# Import datasets\n",
    "proposal = pd.read_csv('../cleaned_datasets/proposal.csv')\n",
    "proposal_predictions = pd.read_csv('../cleaned_datasets/proposal_forecast.csv')\n",
    "\n",
    "new_models = pd.read_csv('../cleaned_datasets/proposal_new_models.csv')\n",
    "new_model_predictions = pd.read_csv('../cleaned_datasets/new_models_predictions.csv')"
   ]
  },
  {
   "cell_type": "markdown",
   "id": "15788b12-4d08-48e8-a58c-0e1bd3fc6787",
   "metadata": {},
   "source": [
    "## Create new dataframe that merges proposal, proposal forecast, new models, and new model predictions to create an overall order."
   ]
  },
  {
   "cell_type": "code",
   "execution_count": 3,
   "id": "fc81fe0a-fbfb-4714-99f8-0eccef1beb75",
   "metadata": {},
   "outputs": [
    {
     "data": {
      "text/html": [
       "<div>\n",
       "<style scoped>\n",
       "    .dataframe tbody tr th:only-of-type {\n",
       "        vertical-align: middle;\n",
       "    }\n",
       "\n",
       "    .dataframe tbody tr th {\n",
       "        vertical-align: top;\n",
       "    }\n",
       "\n",
       "    .dataframe thead th {\n",
       "        text-align: right;\n",
       "    }\n",
       "</style>\n",
       "<table border=\"1\" class=\"dataframe\">\n",
       "  <thead>\n",
       "    <tr style=\"text-align: right;\">\n",
       "      <th></th>\n",
       "      <th>style_id</th>\n",
       "      <th>upc_num</th>\n",
       "      <th>priority</th>\n",
       "      <th>case</th>\n",
       "      <th>availability</th>\n",
       "      <th>qty_on_hand</th>\n",
       "      <th>qty_on_order</th>\n",
       "      <th>qty_total</th>\n",
       "      <th>qty_sales_order</th>\n",
       "      <th>qty_sold_last_6m</th>\n",
       "      <th>...</th>\n",
       "      <th>clasp_type</th>\n",
       "      <th>dial_color</th>\n",
       "      <th>movement_type</th>\n",
       "      <th>water_resistant</th>\n",
       "      <th>max_cart_qty</th>\n",
       "      <th>case_size</th>\n",
       "      <th>gender</th>\n",
       "      <th>retail_price</th>\n",
       "      <th>collection</th>\n",
       "      <th>wholesale_price</th>\n",
       "    </tr>\n",
       "  </thead>\n",
       "  <tbody>\n",
       "    <tr>\n",
       "      <th>0</th>\n",
       "      <td>CE1107</td>\n",
       "      <td>796483527706</td>\n",
       "      <td>C</td>\n",
       "      <td>35MM</td>\n",
       "      <td>Available</td>\n",
       "      <td>12.0</td>\n",
       "      <td>0</td>\n",
       "      <td>12.0</td>\n",
       "      <td>10.0</td>\n",
       "      <td>43</td>\n",
       "      <td>...</td>\n",
       "      <td>Fold-over</td>\n",
       "      <td>White</td>\n",
       "      <td>Quartz</td>\n",
       "      <td>100m - 330ft - 10atm</td>\n",
       "      <td>100.0</td>\n",
       "      <td>35.0</td>\n",
       "      <td>Ladies</td>\n",
       "      <td>230.0</td>\n",
       "      <td>Fb - 01</td>\n",
       "      <td>115.0</td>\n",
       "    </tr>\n",
       "  </tbody>\n",
       "</table>\n",
       "<p>1 rows × 44 columns</p>\n",
       "</div>"
      ],
      "text/plain": [
       "  style_id       upc_num priority  case availability  qty_on_hand  \\\n",
       "0   CE1107  796483527706        C  35MM    Available         12.0   \n",
       "\n",
       "   qty_on_order  qty_total  qty_sales_order  qty_sold_last_6m  ...  \\\n",
       "0             0       12.0             10.0                43  ...   \n",
       "\n",
       "   clasp_type  dial_color  movement_type       water_resistant max_cart_qty  \\\n",
       "0   Fold-over       White         Quartz  100m - 330ft - 10atm        100.0   \n",
       "\n",
       "   case_size  gender  retail_price  collection  wholesale_price  \n",
       "0       35.0  Ladies         230.0     Fb - 01            115.0  \n",
       "\n",
       "[1 rows x 44 columns]"
      ]
     },
     "execution_count": 3,
     "metadata": {},
     "output_type": "execute_result"
    }
   ],
   "source": [
    "proposal.head(1)"
   ]
  },
  {
   "cell_type": "code",
   "execution_count": 4,
   "id": "8e200002-11e1-4a0a-9d74-9cf46985f774",
   "metadata": {},
   "outputs": [
    {
     "data": {
      "text/plain": [
       "Index(['style_id', 'upc_num', 'priority', 'case', 'availability',\n",
       "       'qty_on_hand', 'qty_on_order', 'qty_total', 'qty_sales_order',\n",
       "       'qty_sold_last_6m', 'qty_avg/mo', 'months_of_supply', 'cte_cost',\n",
       "       'qty_cte_cost', 'status', '2015', '2016', '2017', '2018', '2019',\n",
       "       '2020', '2021', '2022-01', '2022-02', '2022-03', '2022-04',\n",
       "       'total_sales_2022', 'monthly_avg_2022', 'color', 'country_of_origin',\n",
       "       'warranty', 'band_color', 'band_material', 'case_material',\n",
       "       'clasp_type', 'dial_color', 'movement_type', 'water_resistant',\n",
       "       'max_cart_qty', 'case_size', 'gender', 'retail_price', 'collection',\n",
       "       'wholesale_price'],\n",
       "      dtype='object')"
      ]
     },
     "execution_count": 4,
     "metadata": {},
     "output_type": "execute_result"
    }
   ],
   "source": [
    "proposal.columns"
   ]
  },
  {
   "cell_type": "code",
   "execution_count": 5,
   "id": "2ecfc2fb-2914-4b9f-9370-d3fa7a6f859f",
   "metadata": {},
   "outputs": [],
   "source": [
    "order_sheet_columns = ['style_id','priority', 'availability', 'qty_total', 'qty_sales_order',\n",
    "       'cte_cost','max_cart_qty', 'retail_price', 'wholesale_price']"
   ]
  },
  {
   "cell_type": "code",
   "execution_count": 6,
   "id": "c933227d-86f7-4b16-9ff0-6347c78a98d2",
   "metadata": {},
   "outputs": [
    {
     "name": "stdout",
     "output_type": "stream",
     "text": [
      "New models missing max_cart_qty\n"
     ]
    }
   ],
   "source": [
    "for col in order_sheet_columns:\n",
    "    if col not in proposal.columns:\n",
    "        print(f'Proposal missing {col}')\n",
    "        order_sheet_columns.remove(col)\n",
    "    if col not in new_models.columns:\n",
    "        print(f'New models missing {col}')\n",
    "        order_sheet_columns.remove(col)"
   ]
  },
  {
   "cell_type": "code",
   "execution_count": 7,
   "id": "f8869973-6e52-4489-95c6-85a6cf067b47",
   "metadata": {},
   "outputs": [],
   "source": [
    "order_sheet = proposal[order_sheet_columns]"
   ]
  },
  {
   "cell_type": "code",
   "execution_count": 8,
   "id": "8e681693-1053-425c-8aac-18b5016cb943",
   "metadata": {},
   "outputs": [],
   "source": [
    "order_sheet = pd.concat([proposal[order_sheet_columns], new_models[order_sheet_columns]],ignore_index=True)"
   ]
  },
  {
   "cell_type": "code",
   "execution_count": 9,
   "id": "fbd2290d-f29a-4e6f-ae77-6010cc428129",
   "metadata": {},
   "outputs": [],
   "source": [
    "order_sheet = order_sheet.merge(proposal_predictions, how = 'left', on = 'style_id')\n",
    "order_sheet = order_sheet.merge(new_model_predictions, how = 'left', on = 'style_id')"
   ]
  },
  {
   "cell_type": "code",
   "execution_count": 10,
   "id": "2d7e2165-7b48-40c5-bceb-c11f2c373b5a",
   "metadata": {},
   "outputs": [],
   "source": [
    "order_sheet['quarterly_forecast'] = 0\n",
    "order_sheet['order'] = 0\n",
    "for i in order_sheet.index:\n",
    "    base = 5\n",
    "    if str(order_sheet.loc[i,'monthly_forecast_Q3']) == \"nan\":\n",
    "        quarterly = 3 * order_sheet.loc[i,'monthly_predictions_Q3']\n",
    "        order = quarterly\n",
    "    else:\n",
    "        quarterly = 3 * order_sheet.loc[i,'monthly_forecast_Q3']\n",
    "        order = quarterly - order_sheet.loc[i,'qty_total']\n",
    "        if order < 0:\n",
    "            order = 0\n",
    "    order_sheet.loc[i,'quarterly_forecast'] = round(quarterly)\n",
    "    order_sheet.loc[i,'order'] = base * round(order/base)"
   ]
  },
  {
   "cell_type": "code",
   "execution_count": 11,
   "id": "34b843ce-17bf-44ad-9311-e8078208e6ef",
   "metadata": {},
   "outputs": [
    {
     "data": {
      "text/html": [
       "<div>\n",
       "<style scoped>\n",
       "    .dataframe tbody tr th:only-of-type {\n",
       "        vertical-align: middle;\n",
       "    }\n",
       "\n",
       "    .dataframe tbody tr th {\n",
       "        vertical-align: top;\n",
       "    }\n",
       "\n",
       "    .dataframe thead th {\n",
       "        text-align: right;\n",
       "    }\n",
       "</style>\n",
       "<table border=\"1\" class=\"dataframe\">\n",
       "  <thead>\n",
       "    <tr style=\"text-align: right;\">\n",
       "      <th></th>\n",
       "      <th>style_id</th>\n",
       "      <th>priority</th>\n",
       "      <th>availability</th>\n",
       "      <th>qty_total</th>\n",
       "      <th>qty_sales_order</th>\n",
       "      <th>cte_cost</th>\n",
       "      <th>retail_price</th>\n",
       "      <th>wholesale_price</th>\n",
       "      <th>monthly_forecast_Q3</th>\n",
       "      <th>monthly_predictions_Q3</th>\n",
       "      <th>quarterly_forecast</th>\n",
       "      <th>order</th>\n",
       "    </tr>\n",
       "  </thead>\n",
       "  <tbody>\n",
       "    <tr>\n",
       "      <th>0</th>\n",
       "      <td>CE1107</td>\n",
       "      <td>C</td>\n",
       "      <td>Available</td>\n",
       "      <td>12.0</td>\n",
       "      <td>10.0</td>\n",
       "      <td>80.50</td>\n",
       "      <td>230.0</td>\n",
       "      <td>115.0</td>\n",
       "      <td>5.537037</td>\n",
       "      <td>NaN</td>\n",
       "      <td>17</td>\n",
       "      <td>5</td>\n",
       "    </tr>\n",
       "    <tr>\n",
       "      <th>1</th>\n",
       "      <td>CE1108</td>\n",
       "      <td>C</td>\n",
       "      <td>Available</td>\n",
       "      <td>17.0</td>\n",
       "      <td>0.0</td>\n",
       "      <td>80.50</td>\n",
       "      <td>230.0</td>\n",
       "      <td>115.0</td>\n",
       "      <td>2.259259</td>\n",
       "      <td>NaN</td>\n",
       "      <td>7</td>\n",
       "      <td>0</td>\n",
       "    </tr>\n",
       "    <tr>\n",
       "      <th>2</th>\n",
       "      <td>CE1111</td>\n",
       "      <td>C</td>\n",
       "      <td>Available</td>\n",
       "      <td>0.0</td>\n",
       "      <td>10.0</td>\n",
       "      <td>80.50</td>\n",
       "      <td>230.0</td>\n",
       "      <td>115.0</td>\n",
       "      <td>0.000000</td>\n",
       "      <td>NaN</td>\n",
       "      <td>0</td>\n",
       "      <td>0</td>\n",
       "    </tr>\n",
       "    <tr>\n",
       "      <th>3</th>\n",
       "      <td>CE1112</td>\n",
       "      <td>C</td>\n",
       "      <td>Available</td>\n",
       "      <td>8.0</td>\n",
       "      <td>5.0</td>\n",
       "      <td>80.50</td>\n",
       "      <td>230.0</td>\n",
       "      <td>115.0</td>\n",
       "      <td>3.666667</td>\n",
       "      <td>NaN</td>\n",
       "      <td>11</td>\n",
       "      <td>5</td>\n",
       "    </tr>\n",
       "    <tr>\n",
       "      <th>4</th>\n",
       "      <td>CE1113</td>\n",
       "      <td>C</td>\n",
       "      <td>Available</td>\n",
       "      <td>14.0</td>\n",
       "      <td>5.0</td>\n",
       "      <td>80.50</td>\n",
       "      <td>230.0</td>\n",
       "      <td>115.0</td>\n",
       "      <td>4.333333</td>\n",
       "      <td>NaN</td>\n",
       "      <td>13</td>\n",
       "      <td>0</td>\n",
       "    </tr>\n",
       "    <tr>\n",
       "      <th>...</th>\n",
       "      <td>...</td>\n",
       "      <td>...</td>\n",
       "      <td>...</td>\n",
       "      <td>...</td>\n",
       "      <td>...</td>\n",
       "      <td>...</td>\n",
       "      <td>...</td>\n",
       "      <td>...</td>\n",
       "      <td>...</td>\n",
       "      <td>...</td>\n",
       "      <td>...</td>\n",
       "      <td>...</td>\n",
       "    </tr>\n",
       "    <tr>\n",
       "      <th>295</th>\n",
       "      <td>FS5949</td>\n",
       "      <td>2022h3</td>\n",
       "      <td>Delivery more than 6 weeks</td>\n",
       "      <td>0.0</td>\n",
       "      <td>30.0</td>\n",
       "      <td>54.25</td>\n",
       "      <td>155.0</td>\n",
       "      <td>77.5</td>\n",
       "      <td>NaN</td>\n",
       "      <td>0.770483</td>\n",
       "      <td>2</td>\n",
       "      <td>0</td>\n",
       "    </tr>\n",
       "    <tr>\n",
       "      <th>296</th>\n",
       "      <td>FS5950</td>\n",
       "      <td>2022h3</td>\n",
       "      <td>Delivery more than 6 weeks</td>\n",
       "      <td>0.0</td>\n",
       "      <td>30.0</td>\n",
       "      <td>54.25</td>\n",
       "      <td>155.0</td>\n",
       "      <td>77.5</td>\n",
       "      <td>NaN</td>\n",
       "      <td>0.844788</td>\n",
       "      <td>3</td>\n",
       "      <td>5</td>\n",
       "    </tr>\n",
       "    <tr>\n",
       "      <th>297</th>\n",
       "      <td>FS5951</td>\n",
       "      <td>2022h3</td>\n",
       "      <td>Delivery more than 6 weeks</td>\n",
       "      <td>0.0</td>\n",
       "      <td>30.0</td>\n",
       "      <td>54.25</td>\n",
       "      <td>155.0</td>\n",
       "      <td>77.5</td>\n",
       "      <td>NaN</td>\n",
       "      <td>0.648255</td>\n",
       "      <td>2</td>\n",
       "      <td>0</td>\n",
       "    </tr>\n",
       "    <tr>\n",
       "      <th>298</th>\n",
       "      <td>FS5952</td>\n",
       "      <td>2022h3</td>\n",
       "      <td>Delivery more than 6 weeks</td>\n",
       "      <td>0.0</td>\n",
       "      <td>30.0</td>\n",
       "      <td>54.25</td>\n",
       "      <td>155.0</td>\n",
       "      <td>77.5</td>\n",
       "      <td>NaN</td>\n",
       "      <td>0.770483</td>\n",
       "      <td>2</td>\n",
       "      <td>0</td>\n",
       "    </tr>\n",
       "    <tr>\n",
       "      <th>299</th>\n",
       "      <td>LE1156</td>\n",
       "      <td>2022h3</td>\n",
       "      <td>Delivery more than 6 weeks</td>\n",
       "      <td>0.0</td>\n",
       "      <td>0.0</td>\n",
       "      <td>68.25</td>\n",
       "      <td>195.0</td>\n",
       "      <td>97.5</td>\n",
       "      <td>NaN</td>\n",
       "      <td>0.412279</td>\n",
       "      <td>1</td>\n",
       "      <td>0</td>\n",
       "    </tr>\n",
       "  </tbody>\n",
       "</table>\n",
       "<p>300 rows × 12 columns</p>\n",
       "</div>"
      ],
      "text/plain": [
       "    style_id priority                availability  qty_total  qty_sales_order  \\\n",
       "0     CE1107        C                   Available       12.0             10.0   \n",
       "1     CE1108        C                   Available       17.0              0.0   \n",
       "2     CE1111        C                   Available        0.0             10.0   \n",
       "3     CE1112        C                   Available        8.0              5.0   \n",
       "4     CE1113        C                   Available       14.0              5.0   \n",
       "..       ...      ...                         ...        ...              ...   \n",
       "295   FS5949   2022h3  Delivery more than 6 weeks        0.0             30.0   \n",
       "296   FS5950   2022h3  Delivery more than 6 weeks        0.0             30.0   \n",
       "297   FS5951   2022h3  Delivery more than 6 weeks        0.0             30.0   \n",
       "298   FS5952   2022h3  Delivery more than 6 weeks        0.0             30.0   \n",
       "299   LE1156   2022h3  Delivery more than 6 weeks        0.0              0.0   \n",
       "\n",
       "     cte_cost  retail_price  wholesale_price  monthly_forecast_Q3  \\\n",
       "0       80.50         230.0            115.0             5.537037   \n",
       "1       80.50         230.0            115.0             2.259259   \n",
       "2       80.50         230.0            115.0             0.000000   \n",
       "3       80.50         230.0            115.0             3.666667   \n",
       "4       80.50         230.0            115.0             4.333333   \n",
       "..        ...           ...              ...                  ...   \n",
       "295     54.25         155.0             77.5                  NaN   \n",
       "296     54.25         155.0             77.5                  NaN   \n",
       "297     54.25         155.0             77.5                  NaN   \n",
       "298     54.25         155.0             77.5                  NaN   \n",
       "299     68.25         195.0             97.5                  NaN   \n",
       "\n",
       "     monthly_predictions_Q3  quarterly_forecast  order  \n",
       "0                       NaN                  17      5  \n",
       "1                       NaN                   7      0  \n",
       "2                       NaN                   0      0  \n",
       "3                       NaN                  11      5  \n",
       "4                       NaN                  13      0  \n",
       "..                      ...                 ...    ...  \n",
       "295                0.770483                   2      0  \n",
       "296                0.844788                   3      5  \n",
       "297                0.648255                   2      0  \n",
       "298                0.770483                   2      0  \n",
       "299                0.412279                   1      0  \n",
       "\n",
       "[300 rows x 12 columns]"
      ]
     },
     "execution_count": 11,
     "metadata": {},
     "output_type": "execute_result"
    }
   ],
   "source": [
    "order_sheet"
   ]
  },
  {
   "cell_type": "code",
   "execution_count": 12,
   "id": "4243ee83-5736-47dd-8eda-0feaf5cf7334",
   "metadata": {},
   "outputs": [
    {
     "name": "stdout",
     "output_type": "stream",
     "text": [
      "<class 'pandas.core.frame.DataFrame'>\n",
      "Int64Index: 300 entries, 0 to 299\n",
      "Data columns (total 12 columns):\n",
      " #   Column                  Non-Null Count  Dtype  \n",
      "---  ------                  --------------  -----  \n",
      " 0   style_id                300 non-null    object \n",
      " 1   priority                300 non-null    object \n",
      " 2   availability            300 non-null    object \n",
      " 3   qty_total               300 non-null    float64\n",
      " 4   qty_sales_order         300 non-null    float64\n",
      " 5   cte_cost                300 non-null    float64\n",
      " 6   retail_price            300 non-null    float64\n",
      " 7   wholesale_price         300 non-null    float64\n",
      " 8   monthly_forecast_Q3     265 non-null    float64\n",
      " 9   monthly_predictions_Q3  35 non-null     float64\n",
      " 10  quarterly_forecast      300 non-null    int64  \n",
      " 11  order                   300 non-null    int64  \n",
      "dtypes: float64(7), int64(2), object(3)\n",
      "memory usage: 38.6+ KB\n"
     ]
    }
   ],
   "source": [
    "order_sheet.info()"
   ]
  },
  {
   "cell_type": "code",
   "execution_count": 13,
   "id": "614c25c7-79a5-4410-a5d0-3add9e8109e4",
   "metadata": {},
   "outputs": [],
   "source": [
    "for i in order_sheet.index:\n",
    "    try:\n",
    "        order_sheet.loc[i,'qty_sales_order'] - order_sheet.loc[i,'order']\n",
    "    except:\n",
    "        print(i)"
   ]
  },
  {
   "cell_type": "code",
   "execution_count": 15,
   "id": "eca819de-cb3b-4ed6-ae12-507304a25827",
   "metadata": {},
   "outputs": [],
   "source": [
    "def plot_preds(y_test, preds, model_name):\n",
    "    \"\"\" This function creates two plots: the predictions against the actual values, and the predictions against the residuals.\n",
    "    \n",
    "    Args:\n",
    "        y_test (Pandas series): actual values\n",
    "        preds (Pandas series): predictions\n",
    "    \"\"\"    \n",
    "    residuals = y_test - preds\n",
    "    plt1 = plt.figure()\n",
    "    plt.scatter(preds,y_test)\n",
    "    xpoints = ypoints = plt.xlim()\n",
    "    plt.plot(xpoints, ypoints, linestyle='--', color='k', lw=3, scalex=False, scaley=False)\n",
    "    plt.xlabel('Predicted order')\n",
    "    plt.ylabel('Actual order')\n",
    "    plt.title(f'Predicted vs Actual Order: {model_name}');\n",
    "\n",
    "    plt2 = plt.figure()\n",
    "    plt2.suptitle(f'Residuals vs predicted order: {model_name}')\n",
    "    sns.residplot(x = y_test,\n",
    "                  y = residuals,\n",
    "                  lowess = True,\n",
    "                  line_kws = {'color':'red'})\n",
    "    plt.xlabel('Predicted order')\n",
    "    plt.ylabel('Residuals');\n",
    "    plt.savefig(f\"../images/{model_name.replace(' ','_')}.png\")"
   ]
  },
  {
   "cell_type": "code",
   "execution_count": 16,
   "id": "cf072f66-6fbe-4081-be2d-cccdeb22bcfd",
   "metadata": {
    "tags": []
   },
   "outputs": [
    {
     "name": "stderr",
     "output_type": "stream",
     "text": [
      "/Applications/anaconda3/lib/python3.8/site-packages/statsmodels/nonparametric/smoothers_lowess.py:227: RuntimeWarning: invalid value encountered in true_divide\n",
      "  res, _ = _lowess(y, x, x, np.ones_like(x),\n"
     ]
    },
    {
     "data": {
      "image/png": "[encoded data removed]",
      "text/plain": [
       "<Figure size 432x288 with 1 Axes>"
      ]
     },
     "metadata": {
      "needs_background": "light"
     },
     "output_type": "display_data"
    },
    {
     "data": {
      "image/png": "[encoded data removed]",
      "text/plain": [
       "<Figure size 432x288 with 1 Axes>"
      ]
     },
     "metadata": {
      "needs_background": "light"
     },
     "output_type": "display_data"
    }
   ],
   "source": [
    "plot_preds(order_sheet['qty_sales_order'], order_sheet['order'], 'Order Estimate')"
   ]
  },
  {
   "cell_type": "code",
   "execution_count": null,
   "id": "7ff6065b-102d-477e-8cc9-4691e53ae79b",
   "metadata": {},
   "outputs": [],
   "source": []
  }
 ],
 "metadata": {
  "kernelspec": {
   "display_name": "Python 3 (ipykernel)",
   "language": "python",
   "name": "python3"
  },
  "language_info": {
   "codemirror_mode": {
    "name": "ipython",
    "version": 3
   },
   "file_extension": ".py",
   "mimetype": "text/x-python",
   "name": "python",
   "nbconvert_exporter": "python",
   "pygments_lexer": "ipython3",
   "version": "3.8.8"
  }
 },
 "nbformat": 4,
 "nbformat_minor": 5
}
