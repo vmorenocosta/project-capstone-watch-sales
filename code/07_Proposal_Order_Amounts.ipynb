{
 "cells": [
  {
   "cell_type": "markdown",
   "id": "9c02ea90-36d6-46ff-922f-93ddb42b9a9b",
   "metadata": {
    "tags": []
   },
   "source": [
    "# Notebook 07: Proposal Order Amounts\n",
    "\n",
    "This notebook generates sales orders for the 2022H3 proposal using forecasting and regression predictions generated in [Notebook 4: Forecasting Monthly](04_Forecasting_Monthly.ipynb) and [Notebook 6: Classification Predicting Sales For New Models](05_Classification_Predict_Sales.ipynb)."
   ]
  },
  {
   "cell_type": "code",
   "execution_count": 13,
   "id": "1df8d6c4-6856-4c26-82a2-f3a339d609fa",
   "metadata": {},
   "outputs": [],
   "source": [
    "import pandas as pd\n",
    "import numpy as np\n",
    "import matplotlib.pyplot as plt\n",
    "import plotly.express as px\n",
    "import seaborn as sns\n",
    "from sklearn.metrics import mean_squared_error\n",
    "import datetime\n",
    "    \n",
    "from custom_functions import *\n",
    "from regression_custom_functions import *"
   ]
  },
  {
   "cell_type": "code",
   "execution_count": 2,
   "id": "c51cd5b5-a7ef-43e0-8146-f7eb88573477",
   "metadata": {},
   "outputs": [],
   "source": [
    "# Import datasets and predictions\n",
    "df_proposal = pd.read_csv('../data/cleaned_datasets/df_models.csv')\n",
    "proposal_predictions = pd.read_csv('../data/predictions/proposal_forecast.csv')\n",
    "new_model_predictions = pd.read_csv('../data/predictions/new_models_classifications.csv')\n",
    "\n",
    "# Drop items not on proposal\n",
    "df_proposal.dropna(subset='proposal_priority',inplace=True)\n",
    "\n",
    "# Get names of columns for predictions\n",
    "proposal_preds_column = proposal_predictions.columns[1]\n",
    "new_model_preds_column = new_model_predictions.columns[1]"
   ]
  },
  {
   "cell_type": "markdown",
   "id": "15788b12-4d08-48e8-a58c-0e1bd3fc6787",
   "metadata": {},
   "source": [
    "## Create new dataframe that merges proposal, proposal forecast, new models, and new model predictions to create an overall order."
   ]
  },
  {
   "cell_type": "code",
   "execution_count": 3,
   "id": "a4213cda-2154-433d-b4c1-b83d76786297",
   "metadata": {},
   "outputs": [
    {
     "data": {
      "text/plain": [
       "Index(['style_id', 'max_cart_qty', 'availability', 'qty_on_hand',\n",
       "       'qty_on_order', 'qty_total_inv', 'qty_sold_last_6m', 'qty_avg/mo',\n",
       "       'months_of_supply', 'xyz_cost', 'qty_xyz_cost', 'wholesale_price',\n",
       "       'country_of_origin', 'warranty', 'band_color', 'band_material',\n",
       "       'case_material', 'dial_color', 'case_size', 'gender'],\n",
       "      dtype='object')"
      ]
     },
     "execution_count": 3,
     "metadata": {},
     "output_type": "execute_result"
    }
   ],
   "source": [
    "df_proposal.columns[0:20]"
   ]
  },
  {
   "cell_type": "code",
   "execution_count": 71,
   "id": "ed293c15-6c96-40b1-950e-e71ade1e96fe",
   "metadata": {},
   "outputs": [],
   "source": [
    "# Create new data frame for the order sheet (there is some extra columns that will be dropped later)\n",
    "order_sheet_columns = ['style_id','proposal_priority', 'retail_price','gender',\n",
    "                       'collection','case_size','availability', 'retail_price', \n",
    "                       'qty_on_hand','qty_on_order','qty_total_inv','planned_order',\n",
    "                       'qty_sold_last_6m','qty_avg/mo','wholesale_price','xyz_cost']\n",
    "order_sheet = df_proposal[order_sheet_columns]\n",
    "\n",
    "# Merge proposal and new model predictions\n",
    "order_sheet = order_sheet.merge(proposal_predictions, how = 'left', on = 'style_id')\n",
    "order_sheet = order_sheet.merge(new_model_predictions, how = 'left', on = 'style_id')\n",
    "\n",
    "# Convert predictions to an order quantity\n",
    "preds_to_order(order_sheet, 5, 10) # see custom_functions for more information about how these are calculated"
   ]
  },
  {
   "cell_type": "markdown",
   "id": "af8124bd-1337-4450-95a9-4285c871029b",
   "metadata": {},
   "source": [
    "## Calculate other values important to XYZ"
   ]
  },
  {
   "cell_type": "code",
   "execution_count": 80,
   "id": "a337945c-579c-46d7-b72f-16f0933e6ffc",
   "metadata": {},
   "outputs": [
    {
     "data": {
      "text/plain": [
       "1890.0"
      ]
     },
     "execution_count": 80,
     "metadata": {},
     "output_type": "execute_result"
    }
   ],
   "source": [
    "total_qty_on_order = order_sheet.qty_on_order.sum()\n",
    "total_qty_on_order"
   ]
  },
  {
   "cell_type": "code",
   "execution_count": 81,
   "id": "a8449045-9cc1-4120-8818-c5c2effcaf5f",
   "metadata": {},
   "outputs": [
    {
     "data": {
      "text/plain": [
       "6102.0"
      ]
     },
     "execution_count": 81,
     "metadata": {},
     "output_type": "execute_result"
    }
   ],
   "source": [
    "total_qty_on_hand = order_sheet.qty_on_hand.sum()\n",
    "total_qty_on_hand"
   ]
  },
  {
   "cell_type": "code",
   "execution_count": 82,
   "id": "51944321-4f46-4933-8e2f-63eb3b1c39a0",
   "metadata": {},
   "outputs": [
    {
     "name": "stderr",
     "output_type": "stream",
     "text": [
      "/var/folders/0z/k5klxhhj5j9g8hc5ygn0nwsr0000gn/T/ipykernel_28682/72967298.py:3: FutureWarning: Indexing a DataFrame with a datetimelike index using a single string to slice the rows, like `frame[string]`, is deprecated and will be removed in a future version. Use `frame.loc[string]` instead.\n",
      "  qty_sold_last_6m = round(return_sales(df_proposal,'style_id').rolling(6).sum()[last_month_sales].values.sum())\n"
     ]
    },
    {
     "data": {
      "text/plain": [
       "5815"
      ]
     },
     "execution_count": 82,
     "metadata": {},
     "output_type": "execute_result"
    }
   ],
   "source": [
    "# Calculate the total units sold in the last 6 months & average/month\n",
    "last_month_sales = '2022-04' # change as needed\n",
    "qty_sold_last_6m = round(return_sales(df_proposal,'style_id').rolling(6).sum()[last_month_sales].values.sum())\n",
    "qty_sold_last_6m"
   ]
  },
  {
   "cell_type": "code",
   "execution_count": 84,
   "id": "6314232c-95d6-4c8c-a576-232d6c4c8b85",
   "metadata": {},
   "outputs": [
    {
     "name": "stdout",
     "output_type": "stream",
     "text": [
      "$52888\n"
     ]
    }
   ],
   "source": [
    "# Calculate cost of the order\n",
    "proposal_cost = round((order_sheet.xyz_cost*order_sheet.order_quantity).sum())\n",
    "print(f'${proposal_cost}')"
   ]
  },
  {
   "cell_type": "markdown",
   "id": "1ccaf93b-1415-4d04-82c1-901bb2be191f",
   "metadata": {},
   "source": [
    "## Discussion"
   ]
  },
  {
   "cell_type": "code",
   "execution_count": 73,
   "id": "71c7684e-ae59-48d3-bb9a-20391b5fa9c5",
   "metadata": {},
   "outputs": [
    {
     "data": {
      "image/png": "[encoded data removed]",
      "text/plain": [
       "<Figure size 432x288 with 1 Axes>"
      ]
     },
     "metadata": {
      "needs_background": "light"
     },
     "output_type": "display_data"
    }
   ],
   "source": [
    "# Compare order to the planned order provided by XYZ\n",
    "order_sheet['residuals'] = order_sheet.planned_order - order_sheet.order_quantity\n",
    "residuals_counts = pd.DataFrame(order_sheet.residuals.value_counts(normalize=True)).sort_index()\n",
    "\n",
    "plt.bar(residuals_counts.index.values, residuals_counts.residuals,width=3)\n",
    "plt.title('Distribution of order residuals - all items')\n",
    "plt.xlabel('Residuals (planned order - predicted values)')\n",
    "plt.ylabel('% of all order residuals');"
   ]
  },
  {
   "cell_type": "code",
   "execution_count": 74,
   "id": "432a5bd4-ad54-45f1-88dd-37f48f740b4a",
   "metadata": {},
   "outputs": [
    {
     "name": "stdout",
     "output_type": "stream",
     "text": [
      "Of the 300 items on the proposal, 77% of orders were identical to the planned order.\n",
      "90% were within +/- 10 units.\n",
      "There were 35 new models and 265 existing models on the proposal.\n"
     ]
    }
   ],
   "source": [
    "print(f'Of the {order_sheet.shape[0]} items on the proposal, {round(residuals_counts.loc[0,\"residuals\"]*100)}% of orders were identical to the planned order.')\n",
    "print(f'{round(residuals_counts.loc[-10:10,\"residuals\"].sum()*100)}% were within +/- 10 units.')\n",
    "print(f'There were {new_model_predictions.shape[0]} new models and {proposal_predictions.shape[0]} existing models on the proposal.') "
   ]
  },
  {
   "cell_type": "code",
   "execution_count": 75,
   "id": "443ac451-425b-42bd-9e31-ef29de5ef2f7",
   "metadata": {},
   "outputs": [
    {
     "data": {
      "image/png": "[encoded data removed]",
      "text/plain": [
       "<Figure size 432x288 with 1 Axes>"
      ]
     },
     "metadata": {
      "needs_background": "light"
     },
     "output_type": "display_data"
    }
   ],
   "source": [
    "order_sheet[order_sheet[proposal_preds_column].astype(str) == \"nan\"].residuals.hist()\n",
    "plt.title('Histogram of order residuals - new models')\n",
    "plt.xlabel('Residuals (planned order - predicted values)')\n",
    "plt.ylabel('Count');"
   ]
  },
  {
   "cell_type": "code",
   "execution_count": 76,
   "id": "cf072f66-6fbe-4081-be2d-cccdeb22bcfd",
   "metadata": {
    "tags": []
   },
   "outputs": [
    {
     "name": "stderr",
     "output_type": "stream",
     "text": [
      "/Applications/anaconda3/lib/python3.8/site-packages/statsmodels/nonparametric/smoothers_lowess.py:227: RuntimeWarning: invalid value encountered in true_divide\n",
      "  res, _ = _lowess(y, x, x, np.ones_like(x),\n"
     ]
    },
    {
     "data": {
      "image/png": "[encoded data removed]",
      "text/plain": [
       "<Figure size 432x288 with 1 Axes>"
      ]
     },
     "metadata": {
      "needs_background": "light"
     },
     "output_type": "display_data"
    },
    {
     "data": {
      "image/png": "[encoded data removed]",
      "text/plain": [
       "<Figure size 432x288 with 1 Axes>"
      ]
     },
     "metadata": {
      "needs_background": "light"
     },
     "output_type": "display_data"
    }
   ],
   "source": [
    "plot_preds(order_sheet['planned_order'], order_sheet['order_quantity'], 'Order Estimate')"
   ]
  },
  {
   "cell_type": "markdown",
   "id": "88592c83-13bf-4cec-8125-3c99cf758031",
   "metadata": {},
   "source": [
    "The predicted sales versus the actual sales generally followed a linear trend, and the residuals are linear across the y axis. However, the error becomes much larger as predicted sales increases, indicating that model does not predict large sales well. However, this makes up a minority of models (typically only new models). This is an improvement area."
   ]
  },
  {
   "cell_type": "code",
   "execution_count": 77,
   "id": "5883455c-3569-453b-b6c7-031f8c13126c",
   "metadata": {},
   "outputs": [
    {
     "name": "stdout",
     "output_type": "stream",
     "text": [
      "The root mean squared error of the orders is 8.89 units.\n",
      "The mean of the planned orders is 6.33 units.\n",
      "The mean of the predicted orders is 3.42 units.\n"
     ]
    }
   ],
   "source": [
    "rmse = mean_squared_error(order_sheet['planned_order'],order_sheet['order_quantity'],squared=False)\n",
    "mean_planned = order_sheet['planned_order'].mean()\n",
    "mean_preds = order_sheet['order_quantity'].mean()\n",
    "\n",
    "print(f\"The root mean squared error of the orders is {round(rmse,2)} units.\")\n",
    "print(f\"The mean of the planned orders is {round(mean_planned,2)} units.\")\n",
    "print(f\"The mean of the predicted orders is {round(mean_preds,2)} units.\")"
   ]
  },
  {
   "cell_type": "code",
   "execution_count": 10,
   "id": "e01323c9-e244-444f-b363-089f9d739193",
   "metadata": {},
   "outputs": [],
   "source": [
    "order_sheet.to_csv('../data/predictions/order_sheet.csv',index=False)"
   ]
  }
 ],
 "metadata": {
  "kernelspec": {
   "display_name": "Python 3 (ipykernel)",
   "language": "python",
   "name": "python3"
  },
  "language_info": {
   "codemirror_mode": {
    "name": "ipython",
    "version": 3
   },
   "file_extension": ".py",
   "mimetype": "text/x-python",
   "name": "python",
   "nbconvert_exporter": "python",
   "pygments_lexer": "ipython3",
   "version": "3.8.8"
  }
 },
 "nbformat": 4,
 "nbformat_minor": 5
}
