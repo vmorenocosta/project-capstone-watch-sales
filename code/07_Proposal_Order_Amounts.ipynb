{
 "cells": [
  {
   "cell_type": "markdown",
   "id": "9c02ea90-36d6-46ff-922f-93ddb42b9a9b",
   "metadata": {},
   "source": [
    "# Notebook 07: Proposal Order Amounts\n",
    "\n",
    "This notebook generates sales orders for the 2022H3 proposal using forecasting and regression predictions generated in [Notebook 4: Forecasting Monthly](04_Forecasting_Monthly.ipynb) and [Notebook 6: Classification Predicting Sales For New Models](05_Classification_Predict_Sales.ipynb)."
   ]
  },
  {
   "cell_type": "code",
   "execution_count": 45,
   "id": "1df8d6c4-6856-4c26-82a2-f3a339d609fa",
   "metadata": {},
   "outputs": [],
   "source": [
    "import pandas as pd\n",
    "import numpy as np\n",
    "import matplotlib.pyplot as plt\n",
    "import plotly.express as px\n",
    "import seaborn as sns\n",
    "from sklearn.metrics import mean_squared_error\n",
    "    \n",
    "from custom_functions import *\n",
    "from regression_custom_functions import *"
   ]
  },
  {
   "cell_type": "code",
   "execution_count": 46,
   "id": "4e6f8f94-7589-44ff-9b7c-b9bdf9b3d59e",
   "metadata": {},
   "outputs": [],
   "source": [
    "# Import datasets and predictions\n",
    "df_proposal = pd.read_csv('../data/cleaned_datasets/df_models.csv')\n",
    "proposal_predictions = pd.read_csv('../data/predictions/proposal_forecast.csv')\n",
    "new_model_predictions = pd.read_csv('../data/predictions/new_models_classifications.csv')\n",
    "\n",
    "# Drop items not on proposal\n",
    "df_proposal.dropna(subset='proposal_priority',inplace=True)\n",
    "\n",
    "# Get names of columns for predictions\n",
    "proposal_preds_column = proposal_predictions.columns[1]\n",
    "new_model_preds_column = new_model_predictions.columns[1]"
   ]
  },
  {
   "cell_type": "code",
   "execution_count": 47,
   "id": "e5bef6ca-66e6-4ca5-b67f-117e8a5fce9c",
   "metadata": {},
   "outputs": [
    {
     "data": {
      "text/plain": [
       "Index(['style_id', 'max_cart_qty', 'availability', 'qty_on_hand',\n",
       "       'qty_on_order', 'qty_total_inv', 'qty_sold_last_6m', 'qty_avg/mo',\n",
       "       'months_of_supply', 'xyz_cost', 'qty_xyz_cost', 'wholesale_price',\n",
       "       'country_of_origin', 'warranty', 'band_color', 'band_material',\n",
       "       'case_material', 'dial_color', 'case_size', 'gender', 'color',\n",
       "       'retail_price', 'collection', 'clasp_type', 'water_resistance',\n",
       "       'movement_type', 'proposal_priority', 'status', 'planned_order'],\n",
       "      dtype='object')"
      ]
     },
     "execution_count": 47,
     "metadata": {},
     "output_type": "execute_result"
    }
   ],
   "source": [
    "return_nondate_col(df_proposal).columns"
   ]
  },
  {
   "cell_type": "code",
   "execution_count": 48,
   "id": "2ecfc2fb-2914-4b9f-9370-d3fa7a6f859f",
   "metadata": {},
   "outputs": [],
   "source": [
    "order_sheet_columns = ['style_id','proposal_priority', 'availability', \n",
    "       'max_cart_qty', 'retail_price', 'wholesale_price','xyz_cost','qty_total_inv', 'planned_order']"
   ]
  },
  {
   "cell_type": "code",
   "execution_count": 49,
   "id": "5b60c331-7f4a-4035-b375-e0133d91ade3",
   "metadata": {},
   "outputs": [],
   "source": [
    "order_sheet = df_proposal[order_sheet_columns]"
   ]
  },
  {
   "cell_type": "markdown",
   "id": "15788b12-4d08-48e8-a58c-0e1bd3fc6787",
   "metadata": {},
   "source": [
    "## Create new dataframe that merges proposal, proposal forecast, new models, and new model predictions to create an overall order."
   ]
  },
  {
   "cell_type": "code",
   "execution_count": 50,
   "id": "fbd2290d-f29a-4e6f-ae77-6010cc428129",
   "metadata": {},
   "outputs": [],
   "source": [
    "order_sheet = order_sheet.merge(proposal_predictions, how = 'left', on = 'style_id')\n",
    "order_sheet = order_sheet.merge(new_model_predictions, how = 'left', on = 'style_id')"
   ]
  },
  {
   "cell_type": "code",
   "execution_count": 71,
   "id": "cf1f169f-c9fd-44a2-be36-f059cda10bc0",
   "metadata": {},
   "outputs": [],
   "source": [
    "def preds_to_order(order_sheet, order_multiple, class_multiple = 1):\n",
    "    \"\"\" This function generates orders from the forecasts from old models and the predictions for new models.\n",
    "    \n",
    "    args:\n",
    "        order_sheet (Pandas dataframe): a dataframe that contains a new_model_preds_columns and proposal_preds_column (both variables)\n",
    "        and a qty_total_inv column\n",
    "        order_multiple (int): an integer that defines the quantity to which a proposal prediction is rounded up\n",
    "        class_multiple (int), optional: the value to multiply the class value by to generate an order (only applicable for classification).\n",
    "                                        Default is 1 to handle regression cases.\n",
    "    \"\"\"\n",
    "    order_sheet['quarterly_forecast'] = 0\n",
    "    order_sheet['order_quantity'] = 0\n",
    "\n",
    "    for i in order_sheet.index:\n",
    "        base = order_multiple\n",
    "        if str(order_sheet.loc[i,proposal_preds_column]) == \"nan\":\n",
    "            quarterly = class_multiple * order_sheet.loc[i,new_model_preds_column]\n",
    "            order = quarterly\n",
    "        else:\n",
    "            quarterly = 3 * order_sheet.loc[i,proposal_preds_column]\n",
    "            order = quarterly - order_sheet.loc[i,'qty_total_inv']\n",
    "            if order < 0:\n",
    "                order = 0\n",
    "        order_sheet.loc[i,'quarterly_forecast'] = round(quarterly)\n",
    "        order_sheet.loc[i,'order_quantity'] = base * round(order/base)"
   ]
  },
  {
   "cell_type": "code",
   "execution_count": 72,
   "id": "25d49132-cdcf-4419-b624-0d1a7fbe0aa6",
   "metadata": {},
   "outputs": [],
   "source": [
    "preds_to_order(order_sheet, 5, 10)"
   ]
  },
  {
   "cell_type": "code",
   "execution_count": 73,
   "id": "b4b0492b-6a20-492e-b2d6-275a6f5d3a9c",
   "metadata": {},
   "outputs": [
    {
     "data": {
      "text/html": [
       "<div>\n",
       "<style scoped>\n",
       "    .dataframe tbody tr th:only-of-type {\n",
       "        vertical-align: middle;\n",
       "    }\n",
       "\n",
       "    .dataframe tbody tr th {\n",
       "        vertical-align: top;\n",
       "    }\n",
       "\n",
       "    .dataframe thead th {\n",
       "        text-align: right;\n",
       "    }\n",
       "</style>\n",
       "<table border=\"1\" class=\"dataframe\">\n",
       "  <thead>\n",
       "    <tr style=\"text-align: right;\">\n",
       "      <th></th>\n",
       "      <th>style_id</th>\n",
       "      <th>proposal_priority</th>\n",
       "      <th>availability</th>\n",
       "      <th>max_cart_qty</th>\n",
       "      <th>retail_price</th>\n",
       "      <th>wholesale_price</th>\n",
       "      <th>xyz_cost</th>\n",
       "      <th>qty_total_inv</th>\n",
       "      <th>planned_order</th>\n",
       "      <th>monthly_forecast_Q3</th>\n",
       "      <th>monthly_classifications_Q3</th>\n",
       "      <th>quarterly_forecast</th>\n",
       "      <th>order_quantity</th>\n",
       "    </tr>\n",
       "  </thead>\n",
       "  <tbody>\n",
       "    <tr>\n",
       "      <th>0</th>\n",
       "      <td>ce1107</td>\n",
       "      <td>c</td>\n",
       "      <td>available</td>\n",
       "      <td>100</td>\n",
       "      <td>219.0</td>\n",
       "      <td>109.5</td>\n",
       "      <td>76.65</td>\n",
       "      <td>12.0</td>\n",
       "      <td>10.0</td>\n",
       "      <td>5.537037</td>\n",
       "      <td>NaN</td>\n",
       "      <td>17</td>\n",
       "      <td>5</td>\n",
       "    </tr>\n",
       "    <tr>\n",
       "      <th>1</th>\n",
       "      <td>ce1108</td>\n",
       "      <td>c</td>\n",
       "      <td>available</td>\n",
       "      <td>100</td>\n",
       "      <td>219.0</td>\n",
       "      <td>109.5</td>\n",
       "      <td>76.65</td>\n",
       "      <td>17.0</td>\n",
       "      <td>0.0</td>\n",
       "      <td>2.259259</td>\n",
       "      <td>NaN</td>\n",
       "      <td>7</td>\n",
       "      <td>0</td>\n",
       "    </tr>\n",
       "    <tr>\n",
       "      <th>2</th>\n",
       "      <td>ce1111</td>\n",
       "      <td>c</td>\n",
       "      <td>available</td>\n",
       "      <td>100</td>\n",
       "      <td>230.0</td>\n",
       "      <td>115.0</td>\n",
       "      <td>80.50</td>\n",
       "      <td>0.0</td>\n",
       "      <td>10.0</td>\n",
       "      <td>0.000000</td>\n",
       "      <td>NaN</td>\n",
       "      <td>0</td>\n",
       "      <td>0</td>\n",
       "    </tr>\n",
       "    <tr>\n",
       "      <th>3</th>\n",
       "      <td>ce1112</td>\n",
       "      <td>c</td>\n",
       "      <td>available</td>\n",
       "      <td>100</td>\n",
       "      <td>219.0</td>\n",
       "      <td>109.5</td>\n",
       "      <td>76.65</td>\n",
       "      <td>8.0</td>\n",
       "      <td>5.0</td>\n",
       "      <td>3.666667</td>\n",
       "      <td>NaN</td>\n",
       "      <td>11</td>\n",
       "      <td>5</td>\n",
       "    </tr>\n",
       "    <tr>\n",
       "      <th>4</th>\n",
       "      <td>ce1113</td>\n",
       "      <td>c</td>\n",
       "      <td>available</td>\n",
       "      <td>100</td>\n",
       "      <td>219.0</td>\n",
       "      <td>109.5</td>\n",
       "      <td>76.65</td>\n",
       "      <td>14.0</td>\n",
       "      <td>5.0</td>\n",
       "      <td>4.333333</td>\n",
       "      <td>NaN</td>\n",
       "      <td>13</td>\n",
       "      <td>0</td>\n",
       "    </tr>\n",
       "    <tr>\n",
       "      <th>...</th>\n",
       "      <td>...</td>\n",
       "      <td>...</td>\n",
       "      <td>...</td>\n",
       "      <td>...</td>\n",
       "      <td>...</td>\n",
       "      <td>...</td>\n",
       "      <td>...</td>\n",
       "      <td>...</td>\n",
       "      <td>...</td>\n",
       "      <td>...</td>\n",
       "      <td>...</td>\n",
       "      <td>...</td>\n",
       "      <td>...</td>\n",
       "    </tr>\n",
       "    <tr>\n",
       "      <th>295</th>\n",
       "      <td>fs5949</td>\n",
       "      <td>2022h3</td>\n",
       "      <td>delivery more than 6 weeks</td>\n",
       "      <td>NaN</td>\n",
       "      <td>155.0</td>\n",
       "      <td>77.5</td>\n",
       "      <td>54.25</td>\n",
       "      <td>0.0</td>\n",
       "      <td>50.0</td>\n",
       "      <td>NaN</td>\n",
       "      <td>3.0</td>\n",
       "      <td>30</td>\n",
       "      <td>30</td>\n",
       "    </tr>\n",
       "    <tr>\n",
       "      <th>296</th>\n",
       "      <td>fs5950</td>\n",
       "      <td>2022h3</td>\n",
       "      <td>delivery more than 6 weeks</td>\n",
       "      <td>NaN</td>\n",
       "      <td>155.0</td>\n",
       "      <td>77.5</td>\n",
       "      <td>54.25</td>\n",
       "      <td>0.0</td>\n",
       "      <td>40.0</td>\n",
       "      <td>NaN</td>\n",
       "      <td>3.0</td>\n",
       "      <td>30</td>\n",
       "      <td>30</td>\n",
       "    </tr>\n",
       "    <tr>\n",
       "      <th>297</th>\n",
       "      <td>fs5951</td>\n",
       "      <td>2022h3</td>\n",
       "      <td>delivery more than 6 weeks</td>\n",
       "      <td>NaN</td>\n",
       "      <td>155.0</td>\n",
       "      <td>77.5</td>\n",
       "      <td>54.25</td>\n",
       "      <td>0.0</td>\n",
       "      <td>50.0</td>\n",
       "      <td>NaN</td>\n",
       "      <td>3.0</td>\n",
       "      <td>30</td>\n",
       "      <td>30</td>\n",
       "    </tr>\n",
       "    <tr>\n",
       "      <th>298</th>\n",
       "      <td>fs5952</td>\n",
       "      <td>2022h3</td>\n",
       "      <td>delivery more than 6 weeks</td>\n",
       "      <td>NaN</td>\n",
       "      <td>155.0</td>\n",
       "      <td>77.5</td>\n",
       "      <td>54.25</td>\n",
       "      <td>0.0</td>\n",
       "      <td>50.0</td>\n",
       "      <td>NaN</td>\n",
       "      <td>3.0</td>\n",
       "      <td>30</td>\n",
       "      <td>30</td>\n",
       "    </tr>\n",
       "    <tr>\n",
       "      <th>299</th>\n",
       "      <td>le1156</td>\n",
       "      <td>2022h3</td>\n",
       "      <td>delivery more than 6 weeks</td>\n",
       "      <td>NaN</td>\n",
       "      <td>195.0</td>\n",
       "      <td>97.5</td>\n",
       "      <td>68.25</td>\n",
       "      <td>0.0</td>\n",
       "      <td>0.0</td>\n",
       "      <td>NaN</td>\n",
       "      <td>1.0</td>\n",
       "      <td>10</td>\n",
       "      <td>10</td>\n",
       "    </tr>\n",
       "  </tbody>\n",
       "</table>\n",
       "<p>300 rows × 13 columns</p>\n",
       "</div>"
      ],
      "text/plain": [
       "    style_id proposal_priority                availability max_cart_qty  \\\n",
       "0     ce1107                 c                   available          100   \n",
       "1     ce1108                 c                   available          100   \n",
       "2     ce1111                 c                   available          100   \n",
       "3     ce1112                 c                   available          100   \n",
       "4     ce1113                 c                   available          100   \n",
       "..       ...               ...                         ...          ...   \n",
       "295   fs5949            2022h3  delivery more than 6 weeks          NaN   \n",
       "296   fs5950            2022h3  delivery more than 6 weeks          NaN   \n",
       "297   fs5951            2022h3  delivery more than 6 weeks          NaN   \n",
       "298   fs5952            2022h3  delivery more than 6 weeks          NaN   \n",
       "299   le1156            2022h3  delivery more than 6 weeks          NaN   \n",
       "\n",
       "     retail_price  wholesale_price  xyz_cost  qty_total_inv  planned_order  \\\n",
       "0           219.0            109.5     76.65           12.0           10.0   \n",
       "1           219.0            109.5     76.65           17.0            0.0   \n",
       "2           230.0            115.0     80.50            0.0           10.0   \n",
       "3           219.0            109.5     76.65            8.0            5.0   \n",
       "4           219.0            109.5     76.65           14.0            5.0   \n",
       "..            ...              ...       ...            ...            ...   \n",
       "295         155.0             77.5     54.25            0.0           50.0   \n",
       "296         155.0             77.5     54.25            0.0           40.0   \n",
       "297         155.0             77.5     54.25            0.0           50.0   \n",
       "298         155.0             77.5     54.25            0.0           50.0   \n",
       "299         195.0             97.5     68.25            0.0            0.0   \n",
       "\n",
       "     monthly_forecast_Q3  monthly_classifications_Q3  quarterly_forecast  \\\n",
       "0               5.537037                         NaN                  17   \n",
       "1               2.259259                         NaN                   7   \n",
       "2               0.000000                         NaN                   0   \n",
       "3               3.666667                         NaN                  11   \n",
       "4               4.333333                         NaN                  13   \n",
       "..                   ...                         ...                 ...   \n",
       "295                  NaN                         3.0                  30   \n",
       "296                  NaN                         3.0                  30   \n",
       "297                  NaN                         3.0                  30   \n",
       "298                  NaN                         3.0                  30   \n",
       "299                  NaN                         1.0                  10   \n",
       "\n",
       "     order_quantity  \n",
       "0                 5  \n",
       "1                 0  \n",
       "2                 0  \n",
       "3                 5  \n",
       "4                 0  \n",
       "..              ...  \n",
       "295              30  \n",
       "296              30  \n",
       "297              30  \n",
       "298              30  \n",
       "299              10  \n",
       "\n",
       "[300 rows x 13 columns]"
      ]
     },
     "execution_count": 73,
     "metadata": {},
     "output_type": "execute_result"
    }
   ],
   "source": [
    "order_sheet"
   ]
  },
  {
   "cell_type": "code",
   "execution_count": 77,
   "id": "ba9e7abd-5f6b-4e74-94ca-c24ee002d860",
   "metadata": {},
   "outputs": [],
   "source": [
    "order_sheet['residuals'] = order_sheet.planned_order - order_sheet.order_quantity"
   ]
  },
  {
   "cell_type": "code",
   "execution_count": 78,
   "id": "517cc0b2-016d-4a03-8b00-7ddd203c0a12",
   "metadata": {},
   "outputs": [
    {
     "data": {
      "text/plain": [
       "<AxesSubplot:>"
      ]
     },
     "execution_count": 78,
     "metadata": {},
     "output_type": "execute_result"
    },
    {
     "data": {
      "image/png": "[encoded data removed]",
      "text/plain": [
       "<Figure size 432x288 with 1 Axes>"
      ]
     },
     "metadata": {
      "needs_background": "light"
     },
     "output_type": "display_data"
    }
   ],
   "source": [
    "order_sheet.residuals.hist()"
   ]
  },
  {
   "cell_type": "code",
   "execution_count": 85,
   "id": "443ac451-425b-42bd-9e31-ef29de5ef2f7",
   "metadata": {},
   "outputs": [
    {
     "data": {
      "text/plain": [
       "<AxesSubplot:>"
      ]
     },
     "execution_count": 85,
     "metadata": {},
     "output_type": "execute_result"
    },
    {
     "data": {
      "image/png": "[encoded data removed]",
      "text/plain": [
       "<Figure size 432x288 with 1 Axes>"
      ]
     },
     "metadata": {
      "needs_background": "light"
     },
     "output_type": "display_data"
    }
   ],
   "source": [
    "order_sheet[order_sheet[proposal_preds_column].astype(str) == \"nan\"].residuals.hist()"
   ]
  },
  {
   "cell_type": "code",
   "execution_count": 80,
   "id": "f8eb485b-3cd1-4b2b-ac98-ba1dffc35465",
   "metadata": {},
   "outputs": [
    {
     "data": {
      "text/plain": [
       " 0.0     0.770000\n",
       " 10.0    0.076667\n",
       " 20.0    0.026667\n",
       " 5.0     0.023333\n",
       " 30.0    0.023333\n",
       " 15.0    0.023333\n",
       "-10.0    0.016667\n",
       " 40.0    0.010000\n",
       " 25.0    0.010000\n",
       "-5.0     0.010000\n",
       "-20.0    0.006667\n",
       " 35.0    0.003333\n",
       "Name: residuals, dtype: float64"
      ]
     },
     "execution_count": 80,
     "metadata": {},
     "output_type": "execute_result"
    }
   ],
   "source": [
    "order_sheet.residuals.value_counts(normalize=True)"
   ]
  },
  {
   "cell_type": "code",
   "execution_count": 74,
   "id": "cf072f66-6fbe-4081-be2d-cccdeb22bcfd",
   "metadata": {
    "tags": []
   },
   "outputs": [
    {
     "name": "stderr",
     "output_type": "stream",
     "text": [
      "/Applications/anaconda3/lib/python3.8/site-packages/statsmodels/nonparametric/smoothers_lowess.py:227: RuntimeWarning: invalid value encountered in true_divide\n",
      "  res, _ = _lowess(y, x, x, np.ones_like(x),\n"
     ]
    },
    {
     "data": {
      "image/png": "[encoded data removed]",
      "text/plain": [
       "<Figure size 432x288 with 1 Axes>"
      ]
     },
     "metadata": {
      "needs_background": "light"
     },
     "output_type": "display_data"
    },
    {
     "data": {
      "image/png": "[encoded data removed]",
      "text/plain": [
       "<Figure size 432x288 with 1 Axes>"
      ]
     },
     "metadata": {
      "needs_background": "light"
     },
     "output_type": "display_data"
    }
   ],
   "source": [
    "plot_preds(order_sheet['planned_order'], order_sheet['order_quantity'], 'Order Estimate')"
   ]
  },
  {
   "cell_type": "code",
   "execution_count": 75,
   "id": "2481d25d-07b6-47bd-b295-a7b8568d7685",
   "metadata": {},
   "outputs": [
    {
     "data": {
      "text/plain": [
       "8.72257607208635"
      ]
     },
     "execution_count": 75,
     "metadata": {},
     "output_type": "execute_result"
    }
   ],
   "source": [
    "mean_squared_error(order_sheet['planned_order'],order_sheet['order_quantity'],squared=False)"
   ]
  },
  {
   "cell_type": "code",
   "execution_count": null,
   "id": "d2cccb9b-75e7-4cd8-9847-177e77864991",
   "metadata": {},
   "outputs": [],
   "source": []
  },
  {
   "cell_type": "code",
   "execution_count": 76,
   "id": "e01323c9-e244-444f-b363-089f9d739193",
   "metadata": {},
   "outputs": [],
   "source": [
    "order_sheet.to_csv('../data/predictions/order_sheet.csv',index=False)"
   ]
  },
  {
   "cell_type": "code",
   "execution_count": null,
   "id": "7ff6065b-102d-477e-8cc9-4691e53ae79b",
   "metadata": {},
   "outputs": [],
   "source": []
  }
 ],
 "metadata": {
  "kernelspec": {
   "display_name": "Python 3 (ipykernel)",
   "language": "python",
   "name": "python3"
  },
  "language_info": {
   "codemirror_mode": {
    "name": "ipython",
    "version": 3
   },
   "file_extension": ".py",
   "mimetype": "text/x-python",
   "name": "python",
   "nbconvert_exporter": "python",
   "pygments_lexer": "ipython3",
   "version": "3.8.8"
  }
 },
 "nbformat": 4,
 "nbformat_minor": 5
}
