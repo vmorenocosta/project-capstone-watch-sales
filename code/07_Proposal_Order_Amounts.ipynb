{
 "cells": [
  {
   "cell_type": "markdown",
   "id": "9c02ea90-36d6-46ff-922f-93ddb42b9a9b",
   "metadata": {
    "tags": []
   },
   "source": [
    "# Notebook 07: Proposal Order Amounts\n",
    "\n",
    "This notebook generates sales orders for the 2022H3 proposal using forecasting and regression predictions generated in [Notebook 4: Forecasting Monthly](04_Forecasting_Monthly.ipynb) and [Notebook 6: Classification Predicting Sales For New Models](05_Classification_Predict_Sales.ipynb)."
   ]
  },
  {
   "cell_type": "code",
   "execution_count": 4,
   "id": "1df8d6c4-6856-4c26-82a2-f3a339d609fa",
   "metadata": {},
   "outputs": [],
   "source": [
    "import pandas as pd\n",
    "import numpy as np\n",
    "import matplotlib.pyplot as plt\n",
    "import plotly.express as px\n",
    "import seaborn as sns\n",
    "from sklearn.metrics import mean_squared_error\n",
    "import datetime\n",
    "import math\n",
    "    \n",
    "from custom_functions import *\n",
    "from regression_custom_functions import *"
   ]
  },
  {
   "cell_type": "code",
   "execution_count": 5,
   "id": "c51cd5b5-a7ef-43e0-8146-f7eb88573477",
   "metadata": {},
   "outputs": [],
   "source": [
    "# Import datasets and predictions\n",
    "df_proposal = pd.read_csv('../data/cleaned_datasets/df_models.csv')\n",
    "proposal_predictions = pd.read_csv('../data/predictions/proposal_forecast.csv')\n",
    "new_model_predictions = pd.read_csv('../data/predictions/new_models_classifications.csv')\n",
    "\n",
    "# Drop items not on proposal\n",
    "df_proposal.dropna(subset='proposal_priority',inplace=True)\n",
    "\n",
    "# Get names of columns for predictions\n",
    "proposal_preds_column = proposal_predictions.columns[1]\n",
    "new_model_preds_column = new_model_predictions.columns[1]"
   ]
  },
  {
   "cell_type": "markdown",
   "id": "15788b12-4d08-48e8-a58c-0e1bd3fc6787",
   "metadata": {
    "tags": []
   },
   "source": [
    "## Create new dataframe that merges proposal, proposal forecast, new models, and new model predictions to create an overall order."
   ]
  },
  {
   "cell_type": "code",
   "execution_count": 6,
   "id": "ed293c15-6c96-40b1-950e-e71ade1e96fe",
   "metadata": {},
   "outputs": [],
   "source": [
    "# Create new data frame for the order sheet (there is some extra columns that will be dropped later)\n",
    "order_sheet_columns = ['style_id','proposal_priority', 'retail_price','gender',\n",
    "                       'collection','case_size','availability', \n",
    "                       'qty_on_hand','qty_on_order','qty_total_inv','planned_order',\n",
    "                       'qty_sold_last_6m','qty_avg/mo','wholesale_price','xyz_cost']\n",
    "order_sheet = df_proposal[order_sheet_columns]\n",
    "\n",
    "# Merge proposal and new model predictions\n",
    "order_sheet = order_sheet.merge(proposal_predictions, how = 'left', on = 'style_id')\n",
    "order_sheet = order_sheet.merge(new_model_predictions, how = 'left', on = 'style_id')\n",
    "\n",
    "# Convert predictions to an order quantity\n",
    "preds_to_order(order_sheet, 5, 10) # see custom_functions for more information about how these are calculated"
   ]
  },
  {
   "cell_type": "markdown",
   "id": "af8124bd-1337-4450-95a9-4285c871029b",
   "metadata": {
    "tags": []
   },
   "source": [
    "## Calculate other values important to XYZ"
   ]
  },
  {
   "cell_type": "code",
   "execution_count": 7,
   "id": "9e0fde49-c7c8-4b33-b827-a77ee3ad0b51",
   "metadata": {},
   "outputs": [],
   "source": [
    "# Calculate the total units sold in the last 6 months\n",
    "last_month_sales = '2022-04' # change as needed"
   ]
  },
  {
   "cell_type": "code",
   "execution_count": 8,
   "id": "a337945c-579c-46d7-b72f-16f0933e6ffc",
   "metadata": {},
   "outputs": [
    {
     "data": {
      "text/plain": [
       "1890.0"
      ]
     },
     "execution_count": 8,
     "metadata": {},
     "output_type": "execute_result"
    }
   ],
   "source": [
    "total_qty_on_order = order_sheet.qty_on_order.sum()\n",
    "total_qty_on_order"
   ]
  },
  {
   "cell_type": "code",
   "execution_count": 9,
   "id": "a8449045-9cc1-4120-8818-c5c2effcaf5f",
   "metadata": {},
   "outputs": [
    {
     "data": {
      "text/plain": [
       "6102.0"
      ]
     },
     "execution_count": 9,
     "metadata": {},
     "output_type": "execute_result"
    }
   ],
   "source": [
    "total_qty_on_hand = order_sheet.qty_on_hand.sum()\n",
    "total_qty_on_hand"
   ]
  },
  {
   "cell_type": "code",
   "execution_count": 10,
   "id": "329e8560-a46a-4c6f-aa47-d8b50806685a",
   "metadata": {},
   "outputs": [
    {
     "data": {
      "text/plain": [
       "5815"
      ]
     },
     "execution_count": 10,
     "metadata": {},
     "output_type": "execute_result"
    }
   ],
   "source": [
    "# Calculate total sales in the last 6 months\n",
    "sales_rolling_6m = return_sales(df_proposal,'style_id').rolling(6)\n",
    "qty_sold_last_6m_calc = sales_rolling_6m.sum().T[[last_month_sales]]\n",
    "qty_sold_last_6m_calc.columns = ['qty_sold_last_6m_calc']\n",
    "order_sheet = order_sheet.merge(qty_sold_last_6m_calc, how = 'left', on = 'style_id')\n",
    "total_qty_sold_last_6m = round(order_sheet.qty_sold_last_6m_calc.sum())\n",
    "total_qty_sold_last_6m"
   ]
  },
  {
   "cell_type": "code",
   "execution_count": 11,
   "id": "ffb0e0ed-74d5-4799-a1b0-ed83c49a7028",
   "metadata": {},
   "outputs": [],
   "source": [
    "# Calculate Average/month in last 6 months\n",
    "qty_avg_mo_calc = sales_rolling_6m.mean().T[[last_month_sales]]\n",
    "qty_avg_mo_calc.columns = ['qty_avg/mo_calc']\n",
    "order_sheet = order_sheet.merge(qty_avg_mo_calc, how = 'left', on = 'style_id')"
   ]
  },
  {
   "cell_type": "code",
   "execution_count": 12,
   "id": "0fcaca3f-b995-4d98-ab7a-bc33074b649b",
   "metadata": {},
   "outputs": [],
   "source": [
    "# Calculate months of supply with order\n",
    "order_sheet['months_of_supply_raw_calc'] = (order_sheet['qty_total_inv'] + order_sheet['order_quantity']) / order_sheet['qty_avg/mo_calc']\n",
    "order_sheet.months_of_supply_raw_calc = order_sheet.months_of_supply_raw_calc.astype(str).replace('inf',np.nan).replace('nan',np.nan).astype(float)"
   ]
  },
  {
   "cell_type": "code",
   "execution_count": 13,
   "id": "e8526c1e-9509-46d1-a1b3-fbcbe0dbf58e",
   "metadata": {},
   "outputs": [
    {
     "data": {
      "text/html": [
       "<div>\n",
       "<style scoped>\n",
       "    .dataframe tbody tr th:only-of-type {\n",
       "        vertical-align: middle;\n",
       "    }\n",
       "\n",
       "    .dataframe tbody tr th {\n",
       "        vertical-align: top;\n",
       "    }\n",
       "\n",
       "    .dataframe thead th {\n",
       "        text-align: right;\n",
       "    }\n",
       "</style>\n",
       "<table border=\"1\" class=\"dataframe\">\n",
       "  <thead>\n",
       "    <tr style=\"text-align: right;\">\n",
       "      <th></th>\n",
       "      <th>style_id</th>\n",
       "      <th>proposal_priority</th>\n",
       "      <th>retail_price</th>\n",
       "      <th>gender</th>\n",
       "      <th>collection</th>\n",
       "      <th>case_size</th>\n",
       "      <th>availability</th>\n",
       "      <th>qty_on_hand</th>\n",
       "      <th>qty_on_order</th>\n",
       "      <th>qty_total_inv</th>\n",
       "      <th>...</th>\n",
       "      <th>qty_avg/mo</th>\n",
       "      <th>wholesale_price</th>\n",
       "      <th>xyz_cost</th>\n",
       "      <th>monthly_forecast_Q3</th>\n",
       "      <th>monthly_classifications_Q3</th>\n",
       "      <th>quarterly_forecast</th>\n",
       "      <th>order_quantity</th>\n",
       "      <th>qty_sold_last_6m_calc</th>\n",
       "      <th>qty_avg/mo_calc</th>\n",
       "      <th>months_of_supply_raw_calc</th>\n",
       "    </tr>\n",
       "  </thead>\n",
       "  <tbody>\n",
       "    <tr>\n",
       "      <th>2</th>\n",
       "      <td>ce1111</td>\n",
       "      <td>c</td>\n",
       "      <td>230.0</td>\n",
       "      <td>ladies</td>\n",
       "      <td>fb-01</td>\n",
       "      <td>36.0</td>\n",
       "      <td>available</td>\n",
       "      <td>0.0</td>\n",
       "      <td>0.0</td>\n",
       "      <td>0.0</td>\n",
       "      <td>...</td>\n",
       "      <td>0.833333</td>\n",
       "      <td>115.0</td>\n",
       "      <td>80.50</td>\n",
       "      <td>0.0</td>\n",
       "      <td>NaN</td>\n",
       "      <td>0</td>\n",
       "      <td>0</td>\n",
       "      <td>4.0</td>\n",
       "      <td>0.666667</td>\n",
       "      <td>0.0</td>\n",
       "    </tr>\n",
       "    <tr>\n",
       "      <th>181</th>\n",
       "      <td>fs5846</td>\n",
       "      <td>c</td>\n",
       "      <td>99.0</td>\n",
       "      <td>mens</td>\n",
       "      <td>retrodigital</td>\n",
       "      <td>40.0</td>\n",
       "      <td>delivery more than 6 weeks</td>\n",
       "      <td>0.0</td>\n",
       "      <td>0.0</td>\n",
       "      <td>0.0</td>\n",
       "      <td>...</td>\n",
       "      <td>0.000000</td>\n",
       "      <td>49.5</td>\n",
       "      <td>34.65</td>\n",
       "      <td>0.0</td>\n",
       "      <td>NaN</td>\n",
       "      <td>0</td>\n",
       "      <td>0</td>\n",
       "      <td>1.0</td>\n",
       "      <td>0.166667</td>\n",
       "      <td>0.0</td>\n",
       "    </tr>\n",
       "  </tbody>\n",
       "</table>\n",
       "<p>2 rows × 22 columns</p>\n",
       "</div>"
      ],
      "text/plain": [
       "    style_id proposal_priority  retail_price  gender    collection case_size  \\\n",
       "2     ce1111                 c         230.0  ladies         fb-01      36.0   \n",
       "181   fs5846                 c          99.0    mens  retrodigital      40.0   \n",
       "\n",
       "                   availability  qty_on_hand  qty_on_order  qty_total_inv  \\\n",
       "2                     available          0.0           0.0            0.0   \n",
       "181  delivery more than 6 weeks          0.0           0.0            0.0   \n",
       "\n",
       "     ...  qty_avg/mo  wholesale_price  xyz_cost  monthly_forecast_Q3  \\\n",
       "2    ...    0.833333            115.0     80.50                  0.0   \n",
       "181  ...    0.000000             49.5     34.65                  0.0   \n",
       "\n",
       "     monthly_classifications_Q3  quarterly_forecast  order_quantity  \\\n",
       "2                           NaN                   0               0   \n",
       "181                         NaN                   0               0   \n",
       "\n",
       "     qty_sold_last_6m_calc  qty_avg/mo_calc  months_of_supply_raw_calc  \n",
       "2                      4.0         0.666667                        0.0  \n",
       "181                    1.0         0.166667                        0.0  \n",
       "\n",
       "[2 rows x 22 columns]"
      ]
     },
     "execution_count": 13,
     "metadata": {},
     "output_type": "execute_result"
    }
   ],
   "source": [
    "order_sheet[order_sheet.months_of_supply_raw_calc < 3]"
   ]
  },
  {
   "cell_type": "markdown",
   "id": "347cded9-cca3-4ecf-9690-3652d1310ad9",
   "metadata": {},
   "source": [
    "There are some models where the units sold in the last 6 months are so low (<1/month) that the model forecasts for the order quantity to be 0. "
   ]
  },
  {
   "cell_type": "code",
   "execution_count": 14,
   "id": "6314232c-95d6-4c8c-a576-232d6c4c8b85",
   "metadata": {},
   "outputs": [
    {
     "name": "stdout",
     "output_type": "stream",
     "text": [
      "$56205\n"
     ]
    }
   ],
   "source": [
    "# Calculate cost of the order\n",
    "proposal_cost = round((order_sheet.xyz_cost*order_sheet.order_quantity).sum())\n",
    "print(f'${proposal_cost}')"
   ]
  },
  {
   "cell_type": "code",
   "execution_count": 15,
   "id": "aadc6959-8720-46eb-8fff-9d7ffa540dbd",
   "metadata": {},
   "outputs": [
    {
     "data": {
      "text/plain": [
       "Index(['style_id', 'proposal_priority', 'retail_price', 'gender', 'collection',\n",
       "       'case_size', 'availability', 'qty_on_hand', 'qty_on_order',\n",
       "       'qty_total_inv', 'planned_order', 'qty_sold_last_6m', 'qty_avg/mo',\n",
       "       'wholesale_price', 'xyz_cost', 'monthly_forecast_Q3',\n",
       "       'monthly_classifications_Q3', 'quarterly_forecast', 'order_quantity',\n",
       "       'qty_sold_last_6m_calc', 'qty_avg/mo_calc',\n",
       "       'months_of_supply_raw_calc'],\n",
       "      dtype='object')"
      ]
     },
     "execution_count": 15,
     "metadata": {},
     "output_type": "execute_result"
    }
   ],
   "source": [
    "order_sheet.columns"
   ]
  },
  {
   "cell_type": "code",
   "execution_count": 16,
   "id": "cfdc2f26-13f8-4ab3-a30c-2bb1a6fc71ca",
   "metadata": {},
   "outputs": [
    {
     "name": "stderr",
     "output_type": "stream",
     "text": [
      "/var/folders/0z/k5klxhhj5j9g8hc5ygn0nwsr0000gn/T/ipykernel_52803/645371206.py:7: SettingWithCopyWarning: \n",
      "A value is trying to be set on a copy of a slice from a DataFrame.\n",
      "Try using .loc[row_indexer,col_indexer] = value instead\n",
      "\n",
      "See the caveats in the documentation: https://pandas.pydata.org/pandas-docs/stable/user_guide/indexing.html#returning-a-view-versus-a-copy\n",
      "  order_sheet_save[['qty_on_hand', 'qty_on_order',\n",
      "/var/folders/0z/k5klxhhj5j9g8hc5ygn0nwsr0000gn/T/ipykernel_52803/645371206.py:12: SettingWithCopyWarning: \n",
      "A value is trying to be set on a copy of a slice from a DataFrame.\n",
      "Try using .loc[row_indexer,col_indexer] = value instead\n",
      "\n",
      "See the caveats in the documentation: https://pandas.pydata.org/pandas-docs/stable/user_guide/indexing.html#returning-a-view-versus-a-copy\n",
      "  order_sheet_save[['qty_avg/mo','qty_avg/mo_calc','xyz_cost']] = round(order_sheet_save[['qty_avg/mo','qty_avg/mo_calc','xyz_cost']],2)\n"
     ]
    }
   ],
   "source": [
    "# Rearrange and drop unnecessary columns\n",
    "order_sheet_save = order_sheet[['style_id', 'retail_price', 'collection', 'qty_on_hand',\n",
    "       'qty_on_order', 'qty_total_inv', 'qty_sold_last_6m', 'qty_sold_last_6m_calc',\n",
    "       'qty_avg/mo', 'qty_avg/mo_calc','wholesale_price', 'xyz_cost', 'quarterly_forecast', 'planned_order', 'order_quantity']]\n",
    "\n",
    "# Change to int\n",
    "order_sheet_save[['qty_on_hand', 'qty_on_order',\n",
    "       'qty_total_inv', 'qty_sold_last_6m', 'qty_sold_last_6m_calc','planned_order']] = order_sheet_save[['qty_on_hand', 'qty_on_order',\n",
    "       'qty_total_inv', 'qty_sold_last_6m', 'qty_sold_last_6m_calc','planned_order']].astype(int)\n",
    "\n",
    "# Round\n",
    "order_sheet_save[['qty_avg/mo','qty_avg/mo_calc','xyz_cost']] = round(order_sheet_save[['qty_avg/mo','qty_avg/mo_calc','xyz_cost']],2)"
   ]
  },
  {
   "cell_type": "code",
   "execution_count": 17,
   "id": "e01323c9-e244-444f-b363-089f9d739193",
   "metadata": {},
   "outputs": [],
   "source": [
    "order_sheet_save.to_csv('../output/order_sheet.csv',index=False)"
   ]
  },
  {
   "cell_type": "markdown",
   "id": "1ccaf93b-1415-4d04-82c1-901bb2be191f",
   "metadata": {
    "tags": []
   },
   "source": [
    "## Discussion"
   ]
  },
  {
   "cell_type": "code",
   "execution_count": 18,
   "id": "71c7684e-ae59-48d3-bb9a-20391b5fa9c5",
   "metadata": {},
   "outputs": [
    {
     "data": {
      "image/png": "[encoded data removed]",
      "text/plain": [
       "<Figure size 432x288 with 1 Axes>"
      ]
     },
     "metadata": {
      "needs_background": "light"
     },
     "output_type": "display_data"
    }
   ],
   "source": [
    "# Compare order to the planned order provided by XYZ\n",
    "order_sheet['residuals'] = order_sheet.planned_order - order_sheet.order_quantity\n",
    "residuals_counts = pd.DataFrame(order_sheet.residuals.value_counts(normalize=True)).sort_index()\n",
    "\n",
    "plt.bar(residuals_counts.index.values, residuals_counts.residuals,width=3)\n",
    "plt.title('Distribution of order residuals - all items')\n",
    "plt.xlabel('Residuals (planned order - predicted values)')\n",
    "plt.ylabel('% of all order residuals');"
   ]
  },
  {
   "cell_type": "code",
   "execution_count": 19,
   "id": "432a5bd4-ad54-45f1-88dd-37f48f740b4a",
   "metadata": {},
   "outputs": [
    {
     "name": "stdout",
     "output_type": "stream",
     "text": [
      "Of the 300 items on the proposal, 77% of orders were identical to the planned order.\n",
      "91% were within +/- 10 units.\n",
      "There were 35 new models and 265 existing models on the proposal.\n"
     ]
    }
   ],
   "source": [
    "print(f'Of the {order_sheet.shape[0]} items on the proposal, {round(residuals_counts.loc[0,\"residuals\"]*100)}% of orders were identical to the planned order.')\n",
    "print(f'{round(residuals_counts.loc[-10:10,\"residuals\"].sum()*100)}% were within +/- 10 units.')\n",
    "print(f'There were {new_model_predictions.shape[0]} new models and {proposal_predictions.shape[0]} existing models on the proposal.') "
   ]
  },
  {
   "cell_type": "code",
   "execution_count": 20,
   "id": "443ac451-425b-42bd-9e31-ef29de5ef2f7",
   "metadata": {},
   "outputs": [
    {
     "data": {
      "image/png": "[encoded data removed]",
      "text/plain": [
       "<Figure size 432x288 with 1 Axes>"
      ]
     },
     "metadata": {
      "needs_background": "light"
     },
     "output_type": "display_data"
    }
   ],
   "source": [
    "plt.hist(order_sheet[order_sheet[proposal_preds_column].astype(str) == \"nan\"].residuals)\n",
    "plt.title('Histogram of order residuals - new models')\n",
    "plt.xlabel('Residuals (planned order - predicted values)')\n",
    "plt.ylabel('Count');\n",
    "plt.savefig('../images/new_models_residuals')"
   ]
  },
  {
   "cell_type": "code",
   "execution_count": 21,
   "id": "cf072f66-6fbe-4081-be2d-cccdeb22bcfd",
   "metadata": {
    "tags": []
   },
   "outputs": [
    {
     "name": "stderr",
     "output_type": "stream",
     "text": [
      "/Applications/anaconda3/lib/python3.8/site-packages/statsmodels/nonparametric/smoothers_lowess.py:227: RuntimeWarning: invalid value encountered in true_divide\n",
      "  res, _ = _lowess(y, x, x, np.ones_like(x),\n"
     ]
    },
    {
     "data": {
      "image/png": "[encoded data removed]",
      "text/plain": [
       "<Figure size 432x288 with 1 Axes>"
      ]
     },
     "metadata": {
      "needs_background": "light"
     },
     "output_type": "display_data"
    },
    {
     "data": {
      "image/png": "[encoded data removed]",
      "text/plain": [
       "<Figure size 432x288 with 1 Axes>"
      ]
     },
     "metadata": {
      "needs_background": "light"
     },
     "output_type": "display_data"
    }
   ],
   "source": [
    "plot_preds(order_sheet['planned_order'], order_sheet['order_quantity'], 'Order Estimate')"
   ]
  },
  {
   "cell_type": "markdown",
   "id": "88592c83-13bf-4cec-8125-3c99cf758031",
   "metadata": {},
   "source": [
    "The predicted sales versus the actual sales generally followed a linear trend, and the residuals are linear across the y axis. However, the error becomes much larger as predicted sales increases, indicating that model does not predict large sales well. However, this makes up a minority of models (typically only new models). This is an improvement area."
   ]
  },
  {
   "cell_type": "code",
   "execution_count": 22,
   "id": "5883455c-3569-453b-b6c7-031f8c13126c",
   "metadata": {},
   "outputs": [
    {
     "name": "stdout",
     "output_type": "stream",
     "text": [
      "The root mean squared error of the orders is 8.56 units.\n",
      "The mean of the planned orders is 6.33 units.\n",
      "The mean of the predicted orders is 3.63 units.\n"
     ]
    }
   ],
   "source": [
    "rmse = mean_squared_error(order_sheet['planned_order'],order_sheet['order_quantity'],squared=False)\n",
    "mean_planned = order_sheet['planned_order'].mean()\n",
    "mean_preds = order_sheet['order_quantity'].mean()\n",
    "\n",
    "print(f\"The root mean squared error of the orders is {round(rmse,2)} units.\")\n",
    "print(f\"The mean of the planned orders is {round(mean_planned,2)} units.\")\n",
    "print(f\"The mean of the predicted orders is {round(mean_preds,2)} units.\")"
   ]
  },
  {
   "cell_type": "markdown",
   "id": "76e24b05-5e2a-42a7-a3ac-183bd8025bdb",
   "metadata": {},
   "source": [
    "## Conclusion\n",
    "\n",
    "XYZ Company can use this code to generate an initial pass on generating forecastings for this brand's proposals. It is nimble enough to take next quarter's proposal with new models and generate new predictions. While the predictions are not very accurate, they are typically +/- 10 units and can serve as an easy way to generate a quick order sheet. The business should note the limitations and note that the predictions are \"conservative\" - they may want to adjust order quantities up.\n",
    "\n",
    "## Next Steps\n",
    "\n",
    "Future work includes the following:\n",
    "- Evaluate using a shorter rolling average (upon approval from the business) to allow the forecast to become more responsive to shifts in sales\n",
    "- To increase bias, further consolidate values in categories, for example:  colors, materials, collections\n",
    "- Develop a script or app to allow more user-friendly use of the models\n",
    "\n",
    "Recommendations for XYZ Company:\n",
    "- To continue this type of work, it would be highly benifical to improve data systems so that monthly sales are stored in historical data. This would allow for more sophisticated techniques, like SARIMA."
   ]
  },
  {
   "cell_type": "code",
   "execution_count": null,
   "id": "5e117b01-9350-4887-8187-4b443da847e9",
   "metadata": {},
   "outputs": [],
   "source": []
  }
 ],
 "metadata": {
  "kernelspec": {
   "display_name": "Python 3 (ipykernel)",
   "language": "python",
   "name": "python3"
  },
  "language_info": {
   "codemirror_mode": {
    "name": "ipython",
    "version": 3
   },
   "file_extension": ".py",
   "mimetype": "text/x-python",
   "name": "python",
   "nbconvert_exporter": "python",
   "pygments_lexer": "ipython3",
   "version": "3.8.8"
  }
 },
 "nbformat": 4,
 "nbformat_minor": 5
}
