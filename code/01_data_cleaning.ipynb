{
 "cells": [
  {
   "cell_type": "markdown",
   "id": "aada9ad0-ad96-4357-8673-65cb1d27dd2a",
   "metadata": {},
   "source": [
    "# Notebook 01: Problem Statement and Data Cleaning\n",
    "\n",
    "This notebook details the problem statement and cleans/saves the datasets."
   ]
  },
  {
   "cell_type": "markdown",
   "id": "880a417c-16fc-48e4-8829-034d2cfdc5d5",
   "metadata": {},
   "source": [
    "## Problem Statement"
   ]
  },
  {
   "cell_type": "markdown",
   "id": "cd1e0e31-3e28-4e08-94b7-4b23c86df3dc",
   "metadata": {},
   "source": [
    "([CTE Watch Company](https://www.cte-watches.com/who-we-are) is a South Florida based  company that distributes fashion and household items to smaller retailers in the Caribbean islands, Cruise ships, Duty-free/Travel Retail, Latin America & North American markets.\n",
    "\n",
    "Success is determined by how well CTE manages inventory to optimize warehouse space and minimize the purchase of unsuccessful products. CTE typically purchases directly from the brands on a quarterly basis, which they then go on to sell to the smaller retailers. They must  predict how much they can sell to the smaller retailers in order to place quarterly brand orders. Typically, CTE makes their predictions by calculating a 6-month rolling average and placing an order to make sure they have enough inventory for 3 months. If it is a new model, they must make a guess based on the attributes of the watch. This is a very manual process and requires the 30-year expertise of the owner to be done well. Additionally, there are many different types of products within each brand (ex. 300 different watch models for 1 brand), and there are approximately 40 brands.\n",
    "\n",
    "In this project, I aim to build a model that accurately and more quickly forecasts order quantities for both new and existing models for one watch brand. The model will predict watch sales based on historical sales (if available) and the individual model attributes (style, gender, color, price, material, etc). Different types of models will be explored to adequately and appropriately accomplish this goal (forecasting, regression, classification). This predictions will be validated against the owner's purchase order for the next quarter during a meeting in early June."
   ]
  },
  {
   "cell_type": "code",
   "execution_count": 187,
   "id": "e65b704c-33c9-41ff-8cde-de88e494849d",
   "metadata": {},
   "outputs": [],
   "source": [
    "# Imports\n",
    "import pandas as pd\n",
    "import numpy as np\n",
    "import matplotlib.pyplot as plt\n",
    "import plotly.express as px"
   ]
  },
  {
   "cell_type": "markdown",
   "id": "39348813-89c6-4ce9-b300-4ec74982b41b",
   "metadata": {
    "tags": []
   },
   "source": [
    "## Data Cleaning"
   ]
  },
  {
   "cell_type": "markdown",
   "id": "14a79674-09ce-4865-aa6f-00c0e6768fc5",
   "metadata": {
    "jp-MarkdownHeadingCollapsed": true,
    "tags": []
   },
   "source": [
    "### Watch Flow Chart"
   ]
  },
  {
   "cell_type": "markdown",
   "id": "23727570-04c3-41d4-bfa2-6cf5c299e9fc",
   "metadata": {},
   "source": [
    "This dataset contains CTE's records of each model's sales for the brand since 2015 (when they started distributing the brand)."
   ]
  },
  {
   "cell_type": "code",
   "execution_count": 329,
   "id": "0046ab93-9ddd-4d01-9220-d9d5b17b266a",
   "metadata": {
    "tags": []
   },
   "outputs": [],
   "source": [
    "df_watch_chart = pd.read_excel('../data/WATCH FLOW CHART 0416.xlsx',header=1)\n",
    "\n",
    "# Drop unnecessary/blank columns\n",
    "df_watch_chart.drop(columns=['IMAGE','MAY', 'JUN', 'JUL', 'AUG', 'SEP', 'OCT', 'NOV', 'DEC','Unnamed: 16','Unnamed: 29','DESCRIPTION'],index=0,inplace=True)\n",
    "\n",
    "# Standardize column names\n",
    "df_watch_chart.columns = df_watch_chart.columns.astype(str).str.strip().str.lower().str.replace(' ','_')\n",
    "df_watch_chart.columns = ['style_id', 'retail_price', 'upc_num', 'collection', 'case', 'gender',\n",
    "       'status', '2015', '2016', '2017', '2018', '2019', '2020', '2021', '2022-01',\n",
    "       '2022-02', '2022-03', '2022-04', 'qt_sales_order', 'total_sales_2022', 'qt_on_hand',\n",
    "       'monthly_avg_2022']\n",
    "\n",
    "# Drop null row\n",
    "df_watch_chart.dropna(subset='style_id', inplace=True)\n",
    "\n",
    "# Convert UPC number to str (categorical)\n",
    "df_watch_chart.loc[:,'upc_num'] = df_watch_chart.loc[:,'upc_num'].astype(int).astype(str)\n",
    "\n",
    "# Identify and deal with null values\n",
    "# Retail price\n",
    "df_watch_chart.dropna(subset='retail_price', inplace=True)\n",
    "# Collection\n",
    "df_watch_chart.loc[646,'collection'] = 'FORRESTER CHRONO'\n",
    "df_watch_chart.loc[786,'collection'] = 'JACQUELINE'\n",
    "# Case\n",
    "df_watch_chart.loc[646,'case'] = '46MM'\n",
    "df_watch_chart.loc[786,'case'] = '36MM'\n",
    "# Sales years\n",
    "df_watch_chart[['2015','2016','2017','2018','2019','2020','2021','2022-01',\n",
    "       '2022-02', '2022-03', '2022-04']] = df_watch_chart[['2015','2016','2017','2018','2019','2020','2021','2022-01',\n",
    "       '2022-02', '2022-03', '2022-04']].fillna(0)\n",
    "# Status\n",
    "df_watch_chart.fillna('No status reported',inplace=True)"
   ]
  },
  {
   "cell_type": "code",
   "execution_count": 330,
   "id": "b3c1a1e8-e62a-422b-9951-e445aa63e622",
   "metadata": {
    "tags": []
   },
   "outputs": [
    {
     "name": "stdout",
     "output_type": "stream",
     "text": [
      "<class 'pandas.core.frame.DataFrame'>\n",
      "Int64Index: 1588 entries, 1 to 1590\n",
      "Data columns (total 22 columns):\n",
      " #   Column            Non-Null Count  Dtype  \n",
      "---  ------            --------------  -----  \n",
      " 0   style_id          1588 non-null   object \n",
      " 1   retail_price      1588 non-null   float64\n",
      " 2   upc_num           1588 non-null   object \n",
      " 3   collection        1588 non-null   object \n",
      " 4   case              1588 non-null   object \n",
      " 5   gender            1588 non-null   object \n",
      " 6   status            1588 non-null   object \n",
      " 7   2015              1588 non-null   float64\n",
      " 8   2016              1588 non-null   float64\n",
      " 9   2017              1588 non-null   float64\n",
      " 10  2018              1588 non-null   float64\n",
      " 11  2019              1588 non-null   float64\n",
      " 12  2020              1588 non-null   float64\n",
      " 13  2021              1588 non-null   float64\n",
      " 14  2022-01           1588 non-null   float64\n",
      " 15  2022-02           1588 non-null   float64\n",
      " 16  2022-03           1588 non-null   float64\n",
      " 17  2022-04           1588 non-null   float64\n",
      " 18  qt_sales_order    1588 non-null   float64\n",
      " 19  total_sales_2022  1588 non-null   float64\n",
      " 20  qt_on_hand        1588 non-null   float64\n",
      " 21  monthly_avg_2022  1588 non-null   float64\n",
      "dtypes: float64(16), object(6)\n",
      "memory usage: 349.9+ KB\n"
     ]
    }
   ],
   "source": [
    "df_watch_chart.info()"
   ]
  },
  {
   "cell_type": "code",
   "execution_count": 332,
   "id": "fb1cb090-fe6b-473f-824a-0d101e178b35",
   "metadata": {},
   "outputs": [],
   "source": [
    "# Save to csv\n",
    "df_watch_chart.to_csv('../cleaned_datasets/watch_flow_chart.csv',index=False)"
   ]
  },
  {
   "cell_type": "code",
   "execution_count": null,
   "id": "2d1b6b42-61fb-4ec1-87a9-789772c7c301",
   "metadata": {},
   "outputs": [],
   "source": []
  },
  {
   "cell_type": "markdown",
   "id": "e1b873b0-9f34-47e2-9e8c-5e6984ea3e87",
   "metadata": {
    "jp-MarkdownHeadingCollapsed": true,
    "tags": []
   },
   "source": [
    "### Brand Proposal"
   ]
  },
  {
   "cell_type": "markdown",
   "id": "218b6952-cc41-42b8-8ae1-74d0df92cb44",
   "metadata": {},
   "source": [
    "This dataset contain's the brand's current collection and CTE's order on April 16, 2022."
   ]
  },
  {
   "cell_type": "code",
   "execution_count": 191,
   "id": "8544ba69-e69e-4436-9a72-63afe5310d72",
   "metadata": {},
   "outputs": [],
   "source": [
    "df_proposal = pd.read_excel('../data/PROPOSAL APRIL 16.xlsx')\n",
    "\n",
    "# Drop unnecessary/blank columns\n",
    "df_proposal.drop(columns=['IMAGE','Unnamed: 12','Unnamed: 14','Unnamed: 17'],inplace=True)\n",
    "\n",
    "# Drop rows with total sheet calculations\n",
    "df_proposal.dropna(subset='Material',inplace=True)\n",
    "\n",
    "# Standardize column names\n",
    "df_proposal.columns = df_proposal.columns.astype(str).str.strip().str.lower().str.replace(' ','_')\n",
    "df_proposal.columns = ['style_id', 'upc_num', 'priority', 'retail_price', 'gender', 'collection', 'case',\n",
    "       'availability', 'qty_on_hand', 'qty_on_order', 'qty_total', 'qty_sales_order', 'qty_sold_last_6m',\n",
    "       'qty_avg/mo', 'months_of_supply', 'wholesale_price', 'cte_cost', 'qty_cte_cost']\n",
    "\n",
    "# Convert UPC number to str (categorical)\n",
    "df_proposal.loc[:,'upc_num'] = df_proposal.loc[:,'upc_num'].astype(int).astype(str)"
   ]
  },
  {
   "cell_type": "code",
   "execution_count": 192,
   "id": "b810f6de-74ac-4e8a-9dda-74dade5a19a0",
   "metadata": {},
   "outputs": [
    {
     "data": {
      "text/plain": [
       "True    300\n",
       "dtype: int64"
      ]
     },
     "execution_count": 192,
     "metadata": {},
     "output_type": "execute_result"
    }
   ],
   "source": [
    "# Data quality checks\n",
    "df_proposal['qty_total_dup'] = df_proposal['qty_on_hand'] + df_proposal['qty_on_order']\n",
    "(df_proposal['qty_total_dup'] == df_proposal['qty_total']).value_counts()"
   ]
  },
  {
   "cell_type": "code",
   "execution_count": 193,
   "id": "0b0aa915-9117-4257-a694-1689718848ce",
   "metadata": {},
   "outputs": [
    {
     "data": {
      "text/plain": [
       "True    300\n",
       "dtype: int64"
      ]
     },
     "execution_count": 193,
     "metadata": {},
     "output_type": "execute_result"
    }
   ],
   "source": [
    "df_proposal['qty_avg/mo_dup'] = df_proposal['qty_sold_last_6m']/6\n",
    "(df_proposal['qty_avg/mo_dup'] == df_proposal['qty_avg/mo']).value_counts()"
   ]
  },
  {
   "cell_type": "code",
   "execution_count": 194,
   "id": "6fb4500a-f59b-483e-8f38-0e782bee0c77",
   "metadata": {},
   "outputs": [
    {
     "data": {
      "text/plain": [
       "True     216\n",
       "False     84\n",
       "dtype: int64"
      ]
     },
     "execution_count": 194,
     "metadata": {},
     "output_type": "execute_result"
    }
   ],
   "source": [
    "df_proposal['months_of_supply_dup'] = [(df_proposal.loc[x,'qty_total_dup'] + df_proposal.loc[x,'qty_sales_order'])/df_proposal.loc[x,'qty_avg/mo_dup'] if df_proposal.loc[x,'qty_avg/mo_dup'] != 0 else np.nan for x in df_proposal.index]\n",
    "(df_proposal['months_of_supply_dup'] == df_proposal['months_of_supply']).value_counts()"
   ]
  },
  {
   "cell_type": "code",
   "execution_count": 195,
   "id": "f3af1a27-d0e0-4b96-9d24-d37a65759c32",
   "metadata": {},
   "outputs": [
    {
     "data": {
      "text/plain": [
       "True    300\n",
       "dtype: int64"
      ]
     },
     "execution_count": 195,
     "metadata": {},
     "output_type": "execute_result"
    }
   ],
   "source": [
    "(df_proposal['months_of_supply_dup'].isna() == df_proposal['months_of_supply'].isna()).value_counts()"
   ]
  },
  {
   "cell_type": "code",
   "execution_count": 196,
   "id": "36c36c9d-4a59-4313-9723-de8a1562269a",
   "metadata": {},
   "outputs": [
    {
     "data": {
      "text/plain": [
       "True    300\n",
       "dtype: int64"
      ]
     },
     "execution_count": 196,
     "metadata": {},
     "output_type": "execute_result"
    }
   ],
   "source": [
    "df_proposal['cte_cost_dup'] = df_proposal['wholesale_price']*0.7\n",
    "(df_proposal['cte_cost_dup'] == df_proposal['cte_cost']).value_counts()"
   ]
  },
  {
   "cell_type": "code",
   "execution_count": 197,
   "id": "b286ebb3-efef-49e8-b5a4-3dde20244ff1",
   "metadata": {},
   "outputs": [],
   "source": [
    "# Drop all duplicated columns\n",
    "df_proposal.drop(columns=['qty_total_dup','qty_avg/mo_dup','months_of_supply_dup','cte_cost_dup'],inplace=True)"
   ]
  },
  {
   "cell_type": "code",
   "execution_count": 198,
   "id": "24ccc3b4-60a4-452e-ad07-8e82e35af752",
   "metadata": {},
   "outputs": [
    {
     "name": "stdout",
     "output_type": "stream",
     "text": [
      "<class 'pandas.core.frame.DataFrame'>\n",
      "Int64Index: 300 entries, 0 to 299\n",
      "Data columns (total 18 columns):\n",
      " #   Column            Non-Null Count  Dtype  \n",
      "---  ------            --------------  -----  \n",
      " 0   style_id          300 non-null    object \n",
      " 1   upc_num           300 non-null    object \n",
      " 2   priority          300 non-null    object \n",
      " 3   retail_price      300 non-null    float64\n",
      " 4   gender            300 non-null    object \n",
      " 5   collection        300 non-null    object \n",
      " 6   case              300 non-null    object \n",
      " 7   availability      300 non-null    object \n",
      " 8   qty_on_hand       300 non-null    float64\n",
      " 9   qty_on_order      300 non-null    object \n",
      " 10  qty_total         300 non-null    float64\n",
      " 11  qty_sales_order   300 non-null    float64\n",
      " 12  qty_sold_last_6m  300 non-null    object \n",
      " 13  qty_avg/mo        300 non-null    float64\n",
      " 14  months_of_supply  216 non-null    object \n",
      " 15  wholesale_price   300 non-null    float64\n",
      " 16  cte_cost          300 non-null    float64\n",
      " 17  qty_cte_cost      300 non-null    float64\n",
      "dtypes: float64(8), object(10)\n",
      "memory usage: 52.6+ KB\n"
     ]
    }
   ],
   "source": [
    "df_proposal.info()"
   ]
  },
  {
   "cell_type": "code",
   "execution_count": 199,
   "id": "7cd3271b-01eb-4593-8701-18ae5fe997ef",
   "metadata": {},
   "outputs": [],
   "source": [
    "# Save to csv\n",
    "df_proposal.to_csv('../cleaned_datasets/proposal.csv',index=False)"
   ]
  },
  {
   "cell_type": "code",
   "execution_count": null,
   "id": "8a8dd9c0-133b-421d-a42a-2e84b1b62d6a",
   "metadata": {},
   "outputs": [],
   "source": []
  },
  {
   "cell_type": "markdown",
   "id": "22b96a62-64ec-4c48-bbfd-87f41518b324",
   "metadata": {
    "jp-MarkdownHeadingCollapsed": true,
    "tags": []
   },
   "source": [
    "### All Watches from Brand Website"
   ]
  },
  {
   "cell_type": "markdown",
   "id": "f2babd04-30e6-402f-9782-22fb357efce8",
   "metadata": {},
   "source": [
    "This dataset contains all watches from the brand's website, and includes more attributes."
   ]
  },
  {
   "cell_type": "code",
   "execution_count": 200,
   "id": "c3f3b6e4-f843-498f-b901-1c837a11066f",
   "metadata": {},
   "outputs": [],
   "source": [
    "df_website = pd.read_excel('../data/ALL ITEMS FROM WEBSITE.xlsx')\n",
    "\n",
    "# Drop unnecessary columns\n",
    "df_website.drop(columns=['u_brand','u_category','description','name'],inplace=True)\n",
    "\n",
    "# Standardize column names\n",
    "df_website.columns = df_website.columns.astype(str).str.strip().str.lower().str.replace(' ','_').str.replace('u_','').str.replace('ws_','')\n",
    "df_website.columns = ['style_id', 'upc_num', 'gender', 'collection', 'size', 'wholesale_price', 'retail_price',\n",
    "       'product_type', 'product_websites', 'weight', 'color',\n",
    "       'country_of_origin', 'warranty', 'band_color', 'band_material',\n",
    "       'case_material', 'clasp_type', 'crystal_type', 'dial_color',\n",
    "       'movement_type', 'water_resistant', 'max_cart_qty']\n",
    "\n",
    "# Convert UPC number to str (categorical)\n",
    "df_website.loc[:,'upc_num'] = df_website.loc[:,'upc_num'].astype(int).astype(str)\n",
    "\n",
    "# Identify and deal with null values\n",
    "# band color\n",
    "df_website['band_color'] = df_website['band_color'].fillna('No color reported')\n",
    "# clasp type\n",
    "df_website['clasp_type'] = df_website['clasp_type'].fillna('No clasp type reported')\n",
    "# movement type\n",
    "df_website['movement_type'] = df_website['movement_type'].fillna('No movement type reported')\n",
    "# water resistance, fill with 10000 since most likelye\n",
    "df_website['max_cart_qty'] = df_website['max_cart_qty'].fillna(10000)\n",
    "\n",
    "# Dropping the following columns because their values are all the same\n",
    "df_website.drop(columns=['product_type','product_websites','weight','crystal_type'],inplace=True)"
   ]
  },
  {
   "cell_type": "code",
   "execution_count": 201,
   "id": "06333caa-31a6-4b09-9b24-6fb24293db7b",
   "metadata": {},
   "outputs": [
    {
     "name": "stdout",
     "output_type": "stream",
     "text": [
      "<class 'pandas.core.frame.DataFrame'>\n",
      "RangeIndex: 1195 entries, 0 to 1194\n",
      "Data columns (total 18 columns):\n",
      " #   Column             Non-Null Count  Dtype  \n",
      "---  ------             --------------  -----  \n",
      " 0   style_id           1195 non-null   object \n",
      " 1   upc_num            1195 non-null   object \n",
      " 2   gender             1195 non-null   object \n",
      " 3   collection         1195 non-null   object \n",
      " 4   size               1195 non-null   int64  \n",
      " 5   wholesale_price    1195 non-null   float64\n",
      " 6   retail_price       1195 non-null   int64  \n",
      " 7   color              1195 non-null   object \n",
      " 8   country_of_origin  1195 non-null   object \n",
      " 9   warranty           1195 non-null   object \n",
      " 10  band_color         1195 non-null   object \n",
      " 11  band_material      1195 non-null   object \n",
      " 12  case_material      1195 non-null   object \n",
      " 13  clasp_type         1195 non-null   object \n",
      " 14  dial_color         1195 non-null   object \n",
      " 15  movement_type      1195 non-null   object \n",
      " 16  water_resistant    1194 non-null   object \n",
      " 17  max_cart_qty       1195 non-null   float64\n",
      "dtypes: float64(2), int64(2), object(14)\n",
      "memory usage: 168.2+ KB\n"
     ]
    }
   ],
   "source": [
    "df_website.info()"
   ]
  },
  {
   "cell_type": "code",
   "execution_count": 202,
   "id": "a2f161ee-76e4-45aa-8e73-6b23d62ffe82",
   "metadata": {},
   "outputs": [],
   "source": [
    "# Save to csv\n",
    "df_website.to_csv('../cleaned_datasets/website.csv',index=False)"
   ]
  },
  {
   "cell_type": "code",
   "execution_count": null,
   "id": "4964d218-ca94-45a8-b5ce-fa750bbb06ce",
   "metadata": {},
   "outputs": [],
   "source": []
  },
  {
   "cell_type": "markdown",
   "id": "bf85d527-ddf9-47ec-ad3b-8da6deea53cd",
   "metadata": {
    "jp-MarkdownHeadingCollapsed": true,
    "tags": []
   },
   "source": [
    "### New Models Q3"
   ]
  },
  {
   "cell_type": "markdown",
   "id": "0a861f0f-9b49-4d2f-ac23-54332c87d2eb",
   "metadata": {},
   "source": [
    "This dataset contains the new models that will debut in Q3 2022."
   ]
  },
  {
   "cell_type": "code",
   "execution_count": 239,
   "id": "30f5bd27-e37b-4cd8-ace2-c2864ba4d6fc",
   "metadata": {
    "tags": []
   },
   "outputs": [],
   "source": [
    "df_q3_new = pd.read_excel('../data/new models H3.xlsx',header = 1)\n",
    "\n",
    "# Drop empty rows (NaN)\n",
    "df_q3_new.dropna(how = 'all',inplace=True)\n",
    "\n",
    "# Drop unnecessary columns\n",
    "df_q3_new.drop(columns=['STATUS'],inplace=True)\n",
    "\n",
    "# Standardize column names\n",
    "df_q3_new.columns = df_q3_new.columns.astype(str).str.strip().str.lower().str.replace(' ','_')\n",
    "df_q3_new.columns = ['style_id', 'collection', 'movement_type', 'retail_price', 'color', 'band_color', 'case',\n",
    "       'lug_width', 'gender']"
   ]
  },
  {
   "cell_type": "code",
   "execution_count": 240,
   "id": "b19964a0-a6f1-4f7f-a7ca-eb103bed8fcd",
   "metadata": {},
   "outputs": [
    {
     "name": "stdout",
     "output_type": "stream",
     "text": [
      "<class 'pandas.core.frame.DataFrame'>\n",
      "Int64Index: 47 entries, 1 to 48\n",
      "Data columns (total 9 columns):\n",
      " #   Column         Non-Null Count  Dtype  \n",
      "---  ------         --------------  -----  \n",
      " 0   style_id       47 non-null     object \n",
      " 1   collection     47 non-null     object \n",
      " 2   movement_type  47 non-null     object \n",
      " 3   retail_price   47 non-null     float64\n",
      " 4   color          47 non-null     object \n",
      " 5   band_color     47 non-null     object \n",
      " 6   case           47 non-null     object \n",
      " 7   lug_width      47 non-null     object \n",
      " 8   gender         47 non-null     object \n",
      "dtypes: float64(1), object(8)\n",
      "memory usage: 3.7+ KB\n"
     ]
    }
   ],
   "source": [
    "df_q3_new.info()"
   ]
  },
  {
   "cell_type": "code",
   "execution_count": 241,
   "id": "491b82d2-c835-4860-8cde-3c4a76ce0c81",
   "metadata": {},
   "outputs": [],
   "source": [
    "# save to csv\n",
    "df_q3_new.to_csv('../cleaned_datasets/q3_new_models.csv', index=False)"
   ]
  },
  {
   "cell_type": "markdown",
   "id": "384ee7ef-f3a9-4cd6-beb1-3694ede5c215",
   "metadata": {
    "jp-MarkdownHeadingCollapsed": true,
    "tags": []
   },
   "source": [
    "### New Models Q4"
   ]
  },
  {
   "cell_type": "markdown",
   "id": "ee3227af-bbc1-4ff4-872d-de38e0bb5f75",
   "metadata": {},
   "source": [
    "This dataset contains the new models that will debut in Q4 2022."
   ]
  },
  {
   "cell_type": "code",
   "execution_count": 253,
   "id": "865d0be5-8715-46cf-b2bb-5c180578bab9",
   "metadata": {
    "tags": []
   },
   "outputs": [],
   "source": [
    "df_q4_new = pd.read_excel('../data/new models H4.xlsx')\n",
    "\n",
    "# Drop empty rows (NaN)\n",
    "df_q4_new.dropna(how = 'all',inplace=True)\n",
    "\n",
    "# Drop unnecessary columns\n",
    "df_q4_new.drop(columns=['Unnamed: 9'],inplace=True)\n",
    "\n",
    "# Infer column names\n",
    "df_q4_new.columns = ['style_id', 'collection', 'movement_type', 'retail_price', 'color', 'band_color', 'case',\n",
    "       'lug_width', 'gender']\n",
    "\n",
    "# Identify and deal with null values\n",
    "# price - will deal with later\n",
    "# lug width\n",
    "df_q4_new['lug_width'] = df_q4_new['lug_width'].fillna('No lug width reported')"
   ]
  },
  {
   "cell_type": "code",
   "execution_count": 254,
   "id": "b62bdd65-88b3-4aa3-b5ed-382b6db17080",
   "metadata": {},
   "outputs": [
    {
     "name": "stdout",
     "output_type": "stream",
     "text": [
      "<class 'pandas.core.frame.DataFrame'>\n",
      "Int64Index: 36 entries, 0 to 36\n",
      "Data columns (total 9 columns):\n",
      " #   Column         Non-Null Count  Dtype  \n",
      "---  ------         --------------  -----  \n",
      " 0   style_id       36 non-null     object \n",
      " 1   collection     36 non-null     object \n",
      " 2   movement_type  36 non-null     object \n",
      " 3   retail_price   33 non-null     float64\n",
      " 4   color          36 non-null     object \n",
      " 5   band_color     36 non-null     object \n",
      " 6   case           36 non-null     object \n",
      " 7   lug_width      36 non-null     object \n",
      " 8   gender         36 non-null     object \n",
      "dtypes: float64(1), object(8)\n",
      "memory usage: 2.8+ KB\n"
     ]
    }
   ],
   "source": [
    "df_q4_new.info()"
   ]
  },
  {
   "cell_type": "code",
   "execution_count": 255,
   "id": "4d304a3f-c1a0-4f16-8286-36cd8cc75856",
   "metadata": {},
   "outputs": [],
   "source": [
    "# save to csv\n",
    "df_q4_new.to_csv('../cleaned_datasets/q4_new_models.csv', index=False)"
   ]
  },
  {
   "cell_type": "code",
   "execution_count": null,
   "id": "1bc60234-f08f-46b5-95ab-8f623db0806f",
   "metadata": {},
   "outputs": [],
   "source": []
  },
  {
   "cell_type": "markdown",
   "id": "6c2882cf-0cbf-4d43-8808-0fec9db85774",
   "metadata": {
    "jp-MarkdownHeadingCollapsed": true,
    "tags": []
   },
   "source": [
    "### Holiday items - new items Q4"
   ]
  },
  {
   "cell_type": "markdown",
   "id": "a1a03d8b-3af4-47b9-96c0-a4e0ff1d066b",
   "metadata": {},
   "source": [
    "This dataset contains the new models that will debut in Q4 2022. It was determined to be a repeat of New Models Q4."
   ]
  },
  {
   "cell_type": "code",
   "execution_count": 275,
   "id": "112188ad-38c3-4090-9564-abd4047ad221",
   "metadata": {},
   "outputs": [],
   "source": [
    "# df_holiday_new = pd.read_excel('../data/HOLIDAY NEW ITEMS 05-04-2022.xlsx')\n",
    "\n",
    "# # Drop unnecessary columns\n",
    "# df_holiday_new.drop(columns=['DESCRIPTION','SEASON'],inplace=True)\n",
    "\n",
    "# # Standardize column names\n",
    "# df_holiday_new.columns = df_holiday_new.columns.astype(str).str.strip().str.lower().str.replace(' ','_').str.replace('u_','').str.replace('ws_','')\n",
    "# df_holiday_new.columns = ['style_id', 'collection', 'gender', 'wholesale_price', 'retail_price', 'movement_type',\n",
    "#        'color', 'band_color', 'case']\n",
    "\n",
    "# # deal with retail_price later\n",
    "\n",
    "# df_holiday_new.info()\n",
    "\n",
    "# # save to csv\n",
    "# df_holiday_new.to_csv('../cleaned_datasets//holiday_q4_new_models.csv',index=False)"
   ]
  },
  {
   "cell_type": "markdown",
   "id": "715a6417-8ecd-4142-b769-9001c59ef7bd",
   "metadata": {},
   "source": [
    "## Merging Datasets"
   ]
  },
  {
   "cell_type": "markdown",
   "id": "c3379bc6-cbd2-42ab-9ccf-4fe25ed175de",
   "metadata": {},
   "source": [
    "### Merge old/current models from watch flow chart and website"
   ]
  },
  {
   "cell_type": "code",
   "execution_count": 333,
   "id": "012a7bac-a3ab-4de0-a1eb-5e935cc3276e",
   "metadata": {},
   "outputs": [
    {
     "data": {
      "text/plain": [
       "(1588, 22)"
      ]
     },
     "execution_count": 333,
     "metadata": {},
     "output_type": "execute_result"
    }
   ],
   "source": [
    "df_watch_chart.shape"
   ]
  },
  {
   "cell_type": "code",
   "execution_count": 334,
   "id": "2ef0651d-fc87-444c-98a9-25ecbc864265",
   "metadata": {},
   "outputs": [
    {
     "data": {
      "text/plain": [
       "(300, 18)"
      ]
     },
     "execution_count": 334,
     "metadata": {},
     "output_type": "execute_result"
    }
   ],
   "source": [
    "df_proposal.shape"
   ]
  },
  {
   "cell_type": "code",
   "execution_count": 335,
   "id": "beacb655-ca3a-4b3e-aeae-52313d4bb283",
   "metadata": {},
   "outputs": [
    {
     "data": {
      "text/plain": [
       "(1195, 18)"
      ]
     },
     "execution_count": 335,
     "metadata": {},
     "output_type": "execute_result"
    }
   ],
   "source": [
    "df_website.shape"
   ]
  },
  {
   "cell_type": "code",
   "execution_count": 336,
   "id": "9c74796e-e9fc-4c7c-8c90-2f4f49cb2d2d",
   "metadata": {},
   "outputs": [],
   "source": [
    "df_models = pd.merge(left = df_watch_chart, right = df_website, how = 'outer', on = 'style_id', sort=True)"
   ]
  },
  {
   "cell_type": "markdown",
   "id": "02ecff58-b2e6-4fec-991a-3dbcb15f9883",
   "metadata": {},
   "source": [
    "#### Validation of data"
   ]
  },
  {
   "cell_type": "code",
   "execution_count": 337,
   "id": "d763db0d-43d4-49d3-b2f7-b1cf4b5a67ef",
   "metadata": {},
   "outputs": [
    {
     "name": "stdout",
     "output_type": "stream",
     "text": [
      "<class 'pandas.core.frame.DataFrame'>\n",
      "Int64Index: 1724 entries, 0 to 1723\n",
      "Data columns (total 39 columns):\n",
      " #   Column             Non-Null Count  Dtype  \n",
      "---  ------             --------------  -----  \n",
      " 0   style_id           1724 non-null   object \n",
      " 1   retail_price_x     1588 non-null   float64\n",
      " 2   upc_num_x          1588 non-null   object \n",
      " 3   collection_x       1588 non-null   object \n",
      " 4   case               1588 non-null   object \n",
      " 5   gender_x           1588 non-null   object \n",
      " 6   status             1588 non-null   object \n",
      " 7   2015               1588 non-null   float64\n",
      " 8   2016               1588 non-null   float64\n",
      " 9   2017               1588 non-null   float64\n",
      " 10  2018               1588 non-null   float64\n",
      " 11  2019               1588 non-null   float64\n",
      " 12  2020               1588 non-null   float64\n",
      " 13  2021               1588 non-null   float64\n",
      " 14  2022-01            1588 non-null   float64\n",
      " 15  2022-02            1588 non-null   float64\n",
      " 16  2022-03            1588 non-null   float64\n",
      " 17  2022-04            1588 non-null   float64\n",
      " 18  qt_sales_order     1588 non-null   float64\n",
      " 19  total_sales_2022   1588 non-null   float64\n",
      " 20  qt_on_hand         1588 non-null   float64\n",
      " 21  monthly_avg_2022   1588 non-null   float64\n",
      " 22  upc_num_y          1195 non-null   object \n",
      " 23  gender_y           1195 non-null   object \n",
      " 24  collection_y       1195 non-null   object \n",
      " 25  size               1195 non-null   float64\n",
      " 26  wholesale_price    1195 non-null   float64\n",
      " 27  retail_price_y     1195 non-null   float64\n",
      " 28  color              1195 non-null   object \n",
      " 29  country_of_origin  1195 non-null   object \n",
      " 30  warranty           1195 non-null   object \n",
      " 31  band_color         1195 non-null   object \n",
      " 32  band_material      1195 non-null   object \n",
      " 33  case_material      1195 non-null   object \n",
      " 34  clasp_type         1195 non-null   object \n",
      " 35  dial_color         1195 non-null   object \n",
      " 36  movement_type      1195 non-null   object \n",
      " 37  water_resistant    1194 non-null   object \n",
      " 38  max_cart_qty       1195 non-null   float64\n",
      "dtypes: float64(20), object(19)\n",
      "memory usage: 538.8+ KB\n"
     ]
    }
   ],
   "source": [
    "df_models.info()"
   ]
  },
  {
   "cell_type": "code",
   "execution_count": 342,
   "id": "8b05817e-e5db-46fb-8f2f-6969d017eeb7",
   "metadata": {},
   "outputs": [
    {
     "data": {
      "text/plain": [
       "DISCD                 478\n",
       "No status reported     50\n",
       "2018H3                  1\n",
       "Name: status, dtype: int64"
      ]
     },
     "execution_count": 342,
     "metadata": {},
     "output_type": "execute_result"
    }
   ],
   "source": [
    "# check the status of models where there was no match on the website\n",
    "df_models[df_models['retail_price_y'].isna()]['status'].value_counts()"
   ]
  },
  {
   "cell_type": "code",
   "execution_count": 340,
   "id": "1398024b-d2e4-4a25-b401-2adc11d32b25",
   "metadata": {},
   "outputs": [
    {
     "data": {
      "text/plain": [
       "0.0    529\n",
       "Name: 2021, dtype: int64"
      ]
     },
     "execution_count": 340,
     "metadata": {},
     "output_type": "execute_result"
    }
   ],
   "source": [
    "# check the 2021 sales of models where there was no match on the website\n",
    "df_models[df_models['retail_price_y'].isna()]['2021'].value_counts()"
   ]
  },
  {
   "cell_type": "markdown",
   "id": "8822935b-91ad-4e42-a869-87399633558e",
   "metadata": {},
   "source": [
    "It seems that the 2018H3 is now discontinued and the other watches had no sales in 2021"
   ]
  },
  {
   "cell_type": "code",
   "execution_count": 344,
   "id": "b20f771d-f87f-4f64-a902-67111cd5c1cd",
   "metadata": {},
   "outputs": [
    {
     "data": {
      "text/plain": [
       "DISCD                 690\n",
       "No status reported    330\n",
       "2019H4                 68\n",
       "2020H1                 60\n",
       "2020H3                 56\n",
       "2020H2                 49\n",
       "2019H3                 49\n",
       "2021H3                 46\n",
       "2021H4                 45\n",
       "2019H2                 38\n",
       "2022H1                 31\n",
       "2021H1                 29\n",
       "2021H2                 27\n",
       "2018H4                 25\n",
       "2019H1                 21\n",
       "2018H3                  8\n",
       "2020H4                  6\n",
       "2022H2                  6\n",
       "2018                    3\n",
       "0                       1\n",
       "Name: status, dtype: int64"
      ]
     },
     "execution_count": 344,
     "metadata": {},
     "output_type": "execute_result"
    }
   ],
   "source": [
    "# check that status is only past watches\n",
    "df_models['status'].value_counts()\n",
    "# it is not obvious that the \"No status reported\" wawtches are old, current, or new models"
   ]
  },
  {
   "cell_type": "markdown",
   "id": "c135da40-ec4f-4728-8c7d-be322b071652",
   "metadata": {
    "tags": []
   },
   "source": [
    "#### Check where the retail prices differ between datasets"
   ]
  },
  {
   "cell_type": "code",
   "execution_count": 358,
   "id": "3c54c199-6a3f-435c-b7fb-732d8cd559f3",
   "metadata": {},
   "outputs": [
    {
     "data": {
      "text/html": [
       "<div>\n",
       "<style scoped>\n",
       "    .dataframe tbody tr th:only-of-type {\n",
       "        vertical-align: middle;\n",
       "    }\n",
       "\n",
       "    .dataframe tbody tr th {\n",
       "        vertical-align: top;\n",
       "    }\n",
       "\n",
       "    .dataframe thead th {\n",
       "        text-align: right;\n",
       "    }\n",
       "</style>\n",
       "<table border=\"1\" class=\"dataframe\">\n",
       "  <thead>\n",
       "    <tr style=\"text-align: right;\">\n",
       "      <th></th>\n",
       "      <th>style_id</th>\n",
       "      <th>upc_num_x</th>\n",
       "      <th>status</th>\n",
       "      <th>retail_price_x</th>\n",
       "      <th>retail_price_y</th>\n",
       "    </tr>\n",
       "  </thead>\n",
       "  <tbody>\n",
       "    <tr>\n",
       "      <th>0</th>\n",
       "      <td>AM4141</td>\n",
       "      <td>691464216092</td>\n",
       "      <td>No status reported</td>\n",
       "      <td>129.0</td>\n",
       "      <td>110.0</td>\n",
       "    </tr>\n",
       "    <tr>\n",
       "      <th>9</th>\n",
       "      <td>AM4532</td>\n",
       "      <td>796483064850</td>\n",
       "      <td>DISCD</td>\n",
       "      <td>125.0</td>\n",
       "      <td>149.0</td>\n",
       "    </tr>\n",
       "    <tr>\n",
       "      <th>17</th>\n",
       "      <td>BQ1010</td>\n",
       "      <td>796483055803</td>\n",
       "      <td>No status reported</td>\n",
       "      <td>125.0</td>\n",
       "      <td>129.0</td>\n",
       "    </tr>\n",
       "    <tr>\n",
       "      <th>18</th>\n",
       "      <td>BQ1130</td>\n",
       "      <td>796483065345</td>\n",
       "      <td>DISCD</td>\n",
       "      <td>135.0</td>\n",
       "      <td>139.0</td>\n",
       "    </tr>\n",
       "    <tr>\n",
       "      <th>19</th>\n",
       "      <td>BQ3115</td>\n",
       "      <td>796483250796</td>\n",
       "      <td>No status reported</td>\n",
       "      <td>135.0</td>\n",
       "      <td>139.0</td>\n",
       "    </tr>\n",
       "    <tr>\n",
       "      <th>...</th>\n",
       "      <td>...</td>\n",
       "      <td>...</td>\n",
       "      <td>...</td>\n",
       "      <td>...</td>\n",
       "      <td>...</td>\n",
       "    </tr>\n",
       "    <tr>\n",
       "      <th>1713</th>\n",
       "      <td>ME3208</td>\n",
       "      <td>796483555082</td>\n",
       "      <td>2021H4</td>\n",
       "      <td>219.0</td>\n",
       "      <td>240.0</td>\n",
       "    </tr>\n",
       "    <tr>\n",
       "      <th>1714</th>\n",
       "      <td>ME3209</td>\n",
       "      <td>796483555112</td>\n",
       "      <td>2021H4</td>\n",
       "      <td>249.0</td>\n",
       "      <td>260.0</td>\n",
       "    </tr>\n",
       "    <tr>\n",
       "      <th>1715</th>\n",
       "      <td>ME3210</td>\n",
       "      <td>796483555099</td>\n",
       "      <td>2021H4</td>\n",
       "      <td>249.0</td>\n",
       "      <td>250.0</td>\n",
       "    </tr>\n",
       "    <tr>\n",
       "      <th>1716</th>\n",
       "      <td>ME3211</td>\n",
       "      <td>796483555549</td>\n",
       "      <td>2021H4</td>\n",
       "      <td>189.0</td>\n",
       "      <td>210.0</td>\n",
       "    </tr>\n",
       "    <tr>\n",
       "      <th>1717</th>\n",
       "      <td>ME3212</td>\n",
       "      <td>796483555556</td>\n",
       "      <td>2021H4</td>\n",
       "      <td>169.0</td>\n",
       "      <td>190.0</td>\n",
       "    </tr>\n",
       "  </tbody>\n",
       "</table>\n",
       "<p>464 rows × 5 columns</p>\n",
       "</div>"
      ],
      "text/plain": [
       "     style_id     upc_num_x              status  retail_price_x  \\\n",
       "0      AM4141  691464216092  No status reported           129.0   \n",
       "9      AM4532  796483064850               DISCD           125.0   \n",
       "17     BQ1010  796483055803  No status reported           125.0   \n",
       "18     BQ1130  796483065345               DISCD           135.0   \n",
       "19     BQ3115  796483250796  No status reported           135.0   \n",
       "...       ...           ...                 ...             ...   \n",
       "1713   ME3208  796483555082              2021H4           219.0   \n",
       "1714   ME3209  796483555112              2021H4           249.0   \n",
       "1715   ME3210  796483555099              2021H4           249.0   \n",
       "1716   ME3211  796483555549              2021H4           189.0   \n",
       "1717   ME3212  796483555556              2021H4           169.0   \n",
       "\n",
       "      retail_price_y  \n",
       "0              110.0  \n",
       "9              149.0  \n",
       "17             129.0  \n",
       "18             139.0  \n",
       "19             139.0  \n",
       "...              ...  \n",
       "1713           240.0  \n",
       "1714           260.0  \n",
       "1715           250.0  \n",
       "1716           210.0  \n",
       "1717           190.0  \n",
       "\n",
       "[464 rows x 5 columns]"
      ]
     },
     "execution_count": 358,
     "metadata": {},
     "output_type": "execute_result"
    }
   ],
   "source": [
    "price_discrepancy = df_models[(df_models['retail_price_x'] != df_models['retail_price_y'])][['style_id','upc_num_x','status','retail_price_x','retail_price_y']].dropna()\n",
    "price_discrepancy"
   ]
  },
  {
   "cell_type": "code",
   "execution_count": 396,
   "id": "72792bb8-ac48-4a47-b390-ecf8fd540f01",
   "metadata": {},
   "outputs": [],
   "source": [
    "# This is a tough decision... however for now, let's replace the prices with the website retail prices\n",
    "# Rationale: If we use the price in the model to predict sales, the new model prices will not be scaled to the\n",
    "# previous model prices\n",
    "\n",
    "df_models['retail_price'] = [x if str(y) == 'nan' else y for x, y in zip(df_models['retail_price_x'],df_models['retail_price_y'])]"
   ]
  },
  {
   "cell_type": "code",
   "execution_count": 399,
   "id": "895d4e2a-db0d-4e6a-8e3c-a0a35ef07623",
   "metadata": {},
   "outputs": [
    {
     "data": {
      "text/html": [
       "<div>\n",
       "<style scoped>\n",
       "    .dataframe tbody tr th:only-of-type {\n",
       "        vertical-align: middle;\n",
       "    }\n",
       "\n",
       "    .dataframe tbody tr th {\n",
       "        vertical-align: top;\n",
       "    }\n",
       "\n",
       "    .dataframe thead th {\n",
       "        text-align: right;\n",
       "    }\n",
       "</style>\n",
       "<table border=\"1\" class=\"dataframe\">\n",
       "  <thead>\n",
       "    <tr style=\"text-align: right;\">\n",
       "      <th></th>\n",
       "      <th>retail_price_x</th>\n",
       "      <th>retail_price_y</th>\n",
       "      <th>retail_price</th>\n",
       "    </tr>\n",
       "  </thead>\n",
       "  <tbody>\n",
       "    <tr>\n",
       "      <th>0</th>\n",
       "      <td>129.0</td>\n",
       "      <td>110.0</td>\n",
       "      <td>110.0</td>\n",
       "    </tr>\n",
       "    <tr>\n",
       "      <th>1</th>\n",
       "      <td>129.0</td>\n",
       "      <td>129.0</td>\n",
       "      <td>129.0</td>\n",
       "    </tr>\n",
       "    <tr>\n",
       "      <th>2</th>\n",
       "      <td>149.0</td>\n",
       "      <td>NaN</td>\n",
       "      <td>149.0</td>\n",
       "    </tr>\n",
       "    <tr>\n",
       "      <th>3</th>\n",
       "      <td>165.0</td>\n",
       "      <td>NaN</td>\n",
       "      <td>165.0</td>\n",
       "    </tr>\n",
       "    <tr>\n",
       "      <th>4</th>\n",
       "      <td>169.0</td>\n",
       "      <td>NaN</td>\n",
       "      <td>169.0</td>\n",
       "    </tr>\n",
       "    <tr>\n",
       "      <th>...</th>\n",
       "      <td>...</td>\n",
       "      <td>...</td>\n",
       "      <td>...</td>\n",
       "    </tr>\n",
       "    <tr>\n",
       "      <th>1719</th>\n",
       "      <td>210.0</td>\n",
       "      <td>210.0</td>\n",
       "      <td>210.0</td>\n",
       "    </tr>\n",
       "    <tr>\n",
       "      <th>1720</th>\n",
       "      <td>NaN</td>\n",
       "      <td>280.0</td>\n",
       "      <td>280.0</td>\n",
       "    </tr>\n",
       "    <tr>\n",
       "      <th>1721</th>\n",
       "      <td>NaN</td>\n",
       "      <td>280.0</td>\n",
       "      <td>280.0</td>\n",
       "    </tr>\n",
       "    <tr>\n",
       "      <th>1722</th>\n",
       "      <td>NaN</td>\n",
       "      <td>260.0</td>\n",
       "      <td>260.0</td>\n",
       "    </tr>\n",
       "    <tr>\n",
       "      <th>1723</th>\n",
       "      <td>NaN</td>\n",
       "      <td>260.0</td>\n",
       "      <td>260.0</td>\n",
       "    </tr>\n",
       "  </tbody>\n",
       "</table>\n",
       "<p>1724 rows × 3 columns</p>\n",
       "</div>"
      ],
      "text/plain": [
       "      retail_price_x  retail_price_y  retail_price\n",
       "0              129.0           110.0         110.0\n",
       "1              129.0           129.0         129.0\n",
       "2              149.0             NaN         149.0\n",
       "3              165.0             NaN         165.0\n",
       "4              169.0             NaN         169.0\n",
       "...              ...             ...           ...\n",
       "1719           210.0           210.0         210.0\n",
       "1720             NaN           280.0         280.0\n",
       "1721             NaN           280.0         280.0\n",
       "1722             NaN           260.0         260.0\n",
       "1723             NaN           260.0         260.0\n",
       "\n",
       "[1724 rows x 3 columns]"
      ]
     },
     "execution_count": 399,
     "metadata": {},
     "output_type": "execute_result"
    }
   ],
   "source": [
    "df_models[['retail_price_x','retail_price_y','retail_price']]"
   ]
  },
  {
   "cell_type": "code",
   "execution_count": 401,
   "id": "010d67f4-7073-4a7b-af3e-1decbc9ec40f",
   "metadata": {},
   "outputs": [
    {
     "data": {
      "text/plain": [
       "False    1724\n",
       "Name: retail_price, dtype: int64"
      ]
     },
     "execution_count": 401,
     "metadata": {},
     "output_type": "execute_result"
    }
   ],
   "source": [
    "df_models['retail_price'].isna().value_counts()"
   ]
  },
  {
   "cell_type": "code",
   "execution_count": 402,
   "id": "7e650257-2d68-4184-b2eb-2c0e7b9ae80d",
   "metadata": {},
   "outputs": [],
   "source": [
    "df_models.drop(columns=['retail_price_x','retail_price_y'],inplace=True)"
   ]
  },
  {
   "cell_type": "markdown",
   "id": "790c537f-973b-459e-b034-1da793fd2813",
   "metadata": {
    "tags": []
   },
   "source": [
    "#### Check where the UPC num differ between datasets"
   ]
  },
  {
   "cell_type": "code",
   "execution_count": 404,
   "id": "8a27df20-4c89-43ff-a493-d7afb2c4961f",
   "metadata": {},
   "outputs": [
    {
     "data": {
      "text/html": [
       "<div>\n",
       "<style scoped>\n",
       "    .dataframe tbody tr th:only-of-type {\n",
       "        vertical-align: middle;\n",
       "    }\n",
       "\n",
       "    .dataframe tbody tr th {\n",
       "        vertical-align: top;\n",
       "    }\n",
       "\n",
       "    .dataframe thead th {\n",
       "        text-align: right;\n",
       "    }\n",
       "</style>\n",
       "<table border=\"1\" class=\"dataframe\">\n",
       "  <thead>\n",
       "    <tr style=\"text-align: right;\">\n",
       "      <th></th>\n",
       "      <th>style_id</th>\n",
       "      <th>upc_num_x</th>\n",
       "      <th>upc_num_y</th>\n",
       "      <th>status</th>\n",
       "    </tr>\n",
       "  </thead>\n",
       "  <tbody>\n",
       "    <tr>\n",
       "      <th>495</th>\n",
       "      <td>ES4393</td>\n",
       "      <td>757697665530</td>\n",
       "      <td>796483387720</td>\n",
       "      <td>No status reported</td>\n",
       "    </tr>\n",
       "    <tr>\n",
       "      <th>496</th>\n",
       "      <td>ES4394</td>\n",
       "      <td>757697665547</td>\n",
       "      <td>796483387737</td>\n",
       "      <td>No status reported</td>\n",
       "    </tr>\n",
       "    <tr>\n",
       "      <th>497</th>\n",
       "      <td>ES4396</td>\n",
       "      <td>757697665523</td>\n",
       "      <td>796483387713</td>\n",
       "      <td>DISCD</td>\n",
       "    </tr>\n",
       "    <tr>\n",
       "      <th>500</th>\n",
       "      <td>ES4403</td>\n",
       "      <td>757697665820</td>\n",
       "      <td>796483388727</td>\n",
       "      <td>DISCD</td>\n",
       "    </tr>\n",
       "    <tr>\n",
       "      <th>503</th>\n",
       "      <td>ES4408</td>\n",
       "      <td>757697667459</td>\n",
       "      <td>796483396975</td>\n",
       "      <td>DISCD</td>\n",
       "    </tr>\n",
       "    <tr>\n",
       "      <th>504</th>\n",
       "      <td>ES4409</td>\n",
       "      <td>757697667442</td>\n",
       "      <td>796483396968</td>\n",
       "      <td>DISCD</td>\n",
       "    </tr>\n",
       "    <tr>\n",
       "      <th>509</th>\n",
       "      <td>ES4414</td>\n",
       "      <td>757697666704</td>\n",
       "      <td>796483396821</td>\n",
       "      <td>DISCD</td>\n",
       "    </tr>\n",
       "    <tr>\n",
       "      <th>513</th>\n",
       "      <td>ES4422</td>\n",
       "      <td>79648339644</td>\n",
       "      <td>796483396944</td>\n",
       "      <td>DISCD</td>\n",
       "    </tr>\n",
       "    <tr>\n",
       "      <th>534</th>\n",
       "      <td>ES4446</td>\n",
       "      <td>757697670503</td>\n",
       "      <td>796483415676</td>\n",
       "      <td>2018H4</td>\n",
       "    </tr>\n",
       "    <tr>\n",
       "      <th>545</th>\n",
       "      <td>ES4468</td>\n",
       "      <td>757697672897</td>\n",
       "      <td>796483419629</td>\n",
       "      <td>DISCD</td>\n",
       "    </tr>\n",
       "    <tr>\n",
       "      <th>548</th>\n",
       "      <td>ES4482</td>\n",
       "      <td>757697672941</td>\n",
       "      <td>796483419674</td>\n",
       "      <td>2018H4</td>\n",
       "    </tr>\n",
       "    <tr>\n",
       "      <th>566</th>\n",
       "      <td>ES4519</td>\n",
       "      <td>757697676833</td>\n",
       "      <td>796483430471</td>\n",
       "      <td>2019H1</td>\n",
       "    </tr>\n",
       "    <tr>\n",
       "      <th>588</th>\n",
       "      <td>ES4579</td>\n",
       "      <td>757697679155</td>\n",
       "      <td>796483437555</td>\n",
       "      <td>2019H1</td>\n",
       "    </tr>\n",
       "    <tr>\n",
       "      <th>589</th>\n",
       "      <td>ES4581</td>\n",
       "      <td>757697679162</td>\n",
       "      <td>796483437562</td>\n",
       "      <td>2019H1</td>\n",
       "    </tr>\n",
       "    <tr>\n",
       "      <th>949</th>\n",
       "      <td>FS4735IE</td>\n",
       "      <td>757697666049</td>\n",
       "      <td>796483390621</td>\n",
       "      <td>No status reported</td>\n",
       "    </tr>\n",
       "    <tr>\n",
       "      <th>965</th>\n",
       "      <td>FS4813IE</td>\n",
       "      <td>757697666032</td>\n",
       "      <td>796483390614</td>\n",
       "      <td>No status reported</td>\n",
       "    </tr>\n",
       "    <tr>\n",
       "      <th>967</th>\n",
       "      <td>FS4835IE</td>\n",
       "      <td>796483033290</td>\n",
       "      <td>796483390638</td>\n",
       "      <td>No status reported</td>\n",
       "    </tr>\n",
       "    <tr>\n",
       "      <th>1219</th>\n",
       "      <td>FS5493</td>\n",
       "      <td>757697671913</td>\n",
       "      <td>796483418622</td>\n",
       "      <td>DISCD</td>\n",
       "    </tr>\n",
       "    <tr>\n",
       "      <th>1222</th>\n",
       "      <td>FS5501</td>\n",
       "      <td>757697671869</td>\n",
       "      <td>796483418172</td>\n",
       "      <td>DISCD</td>\n",
       "    </tr>\n",
       "  </tbody>\n",
       "</table>\n",
       "</div>"
      ],
      "text/plain": [
       "      style_id     upc_num_x     upc_num_y              status\n",
       "495     ES4393  757697665530  796483387720  No status reported\n",
       "496     ES4394  757697665547  796483387737  No status reported\n",
       "497     ES4396  757697665523  796483387713               DISCD\n",
       "500     ES4403  757697665820  796483388727               DISCD\n",
       "503     ES4408  757697667459  796483396975               DISCD\n",
       "504     ES4409  757697667442  796483396968               DISCD\n",
       "509     ES4414  757697666704  796483396821               DISCD\n",
       "513     ES4422   79648339644  796483396944               DISCD\n",
       "534     ES4446  757697670503  796483415676              2018H4\n",
       "545     ES4468  757697672897  796483419629               DISCD\n",
       "548     ES4482  757697672941  796483419674              2018H4\n",
       "566     ES4519  757697676833  796483430471              2019H1\n",
       "588     ES4579  757697679155  796483437555              2019H1\n",
       "589     ES4581  757697679162  796483437562              2019H1\n",
       "949   FS4735IE  757697666049  796483390621  No status reported\n",
       "965   FS4813IE  757697666032  796483390614  No status reported\n",
       "967   FS4835IE  796483033290  796483390638  No status reported\n",
       "1219    FS5493  757697671913  796483418622               DISCD\n",
       "1222    FS5501  757697671869  796483418172               DISCD"
      ]
     },
     "execution_count": 404,
     "metadata": {},
     "output_type": "execute_result"
    }
   ],
   "source": [
    "upc_discrepancy = df_models[(df_models['upc_num_x'] != df_models['upc_num_y'])][['style_id','upc_num_x','upc_num_y','status']].dropna()\n",
    "upc_discrepancy"
   ]
  },
  {
   "cell_type": "code",
   "execution_count": 417,
   "id": "0c6494ba-5698-44bd-858e-f8372fa23ea4",
   "metadata": {},
   "outputs": [
    {
     "data": {
      "text/html": [
       "<div>\n",
       "<style scoped>\n",
       "    .dataframe tbody tr th:only-of-type {\n",
       "        vertical-align: middle;\n",
       "    }\n",
       "\n",
       "    .dataframe tbody tr th {\n",
       "        vertical-align: top;\n",
       "    }\n",
       "\n",
       "    .dataframe thead th {\n",
       "        text-align: right;\n",
       "    }\n",
       "</style>\n",
       "<table border=\"1\" class=\"dataframe\">\n",
       "  <thead>\n",
       "    <tr style=\"text-align: right;\">\n",
       "      <th></th>\n",
       "      <th>upc_num_x</th>\n",
       "      <th>upc_num_y</th>\n",
       "    </tr>\n",
       "  </thead>\n",
       "  <tbody>\n",
       "    <tr>\n",
       "      <th>0</th>\n",
       "      <td>691464216092</td>\n",
       "      <td>691464216092</td>\n",
       "    </tr>\n",
       "    <tr>\n",
       "      <th>1</th>\n",
       "      <td>691464267100</td>\n",
       "      <td>691464267100</td>\n",
       "    </tr>\n",
       "    <tr>\n",
       "      <th>2</th>\n",
       "      <td>796483009837</td>\n",
       "      <td>NaN</td>\n",
       "    </tr>\n",
       "    <tr>\n",
       "      <th>3</th>\n",
       "      <td>796483009844</td>\n",
       "      <td>NaN</td>\n",
       "    </tr>\n",
       "    <tr>\n",
       "      <th>4</th>\n",
       "      <td>796483009851</td>\n",
       "      <td>NaN</td>\n",
       "    </tr>\n",
       "    <tr>\n",
       "      <th>...</th>\n",
       "      <td>...</td>\n",
       "      <td>...</td>\n",
       "    </tr>\n",
       "    <tr>\n",
       "      <th>1719</th>\n",
       "      <td>796483561380</td>\n",
       "      <td>796483561380</td>\n",
       "    </tr>\n",
       "    <tr>\n",
       "      <th>1720</th>\n",
       "      <td>NaN</td>\n",
       "      <td>796483561878</td>\n",
       "    </tr>\n",
       "    <tr>\n",
       "      <th>1721</th>\n",
       "      <td>NaN</td>\n",
       "      <td>796483561861</td>\n",
       "    </tr>\n",
       "    <tr>\n",
       "      <th>1722</th>\n",
       "      <td>NaN</td>\n",
       "      <td>796483561885</td>\n",
       "    </tr>\n",
       "    <tr>\n",
       "      <th>1723</th>\n",
       "      <td>NaN</td>\n",
       "      <td>796483570795</td>\n",
       "    </tr>\n",
       "  </tbody>\n",
       "</table>\n",
       "<p>1724 rows × 2 columns</p>\n",
       "</div>"
      ],
      "text/plain": [
       "         upc_num_x     upc_num_y\n",
       "0     691464216092  691464216092\n",
       "1     691464267100  691464267100\n",
       "2     796483009837           NaN\n",
       "3     796483009844           NaN\n",
       "4     796483009851           NaN\n",
       "...            ...           ...\n",
       "1719  796483561380  796483561380\n",
       "1720           NaN  796483561878\n",
       "1721           NaN  796483561861\n",
       "1722           NaN  796483561885\n",
       "1723           NaN  796483570795\n",
       "\n",
       "[1724 rows x 2 columns]"
      ]
     },
     "execution_count": 417,
     "metadata": {},
     "output_type": "execute_result"
    }
   ],
   "source": [
    "df_models[['upc_num_x','upc_num_y']]"
   ]
  },
  {
   "cell_type": "code",
   "execution_count": 427,
   "id": "bd32cc57-5ff5-4bea-b578-c2407ef54a14",
   "metadata": {},
   "outputs": [
    {
     "name": "stdout",
     "output_type": "stream",
     "text": [
      "796483033290\n"
     ]
    }
   ],
   "source": [
    "# check if the UPC number for models in the flow chart can be found in the website for a different watch\n",
    "for upc_num_x in upc_discrepancy['upc_num_x']:\n",
    "    if upc_num_x in df_models['upc_num_y'].values:\n",
    "        print(upc_num_x)"
   ]
  },
  {
   "cell_type": "code",
   "execution_count": 430,
   "id": "95b42aae-b4f5-43f3-9324-b7cef24f54c7",
   "metadata": {},
   "outputs": [],
   "source": [
    "# After examining the upc 796483033290, it seems like the flow chart upc num can be replaced.\n",
    "#df_models[(df_models['upc_num_x'] == '796483033290') | (df_models['upc_num_y'] == '796483033290')].T"
   ]
  },
  {
   "cell_type": "code",
   "execution_count": 432,
   "id": "beb69838-8bbe-4c3a-8844-d67adb18d262",
   "metadata": {},
   "outputs": [],
   "source": [
    "# I don't want to keep the upc number for now, so will drop them. However, if this changes in the future,\n",
    "# I would want to replace the watch flow chart UPC numbers with the website #s and fill in the rest with the website #s.\n",
    "df_models.drop(columns=['upc_num_x','upc_num_y'], inplace=True)"
   ]
  },
  {
   "cell_type": "markdown",
   "id": "553952c5-8a25-4bc6-afdf-23d537acf5e3",
   "metadata": {
    "tags": []
   },
   "source": [
    "#### Check where the Collection differ between datasets"
   ]
  },
  {
   "cell_type": "code",
   "execution_count": 451,
   "id": "e6ca45bd-d842-425a-a36e-0c5a45b32f1a",
   "metadata": {},
   "outputs": [],
   "source": [
    "# Lots of discrepancies because of capitalization. Let's capitalize all values and reevaluate\n",
    "df_models['collection_x'] = df_models['collection_x'].astype(str).apply(str.capitalize).str.strip().replace('Nan',np.nan)\n",
    "df_models['collection_y'] = df_models['collection_y'].astype(str).apply(str.capitalize).str.strip().replace('Nan',np.nan)"
   ]
  },
  {
   "cell_type": "code",
   "execution_count": 452,
   "id": "520e5881-1c56-446d-9298-bdf1d49ac81b",
   "metadata": {},
   "outputs": [
    {
     "data": {
      "text/html": [
       "<div>\n",
       "<style scoped>\n",
       "    .dataframe tbody tr th:only-of-type {\n",
       "        vertical-align: middle;\n",
       "    }\n",
       "\n",
       "    .dataframe tbody tr th {\n",
       "        vertical-align: top;\n",
       "    }\n",
       "\n",
       "    .dataframe thead th {\n",
       "        text-align: right;\n",
       "    }\n",
       "</style>\n",
       "<table border=\"1\" class=\"dataframe\">\n",
       "  <thead>\n",
       "    <tr style=\"text-align: right;\">\n",
       "      <th></th>\n",
       "      <th>style_id</th>\n",
       "      <th>collection_x</th>\n",
       "      <th>collection_y</th>\n",
       "      <th>status</th>\n",
       "    </tr>\n",
       "  </thead>\n",
       "  <tbody>\n",
       "    <tr>\n",
       "      <th>0</th>\n",
       "      <td>AM4141</td>\n",
       "      <td>Colleague</td>\n",
       "      <td>Serena</td>\n",
       "      <td>No status reported</td>\n",
       "    </tr>\n",
       "    <tr>\n",
       "      <th>5</th>\n",
       "      <td>AM4508</td>\n",
       "      <td>Colleague</td>\n",
       "      <td>Serena</td>\n",
       "      <td>DISCD</td>\n",
       "    </tr>\n",
       "    <tr>\n",
       "      <th>17</th>\n",
       "      <td>BQ1010</td>\n",
       "      <td>Madeline</td>\n",
       "      <td>Rhett</td>\n",
       "      <td>No status reported</td>\n",
       "    </tr>\n",
       "    <tr>\n",
       "      <th>18</th>\n",
       "      <td>BQ1130</td>\n",
       "      <td>Madeline</td>\n",
       "      <td>Flynn</td>\n",
       "      <td>DISCD</td>\n",
       "    </tr>\n",
       "    <tr>\n",
       "      <th>19</th>\n",
       "      <td>BQ3115</td>\n",
       "      <td>Madeline</td>\n",
       "      <td>Suitor</td>\n",
       "      <td>No status reported</td>\n",
       "    </tr>\n",
       "    <tr>\n",
       "      <th>...</th>\n",
       "      <td>...</td>\n",
       "      <td>...</td>\n",
       "      <td>...</td>\n",
       "      <td>...</td>\n",
       "    </tr>\n",
       "    <tr>\n",
       "      <th>1697</th>\n",
       "      <td>ME3189</td>\n",
       "      <td>Carlie mini</td>\n",
       "      <td>Carlie mini me</td>\n",
       "      <td>2020H3</td>\n",
       "    </tr>\n",
       "    <tr>\n",
       "      <th>1698</th>\n",
       "      <td>ME3190</td>\n",
       "      <td>Fb</td>\n",
       "      <td>Fb - 01 automatic</td>\n",
       "      <td>2020H3</td>\n",
       "    </tr>\n",
       "    <tr>\n",
       "      <th>1699</th>\n",
       "      <td>ME3191</td>\n",
       "      <td>Fb-01</td>\n",
       "      <td>Fb - 01 automatic</td>\n",
       "      <td>2020H3</td>\n",
       "    </tr>\n",
       "    <tr>\n",
       "      <th>1700</th>\n",
       "      <td>ME3195</td>\n",
       "      <td>Neutra</td>\n",
       "      <td>Neutra automatic</td>\n",
       "      <td>No status reported</td>\n",
       "    </tr>\n",
       "    <tr>\n",
       "      <th>1701</th>\n",
       "      <td>ME3196</td>\n",
       "      <td>Neutra</td>\n",
       "      <td>Neutra automatic</td>\n",
       "      <td>No status reported</td>\n",
       "    </tr>\n",
       "  </tbody>\n",
       "</table>\n",
       "<p>289 rows × 4 columns</p>\n",
       "</div>"
      ],
      "text/plain": [
       "     style_id collection_x       collection_y              status\n",
       "0      AM4141    Colleague             Serena  No status reported\n",
       "5      AM4508    Colleague             Serena               DISCD\n",
       "17     BQ1010     Madeline              Rhett  No status reported\n",
       "18     BQ1130     Madeline              Flynn               DISCD\n",
       "19     BQ3115     Madeline             Suitor  No status reported\n",
       "...       ...          ...                ...                 ...\n",
       "1697   ME3189  Carlie mini     Carlie mini me              2020H3\n",
       "1698   ME3190           Fb  Fb - 01 automatic              2020H3\n",
       "1699   ME3191        Fb-01  Fb - 01 automatic              2020H3\n",
       "1700   ME3195       Neutra   Neutra automatic  No status reported\n",
       "1701   ME3196       Neutra   Neutra automatic  No status reported\n",
       "\n",
       "[289 rows x 4 columns]"
      ]
     },
     "execution_count": 452,
     "metadata": {},
     "output_type": "execute_result"
    }
   ],
   "source": [
    "collection_discrepancy = df_models[(df_models['collection_x'] != df_models['collection_y'])][['style_id','collection_x','collection_y','status']].dropna()\n",
    "collection_discrepancy"
   ]
  },
  {
   "cell_type": "code",
   "execution_count": 512,
   "id": "39db2a5c-4ee0-4803-bf06-e2ef5c39477b",
   "metadata": {},
   "outputs": [],
   "source": [
    "collection_name_dict = dict(set(zip(collection_discrepancy['collection_x'],collection_discrepancy['collection_y'])))"
   ]
  },
  {
   "cell_type": "code",
   "execution_count": 518,
   "id": "a54577af-3406-45f1-abcb-d8207b18469f",
   "metadata": {},
   "outputs": [],
   "source": [
    "collection_replace_dict = {'Fb-01': 'Stella', # confirmed typo\n",
    " 'Daisy 3hand': 'Carlie', # confirmed typo\n",
    " 'Carlie': 'Carlie mini',\n",
    " 'Fb - 02': 'Garrett', # confirmed typo\n",
    " 'Townsman box set': 'Townsman',\n",
    " 'Jacqueline': 'Stella', # confirmed typo\n",
    " 'Fb -05': 'Fb - 01',\n",
    " 'Townsman':'Townsman', #'Townsman': 'Luxe leisure', # typo on the website\n",
    " 'Mini': 'Carlie mini',\n",
    " 'Micro': 'Scarlette micro',\n",
    " 'The minimalist moonphase': 'The minimalist',\n",
    " 'Everett 3 hand': 'Everett',\n",
    " 'Fb -03': 'Fb - 01',\n",
    " 'Colleague': 'Serena',\n",
    " 'The': 'The andy and addison set',\n",
    " 'neutra auto': 'Neutra automatic',\n",
    " 'Copeland 42mm': 'Copeland',\n",
    " 'Arc': 'Arc-03',\n",
    " 'Retro': 'Retro pilot',\n",
    " 'Tailor': 'Tailor 35mm',\n",
    " 'The minimalist 3h': 'Karli', # major discrepancy - replaced collection and gender of the watch\n",
    " 'Grant sport automatic': 'Grant sport',\n",
    " 'The minimalist':'The minimalist', #'The minimalist': 'Color undertones', # seems unneccessarily, will keep the same\n",
    " 'Neutra chrono':'Neutra chrono', #'Neutra chrono': 'Luxe leisure', # typo on the website\n",
    " 'Dean': 'Suitor', # major discrepancy - replaced collection and gender of the watch\n",
    " 'Limited': 'Forrester',# more specific\n",
    " 'chase timer': 'Chase',\n",
    " 'Fb-03': 'Fb - 03',\n",
    " 'Fb -02': 'Fb - 01',\n",
    " 'Carlie mini': 'Carlie mini v-day',\n",
    " 'H date 42mm': 'The commuter', # confirmed typo\n",
    " 'Georgia\\xa026mm': 'Georgia',\n",
    " 'The commuter': 'The commuter 3h',\n",
    " 'Fb': 'Fb-adventure',\n",
    " 'Stella': 'Kalya', # confirmed typo\n",
    " 'The commuter 3h':'The commuter 3h', #'The commuter 3h': 'The commuter 3 hand/date', # seems to be same category\n",
    " 'Scarlette': 'Scarlette micro',\n",
    " 'Neutra 3': 'Neutra 3h',\n",
    " 'Mathis 3h': 'Mathis',\n",
    " 'Tailor mini': 'Tailor',\n",
    " 'the essentialist': 'The essentialist',\n",
    " 'Garrett': 'Fb - 02', # confirmed typo\n",
    " 'The essentialist': 'Luxe leisure', # typo on the website\n",
    " 'Chase timer': 'Chase',\n",
    " 'Bronson': 'Bronson twist',\n",
    " 'Tailor me': 'Tailor',\n",
    " 'Original boyfriend':'Original boyfriend', # 'Original boyfriend': 'Obf', # not consistent\n",
    " 'Grant': 'Karli', # major discrepancy - replaced collection and gender of the watch\n",
    " 'Machine': 'Suitor mini', # major discrepancy - replaced collection and gender of the watch\n",
    " 'Forrester chrono': 'Fb - 02', # confirmed typo\n",
    " 'Lyric': 'Suitor mini', # major discrepancy - replaced collection\n",
    " 'Kalya': 'Blythe', # major discrepancy - replaced collection \n",
    " 'Jacqueline box set': 'Jacqueline set',\n",
    " 'the minimalist solar': 'The minimalist solar',\n",
    " 'Mega': 'Mega machine',\n",
    " 'Forrester auto': 'Forrester automatic',\n",
    " 'jacqueline': 'Jacqueline',\n",
    " 'Belmar multifunction': 'Belmar',\n",
    " 'grant 44mm': 'Grant',\n",
    " 'Izzy': 'Daisy 3 hand', # confirmed typo\n",
    " 'Madeline': 'Flynn', # major discrepancy - replaced collection and gender of the watch\n",
    " 'Neely': 'Typographer', # major discrepancy - replaced collection\n",
    " 'machine': 'Machine',\n",
    " 'Arc-01': 'Arc - 01',\n",
    " 'Neutra': 'Neutra automatic',\n",
    " 'timer 42mm': 'Chase timer',\n",
    " 'Fb -01': 'Fb - 01',\n",
    " 'goodwin chrono': 'Goodwin',\n",
    " 'Forrester': 'Forrester chrono',\n",
    " 'Daisy': 'Daisy 3 hand',\n",
    " 'Earth': 'Earth day watch',\n",
    " 'the minimalist 3h': 'The minimalist',\n",
    " 'Sadie': 'Sadie multifunction',\n",
    " 'Georgia': 'Georgia small',\n",
    " 'Fb -04': 'Fb - 01'# confirmed typo\n",
    "                          }"
   ]
  },
  {
   "cell_type": "code",
   "execution_count": 507,
   "id": "73282c20-d7d1-43a1-9656-1587c51eae1c",
   "metadata": {},
   "outputs": [],
   "source": [
    "# Major discrepancy at index 32. I will replace the collection and gender with that of the website\n",
    "# df_models[(df_models['collection_x'] == 'The minimalist 3h') & (df_models['collection_y'] == 'Karli')].T\n",
    "df_models.loc[32,:] = ['BQ3440', 'Karli', '34MM', 'Ladies', 'DISCD', 0.0, 0.0,\n",
    "       0.0, 0.0, 0.0, 25.0, 0.0, 0.0, 0.0, 0.0, 0.0, 0.0, 0.0, 0.0, 0.0,\n",
    "       'Ladies', 'Karli', 34.0, 69.5, 'MOP', 'Japan - JP',\n",
    "       '2 - Year International Limited Warranty', 'Black',\n",
    "       'Stainless Steel', 'Stainless Steel', 'Fold-Over',\n",
    "       'Mother Of Pearl', 'Quartz', '50m - 160ft - 5atm', 10000.0, 139.0]\n",
    "\n",
    "# Major discrepancy at index 29. I will replace the collection and gender with that of the website\n",
    "#df_models[(df_models['collection_x'] == 'Dean') & (df_models['collection_y'] == 'Suitor')].T\n",
    "df_models.loc[29,:] = ['BQ3423', 'Suitor', '36MM', 'Ladies', 'No status reported', 0.0, 0.0,\n",
    "       0.0, 0.0, 0.0, 48.0, 2.0, 0.0, 0.0, 0.0, 0.0, 0.0, 0.0, 0.0, 0.0,\n",
    "       'Ladies', 'Suitor', 36.0, 79.5, 'MOP', 'Japan - JP',\n",
    "       '2 - Year International Limited Warranty', 'Rose Gold',\n",
    "       'Stainless Steel', 'Stainless Steel', 'Fold-Over',\n",
    "       'Mother Of Pearl', 'Quartz', '50m - 160ft - 5atm', 10000.0, 159.0]\n",
    "\n",
    "# Major discrepancy at index 28. I will replace the collection and gender with that of the website\n",
    "#df_models[(df_models['collection_x'] == 'Grant') & (df_models['collection_y'] == 'Karli')].T\n",
    "df_models.loc[28,:] = ['BQ3422', 'Karli', '34MM', 'Ladies', 'No status reported', 0.0, 0.0,\n",
    "       0.0, 0.0, 0.0, 50.0, 0.0, 0.0, 0.0, 0.0, 0.0, 0.0, 0.0, 0.0, 0.0,\n",
    "       'Ladies', 'Karli', 34.0, 64.5, 'MOP', 'Japan - JP',\n",
    "       '2 - Year International Limited Warranty', 'Rose Gold',\n",
    "       'Stainless Steel', 'Stainless Steel', 'Fold-Over',\n",
    "       'Mother Of Pearl', 'Quartz', '50m - 160ft - 5atm', 10000.0, 129.0]\n",
    "\n",
    "# Major discrepancy at index 26 I will replace the collection and gender with that of the website\n",
    "#df_models[(df_models['collection_x'] == 'Machine') & (df_models['collection_y'] == 'Suitor mini')].T\n",
    "df_models.loc[26,:] = ['BQ3334', 'Suitor mini', '26MM', 'Ladies', 'No status reported', 0.0, 0.0,\n",
    "       0.0, 0.0, 0.0, 100.0, 0.0, 0.0, 0.0, 0.0, 0.0, 0.0, 0.0, 0.0, 0.0,\n",
    "       'Ladies', 'Suitor mini', 26.0, 69.5, 'MOP', 'Japan - JP',\n",
    "       '2 - Year International Limited Warranty', 'Gold',\n",
    "       'Stainless Steel', 'Stainless Steel', 'Fold-Over',\n",
    "       'Mother Of Pearl', 'Quartz', '50m - 160ft - 5atm', 10000.0, 139.0]\n",
    "\n",
    "# Major discrepancy at index 18 I will replace the collection and gender with that of the website\n",
    "# df_models[(df_models['collection_x'] == 'Madeline') & (df_models['collection_y'] == 'Flynn')].T\n",
    "df_models.loc[26,:] = ['BQ1130', 'Flynn', '48MM', 'Mens', 'DISCD', 0.0, 0.0, 0.0,\n",
    "       0.0, 0.0, 49.0, 0.0, 0.0, 0.0, 0.0, 0.0, 0.0, 0.0, 0.0, 0.0,\n",
    "       'Mens', 'Flynn', 48.0, 69.5, 'Black', 'Japan - JP',\n",
    "       '2 - Year International Limited Warranty', 'Black', 'Leather',\n",
    "       'Stainless Steel', 'Buckle', 'Black', 'Quartz',\n",
    "       '50m - 160ft - 5atm', 10000.0, 139.0]"
   ]
  },
  {
   "cell_type": "code",
   "execution_count": 525,
   "id": "0da29909-5636-4bb4-b677-09533b6cb222",
   "metadata": {},
   "outputs": [
    {
     "data": {
      "text/html": [
       "<div>\n",
       "<style scoped>\n",
       "    .dataframe tbody tr th:only-of-type {\n",
       "        vertical-align: middle;\n",
       "    }\n",
       "\n",
       "    .dataframe tbody tr th {\n",
       "        vertical-align: top;\n",
       "    }\n",
       "\n",
       "    .dataframe thead th {\n",
       "        text-align: right;\n",
       "    }\n",
       "</style>\n",
       "<table border=\"1\" class=\"dataframe\">\n",
       "  <thead>\n",
       "    <tr style=\"text-align: right;\">\n",
       "      <th></th>\n",
       "      <th>style_id</th>\n",
       "      <th>collection_x</th>\n",
       "      <th>collection_y</th>\n",
       "      <th>status</th>\n",
       "    </tr>\n",
       "  </thead>\n",
       "  <tbody>\n",
       "    <tr>\n",
       "      <th>0</th>\n",
       "      <td>AM4141</td>\n",
       "      <td>Colleague</td>\n",
       "      <td>Serena</td>\n",
       "      <td>No status reported</td>\n",
       "    </tr>\n",
       "    <tr>\n",
       "      <th>5</th>\n",
       "      <td>AM4508</td>\n",
       "      <td>Colleague</td>\n",
       "      <td>Serena</td>\n",
       "      <td>DISCD</td>\n",
       "    </tr>\n",
       "    <tr>\n",
       "      <th>17</th>\n",
       "      <td>BQ1010</td>\n",
       "      <td>Madeline</td>\n",
       "      <td>Rhett</td>\n",
       "      <td>No status reported</td>\n",
       "    </tr>\n",
       "    <tr>\n",
       "      <th>18</th>\n",
       "      <td>BQ1130</td>\n",
       "      <td>Madeline</td>\n",
       "      <td>Flynn</td>\n",
       "      <td>DISCD</td>\n",
       "    </tr>\n",
       "    <tr>\n",
       "      <th>19</th>\n",
       "      <td>BQ3115</td>\n",
       "      <td>Madeline</td>\n",
       "      <td>Suitor</td>\n",
       "      <td>No status reported</td>\n",
       "    </tr>\n",
       "    <tr>\n",
       "      <th>...</th>\n",
       "      <td>...</td>\n",
       "      <td>...</td>\n",
       "      <td>...</td>\n",
       "      <td>...</td>\n",
       "    </tr>\n",
       "    <tr>\n",
       "      <th>1697</th>\n",
       "      <td>ME3189</td>\n",
       "      <td>Carlie mini</td>\n",
       "      <td>Carlie mini me</td>\n",
       "      <td>2020H3</td>\n",
       "    </tr>\n",
       "    <tr>\n",
       "      <th>1698</th>\n",
       "      <td>ME3190</td>\n",
       "      <td>Fb</td>\n",
       "      <td>Fb - 01 automatic</td>\n",
       "      <td>2020H3</td>\n",
       "    </tr>\n",
       "    <tr>\n",
       "      <th>1699</th>\n",
       "      <td>ME3191</td>\n",
       "      <td>Fb-01</td>\n",
       "      <td>Fb - 01 automatic</td>\n",
       "      <td>2020H3</td>\n",
       "    </tr>\n",
       "    <tr>\n",
       "      <th>1700</th>\n",
       "      <td>ME3195</td>\n",
       "      <td>Neutra</td>\n",
       "      <td>Neutra automatic</td>\n",
       "      <td>No status reported</td>\n",
       "    </tr>\n",
       "    <tr>\n",
       "      <th>1701</th>\n",
       "      <td>ME3196</td>\n",
       "      <td>Neutra</td>\n",
       "      <td>Neutra automatic</td>\n",
       "      <td>No status reported</td>\n",
       "    </tr>\n",
       "  </tbody>\n",
       "</table>\n",
       "<p>289 rows × 4 columns</p>\n",
       "</div>"
      ],
      "text/plain": [
       "     style_id collection_x       collection_y              status\n",
       "0      AM4141    Colleague             Serena  No status reported\n",
       "5      AM4508    Colleague             Serena               DISCD\n",
       "17     BQ1010     Madeline              Rhett  No status reported\n",
       "18     BQ1130     Madeline              Flynn               DISCD\n",
       "19     BQ3115     Madeline             Suitor  No status reported\n",
       "...       ...          ...                ...                 ...\n",
       "1697   ME3189  Carlie mini     Carlie mini me              2020H3\n",
       "1698   ME3190           Fb  Fb - 01 automatic              2020H3\n",
       "1699   ME3191        Fb-01  Fb - 01 automatic              2020H3\n",
       "1700   ME3195       Neutra   Neutra automatic  No status reported\n",
       "1701   ME3196       Neutra   Neutra automatic  No status reported\n",
       "\n",
       "[289 rows x 4 columns]"
      ]
     },
     "execution_count": 525,
     "metadata": {},
     "output_type": "execute_result"
    }
   ],
   "source": [
    "collection_discrepancy.replace(collection_replace_dict,1)"
   ]
  },
  {
   "cell_type": "code",
   "execution_count": null,
   "id": "4536961f-5efd-4605-8e2a-53328e83161c",
   "metadata": {},
   "outputs": [],
   "source": []
  },
  {
   "cell_type": "code",
   "execution_count": null,
   "id": "8f4686ac-7a0a-41f6-8b0c-e3ea817586c1",
   "metadata": {},
   "outputs": [],
   "source": []
  },
  {
   "cell_type": "code",
   "execution_count": null,
   "id": "366e6e9a-5ab2-4118-a9c2-c5ce6a61ce36",
   "metadata": {},
   "outputs": [],
   "source": []
  },
  {
   "cell_type": "code",
   "execution_count": null,
   "id": "ba3aacf5-6e90-4750-a15d-dd74d230e125",
   "metadata": {},
   "outputs": [],
   "source": []
  },
  {
   "cell_type": "markdown",
   "id": "591f1f8c-43c9-470e-a2b4-dea569b61d6c",
   "metadata": {},
   "source": [
    "### Combine new models as \"test\" set"
   ]
  },
  {
   "cell_type": "code",
   "execution_count": 281,
   "id": "6ee20ccc-dddd-4de2-8fd5-e28d01255b9a",
   "metadata": {},
   "outputs": [],
   "source": [
    "df_q3_new['quarter'] = '2022Q3'\n",
    "df_q4_new['quarter'] = '2022Q4'"
   ]
  },
  {
   "cell_type": "code",
   "execution_count": 283,
   "id": "7c1b0a91-1ecd-4610-becb-923dbcb43029",
   "metadata": {},
   "outputs": [],
   "source": [
    "df_new_models = pd.concat([df_q3_new,df_q4_new],ignore_index=True)"
   ]
  },
  {
   "cell_type": "code",
   "execution_count": 285,
   "id": "421da7c9-d2d9-475c-85ee-2270635d1902",
   "metadata": {},
   "outputs": [
    {
     "name": "stdout",
     "output_type": "stream",
     "text": [
      "<class 'pandas.core.frame.DataFrame'>\n",
      "RangeIndex: 83 entries, 0 to 82\n",
      "Data columns (total 10 columns):\n",
      " #   Column         Non-Null Count  Dtype  \n",
      "---  ------         --------------  -----  \n",
      " 0   style_id       83 non-null     object \n",
      " 1   collection     83 non-null     object \n",
      " 2   movement_type  83 non-null     object \n",
      " 3   retail_price   80 non-null     float64\n",
      " 4   color          83 non-null     object \n",
      " 5   band_color     83 non-null     object \n",
      " 6   case           83 non-null     object \n",
      " 7   lug_width      83 non-null     object \n",
      " 8   gender         83 non-null     object \n",
      " 9   quarter        83 non-null     object \n",
      "dtypes: float64(1), object(9)\n",
      "memory usage: 6.6+ KB\n"
     ]
    }
   ],
   "source": [
    "df_new_models.info()"
   ]
  },
  {
   "cell_type": "code",
   "execution_count": 292,
   "id": "a7e58bc0-c6c0-42ba-b25f-a7f5f4f56608",
   "metadata": {},
   "outputs": [
    {
     "data": {
      "text/plain": [
       "False    83\n",
       "Name: style_id, dtype: int64"
      ]
     },
     "execution_count": 292,
     "metadata": {},
     "output_type": "execute_result"
    }
   ],
   "source": [
    "# Verify each style is only in the dataset once\n",
    "df_new_models['style_id'].duplicated().value_counts()"
   ]
  },
  {
   "cell_type": "code",
   "execution_count": null,
   "id": "9e1439e7-316e-4d9f-a129-58f5f5357b35",
   "metadata": {},
   "outputs": [],
   "source": []
  },
  {
   "cell_type": "code",
   "execution_count": null,
   "id": "884a3412-a726-4464-8f4f-b31e98f2ac3c",
   "metadata": {},
   "outputs": [],
   "source": []
  },
  {
   "cell_type": "code",
   "execution_count": null,
   "id": "df88ef52-de49-4b30-86fe-66dfca6eb79f",
   "metadata": {},
   "outputs": [],
   "source": []
  }
 ],
 "metadata": {
  "kernelspec": {
   "display_name": "Python 3 (ipykernel)",
   "language": "python",
   "name": "python3"
  },
  "language_info": {
   "codemirror_mode": {
    "name": "ipython",
    "version": 3
   },
   "file_extension": ".py",
   "mimetype": "text/x-python",
   "name": "python",
   "nbconvert_exporter": "python",
   "pygments_lexer": "ipython3",
   "version": "3.8.8"
  }
 },
 "nbformat": 4,
 "nbformat_minor": 5
}
