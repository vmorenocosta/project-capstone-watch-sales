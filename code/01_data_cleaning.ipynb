{
 "cells": [
  {
   "cell_type": "markdown",
   "id": "aada9ad0-ad96-4357-8673-65cb1d27dd2a",
   "metadata": {
    "tags": []
   },
   "source": [
    "# Notebook 01: Data Cleaning\n",
    "\n",
    "This notebook cleans/merges the raw datasets into a combined dataset."
   ]
  },
  {
   "cell_type": "markdown",
   "id": "94b39861-1919-471b-aa63-6c374e45a335",
   "metadata": {},
   "source": [
    "Raw Datasets:\n",
    "- WATCH FLOW CHART.xlsx : contains XYZ's records of each model's sales for the brand since 2015 (when they started distributing the brand).\n",
    "- PROPOSAL.xlsx : contain's the brand's current collection and XYZ's order on April 16, 2022. It contains older models found in the flow chart and new models with no previous sales.\n",
    "- ALL ITEMS FROM WEBSITE.xlsx : contains all watches from the brand's website, and includes more attributes. \n",
    "- ITEMS CREATED 2022H3.xlsx : contains the new (2022H3) watch attributes from the brand's website.\n",
    "- Plan Order 2022H3.xlsx : contains XYZ's planned order for the 2022H3 watches.\n",
    "\n",
    "Cleaned Dataset:\n",
    "- df_models.csv : cleaned and merged version of all the data in the raw datasets"
   ]
  },
  {
   "cell_type": "markdown",
   "id": "d6eb42a1-63c6-4aa7-9d5b-8bd05c2ae1d7",
   "metadata": {},
   "source": [
    "## Imports"
   ]
  },
  {
   "cell_type": "markdown",
   "id": "e0ffd8e2-f16d-41b6-9811-6a59526b1b9f",
   "metadata": {
    "tags": []
   },
   "source": [
    "### Library Imports"
   ]
  },
  {
   "cell_type": "code",
   "execution_count": 1,
   "id": "e65b704c-33c9-41ff-8cde-de88e494849d",
   "metadata": {},
   "outputs": [],
   "source": [
    "import pandas as pd\n",
    "import numpy as np\n",
    "import matplotlib.pyplot as plt\n",
    "import plotly.express as px\n",
    "import datetime\n",
    "import warnings"
   ]
  },
  {
   "cell_type": "markdown",
   "id": "7888978b-9692-4a8f-9d8a-dfaab86efe14",
   "metadata": {
    "tags": []
   },
   "source": [
    "### Custom Functions"
   ]
  },
  {
   "cell_type": "code",
   "execution_count": 2,
   "id": "192ad047-6add-44c9-8854-32f037fe16e0",
   "metadata": {},
   "outputs": [],
   "source": [
    "from custom_functions import *"
   ]
  },
  {
   "cell_type": "markdown",
   "id": "39348813-89c6-4ce9-b300-4ec74982b41b",
   "metadata": {
    "tags": []
   },
   "source": [
    "## Data Cleaning"
   ]
  },
  {
   "cell_type": "markdown",
   "id": "14a79674-09ce-4865-aa6f-00c0e6768fc5",
   "metadata": {
    "tags": []
   },
   "source": [
    "### Watch Flow Chart"
   ]
  },
  {
   "cell_type": "markdown",
   "id": "23727570-04c3-41d4-bfa2-6cf5c299e9fc",
   "metadata": {},
   "source": [
    "This dataset contains XYZ's records of each model's sales for the brand since 2015 (when they started distributing the brand)."
   ]
  },
  {
   "cell_type": "code",
   "execution_count": 3,
   "id": "e8793028-630e-46c4-95ec-811ffdde7daf",
   "metadata": {},
   "outputs": [],
   "source": [
    "df_watch_chart = pd.read_excel('../data/raw_datasets/WATCH FLOW CHART.xlsx',header=1)\n",
    "\n",
    "# Standardize column names\n",
    "snake_case(df_watch_chart)\n",
    "replace_months_from_df(df_watch_chart)\n",
    "\n",
    "# Select desired columns\n",
    "df_watch_chart = df_watch_chart[['style','retail','collection', 'size',\n",
    "       'gender', 'status', '2015', '2016', '2017', '2018', '2019', '2020',\n",
    "       '2021', '2022-01', '2022-02', '2022-03', '2022-04',\n",
    "       '2022-05', '2022-06', '2022-07', '2022-08', '2022-09', '2022-10',\n",
    "       '2022-11', '2022-12']]\n",
    "\n",
    "# Rename columns\n",
    "df_watch_chart.rename({'style':'style_id','retail':'retail_price','size':'case','so':'qty_sales_order','oh':'qty_on_hand'},axis='columns',inplace=True)\n",
    "\n",
    "# Drop null row (not needed)\n",
    "df_watch_chart.dropna(subset='style_id', inplace=True)\n",
    "\n",
    "# Manual Process - Identify and deal with null values\n",
    "# Retail price (1 model which was discontinued and never had sales)\n",
    "df_watch_chart.dropna(subset='retail_price', inplace=True)\n",
    "# Collection\n",
    "df_watch_chart.loc[646,'collection'] = 'FORRESTER CHRONO'\n",
    "df_watch_chart.loc[786,'collection'] = 'JACQUELINE'\n",
    "# Case\n",
    "df_watch_chart.loc[646,'case'] = '46MM'\n",
    "df_watch_chart.loc[786,'case'] = '36MM'\n",
    "# Sales years\n",
    "df_watch_chart[['2015','2016','2017','2018','2019','2020','2021','2022-01',\n",
    "       '2022-02', '2022-03', '2022-04']] = df_watch_chart[['2015','2016','2017','2018','2019','2020','2021','2022-01',\n",
    "       '2022-02', '2022-03', '2022-04']].fillna(0)\n",
    "# Status\n",
    "df_watch_chart.fillna('no status reported',inplace=True)\n",
    "\n",
    "# Estimate monthly sales from yearly sales\n",
    "yearly_to_monthly(df_watch_chart)\n",
    "\n",
    "# Standardize values\n",
    "clean_values(df_watch_chart)\n",
    "\n",
    "# Sort columns with dates\n",
    "df_watch_chart = sort_columns(df_watch_chart)"
   ]
  },
  {
   "cell_type": "code",
   "execution_count": 4,
   "id": "ef3eff9c-7da5-47e9-943c-583426387dee",
   "metadata": {},
   "outputs": [
    {
     "data": {
      "text/plain": [
       "0"
      ]
     },
     "execution_count": 4,
     "metadata": {},
     "output_type": "execute_result"
    }
   ],
   "source": [
    "df_watch_chart.isna().sum().sum()"
   ]
  },
  {
   "cell_type": "code",
   "execution_count": 5,
   "id": "6887c5b4-b8fb-4c02-8701-2006a4c0d09f",
   "metadata": {},
   "outputs": [
    {
     "data": {
      "text/html": [
       "<div>\n",
       "<style scoped>\n",
       "    .dataframe tbody tr th:only-of-type {\n",
       "        vertical-align: middle;\n",
       "    }\n",
       "\n",
       "    .dataframe tbody tr th {\n",
       "        vertical-align: top;\n",
       "    }\n",
       "\n",
       "    .dataframe thead th {\n",
       "        text-align: right;\n",
       "    }\n",
       "</style>\n",
       "<table border=\"1\" class=\"dataframe\">\n",
       "  <thead>\n",
       "    <tr style=\"text-align: right;\">\n",
       "      <th></th>\n",
       "      <th>style_id</th>\n",
       "      <th>retail_price</th>\n",
       "      <th>collection</th>\n",
       "      <th>case</th>\n",
       "      <th>gender</th>\n",
       "      <th>status</th>\n",
       "      <th>2015-01</th>\n",
       "      <th>2015-02</th>\n",
       "      <th>2015-03</th>\n",
       "      <th>2015-04</th>\n",
       "      <th>...</th>\n",
       "      <th>2022-03</th>\n",
       "      <th>2022-04</th>\n",
       "      <th>2022-05</th>\n",
       "      <th>2022-06</th>\n",
       "      <th>2022-07</th>\n",
       "      <th>2022-08</th>\n",
       "      <th>2022-09</th>\n",
       "      <th>2022-10</th>\n",
       "      <th>2022-11</th>\n",
       "      <th>2022-12</th>\n",
       "    </tr>\n",
       "  </thead>\n",
       "  <tbody>\n",
       "    <tr>\n",
       "      <th>1</th>\n",
       "      <td>am4141</td>\n",
       "      <td>129.0</td>\n",
       "      <td>colleague</td>\n",
       "      <td>28mm</td>\n",
       "      <td>ladies</td>\n",
       "      <td>no status reported</td>\n",
       "      <td>4.0</td>\n",
       "      <td>4.0</td>\n",
       "      <td>4.0</td>\n",
       "      <td>4.0</td>\n",
       "      <td>...</td>\n",
       "      <td>0.0</td>\n",
       "      <td>0.0</td>\n",
       "      <td>0.0</td>\n",
       "      <td>0.0</td>\n",
       "      <td>0.0</td>\n",
       "      <td>0.0</td>\n",
       "      <td>0.0</td>\n",
       "      <td>0.0</td>\n",
       "      <td>0.0</td>\n",
       "      <td>0.0</td>\n",
       "    </tr>\n",
       "  </tbody>\n",
       "</table>\n",
       "<p>1 rows × 102 columns</p>\n",
       "</div>"
      ],
      "text/plain": [
       "  style_id  retail_price collection  case  gender              status  \\\n",
       "1   am4141         129.0  colleague  28mm  ladies  no status reported   \n",
       "\n",
       "   2015-01  2015-02  2015-03  2015-04  ...  2022-03  2022-04  2022-05  \\\n",
       "1      4.0      4.0      4.0      4.0  ...      0.0      0.0      0.0   \n",
       "\n",
       "   2022-06  2022-07  2022-08  2022-09  2022-10  2022-11  2022-12  \n",
       "1      0.0      0.0      0.0      0.0      0.0      0.0      0.0  \n",
       "\n",
       "[1 rows x 102 columns]"
      ]
     },
     "execution_count": 5,
     "metadata": {},
     "output_type": "execute_result"
    }
   ],
   "source": [
    "df_watch_chart.head(1)"
   ]
  },
  {
   "cell_type": "code",
   "execution_count": 6,
   "id": "b1359399-5a60-4f19-84f7-8c417921d318",
   "metadata": {},
   "outputs": [
    {
     "data": {
      "text/plain": [
       "array(['style_id', 'retail_price', 'collection', 'case', 'gender',\n",
       "       'status', '2015-01', '2015-02', '2015-03', '2015-04', '2015-05',\n",
       "       '2015-06', '2015-07', '2015-08', '2015-09', '2015-10', '2015-11',\n",
       "       '2015-12', '2016-01', '2016-02', '2016-03', '2016-04', '2016-05',\n",
       "       '2016-06', '2016-07', '2016-08', '2016-09', '2016-10', '2016-11',\n",
       "       '2016-12', '2017-01', '2017-02', '2017-03', '2017-04', '2017-05',\n",
       "       '2017-06', '2017-07', '2017-08', '2017-09', '2017-10', '2017-11',\n",
       "       '2017-12', '2018-01', '2018-02', '2018-03', '2018-04', '2018-05',\n",
       "       '2018-06', '2018-07', '2018-08', '2018-09', '2018-10', '2018-11',\n",
       "       '2018-12', '2019-01', '2019-02', '2019-03', '2019-04', '2019-05',\n",
       "       '2019-06', '2019-07', '2019-08', '2019-09', '2019-10', '2019-11',\n",
       "       '2019-12', '2020-01', '2020-02', '2020-03', '2020-04', '2020-05',\n",
       "       '2020-06', '2020-07', '2020-08', '2020-09', '2020-10', '2020-11',\n",
       "       '2020-12', '2021-01', '2021-02', '2021-03', '2021-04', '2021-05',\n",
       "       '2021-06', '2021-07', '2021-08', '2021-09', '2021-10', '2021-11',\n",
       "       '2021-12', '2022-01', '2022-02', '2022-03', '2022-04', '2022-05',\n",
       "       '2022-06', '2022-07', '2022-08', '2022-09', '2022-10', '2022-11',\n",
       "       '2022-12'], dtype=object)"
      ]
     },
     "execution_count": 6,
     "metadata": {},
     "output_type": "execute_result"
    }
   ],
   "source": [
    "df_watch_chart.columns.values"
   ]
  },
  {
   "cell_type": "markdown",
   "id": "e1b873b0-9f34-47e2-9e8c-5e6984ea3e87",
   "metadata": {
    "tags": []
   },
   "source": [
    "### Brand Proposal"
   ]
  },
  {
   "cell_type": "markdown",
   "id": "218b6952-cc41-42b8-8ae1-74d0df92cb44",
   "metadata": {},
   "source": [
    "This dataset contain's the brand's current collection and XYZ's order on April 16, 2022. It contains older models found in the flow chart and new models with no previous sales."
   ]
  },
  {
   "cell_type": "code",
   "execution_count": 7,
   "id": "35a920c4-4513-4b91-823a-5027bac8c11a",
   "metadata": {},
   "outputs": [],
   "source": [
    "df_proposal = pd.read_excel('../data/raw_datasets/PROPOSAL.xlsx')\n",
    "\n",
    "# Standardize column names\n",
    "snake_case(df_proposal)\n",
    "\n",
    "# Select desired columns\n",
    "df_proposal = df_proposal[['material', 'status', 'retail', 'gender', 'collection',\n",
    "       'case', 'inventory', 'qty_oh', 'qty_oor', 'total', \n",
    "       'order', 'sold_last_6m', 'average/mo', \n",
    "       'months/sup', 'wholesale', 'cost', 'ext_cost']]\n",
    "\n",
    "# Drop rows with total sheet calculations\n",
    "df_proposal.dropna(subset='material',inplace=True)\n",
    "\n",
    "# Rename columns\n",
    "df_proposal.rename({'material':'style_id','status':'priority','retail':'retail_price','inventory':'availability','qty_oh':'qty_on_hand',\n",
    "                    'qty_oor':'qty_on_order','total':'qty_total_inv','order':'qty_sales_order',\n",
    "                    'sold_last_6m':'qty_sold_last_6m','average/mo':'qty_avg/mo','months/sup':'months_of_supply',\n",
    "                    'wholesale':'wholesale_price','cost':'xyz_cost','ext_cost':'qty_xyz_cost'},axis='columns',inplace=True)\n",
    "\n",
    "# Cast numerical datatypes to float\n",
    "df_proposal['qty_on_order'] = df_proposal['qty_on_order'].astype(float)\n",
    "df_proposal['qty_sold_last_6m'] = df_proposal['qty_sold_last_6m'].astype(float)\n",
    "df_proposal['months_of_supply'] = df_proposal['months_of_supply'].astype(float)\n",
    "\n",
    "# Standardize values\n",
    "clean_values(df_proposal)"
   ]
  },
  {
   "cell_type": "markdown",
   "id": "2e4cd7ec-d762-4088-871a-1a9aab0f2e14",
   "metadata": {},
   "source": [
    "#### Manual Process - Data Quality Checks"
   ]
  },
  {
   "cell_type": "code",
   "execution_count": 8,
   "id": "b810f6de-74ac-4e8a-9dda-74dade5a19a0",
   "metadata": {},
   "outputs": [
    {
     "data": {
      "text/plain": [
       "True    300\n",
       "dtype: int64"
      ]
     },
     "execution_count": 8,
     "metadata": {},
     "output_type": "execute_result"
    }
   ],
   "source": [
    "# Data quality checks\n",
    "df_proposal['qty_total_dup'] = df_proposal['qty_on_hand'] + df_proposal['qty_on_order']\n",
    "(df_proposal['qty_total_dup'] == df_proposal['qty_total_inv']).value_counts()\n",
    "# Should all be true"
   ]
  },
  {
   "cell_type": "code",
   "execution_count": 9,
   "id": "0b0aa915-9117-4257-a694-1689718848ce",
   "metadata": {},
   "outputs": [
    {
     "data": {
      "text/plain": [
       "True    300\n",
       "dtype: int64"
      ]
     },
     "execution_count": 9,
     "metadata": {},
     "output_type": "execute_result"
    }
   ],
   "source": [
    "df_proposal['qty_avg/mo_dup'] = df_proposal['qty_sold_last_6m']/6\n",
    "(df_proposal['qty_avg/mo_dup'] == df_proposal['qty_avg/mo']).value_counts()\n",
    "# Should all be true"
   ]
  },
  {
   "cell_type": "code",
   "execution_count": 10,
   "id": "6fb4500a-f59b-483e-8f38-0e782bee0c77",
   "metadata": {},
   "outputs": [
    {
     "data": {
      "text/plain": [
       "True     216\n",
       "False     84\n",
       "dtype: int64"
      ]
     },
     "execution_count": 10,
     "metadata": {},
     "output_type": "execute_result"
    }
   ],
   "source": [
    "df_proposal['months_of_supply_dup'] = [(df_proposal.loc[x,'qty_total_dup'] + df_proposal.loc[x,'qty_sales_order'])/df_proposal.loc[x,'qty_avg/mo_dup'] if df_proposal.loc[x,'qty_avg/mo_dup'] != 0 else np.nan for x in df_proposal.index]\n",
    "(df_proposal['months_of_supply_dup'] == df_proposal['months_of_supply']).value_counts()\n",
    "# Some may be False, check below is true"
   ]
  },
  {
   "cell_type": "code",
   "execution_count": 11,
   "id": "f3af1a27-d0e0-4b96-9d24-d37a65759c32",
   "metadata": {},
   "outputs": [
    {
     "data": {
      "text/plain": [
       "True    300\n",
       "dtype: int64"
      ]
     },
     "execution_count": 11,
     "metadata": {},
     "output_type": "execute_result"
    }
   ],
   "source": [
    "# Check that the falses above are because they are null values\n",
    "(df_proposal['months_of_supply_dup'].isna() == df_proposal['months_of_supply'].isna()).value_counts()\n",
    "# Should all be true"
   ]
  },
  {
   "cell_type": "code",
   "execution_count": 12,
   "id": "36c36c9d-4a59-4313-9723-de8a1562269a",
   "metadata": {},
   "outputs": [
    {
     "data": {
      "text/plain": [
       "True    300\n",
       "dtype: int64"
      ]
     },
     "execution_count": 12,
     "metadata": {},
     "output_type": "execute_result"
    }
   ],
   "source": [
    "df_proposal['xyz_cost_dup'] = df_proposal['wholesale_price']*0.7\n",
    "(df_proposal['xyz_cost_dup'] == df_proposal['xyz_cost']).value_counts()\n",
    "# Should all be true"
   ]
  },
  {
   "cell_type": "code",
   "execution_count": 13,
   "id": "b286ebb3-efef-49e8-b5a4-3dde20244ff1",
   "metadata": {},
   "outputs": [],
   "source": [
    "# Drop all duplicated columns\n",
    "df_proposal.drop(columns=['qty_total_dup','qty_avg/mo_dup','months_of_supply_dup','xyz_cost_dup'],inplace=True)"
   ]
  },
  {
   "cell_type": "code",
   "execution_count": 14,
   "id": "3b833b04-f260-4ed3-a7f8-55ac8d4d3e04",
   "metadata": {},
   "outputs": [
    {
     "data": {
      "text/plain": [
       "84"
      ]
     },
     "execution_count": 14,
     "metadata": {},
     "output_type": "execute_result"
    }
   ],
   "source": [
    "df_proposal.isna().sum().sum()"
   ]
  },
  {
   "cell_type": "code",
   "execution_count": 15,
   "id": "78749786-3e15-4036-9949-812e53b90b87",
   "metadata": {},
   "outputs": [
    {
     "data": {
      "text/html": [
       "<div>\n",
       "<style scoped>\n",
       "    .dataframe tbody tr th:only-of-type {\n",
       "        vertical-align: middle;\n",
       "    }\n",
       "\n",
       "    .dataframe tbody tr th {\n",
       "        vertical-align: top;\n",
       "    }\n",
       "\n",
       "    .dataframe thead th {\n",
       "        text-align: right;\n",
       "    }\n",
       "</style>\n",
       "<table border=\"1\" class=\"dataframe\">\n",
       "  <thead>\n",
       "    <tr style=\"text-align: right;\">\n",
       "      <th></th>\n",
       "      <th>style_id</th>\n",
       "      <th>priority</th>\n",
       "      <th>retail_price</th>\n",
       "      <th>gender</th>\n",
       "      <th>collection</th>\n",
       "      <th>case</th>\n",
       "      <th>availability</th>\n",
       "      <th>qty_on_hand</th>\n",
       "      <th>qty_on_order</th>\n",
       "      <th>qty_total_inv</th>\n",
       "      <th>qty_sales_order</th>\n",
       "      <th>qty_sold_last_6m</th>\n",
       "      <th>qty_avg/mo</th>\n",
       "      <th>months_of_supply</th>\n",
       "      <th>wholesale_price</th>\n",
       "      <th>xyz_cost</th>\n",
       "      <th>qty_xyz_cost</th>\n",
       "    </tr>\n",
       "  </thead>\n",
       "  <tbody>\n",
       "    <tr>\n",
       "      <th>0</th>\n",
       "      <td>ce1107</td>\n",
       "      <td>c</td>\n",
       "      <td>230.0</td>\n",
       "      <td>women</td>\n",
       "      <td>fb-01</td>\n",
       "      <td>35mm</td>\n",
       "      <td>available</td>\n",
       "      <td>12.0</td>\n",
       "      <td>0.0</td>\n",
       "      <td>12.0</td>\n",
       "      <td>10.0</td>\n",
       "      <td>43.0</td>\n",
       "      <td>7.166667</td>\n",
       "      <td>3.069767</td>\n",
       "      <td>115.0</td>\n",
       "      <td>80.5</td>\n",
       "      <td>805.0</td>\n",
       "    </tr>\n",
       "  </tbody>\n",
       "</table>\n",
       "</div>"
      ],
      "text/plain": [
       "  style_id priority  retail_price gender collection  case availability  \\\n",
       "0   ce1107        c         230.0  women      fb-01  35mm    available   \n",
       "\n",
       "   qty_on_hand  qty_on_order  qty_total_inv  qty_sales_order  \\\n",
       "0         12.0           0.0           12.0             10.0   \n",
       "\n",
       "   qty_sold_last_6m  qty_avg/mo  months_of_supply  wholesale_price  xyz_cost  \\\n",
       "0              43.0    7.166667          3.069767            115.0      80.5   \n",
       "\n",
       "   qty_xyz_cost  \n",
       "0         805.0  "
      ]
     },
     "execution_count": 15,
     "metadata": {},
     "output_type": "execute_result"
    }
   ],
   "source": [
    "df_proposal.head(1)"
   ]
  },
  {
   "cell_type": "code",
   "execution_count": 16,
   "id": "4302ec32-55af-4d17-8de9-3e7fef189d52",
   "metadata": {},
   "outputs": [
    {
     "data": {
      "text/plain": [
       "array(['style_id', 'priority', 'retail_price', 'gender', 'collection',\n",
       "       'case', 'availability', 'qty_on_hand', 'qty_on_order',\n",
       "       'qty_total_inv', 'qty_sales_order', 'qty_sold_last_6m',\n",
       "       'qty_avg/mo', 'months_of_supply', 'wholesale_price', 'xyz_cost',\n",
       "       'qty_xyz_cost'], dtype=object)"
      ]
     },
     "execution_count": 16,
     "metadata": {},
     "output_type": "execute_result"
    }
   ],
   "source": [
    "df_proposal.columns.values"
   ]
  },
  {
   "cell_type": "markdown",
   "id": "22b96a62-64ec-4c48-bbfd-87f41518b324",
   "metadata": {
    "tags": []
   },
   "source": [
    "### All Watches from Brand Website"
   ]
  },
  {
   "cell_type": "markdown",
   "id": "f2babd04-30e6-402f-9782-22fb357efce8",
   "metadata": {},
   "source": [
    "This dataset contains all watches from the brand's website, and includes more attributes."
   ]
  },
  {
   "cell_type": "code",
   "execution_count": 17,
   "id": "77ff5e99-623a-4d23-bc8c-0dd27c36820a",
   "metadata": {
    "tags": []
   },
   "outputs": [],
   "source": [
    "df_website = pd.read_excel('../data/raw_datasets/ALL ITEMS FROM WEBSITE.xlsx')\n",
    "\n",
    "# Standardize column names\n",
    "snake_case(df_website)\n",
    "\n",
    "# Select desired columns\n",
    "df_website = df_website[['ref', 'gender', 'collection', 'size',\n",
    "       'price', 'msrp', 'product_type', 'product_websites',\n",
    "       'weight', 'color', 'country_of_origin', 'warranty',\n",
    "       'band_color', 'band_material', 'case_material', 'clasp_type',\n",
    "       'crystal_type', 'dial_color', 'movement_type', 'water_resistant',\n",
    "       'max_cart_qty']] \n",
    "\n",
    "# Rename columns\n",
    "df_website.rename({'ref':'style_id','price':'wholesale_price','msrp':'retail_price'},axis='columns',inplace=True)\n",
    "\n",
    "# Manual process - Identify and deal with null values\n",
    "# band color\n",
    "df_website['band_color'] = df_website['band_color'].fillna('no color reported')\n",
    "# clasp type\n",
    "df_website['clasp_type'] = df_website['clasp_type'].fillna('no clasp type reported')\n",
    "# movement type\n",
    "df_website['movement_type'] = df_website['movement_type'].fillna('no movement type reported')\n",
    "# water resistance, fill with 10000 since most likelye\n",
    "df_website['max_cart_qty'] = df_website['max_cart_qty'].fillna(10000)\n",
    "\n",
    "# Dropping the following columns because their values are all the same\n",
    "df_website.drop(columns=['product_type','product_websites','weight','crystal_type'],inplace=True)\n",
    "\n",
    "# Standardize values\n",
    "clean_values(df_website)"
   ]
  },
  {
   "cell_type": "code",
   "execution_count": 18,
   "id": "7199c188-7ec9-448c-a078-76f0713915dd",
   "metadata": {},
   "outputs": [
    {
     "data": {
      "text/plain": [
       "0"
      ]
     },
     "execution_count": 18,
     "metadata": {},
     "output_type": "execute_result"
    }
   ],
   "source": [
    "df_website.isna().sum().sum()"
   ]
  },
  {
   "cell_type": "code",
   "execution_count": 19,
   "id": "a8b012f9-70ea-4038-948c-0587c8cdb7d3",
   "metadata": {},
   "outputs": [
    {
     "data": {
      "text/html": [
       "<div>\n",
       "<style scoped>\n",
       "    .dataframe tbody tr th:only-of-type {\n",
       "        vertical-align: middle;\n",
       "    }\n",
       "\n",
       "    .dataframe tbody tr th {\n",
       "        vertical-align: top;\n",
       "    }\n",
       "\n",
       "    .dataframe thead th {\n",
       "        text-align: right;\n",
       "    }\n",
       "</style>\n",
       "<table border=\"1\" class=\"dataframe\">\n",
       "  <thead>\n",
       "    <tr style=\"text-align: right;\">\n",
       "      <th></th>\n",
       "      <th>style_id</th>\n",
       "      <th>gender</th>\n",
       "      <th>collection</th>\n",
       "      <th>size</th>\n",
       "      <th>wholesale_price</th>\n",
       "      <th>retail_price</th>\n",
       "      <th>color</th>\n",
       "      <th>country_of_origin</th>\n",
       "      <th>warranty</th>\n",
       "      <th>band_color</th>\n",
       "      <th>band_material</th>\n",
       "      <th>case_material</th>\n",
       "      <th>clasp_type</th>\n",
       "      <th>dial_color</th>\n",
       "      <th>movement_type</th>\n",
       "      <th>water_resistant</th>\n",
       "      <th>max_cart_qty</th>\n",
       "    </tr>\n",
       "  </thead>\n",
       "  <tbody>\n",
       "    <tr>\n",
       "      <th>0</th>\n",
       "      <td>am4141</td>\n",
       "      <td>ladies</td>\n",
       "      <td>serena</td>\n",
       "      <td>28</td>\n",
       "      <td>55.0</td>\n",
       "      <td>110</td>\n",
       "      <td>mother of pearl</td>\n",
       "      <td>japan - jp</td>\n",
       "      <td>2 - year international limited warranty</td>\n",
       "      <td>silver</td>\n",
       "      <td>stainless steel</td>\n",
       "      <td>stainless steel</td>\n",
       "      <td>no clasp type reported</td>\n",
       "      <td>mother of pearl</td>\n",
       "      <td>quartz</td>\n",
       "      <td>50m - 160ft - 5atm</td>\n",
       "      <td>10000.0</td>\n",
       "    </tr>\n",
       "  </tbody>\n",
       "</table>\n",
       "</div>"
      ],
      "text/plain": [
       "  style_id  gender collection  size  wholesale_price  retail_price  \\\n",
       "0   am4141  ladies     serena    28             55.0           110   \n",
       "\n",
       "             color country_of_origin                                 warranty  \\\n",
       "0  mother of pearl        japan - jp  2 - year international limited warranty   \n",
       "\n",
       "  band_color    band_material    case_material              clasp_type  \\\n",
       "0     silver  stainless steel  stainless steel  no clasp type reported   \n",
       "\n",
       "        dial_color movement_type     water_resistant  max_cart_qty  \n",
       "0  mother of pearl        quartz  50m - 160ft - 5atm       10000.0  "
      ]
     },
     "execution_count": 19,
     "metadata": {},
     "output_type": "execute_result"
    }
   ],
   "source": [
    "df_website.head(1)"
   ]
  },
  {
   "cell_type": "code",
   "execution_count": 20,
   "id": "06333caa-31a6-4b09-9b24-6fb24293db7b",
   "metadata": {},
   "outputs": [
    {
     "data": {
      "text/plain": [
       "array(['style_id', 'gender', 'collection', 'size', 'wholesale_price',\n",
       "       'retail_price', 'color', 'country_of_origin', 'warranty',\n",
       "       'band_color', 'band_material', 'case_material', 'clasp_type',\n",
       "       'dial_color', 'movement_type', 'water_resistant', 'max_cart_qty'],\n",
       "      dtype=object)"
      ]
     },
     "execution_count": 20,
     "metadata": {},
     "output_type": "execute_result"
    }
   ],
   "source": [
    "df_website.columns.values"
   ]
  },
  {
   "cell_type": "markdown",
   "id": "3ba88e22-f168-40c5-ac50-607132e92034",
   "metadata": {
    "tags": []
   },
   "source": [
    "### Items Created 2022H3"
   ]
  },
  {
   "cell_type": "markdown",
   "id": "f187b604-cbf5-48c8-a392-ccf85eb9b863",
   "metadata": {},
   "source": [
    "This dataset contains the new watch attributes (2022H3) from the brand's website."
   ]
  },
  {
   "cell_type": "code",
   "execution_count": 21,
   "id": "0fa27b8e-fa9c-450f-a26b-8360b8f3b34e",
   "metadata": {},
   "outputs": [],
   "source": [
    "df_new_website = pd.read_excel('../data/raw_datasets/ITEMS CREATED 2022H3.xlsx')\n",
    "\n",
    "# Standardize column names\n",
    "snake_case(df_new_website)\n",
    "replace_months_from_df(df_new_website)\n",
    "\n",
    "# Select desired columns\n",
    "df_new_website = df_new_website[['item', 'collection', 'season', 'rtl',\n",
    "       'gender', 'case_size', 'case_material', 'dial_color',\n",
    "       'band_color', 'band_material', 'clasp', 'movement',\n",
    "       'water_resistance', 'country_of_origin', 'warranty']]\n",
    "\n",
    "# Rename columns\n",
    "df_new_website.rename({'item':'style_id','rtl':'retail_price',\n",
    "                  'season':'priority'},axis='columns',inplace=True)\n",
    "\n",
    "# Standardize values\n",
    "clean_values(df_new_website)"
   ]
  },
  {
   "cell_type": "code",
   "execution_count": 22,
   "id": "1eb8b2f8-ac75-4733-9559-5a5a6cd3857b",
   "metadata": {},
   "outputs": [
    {
     "data": {
      "text/plain": [
       "array(['style_id', 'collection', 'priority', 'retail_price', 'gender',\n",
       "       'case_size', 'case_material', 'dial_color', 'band_color',\n",
       "       'band_material', 'clasp', 'movement', 'water_resistance',\n",
       "       'country_of_origin', 'warranty'], dtype=object)"
      ]
     },
     "execution_count": 22,
     "metadata": {},
     "output_type": "execute_result"
    }
   ],
   "source": [
    "df_new_website.columns.values"
   ]
  },
  {
   "cell_type": "code",
   "execution_count": 23,
   "id": "b2a15921-22dc-4ead-86fd-2fdd6fe29f17",
   "metadata": {},
   "outputs": [
    {
     "data": {
      "text/html": [
       "<div>\n",
       "<style scoped>\n",
       "    .dataframe tbody tr th:only-of-type {\n",
       "        vertical-align: middle;\n",
       "    }\n",
       "\n",
       "    .dataframe tbody tr th {\n",
       "        vertical-align: top;\n",
       "    }\n",
       "\n",
       "    .dataframe thead th {\n",
       "        text-align: right;\n",
       "    }\n",
       "</style>\n",
       "<table border=\"1\" class=\"dataframe\">\n",
       "  <thead>\n",
       "    <tr style=\"text-align: right;\">\n",
       "      <th></th>\n",
       "      <th>style_id</th>\n",
       "      <th>collection</th>\n",
       "      <th>priority</th>\n",
       "      <th>retail_price</th>\n",
       "      <th>gender</th>\n",
       "      <th>case_size</th>\n",
       "      <th>case_material</th>\n",
       "      <th>dial_color</th>\n",
       "      <th>band_color</th>\n",
       "      <th>band_material</th>\n",
       "      <th>clasp</th>\n",
       "      <th>movement</th>\n",
       "      <th>water_resistance</th>\n",
       "      <th>country_of_origin</th>\n",
       "      <th>warranty</th>\n",
       "    </tr>\n",
       "  </thead>\n",
       "  <tbody>\n",
       "    <tr>\n",
       "      <th>0</th>\n",
       "      <td>es5206</td>\n",
       "      <td>scarlette</td>\n",
       "      <td>2022h3</td>\n",
       "      <td>140</td>\n",
       "      <td>ladies</td>\n",
       "      <td>32 mm</td>\n",
       "      <td>stainless steel</td>\n",
       "      <td>brown</td>\n",
       "      <td>gold</td>\n",
       "      <td>stainless steel</td>\n",
       "      <td>fold-over</td>\n",
       "      <td>quartz</td>\n",
       "      <td>5 atm</td>\n",
       "      <td>japan - jp</td>\n",
       "      <td>2 year limited</td>\n",
       "    </tr>\n",
       "  </tbody>\n",
       "</table>\n",
       "</div>"
      ],
      "text/plain": [
       "  style_id collection priority  retail_price  gender case_size  \\\n",
       "0   es5206  scarlette   2022h3           140  ladies     32 mm   \n",
       "\n",
       "     case_material dial_color band_color    band_material      clasp movement  \\\n",
       "0  stainless steel      brown       gold  stainless steel  fold-over   quartz   \n",
       "\n",
       "  water_resistance country_of_origin        warranty  \n",
       "0            5 atm        japan - jp  2 year limited  "
      ]
     },
     "execution_count": 23,
     "metadata": {},
     "output_type": "execute_result"
    }
   ],
   "source": [
    "df_new_website.head(1)"
   ]
  },
  {
   "cell_type": "markdown",
   "id": "2b303cd9-efc9-494e-bfba-dba8041d77cc",
   "metadata": {
    "tags": []
   },
   "source": [
    "### Proposal"
   ]
  },
  {
   "cell_type": "markdown",
   "id": "54d35165-72f7-489f-b6f8-9fa9ee438215",
   "metadata": {},
   "source": [
    "This dataset contains the planned order by XYZ for the new watch models."
   ]
  },
  {
   "cell_type": "code",
   "execution_count": 24,
   "id": "34f3a1cd-2d40-4e44-948f-7716e94146ae",
   "metadata": {},
   "outputs": [],
   "source": [
    "df_new_plan = pd.read_excel('../data/raw_datasets/Plan Order 2022H3.xlsx',header=1)"
   ]
  },
  {
   "cell_type": "code",
   "execution_count": 25,
   "id": "b9643790-08a3-4cb6-83ea-12481da7a5c7",
   "metadata": {},
   "outputs": [
    {
     "name": "stdout",
     "output_type": "stream",
     "text": [
      "<class 'pandas.core.frame.DataFrame'>\n",
      "RangeIndex: 40 entries, 0 to 39\n",
      "Data columns (total 11 columns):\n",
      " #   Column      Non-Null Count  Dtype  \n",
      "---  ------      --------------  -----  \n",
      " 0   SKU         38 non-null     object \n",
      " 1   PLATFORM    38 non-null     object \n",
      " 2   MOVEMENT    38 non-null     object \n",
      " 3   MSRP        38 non-null     float64\n",
      " 4   CASE        38 non-null     object \n",
      " 5   BAND        38 non-null     object \n",
      " 6   CASE SIZE   38 non-null     object \n",
      " 7   LUG WIDTH   38 non-null     object \n",
      " 8   GENDER      38 non-null     object \n",
      " 9   STATUS      38 non-null     object \n",
      " 10  Plan Order  38 non-null     float64\n",
      "dtypes: float64(2), object(9)\n",
      "memory usage: 3.6+ KB\n"
     ]
    }
   ],
   "source": [
    "df_new_plan.info()"
   ]
  },
  {
   "cell_type": "code",
   "execution_count": 26,
   "id": "5f5bf827-6769-4e4c-b976-9975c3b8143f",
   "metadata": {},
   "outputs": [],
   "source": [
    "# Standardize column names\n",
    "snake_case(df_new_plan)\n",
    "\n",
    "# Rename columns\n",
    "df_new_plan.rename({'sku':'style_id','platform':'collection','msrp':'retail_price','case':'color'},axis='columns',inplace=True)\n",
    "\n",
    "# Drop null row (not needed)\n",
    "df_new_plan.dropna(subset='style_id', inplace=True)\n",
    "\n",
    "# Select desired columns\n",
    "df_new_plan = df_new_plan[['style_id', 'collection', 'retail_price','plan_order','color']]\n",
    "\n",
    "# Standardize values\n",
    "clean_values(df_new_plan)"
   ]
  },
  {
   "cell_type": "markdown",
   "id": "bf85d527-ddf9-47ec-ad3b-8da6deea53cd",
   "metadata": {
    "jp-MarkdownHeadingCollapsed": true,
    "tags": []
   },
   "source": [
    "### New Models Q3"
   ]
  },
  {
   "cell_type": "markdown",
   "id": "0a861f0f-9b49-4d2f-ac23-54332c87d2eb",
   "metadata": {},
   "source": [
    "This dataset contains the new models that will debut in Q3 2022. This data was not used for the project."
   ]
  },
  {
   "cell_type": "code",
   "execution_count": 27,
   "id": "30f5bd27-e37b-4cd8-ace2-c2864ba4d6fc",
   "metadata": {
    "tags": []
   },
   "outputs": [],
   "source": [
    "# df_q3_new = pd.read_excel('../data/raw_datasets/extra data/new models H3.xlsx',header = 1)\n",
    "\n",
    "# # Drop empty rows (NaN)\n",
    "# df_q3_new.dropna(how = 'all',inplace=True)\n",
    "\n",
    "# # Drop unnecessary columns\n",
    "# df_q3_new.drop(columns=['STATUS'],inplace=True)\n",
    "\n",
    "# # Standardize column names\n",
    "# df_q3_new.columns = df_q3_new.columns.astype(str).str.strip().str.lower().str.replace(' ','_')\n",
    "# df_q3_new.columns = ['style_id', 'collection', 'movement_type', 'retail_price', 'color', 'band_color', 'case',\n",
    "#        'lug_width', 'gender']\n",
    "\n",
    "# # Standardize values\n",
    "# clean_values(df_q3_new)"
   ]
  },
  {
   "cell_type": "markdown",
   "id": "384ee7ef-f3a9-4cd6-beb1-3694ede5c215",
   "metadata": {
    "jp-MarkdownHeadingCollapsed": true,
    "tags": []
   },
   "source": [
    "### New Models Q4"
   ]
  },
  {
   "cell_type": "markdown",
   "id": "ee3227af-bbc1-4ff4-872d-de38e0bb5f75",
   "metadata": {},
   "source": [
    "This dataset contains the new models that will debut in Q4 2022. This data was not used for the project."
   ]
  },
  {
   "cell_type": "code",
   "execution_count": 28,
   "id": "865d0be5-8715-46cf-b2bb-5c180578bab9",
   "metadata": {
    "tags": []
   },
   "outputs": [],
   "source": [
    "# df_q4_new = pd.read_excel('../data/new models H4.xlsx')\n",
    "\n",
    "# # Drop empty rows (NaN)\n",
    "# df_q4_new.dropna(how = 'all',inplace=True)\n",
    "\n",
    "# # Drop unnecessary columns\n",
    "# df_q4_new.drop(columns=['Unnamed: 9'],inplace=True)\n",
    "\n",
    "# # Infer column names\n",
    "# df_q4_new.columns = ['style_id', 'collection', 'movement_type', 'retail_price', 'color', 'band_color', 'case',\n",
    "#        'lug_width', 'gender']\n",
    "\n",
    "# # Identify and deal with null values\n",
    "# # price - will deal with later\n",
    "# # lug width\n",
    "# df_q4_new['lug_width'] = df_q4_new['lug_width'].fillna('No lug width reported')\n",
    "\n",
    "# # Standardize values\n",
    "# df_q4_new['gender'] = clean(df_q4_new['gender'])\n",
    "# df_q4_new['collection'] = clean(df_q4_new['collection'])\n",
    "# df_q4_new['movement_type'] = clean(df_q4_new['movement_type'])\n",
    "# df_q4_new['color'] = clean(df_q4_new['color'])\n",
    "# df_q4_new['band_color'] = clean(df_q4_new['band_color'])\n",
    "# df_q4_new['gender'] = clean(df_q4_new['gender'])"
   ]
  },
  {
   "cell_type": "markdown",
   "id": "6c2882cf-0cbf-4d43-8808-0fec9db85774",
   "metadata": {
    "jp-MarkdownHeadingCollapsed": true,
    "tags": []
   },
   "source": [
    "### Holiday items - new items Q4"
   ]
  },
  {
   "cell_type": "markdown",
   "id": "a1a03d8b-3af4-47b9-96c0-a4e0ff1d066b",
   "metadata": {},
   "source": [
    "This dataset contains the new models that will debut in Q4 2022. It was determined to be a repeat of New Models Q4."
   ]
  },
  {
   "cell_type": "code",
   "execution_count": 29,
   "id": "112188ad-38c3-4090-9564-abd4047ad221",
   "metadata": {},
   "outputs": [],
   "source": [
    "# df_holiday_new = pd.read_excel('../data/HOLIDAY NEW ITEMS 05-04-2022.xlsx')\n",
    "\n",
    "# # Drop unnecessary columns\n",
    "# df_holiday_new.drop(columns=['DESCRIPTION','SEASON'],inplace=True)\n",
    "\n",
    "# # Standardize column names\n",
    "# df_holiday_new.columns = df_holiday_new.columns.astype(str).str.strip().str.lower().str.replace(' ','_').str.replace('u_','').str.replace('ws_','')\n",
    "# df_holiday_new.columns = ['style_id', 'collection', 'gender', 'wholesale_price', 'retail_price', 'movement_type',\n",
    "#        'color', 'band_color', 'case']\n",
    "\n",
    "# # deal with retail_price later\n",
    "\n",
    "# df_holiday_new.info()\n",
    "\n",
    "# # save to csv\n",
    "# df_holiday_new.to_csv('../cleaned_datasets//holiday_q4_new_models.csv',index=False)"
   ]
  },
  {
   "cell_type": "markdown",
   "id": "715a6417-8ecd-4142-b769-9001c59ef7bd",
   "metadata": {
    "tags": []
   },
   "source": [
    "## Merging Datasets"
   ]
  },
  {
   "cell_type": "markdown",
   "id": "c3379bc6-cbd2-42ab-9ccf-4fe25ed175de",
   "metadata": {
    "tags": []
   },
   "source": [
    "### Merge old/current models from watch flow chart and website"
   ]
  },
  {
   "cell_type": "code",
   "execution_count": 30,
   "id": "9c74796e-e9fc-4c7c-8c90-2f4f49cb2d2d",
   "metadata": {},
   "outputs": [],
   "source": [
    "df_models = pd.merge(left = df_watch_chart, right = df_website, how = 'outer', on = 'style_id', sort=True)\n",
    "df_models = sort_columns(df_models) # sort datetime columns and move to the end"
   ]
  },
  {
   "cell_type": "markdown",
   "id": "02ecff58-b2e6-4fec-991a-3dbcb15f9883",
   "metadata": {
    "tags": []
   },
   "source": [
    "#### Validation of data"
   ]
  },
  {
   "cell_type": "code",
   "execution_count": 31,
   "id": "d763db0d-43d4-49d3-b2f7-b1cf4b5a67ef",
   "metadata": {},
   "outputs": [
    {
     "name": "stdout",
     "output_type": "stream",
     "text": [
      "<class 'pandas.core.frame.DataFrame'>\n",
      "Int64Index: 1724 entries, 0 to 1723\n",
      "Columns: 118 entries, style_id to 2022-12\n",
      "dtypes: float64(101), object(17)\n",
      "memory usage: 1.6+ MB\n"
     ]
    }
   ],
   "source": [
    "df_models.info()"
   ]
  },
  {
   "cell_type": "code",
   "execution_count": 32,
   "id": "3c6d60d3-c136-48fb-8221-e082966280ea",
   "metadata": {},
   "outputs": [
    {
     "name": "stdout",
     "output_type": "stream",
     "text": [
      "<class 'pandas.core.frame.DataFrame'>\n",
      "Int64Index: 1724 entries, 0 to 1723\n",
      "Data columns (total 22 columns):\n",
      " #   Column             Non-Null Count  Dtype  \n",
      "---  ------             --------------  -----  \n",
      " 0   style_id           1724 non-null   object \n",
      " 1   retail_price_x     1588 non-null   float64\n",
      " 2   collection_x       1588 non-null   object \n",
      " 3   case               1588 non-null   object \n",
      " 4   gender_x           1588 non-null   object \n",
      " 5   status             1588 non-null   object \n",
      " 6   gender_y           1195 non-null   object \n",
      " 7   collection_y       1195 non-null   object \n",
      " 8   size               1195 non-null   float64\n",
      " 9   wholesale_price    1195 non-null   float64\n",
      " 10  retail_price_y     1195 non-null   float64\n",
      " 11  color              1195 non-null   object \n",
      " 12  country_of_origin  1195 non-null   object \n",
      " 13  warranty           1195 non-null   object \n",
      " 14  band_color         1195 non-null   object \n",
      " 15  band_material      1195 non-null   object \n",
      " 16  case_material      1195 non-null   object \n",
      " 17  clasp_type         1195 non-null   object \n",
      " 18  dial_color         1195 non-null   object \n",
      " 19  movement_type      1195 non-null   object \n",
      " 20  water_resistant    1195 non-null   object \n",
      " 21  max_cart_qty       1195 non-null   float64\n",
      "dtypes: float64(5), object(17)\n",
      "memory usage: 309.8+ KB\n"
     ]
    }
   ],
   "source": [
    "# Return the non-date columns of the data frame (i.e. no '2022-01' with sales data)\n",
    "return_nondate_col(df_models).info()"
   ]
  },
  {
   "cell_type": "code",
   "execution_count": 33,
   "id": "8b05817e-e5db-46fb-8f2f-6969d017eeb7",
   "metadata": {},
   "outputs": [
    {
     "data": {
      "text/plain": [
       "discd                 478\n",
       "no status reported     50\n",
       "2018h3                  1\n",
       "Name: status, dtype: int64"
      ]
     },
     "execution_count": 33,
     "metadata": {},
     "output_type": "execute_result"
    }
   ],
   "source": [
    "# check the status of models where there was no match on the website\n",
    "df_models[df_models['retail_price_y'].isna()]['status'].value_counts()"
   ]
  },
  {
   "cell_type": "code",
   "execution_count": 34,
   "id": "bf816629-5e45-4b0b-8496-6f455716118a",
   "metadata": {},
   "outputs": [
    {
     "data": {
      "text/plain": [
       "0.0"
      ]
     },
     "execution_count": 34,
     "metadata": {},
     "output_type": "execute_result"
    }
   ],
   "source": [
    "# check the last two years of sales of model where there was no match on the website\n",
    "return_date_col(df_models)[df_models['retail_price_y'].isna()].iloc[:,-25:-1].sum().sum()"
   ]
  },
  {
   "cell_type": "code",
   "execution_count": 35,
   "id": "8ca8ed24-d95a-40cd-b2d9-ad5b6a6eaea8",
   "metadata": {},
   "outputs": [
    {
     "data": {
      "text/html": [
       "<div>\n",
       "<style scoped>\n",
       "    .dataframe tbody tr th:only-of-type {\n",
       "        vertical-align: middle;\n",
       "    }\n",
       "\n",
       "    .dataframe tbody tr th {\n",
       "        vertical-align: top;\n",
       "    }\n",
       "\n",
       "    .dataframe thead th {\n",
       "        text-align: right;\n",
       "    }\n",
       "</style>\n",
       "<table border=\"1\" class=\"dataframe\">\n",
       "  <thead>\n",
       "    <tr style=\"text-align: right;\">\n",
       "      <th></th>\n",
       "      <th>style_id</th>\n",
       "      <th>retail_price_x</th>\n",
       "      <th>collection_x</th>\n",
       "      <th>case</th>\n",
       "      <th>gender_x</th>\n",
       "      <th>status</th>\n",
       "      <th>gender_y</th>\n",
       "      <th>collection_y</th>\n",
       "      <th>size</th>\n",
       "      <th>wholesale_price</th>\n",
       "      <th>...</th>\n",
       "      <th>2022-03</th>\n",
       "      <th>2022-04</th>\n",
       "      <th>2022-05</th>\n",
       "      <th>2022-06</th>\n",
       "      <th>2022-07</th>\n",
       "      <th>2022-08</th>\n",
       "      <th>2022-09</th>\n",
       "      <th>2022-10</th>\n",
       "      <th>2022-11</th>\n",
       "      <th>2022-12</th>\n",
       "    </tr>\n",
       "  </thead>\n",
       "  <tbody>\n",
       "    <tr>\n",
       "      <th>1210</th>\n",
       "      <td>fs5477</td>\n",
       "      <td>165.0</td>\n",
       "      <td>rutherford</td>\n",
       "      <td>38mm</td>\n",
       "      <td>mens</td>\n",
       "      <td>2018h3</td>\n",
       "      <td>NaN</td>\n",
       "      <td>NaN</td>\n",
       "      <td>NaN</td>\n",
       "      <td>NaN</td>\n",
       "      <td>...</td>\n",
       "      <td>0.0</td>\n",
       "      <td>0.0</td>\n",
       "      <td>0.0</td>\n",
       "      <td>0.0</td>\n",
       "      <td>0.0</td>\n",
       "      <td>0.0</td>\n",
       "      <td>0.0</td>\n",
       "      <td>0.0</td>\n",
       "      <td>0.0</td>\n",
       "      <td>0.0</td>\n",
       "    </tr>\n",
       "  </tbody>\n",
       "</table>\n",
       "<p>1 rows × 118 columns</p>\n",
       "</div>"
      ],
      "text/plain": [
       "     style_id  retail_price_x collection_x  case gender_x  status gender_y  \\\n",
       "1210   fs5477           165.0   rutherford  38mm     mens  2018h3      NaN   \n",
       "\n",
       "     collection_y  size  wholesale_price  ...  2022-03 2022-04 2022-05  \\\n",
       "1210          NaN   NaN              NaN  ...      0.0     0.0     0.0   \n",
       "\n",
       "     2022-06 2022-07 2022-08 2022-09 2022-10 2022-11 2022-12  \n",
       "1210     0.0     0.0     0.0     0.0     0.0     0.0     0.0  \n",
       "\n",
       "[1 rows x 118 columns]"
      ]
     },
     "execution_count": 35,
     "metadata": {},
     "output_type": "execute_result"
    }
   ],
   "source": [
    "df_models[df_models['retail_price_y'].isna() & (df_models['status'] != 'discd') & (df_models['status'] != 'no status reported')]"
   ]
  },
  {
   "cell_type": "markdown",
   "id": "8822935b-91ad-4e42-a869-87399633558e",
   "metadata": {},
   "source": [
    "It seems that the this model is now discontinued (had no sales in the last two years) and the other watches had no sales in 2021. The missing information from the website shouldn't have a too huge of an impact, but this could be something explored later."
   ]
  },
  {
   "cell_type": "code",
   "execution_count": 36,
   "id": "b20f771d-f87f-4f64-a902-67111cd5c1cd",
   "metadata": {},
   "outputs": [
    {
     "data": {
      "text/plain": [
       "discd                 690\n",
       "no status reported    330\n",
       "2019h4                 68\n",
       "2020h1                 60\n",
       "2020h3                 56\n",
       "2020h2                 49\n",
       "2019h3                 49\n",
       "2021h3                 46\n",
       "2021h4                 45\n",
       "2019h2                 38\n",
       "2022h1                 31\n",
       "2021h1                 29\n",
       "2021h2                 27\n",
       "2018h4                 25\n",
       "2019h1                 21\n",
       "2018h3                  8\n",
       "2020h4                  6\n",
       "2022h2                  6\n",
       "2018                    3\n",
       "0                       1\n",
       "Name: status, dtype: int64"
      ]
     },
     "execution_count": 36,
     "metadata": {},
     "output_type": "execute_result"
    }
   ],
   "source": [
    "# check that status is only past watches\n",
    "df_models['status'].value_counts()\n",
    "# it is not obvious that the \"No status reported\" wawtches are old, current, or new models"
   ]
  },
  {
   "cell_type": "markdown",
   "id": "c135da40-ec4f-4728-8c7d-be322b071652",
   "metadata": {
    "jp-MarkdownHeadingCollapsed": true,
    "tags": []
   },
   "source": [
    "#### Check where the retail prices differ between datasets"
   ]
  },
  {
   "cell_type": "code",
   "execution_count": 37,
   "id": "96785d76-5657-40ac-8edb-ae006cf5dd7c",
   "metadata": {},
   "outputs": [
    {
     "data": {
      "text/html": [
       "<div>\n",
       "<style scoped>\n",
       "    .dataframe tbody tr th:only-of-type {\n",
       "        vertical-align: middle;\n",
       "    }\n",
       "\n",
       "    .dataframe tbody tr th {\n",
       "        vertical-align: top;\n",
       "    }\n",
       "\n",
       "    .dataframe thead th {\n",
       "        text-align: right;\n",
       "    }\n",
       "</style>\n",
       "<table border=\"1\" class=\"dataframe\">\n",
       "  <thead>\n",
       "    <tr style=\"text-align: right;\">\n",
       "      <th></th>\n",
       "      <th>style_id</th>\n",
       "      <th>retail_price_x</th>\n",
       "      <th>retail_price_y</th>\n",
       "    </tr>\n",
       "  </thead>\n",
       "  <tbody>\n",
       "    <tr>\n",
       "      <th>0</th>\n",
       "      <td>am4141</td>\n",
       "      <td>129.0</td>\n",
       "      <td>110.0</td>\n",
       "    </tr>\n",
       "    <tr>\n",
       "      <th>9</th>\n",
       "      <td>am4532</td>\n",
       "      <td>125.0</td>\n",
       "      <td>149.0</td>\n",
       "    </tr>\n",
       "    <tr>\n",
       "      <th>17</th>\n",
       "      <td>bq1010</td>\n",
       "      <td>125.0</td>\n",
       "      <td>129.0</td>\n",
       "    </tr>\n",
       "    <tr>\n",
       "      <th>18</th>\n",
       "      <td>bq1130</td>\n",
       "      <td>135.0</td>\n",
       "      <td>139.0</td>\n",
       "    </tr>\n",
       "    <tr>\n",
       "      <th>19</th>\n",
       "      <td>bq3115</td>\n",
       "      <td>135.0</td>\n",
       "      <td>139.0</td>\n",
       "    </tr>\n",
       "    <tr>\n",
       "      <th>...</th>\n",
       "      <td>...</td>\n",
       "      <td>...</td>\n",
       "      <td>...</td>\n",
       "    </tr>\n",
       "    <tr>\n",
       "      <th>1713</th>\n",
       "      <td>me3208</td>\n",
       "      <td>219.0</td>\n",
       "      <td>240.0</td>\n",
       "    </tr>\n",
       "    <tr>\n",
       "      <th>1714</th>\n",
       "      <td>me3209</td>\n",
       "      <td>249.0</td>\n",
       "      <td>260.0</td>\n",
       "    </tr>\n",
       "    <tr>\n",
       "      <th>1715</th>\n",
       "      <td>me3210</td>\n",
       "      <td>249.0</td>\n",
       "      <td>250.0</td>\n",
       "    </tr>\n",
       "    <tr>\n",
       "      <th>1716</th>\n",
       "      <td>me3211</td>\n",
       "      <td>189.0</td>\n",
       "      <td>210.0</td>\n",
       "    </tr>\n",
       "    <tr>\n",
       "      <th>1717</th>\n",
       "      <td>me3212</td>\n",
       "      <td>169.0</td>\n",
       "      <td>190.0</td>\n",
       "    </tr>\n",
       "  </tbody>\n",
       "</table>\n",
       "<p>464 rows × 3 columns</p>\n",
       "</div>"
      ],
      "text/plain": [
       "     style_id  retail_price_x  retail_price_y\n",
       "0      am4141           129.0           110.0\n",
       "9      am4532           125.0           149.0\n",
       "17     bq1010           125.0           129.0\n",
       "18     bq1130           135.0           139.0\n",
       "19     bq3115           135.0           139.0\n",
       "...       ...             ...             ...\n",
       "1713   me3208           219.0           240.0\n",
       "1714   me3209           249.0           260.0\n",
       "1715   me3210           249.0           250.0\n",
       "1716   me3211           189.0           210.0\n",
       "1717   me3212           169.0           190.0\n",
       "\n",
       "[464 rows x 3 columns]"
      ]
     },
     "execution_count": 37,
     "metadata": {},
     "output_type": "execute_result"
    }
   ],
   "source": [
    "col = 'retail_price_x'\n",
    "discrepancy = df_models[(df_models[col] != df_models[col[:-1]+'y'])][['style_id',col,col[:-1]+'y']].dropna()\n",
    "discrepancy"
   ]
  },
  {
   "cell_type": "code",
   "execution_count": 38,
   "id": "c0b18583-ffe4-403f-892e-d83fd42829fe",
   "metadata": {},
   "outputs": [],
   "source": [
    "# This is a tough decision... however for now, let's replace the prices with the website retail prices\n",
    "# Rationale: If we use the price in the model to predict sales, the new model prices will not be scaled to the\n",
    "# previous model prices\n",
    "\n",
    "consolidate_columns(df_models, col,col[:-1]+'y',col[:-2])"
   ]
  },
  {
   "cell_type": "markdown",
   "id": "553952c5-8a25-4bc6-afdf-23d537acf5e3",
   "metadata": {
    "jp-MarkdownHeadingCollapsed": true,
    "tags": []
   },
   "source": [
    "#### Check where the Collection differ between datasets"
   ]
  },
  {
   "cell_type": "code",
   "execution_count": 39,
   "id": "520e5881-1c56-446d-9298-bdf1d49ac81b",
   "metadata": {},
   "outputs": [
    {
     "data": {
      "text/html": [
       "<div>\n",
       "<style scoped>\n",
       "    .dataframe tbody tr th:only-of-type {\n",
       "        vertical-align: middle;\n",
       "    }\n",
       "\n",
       "    .dataframe tbody tr th {\n",
       "        vertical-align: top;\n",
       "    }\n",
       "\n",
       "    .dataframe thead th {\n",
       "        text-align: right;\n",
       "    }\n",
       "</style>\n",
       "<table border=\"1\" class=\"dataframe\">\n",
       "  <thead>\n",
       "    <tr style=\"text-align: right;\">\n",
       "      <th></th>\n",
       "      <th>style_id</th>\n",
       "      <th>collection_x</th>\n",
       "      <th>collection_y</th>\n",
       "    </tr>\n",
       "  </thead>\n",
       "  <tbody>\n",
       "    <tr>\n",
       "      <th>0</th>\n",
       "      <td>am4141</td>\n",
       "      <td>colleague</td>\n",
       "      <td>serena</td>\n",
       "    </tr>\n",
       "    <tr>\n",
       "      <th>5</th>\n",
       "      <td>am4508</td>\n",
       "      <td>colleague</td>\n",
       "      <td>serena</td>\n",
       "    </tr>\n",
       "    <tr>\n",
       "      <th>17</th>\n",
       "      <td>bq1010</td>\n",
       "      <td>madeline</td>\n",
       "      <td>rhett</td>\n",
       "    </tr>\n",
       "    <tr>\n",
       "      <th>18</th>\n",
       "      <td>bq1130</td>\n",
       "      <td>madeline</td>\n",
       "      <td>flynn</td>\n",
       "    </tr>\n",
       "    <tr>\n",
       "      <th>19</th>\n",
       "      <td>bq3115</td>\n",
       "      <td>madeline</td>\n",
       "      <td>suitor</td>\n",
       "    </tr>\n",
       "    <tr>\n",
       "      <th>...</th>\n",
       "      <td>...</td>\n",
       "      <td>...</td>\n",
       "      <td>...</td>\n",
       "    </tr>\n",
       "    <tr>\n",
       "      <th>1697</th>\n",
       "      <td>me3189</td>\n",
       "      <td>carlie mini</td>\n",
       "      <td>carlie mini me</td>\n",
       "    </tr>\n",
       "    <tr>\n",
       "      <th>1698</th>\n",
       "      <td>me3190</td>\n",
       "      <td>fb</td>\n",
       "      <td>fb - 01 automatic</td>\n",
       "    </tr>\n",
       "    <tr>\n",
       "      <th>1699</th>\n",
       "      <td>me3191</td>\n",
       "      <td>fb-01</td>\n",
       "      <td>fb - 01 automatic</td>\n",
       "    </tr>\n",
       "    <tr>\n",
       "      <th>1700</th>\n",
       "      <td>me3195</td>\n",
       "      <td>neutra</td>\n",
       "      <td>neutra automatic</td>\n",
       "    </tr>\n",
       "    <tr>\n",
       "      <th>1701</th>\n",
       "      <td>me3196</td>\n",
       "      <td>neutra</td>\n",
       "      <td>neutra automatic</td>\n",
       "    </tr>\n",
       "  </tbody>\n",
       "</table>\n",
       "<p>284 rows × 3 columns</p>\n",
       "</div>"
      ],
      "text/plain": [
       "     style_id collection_x       collection_y\n",
       "0      am4141    colleague             serena\n",
       "5      am4508    colleague             serena\n",
       "17     bq1010     madeline              rhett\n",
       "18     bq1130     madeline              flynn\n",
       "19     bq3115     madeline             suitor\n",
       "...       ...          ...                ...\n",
       "1697   me3189  carlie mini     carlie mini me\n",
       "1698   me3190           fb  fb - 01 automatic\n",
       "1699   me3191        fb-01  fb - 01 automatic\n",
       "1700   me3195       neutra   neutra automatic\n",
       "1701   me3196       neutra   neutra automatic\n",
       "\n",
       "[284 rows x 3 columns]"
      ]
     },
     "execution_count": 39,
     "metadata": {},
     "output_type": "execute_result"
    }
   ],
   "source": [
    "col = 'collection_x'\n",
    "collection_discrepancy = df_models[(df_models[col] != df_models[col[:-1]+'y'])][['style_id',col,col[:-1]+'y']].dropna()\n",
    "collection_discrepancy"
   ]
  },
  {
   "cell_type": "markdown",
   "id": "357a2a40-4947-4273-9de3-2f75de6cdd8b",
   "metadata": {},
   "source": [
    "Lots of errors or small differences in naming on the XYZ dataset. Will totally replace the XYZ collections with those in the website."
   ]
  },
  {
   "cell_type": "code",
   "execution_count": 40,
   "id": "b51d62ff-089e-46c9-add2-87fc90510fee",
   "metadata": {},
   "outputs": [],
   "source": [
    "consolidate_columns(df_models,'collection_y','collection_x','collection')"
   ]
  },
  {
   "cell_type": "code",
   "execution_count": 41,
   "id": "e88d7201-b79f-407b-b1fb-77d8c47d8488",
   "metadata": {
    "tags": []
   },
   "outputs": [
    {
     "name": "stdout",
     "output_type": "stream",
     "text": [
      "Num of collections, before: 205\n",
      "Num of collections, after: 186\n"
     ]
    }
   ],
   "source": [
    "# Standardize collection names\n",
    "df_models['collection'] = simplify_collections(df_models['collection'])"
   ]
  },
  {
   "cell_type": "markdown",
   "id": "ce8cbba6-33b8-483a-b002-baa286d99a6e",
   "metadata": {
    "jp-MarkdownHeadingCollapsed": true,
    "tags": []
   },
   "source": [
    "#### Check where Gender differs between datasets"
   ]
  },
  {
   "cell_type": "code",
   "execution_count": 42,
   "id": "3fcdc2cc-0d61-4cd2-85f6-71629d3539f2",
   "metadata": {},
   "outputs": [
    {
     "data": {
      "text/html": [
       "<div>\n",
       "<style scoped>\n",
       "    .dataframe tbody tr th:only-of-type {\n",
       "        vertical-align: middle;\n",
       "    }\n",
       "\n",
       "    .dataframe tbody tr th {\n",
       "        vertical-align: top;\n",
       "    }\n",
       "\n",
       "    .dataframe thead th {\n",
       "        text-align: right;\n",
       "    }\n",
       "</style>\n",
       "<table border=\"1\" class=\"dataframe\">\n",
       "  <thead>\n",
       "    <tr style=\"text-align: right;\">\n",
       "      <th></th>\n",
       "      <th>style_id</th>\n",
       "      <th>gender_x</th>\n",
       "      <th>gender_y</th>\n",
       "    </tr>\n",
       "  </thead>\n",
       "  <tbody>\n",
       "    <tr>\n",
       "      <th>17</th>\n",
       "      <td>bq1010</td>\n",
       "      <td>ladies</td>\n",
       "      <td>mens</td>\n",
       "    </tr>\n",
       "    <tr>\n",
       "      <th>18</th>\n",
       "      <td>bq1130</td>\n",
       "      <td>ladies</td>\n",
       "      <td>mens</td>\n",
       "    </tr>\n",
       "    <tr>\n",
       "      <th>26</th>\n",
       "      <td>bq3334</td>\n",
       "      <td>men</td>\n",
       "      <td>ladies</td>\n",
       "    </tr>\n",
       "    <tr>\n",
       "      <th>27</th>\n",
       "      <td>bq3407</td>\n",
       "      <td>men</td>\n",
       "      <td>ladies</td>\n",
       "    </tr>\n",
       "    <tr>\n",
       "      <th>28</th>\n",
       "      <td>bq3422</td>\n",
       "      <td>men</td>\n",
       "      <td>ladies</td>\n",
       "    </tr>\n",
       "    <tr>\n",
       "      <th>...</th>\n",
       "      <td>...</td>\n",
       "      <td>...</td>\n",
       "      <td>...</td>\n",
       "    </tr>\n",
       "    <tr>\n",
       "      <th>1711</th>\n",
       "      <td>me3206</td>\n",
       "      <td>gents</td>\n",
       "      <td>mens</td>\n",
       "    </tr>\n",
       "    <tr>\n",
       "      <th>1712</th>\n",
       "      <td>me3207</td>\n",
       "      <td>gents</td>\n",
       "      <td>mens</td>\n",
       "    </tr>\n",
       "    <tr>\n",
       "      <th>1713</th>\n",
       "      <td>me3208</td>\n",
       "      <td>gents</td>\n",
       "      <td>mens</td>\n",
       "    </tr>\n",
       "    <tr>\n",
       "      <th>1714</th>\n",
       "      <td>me3209</td>\n",
       "      <td>gents</td>\n",
       "      <td>mens</td>\n",
       "    </tr>\n",
       "    <tr>\n",
       "      <th>1715</th>\n",
       "      <td>me3210</td>\n",
       "      <td>gents</td>\n",
       "      <td>mens</td>\n",
       "    </tr>\n",
       "  </tbody>\n",
       "</table>\n",
       "<p>251 rows × 3 columns</p>\n",
       "</div>"
      ],
      "text/plain": [
       "     style_id gender_x gender_y\n",
       "17     bq1010   ladies     mens\n",
       "18     bq1130   ladies     mens\n",
       "26     bq3334      men   ladies\n",
       "27     bq3407      men   ladies\n",
       "28     bq3422      men   ladies\n",
       "...       ...      ...      ...\n",
       "1711   me3206    gents     mens\n",
       "1712   me3207    gents     mens\n",
       "1713   me3208    gents     mens\n",
       "1714   me3209    gents     mens\n",
       "1715   me3210    gents     mens\n",
       "\n",
       "[251 rows x 3 columns]"
      ]
     },
     "execution_count": 42,
     "metadata": {},
     "output_type": "execute_result"
    }
   ],
   "source": [
    "col = 'gender_x'\n",
    "gender_discrepancy = df_models[(df_models[col] != df_models[col[:-1]+'y'])][['style_id',col,col[:-1]+'y']].dropna()\n",
    "gender_discrepancy"
   ]
  },
  {
   "cell_type": "code",
   "execution_count": 43,
   "id": "ba3aacf5-6e90-4750-a15d-dd74d230e125",
   "metadata": {},
   "outputs": [
    {
     "data": {
      "text/plain": [
       "[('men', 'mens'),\n",
       " ('unisex', 'mens'),\n",
       " ('gents', 'mens'),\n",
       " ('men', 'ladies'),\n",
       " ('ladies', 'mens')]"
      ]
     },
     "execution_count": 43,
     "metadata": {},
     "output_type": "execute_result"
    }
   ],
   "source": [
    "gender_discrepancy_list = list(set(zip(gender_discrepancy['gender_x'],gender_discrepancy['gender_y'])))\n",
    "gender_discrepancy_list"
   ]
  },
  {
   "cell_type": "code",
   "execution_count": 44,
   "id": "cd6c3076-a8bd-4831-ac59-d1b193b5ae12",
   "metadata": {},
   "outputs": [
    {
     "data": {
      "text/html": [
       "<div>\n",
       "<style scoped>\n",
       "    .dataframe tbody tr th:only-of-type {\n",
       "        vertical-align: middle;\n",
       "    }\n",
       "\n",
       "    .dataframe tbody tr th {\n",
       "        vertical-align: top;\n",
       "    }\n",
       "\n",
       "    .dataframe thead th {\n",
       "        text-align: right;\n",
       "    }\n",
       "</style>\n",
       "<table border=\"1\" class=\"dataframe\">\n",
       "  <thead>\n",
       "    <tr style=\"text-align: right;\">\n",
       "      <th></th>\n",
       "      <th>style_id_x</th>\n",
       "      <th>gender_x</th>\n",
       "      <th>gender_y</th>\n",
       "      <th>style_id_y</th>\n",
       "      <th>collection_x</th>\n",
       "      <th>collection_y</th>\n",
       "    </tr>\n",
       "  </thead>\n",
       "  <tbody>\n",
       "    <tr>\n",
       "      <th>17</th>\n",
       "      <td>bq1010</td>\n",
       "      <td>ladies</td>\n",
       "      <td>mens</td>\n",
       "      <td>bq1010</td>\n",
       "      <td>madeline</td>\n",
       "      <td>rhett</td>\n",
       "    </tr>\n",
       "    <tr>\n",
       "      <th>18</th>\n",
       "      <td>bq1130</td>\n",
       "      <td>ladies</td>\n",
       "      <td>mens</td>\n",
       "      <td>bq1130</td>\n",
       "      <td>madeline</td>\n",
       "      <td>flynn</td>\n",
       "    </tr>\n",
       "    <tr>\n",
       "      <th>26</th>\n",
       "      <td>bq3334</td>\n",
       "      <td>men</td>\n",
       "      <td>ladies</td>\n",
       "      <td>bq3334</td>\n",
       "      <td>machine</td>\n",
       "      <td>suitor mini</td>\n",
       "    </tr>\n",
       "    <tr>\n",
       "      <th>27</th>\n",
       "      <td>bq3407</td>\n",
       "      <td>men</td>\n",
       "      <td>ladies</td>\n",
       "      <td>bq3407</td>\n",
       "      <td>machine</td>\n",
       "      <td>suitor</td>\n",
       "    </tr>\n",
       "    <tr>\n",
       "      <th>28</th>\n",
       "      <td>bq3422</td>\n",
       "      <td>men</td>\n",
       "      <td>ladies</td>\n",
       "      <td>bq3422</td>\n",
       "      <td>grant</td>\n",
       "      <td>karli</td>\n",
       "    </tr>\n",
       "    <tr>\n",
       "      <th>...</th>\n",
       "      <td>...</td>\n",
       "      <td>...</td>\n",
       "      <td>...</td>\n",
       "      <td>...</td>\n",
       "      <td>...</td>\n",
       "      <td>...</td>\n",
       "    </tr>\n",
       "    <tr>\n",
       "      <th>1522</th>\n",
       "      <td>fs5929</td>\n",
       "      <td>gents</td>\n",
       "      <td>mens</td>\n",
       "      <td>fs5929</td>\n",
       "      <td>fb-01</td>\n",
       "      <td>fb - 01</td>\n",
       "    </tr>\n",
       "    <tr>\n",
       "      <th>1569</th>\n",
       "      <td>le1132</td>\n",
       "      <td>gents</td>\n",
       "      <td>mens</td>\n",
       "      <td>le1132</td>\n",
       "      <td>retro</td>\n",
       "      <td>retro pilot</td>\n",
       "    </tr>\n",
       "    <tr>\n",
       "      <th>1658</th>\n",
       "      <td>me3140</td>\n",
       "      <td>men</td>\n",
       "      <td>mens</td>\n",
       "      <td>me3140</td>\n",
       "      <td>grant sport automatic</td>\n",
       "      <td>grant sport</td>\n",
       "    </tr>\n",
       "    <tr>\n",
       "      <th>1667</th>\n",
       "      <td>me3154</td>\n",
       "      <td>men</td>\n",
       "      <td>mens</td>\n",
       "      <td>me3154</td>\n",
       "      <td>townsman</td>\n",
       "      <td>48mm townsman</td>\n",
       "    </tr>\n",
       "    <tr>\n",
       "      <th>1700</th>\n",
       "      <td>me3195</td>\n",
       "      <td>gents</td>\n",
       "      <td>mens</td>\n",
       "      <td>me3195</td>\n",
       "      <td>neutra</td>\n",
       "      <td>neutra automatic</td>\n",
       "    </tr>\n",
       "  </tbody>\n",
       "</table>\n",
       "<p>74 rows × 6 columns</p>\n",
       "</div>"
      ],
      "text/plain": [
       "     style_id_x gender_x gender_y style_id_y           collection_x  \\\n",
       "17       bq1010   ladies     mens     bq1010               madeline   \n",
       "18       bq1130   ladies     mens     bq1130               madeline   \n",
       "26       bq3334      men   ladies     bq3334                machine   \n",
       "27       bq3407      men   ladies     bq3407                machine   \n",
       "28       bq3422      men   ladies     bq3422                  grant   \n",
       "...         ...      ...      ...        ...                    ...   \n",
       "1522     fs5929    gents     mens     fs5929                  fb-01   \n",
       "1569     le1132    gents     mens     le1132                  retro   \n",
       "1658     me3140      men     mens     me3140  grant sport automatic   \n",
       "1667     me3154      men     mens     me3154               townsman   \n",
       "1700     me3195    gents     mens     me3195                 neutra   \n",
       "\n",
       "          collection_y  \n",
       "17               rhett  \n",
       "18               flynn  \n",
       "26         suitor mini  \n",
       "27              suitor  \n",
       "28               karli  \n",
       "...                ...  \n",
       "1522           fb - 01  \n",
       "1569       retro pilot  \n",
       "1658       grant sport  \n",
       "1667     48mm townsman  \n",
       "1700  neutra automatic  \n",
       "\n",
       "[74 rows x 6 columns]"
      ]
     },
     "execution_count": 44,
     "metadata": {},
     "output_type": "execute_result"
    }
   ],
   "source": [
    "collection_and_gender_discrepancy = gender_discrepancy.merge(collection_discrepancy,left_index = True, right_index=True)\n",
    "collection_and_gender_discrepancy"
   ]
  },
  {
   "cell_type": "code",
   "execution_count": 45,
   "id": "9e3ae25a-b9ff-4e8c-98ad-6f24f8a3e97a",
   "metadata": {},
   "outputs": [
    {
     "data": {
      "text/plain": [
       "[('unisex', 'mens'), ('gents', 'mens'), ('men', 'mens'), ('ladies', 'mens')]"
      ]
     },
     "execution_count": 45,
     "metadata": {},
     "output_type": "execute_result"
    }
   ],
   "source": [
    "gender_only_discrepancy = gender_discrepancy.drop(index = collection_and_gender_discrepancy.index)\n",
    "gender_only_discrepancy_list = list(set(zip(gender_only_discrepancy['gender_x'],gender_only_discrepancy['gender_y'])))\n",
    "gender_only_discrepancy_list"
   ]
  },
  {
   "cell_type": "code",
   "execution_count": 46,
   "id": "05a5c306-24a8-4913-823b-cdebdd167088",
   "metadata": {},
   "outputs": [
    {
     "data": {
      "text/html": [
       "<div>\n",
       "<style scoped>\n",
       "    .dataframe tbody tr th:only-of-type {\n",
       "        vertical-align: middle;\n",
       "    }\n",
       "\n",
       "    .dataframe tbody tr th {\n",
       "        vertical-align: top;\n",
       "    }\n",
       "\n",
       "    .dataframe thead th {\n",
       "        text-align: right;\n",
       "    }\n",
       "</style>\n",
       "<table border=\"1\" class=\"dataframe\">\n",
       "  <thead>\n",
       "    <tr style=\"text-align: right;\">\n",
       "      <th></th>\n",
       "      <th>style_id</th>\n",
       "      <th>gender_x</th>\n",
       "      <th>gender_y</th>\n",
       "    </tr>\n",
       "  </thead>\n",
       "  <tbody>\n",
       "    <tr>\n",
       "      <th>983</th>\n",
       "      <td>fs5068ie</td>\n",
       "      <td>ladies</td>\n",
       "      <td>mens</td>\n",
       "    </tr>\n",
       "  </tbody>\n",
       "</table>\n",
       "</div>"
      ],
      "text/plain": [
       "     style_id gender_x gender_y\n",
       "983  fs5068ie   ladies     mens"
      ]
     },
     "execution_count": 46,
     "metadata": {},
     "output_type": "execute_result"
    }
   ],
   "source": [
    "gender_only_discrepancy[gender_only_discrepancy['gender_x'] == 'ladies']"
   ]
  },
  {
   "cell_type": "code",
   "execution_count": 47,
   "id": "6532d67a-332e-4ba0-82c6-ca8c002f438a",
   "metadata": {},
   "outputs": [
    {
     "data": {
      "text/html": [
       "<div>\n",
       "<style scoped>\n",
       "    .dataframe tbody tr th:only-of-type {\n",
       "        vertical-align: middle;\n",
       "    }\n",
       "\n",
       "    .dataframe tbody tr th {\n",
       "        vertical-align: top;\n",
       "    }\n",
       "\n",
       "    .dataframe thead th {\n",
       "        text-align: right;\n",
       "    }\n",
       "</style>\n",
       "<table border=\"1\" class=\"dataframe\">\n",
       "  <thead>\n",
       "    <tr style=\"text-align: right;\">\n",
       "      <th></th>\n",
       "      <th>style_id</th>\n",
       "      <th>case</th>\n",
       "      <th>gender_x</th>\n",
       "      <th>status</th>\n",
       "      <th>gender_y</th>\n",
       "      <th>size</th>\n",
       "      <th>wholesale_price</th>\n",
       "      <th>color</th>\n",
       "      <th>country_of_origin</th>\n",
       "      <th>warranty</th>\n",
       "      <th>...</th>\n",
       "      <th>2022-05</th>\n",
       "      <th>2022-06</th>\n",
       "      <th>2022-07</th>\n",
       "      <th>2022-08</th>\n",
       "      <th>2022-09</th>\n",
       "      <th>2022-10</th>\n",
       "      <th>2022-11</th>\n",
       "      <th>2022-12</th>\n",
       "      <th>retail_price</th>\n",
       "      <th>collection</th>\n",
       "    </tr>\n",
       "  </thead>\n",
       "  <tbody>\n",
       "    <tr>\n",
       "      <th>983</th>\n",
       "      <td>fs5068ie</td>\n",
       "      <td>44mm</td>\n",
       "      <td>ladies</td>\n",
       "      <td>discd</td>\n",
       "      <td>mens</td>\n",
       "      <td>44.0</td>\n",
       "      <td>72.5</td>\n",
       "      <td>blue</td>\n",
       "      <td>japan - jp</td>\n",
       "      <td>2 - year international limited warranty</td>\n",
       "      <td>...</td>\n",
       "      <td>0.0</td>\n",
       "      <td>0.0</td>\n",
       "      <td>0.0</td>\n",
       "      <td>0.0</td>\n",
       "      <td>0.0</td>\n",
       "      <td>0.0</td>\n",
       "      <td>0.0</td>\n",
       "      <td>0.0</td>\n",
       "      <td>145.0</td>\n",
       "      <td>grant</td>\n",
       "    </tr>\n",
       "  </tbody>\n",
       "</table>\n",
       "<p>1 rows × 116 columns</p>\n",
       "</div>"
      ],
      "text/plain": [
       "     style_id  case gender_x status gender_y  size  wholesale_price color  \\\n",
       "983  fs5068ie  44mm   ladies  discd     mens  44.0             72.5  blue   \n",
       "\n",
       "    country_of_origin                                 warranty  ... 2022-05  \\\n",
       "983        japan - jp  2 - year international limited warranty  ...     0.0   \n",
       "\n",
       "    2022-06 2022-07 2022-08 2022-09 2022-10 2022-11  2022-12  retail_price  \\\n",
       "983     0.0     0.0     0.0     0.0     0.0     0.0      0.0         145.0   \n",
       "\n",
       "     collection  \n",
       "983       grant  \n",
       "\n",
       "[1 rows x 116 columns]"
      ]
     },
     "execution_count": 47,
     "metadata": {},
     "output_type": "execute_result"
    }
   ],
   "source": [
    "df_models[df_models['style_id'] == 'fs5068ie'] # this seems to be a mistake"
   ]
  },
  {
   "cell_type": "markdown",
   "id": "f7c6c867-f9b1-42cc-bded-aa896dc501a3",
   "metadata": {},
   "source": [
    "Upon inspection, it looks to be ok to replace all conflicts with the gender from the website."
   ]
  },
  {
   "cell_type": "code",
   "execution_count": 48,
   "id": "19cf91c3-019c-4829-b734-1409dc1c2bd1",
   "metadata": {},
   "outputs": [],
   "source": [
    "consolidate_columns(df_models,'gender_y','gender_x','gender')"
   ]
  },
  {
   "cell_type": "code",
   "execution_count": 49,
   "id": "7a59a378-d0eb-4ce8-9818-f776a8709fba",
   "metadata": {},
   "outputs": [
    {
     "data": {
      "text/plain": [
       "ladies    902\n",
       "mens      571\n",
       "men       250\n",
       "unisex      1\n",
       "Name: gender, dtype: int64"
      ]
     },
     "execution_count": 49,
     "metadata": {},
     "output_type": "execute_result"
    }
   ],
   "source": [
    "# Check if any groups can be combined\n",
    "df_models['gender'].value_counts()"
   ]
  },
  {
   "cell_type": "code",
   "execution_count": 50,
   "id": "0be15a42-733f-4467-a6e4-6579915d0922",
   "metadata": {},
   "outputs": [],
   "source": [
    "df_models['gender'] = df_models['gender'].replace('men','mens')"
   ]
  },
  {
   "cell_type": "code",
   "execution_count": 51,
   "id": "c174fb19-ff76-4b59-8bad-3d36a9936321",
   "metadata": {},
   "outputs": [],
   "source": [
    "# Seems safe to fill in gender with mens (example is in blake collection)\n",
    "df_models['gender'] = df_models['gender'].replace('unisex','mens')"
   ]
  },
  {
   "cell_type": "code",
   "execution_count": 52,
   "id": "3221ac0a-3899-4133-baad-6de1d583265d",
   "metadata": {},
   "outputs": [
    {
     "data": {
      "text/plain": [
       "ladies    902\n",
       "mens      822\n",
       "Name: gender, dtype: int64"
      ]
     },
     "execution_count": 52,
     "metadata": {},
     "output_type": "execute_result"
    }
   ],
   "source": [
    "df_models['gender'].value_counts()"
   ]
  },
  {
   "cell_type": "markdown",
   "id": "a58d7aa3-29b6-4e5d-a507-f113c4b7a03f",
   "metadata": {
    "jp-MarkdownHeadingCollapsed": true,
    "tags": []
   },
   "source": [
    "#### Check where Case/Size differs between datasets"
   ]
  },
  {
   "cell_type": "code",
   "execution_count": 53,
   "id": "eb05c513-b671-4315-b10c-95ff3da9cb09",
   "metadata": {},
   "outputs": [
    {
     "data": {
      "text/html": [
       "<div>\n",
       "<style scoped>\n",
       "    .dataframe tbody tr th:only-of-type {\n",
       "        vertical-align: middle;\n",
       "    }\n",
       "\n",
       "    .dataframe tbody tr th {\n",
       "        vertical-align: top;\n",
       "    }\n",
       "\n",
       "    .dataframe thead th {\n",
       "        text-align: right;\n",
       "    }\n",
       "</style>\n",
       "<table border=\"1\" class=\"dataframe\">\n",
       "  <thead>\n",
       "    <tr style=\"text-align: right;\">\n",
       "      <th></th>\n",
       "      <th>style_id</th>\n",
       "      <th>case</th>\n",
       "      <th>size</th>\n",
       "      <th>status</th>\n",
       "    </tr>\n",
       "  </thead>\n",
       "  <tbody>\n",
       "    <tr>\n",
       "      <th>0</th>\n",
       "      <td>am4141</td>\n",
       "      <td>28mm</td>\n",
       "      <td>28.0</td>\n",
       "      <td>no status reported</td>\n",
       "    </tr>\n",
       "    <tr>\n",
       "      <th>1</th>\n",
       "      <td>am4183</td>\n",
       "      <td>28mm</td>\n",
       "      <td>28.0</td>\n",
       "      <td>discd</td>\n",
       "    </tr>\n",
       "    <tr>\n",
       "      <th>5</th>\n",
       "      <td>am4508</td>\n",
       "      <td>28mm</td>\n",
       "      <td>28.0</td>\n",
       "      <td>discd</td>\n",
       "    </tr>\n",
       "    <tr>\n",
       "      <th>9</th>\n",
       "      <td>am4532</td>\n",
       "      <td>cecile</td>\n",
       "      <td>40.0</td>\n",
       "      <td>discd</td>\n",
       "    </tr>\n",
       "    <tr>\n",
       "      <th>17</th>\n",
       "      <td>bq1010</td>\n",
       "      <td>42mm</td>\n",
       "      <td>42.0</td>\n",
       "      <td>no status reported</td>\n",
       "    </tr>\n",
       "    <tr>\n",
       "      <th>...</th>\n",
       "      <td>...</td>\n",
       "      <td>...</td>\n",
       "      <td>...</td>\n",
       "      <td>...</td>\n",
       "    </tr>\n",
       "    <tr>\n",
       "      <th>1714</th>\n",
       "      <td>me3209</td>\n",
       "      <td>44mm</td>\n",
       "      <td>44.0</td>\n",
       "      <td>2021h4</td>\n",
       "    </tr>\n",
       "    <tr>\n",
       "      <th>1715</th>\n",
       "      <td>me3210</td>\n",
       "      <td>44mm</td>\n",
       "      <td>44.0</td>\n",
       "      <td>2021h4</td>\n",
       "    </tr>\n",
       "    <tr>\n",
       "      <th>1716</th>\n",
       "      <td>me3211</td>\n",
       "      <td>34mm</td>\n",
       "      <td>34.0</td>\n",
       "      <td>2021h4</td>\n",
       "    </tr>\n",
       "    <tr>\n",
       "      <th>1717</th>\n",
       "      <td>me3212</td>\n",
       "      <td>34mm</td>\n",
       "      <td>34.0</td>\n",
       "      <td>2021h4</td>\n",
       "    </tr>\n",
       "    <tr>\n",
       "      <th>1719</th>\n",
       "      <td>me3214</td>\n",
       "      <td>34mm</td>\n",
       "      <td>34.0</td>\n",
       "      <td>2022h1</td>\n",
       "    </tr>\n",
       "  </tbody>\n",
       "</table>\n",
       "<p>1059 rows × 4 columns</p>\n",
       "</div>"
      ],
      "text/plain": [
       "     style_id    case  size              status\n",
       "0      am4141    28mm  28.0  no status reported\n",
       "1      am4183    28mm  28.0               discd\n",
       "5      am4508    28mm  28.0               discd\n",
       "9      am4532  cecile  40.0               discd\n",
       "17     bq1010    42mm  42.0  no status reported\n",
       "...       ...     ...   ...                 ...\n",
       "1714   me3209    44mm  44.0              2021h4\n",
       "1715   me3210    44mm  44.0              2021h4\n",
       "1716   me3211    34mm  34.0              2021h4\n",
       "1717   me3212    34mm  34.0              2021h4\n",
       "1719   me3214    34mm  34.0              2022h1\n",
       "\n",
       "[1059 rows x 4 columns]"
      ]
     },
     "execution_count": 53,
     "metadata": {},
     "output_type": "execute_result"
    }
   ],
   "source": [
    "case_discrepancy = df_models[(df_models['case'] != df_models['size'])][['style_id','case','size','status']].dropna()\n",
    "case_discrepancy"
   ]
  },
  {
   "cell_type": "code",
   "execution_count": 54,
   "id": "13464fdf-ce8d-44df-91bc-8bf481f1ca07",
   "metadata": {},
   "outputs": [
    {
     "data": {
      "text/plain": [
       "59"
      ]
     },
     "execution_count": 54,
     "metadata": {},
     "output_type": "execute_result"
    }
   ],
   "source": [
    "len([38., 44., 45., 35., 34., 34., 32., 32., 32., 32., 32., 27., 36.,\n",
    "       36., 36., 38., 38., 29., 29., 29., 35., 35., 29., 36., 36., 38.,\n",
    "       38., 38., 36., 36., 36., 28., 28., 28., 28., 28., 35., 34., 34.,\n",
    "       34., 35., 35., 44., 41., 44., 44., 44., 44., 48., 48., 48., 48.,\n",
    "       48., 44., 46., 46., 36., 27., 35.])"
   ]
  },
  {
   "cell_type": "markdown",
   "id": "16b4eea9-7d9d-4069-9876-2dd14cbfd407",
   "metadata": {},
   "source": [
    "It seems that case is the size with the units. Let's try stripping the MM and converting to float. There is clearly one example where this will fail, so let's replace with size in that instance."
   ]
  },
  {
   "cell_type": "code",
   "execution_count": 55,
   "id": "988dcfee-299c-4365-8655-9eb59df97b24",
   "metadata": {},
   "outputs": [
    {
     "name": "stdout",
     "output_type": "stream",
     "text": [
      "10\n"
     ]
    }
   ],
   "source": [
    "case_size = []\n",
    "count_except = 0\n",
    "for i in case_discrepancy.index:\n",
    "    try:\n",
    "        case_size.append(float(case_discrepancy.loc[i,'case'].strip('mm')))\n",
    "    except:\n",
    "        case_size.append(case_discrepancy.loc[i,'size'])\n",
    "        count_except +=1\n",
    "print(count_except)"
   ]
  },
  {
   "cell_type": "code",
   "execution_count": 56,
   "id": "a343ca7d-4e21-4cf0-aa12-482fbbc8f836",
   "metadata": {},
   "outputs": [
    {
     "data": {
      "text/html": [
       "<div>\n",
       "<style scoped>\n",
       "    .dataframe tbody tr th:only-of-type {\n",
       "        vertical-align: middle;\n",
       "    }\n",
       "\n",
       "    .dataframe tbody tr th {\n",
       "        vertical-align: top;\n",
       "    }\n",
       "\n",
       "    .dataframe thead th {\n",
       "        text-align: right;\n",
       "    }\n",
       "</style>\n",
       "<table border=\"1\" class=\"dataframe\">\n",
       "  <thead>\n",
       "    <tr style=\"text-align: right;\">\n",
       "      <th></th>\n",
       "      <th>style_id</th>\n",
       "      <th>case</th>\n",
       "      <th>size</th>\n",
       "      <th>status</th>\n",
       "      <th>case_size</th>\n",
       "    </tr>\n",
       "  </thead>\n",
       "  <tbody>\n",
       "    <tr>\n",
       "      <th>0</th>\n",
       "      <td>am4141</td>\n",
       "      <td>28mm</td>\n",
       "      <td>28.0</td>\n",
       "      <td>no status reported</td>\n",
       "      <td>28.0</td>\n",
       "    </tr>\n",
       "    <tr>\n",
       "      <th>1</th>\n",
       "      <td>am4183</td>\n",
       "      <td>28mm</td>\n",
       "      <td>28.0</td>\n",
       "      <td>discd</td>\n",
       "      <td>28.0</td>\n",
       "    </tr>\n",
       "    <tr>\n",
       "      <th>5</th>\n",
       "      <td>am4508</td>\n",
       "      <td>28mm</td>\n",
       "      <td>28.0</td>\n",
       "      <td>discd</td>\n",
       "      <td>28.0</td>\n",
       "    </tr>\n",
       "    <tr>\n",
       "      <th>9</th>\n",
       "      <td>am4532</td>\n",
       "      <td>cecile</td>\n",
       "      <td>40.0</td>\n",
       "      <td>discd</td>\n",
       "      <td>40.0</td>\n",
       "    </tr>\n",
       "    <tr>\n",
       "      <th>17</th>\n",
       "      <td>bq1010</td>\n",
       "      <td>42mm</td>\n",
       "      <td>42.0</td>\n",
       "      <td>no status reported</td>\n",
       "      <td>42.0</td>\n",
       "    </tr>\n",
       "    <tr>\n",
       "      <th>...</th>\n",
       "      <td>...</td>\n",
       "      <td>...</td>\n",
       "      <td>...</td>\n",
       "      <td>...</td>\n",
       "      <td>...</td>\n",
       "    </tr>\n",
       "    <tr>\n",
       "      <th>1714</th>\n",
       "      <td>me3209</td>\n",
       "      <td>44mm</td>\n",
       "      <td>44.0</td>\n",
       "      <td>2021h4</td>\n",
       "      <td>44.0</td>\n",
       "    </tr>\n",
       "    <tr>\n",
       "      <th>1715</th>\n",
       "      <td>me3210</td>\n",
       "      <td>44mm</td>\n",
       "      <td>44.0</td>\n",
       "      <td>2021h4</td>\n",
       "      <td>44.0</td>\n",
       "    </tr>\n",
       "    <tr>\n",
       "      <th>1716</th>\n",
       "      <td>me3211</td>\n",
       "      <td>34mm</td>\n",
       "      <td>34.0</td>\n",
       "      <td>2021h4</td>\n",
       "      <td>34.0</td>\n",
       "    </tr>\n",
       "    <tr>\n",
       "      <th>1717</th>\n",
       "      <td>me3212</td>\n",
       "      <td>34mm</td>\n",
       "      <td>34.0</td>\n",
       "      <td>2021h4</td>\n",
       "      <td>34.0</td>\n",
       "    </tr>\n",
       "    <tr>\n",
       "      <th>1719</th>\n",
       "      <td>me3214</td>\n",
       "      <td>34mm</td>\n",
       "      <td>34.0</td>\n",
       "      <td>2022h1</td>\n",
       "      <td>34.0</td>\n",
       "    </tr>\n",
       "  </tbody>\n",
       "</table>\n",
       "<p>1059 rows × 5 columns</p>\n",
       "</div>"
      ],
      "text/plain": [
       "     style_id    case  size              status  case_size\n",
       "0      am4141    28mm  28.0  no status reported       28.0\n",
       "1      am4183    28mm  28.0               discd       28.0\n",
       "5      am4508    28mm  28.0               discd       28.0\n",
       "9      am4532  cecile  40.0               discd       40.0\n",
       "17     bq1010    42mm  42.0  no status reported       42.0\n",
       "...       ...     ...   ...                 ...        ...\n",
       "1714   me3209    44mm  44.0              2021h4       44.0\n",
       "1715   me3210    44mm  44.0              2021h4       44.0\n",
       "1716   me3211    34mm  34.0              2021h4       34.0\n",
       "1717   me3212    34mm  34.0              2021h4       34.0\n",
       "1719   me3214    34mm  34.0              2022h1       34.0\n",
       "\n",
       "[1059 rows x 5 columns]"
      ]
     },
     "execution_count": 56,
     "metadata": {},
     "output_type": "execute_result"
    }
   ],
   "source": [
    "case_discrepancy['case_size'] = case_size\n",
    "case_discrepancy"
   ]
  },
  {
   "cell_type": "code",
   "execution_count": 57,
   "id": "020104fc-553f-4a64-98f3-05c898e77e7c",
   "metadata": {
    "tags": []
   },
   "outputs": [],
   "source": [
    "case_discrepancy_actual = case_discrepancy[(case_discrepancy['size'] != case_discrepancy['case_size'])]"
   ]
  },
  {
   "cell_type": "markdown",
   "id": "2981ad05-cab9-449e-8f59-c6f6b4c71466",
   "metadata": {},
   "source": [
    "There are bizarre discrepancies on both datasets. I will have to manually replace issues."
   ]
  },
  {
   "cell_type": "code",
   "execution_count": 58,
   "id": "79b31b61-53b3-4ccf-9bf5-68134842f5f9",
   "metadata": {},
   "outputs": [],
   "source": [
    "replace_case = dict(zip(['ce1102', 'ch2601ie', 'ch2993', 'es4245', 'es4287', 'es4289',\n",
    "       'es4336set', 'es4337set', 'es4363', 'es4372', 'es4374', 'es4412',\n",
    "       'es4419', 'es4420', 'es4421', 'es4425', 'es4426', 'es4429',\n",
    "       'es4430', 'es4431', 'es4432', 'es4442', 'es4507', 'es4629',\n",
    "       'es4663', 'es4755', 'es4756', 'es4757', 'es4767', 'es4813',\n",
    "       'es4814', 'es4833', 'es4834', 'es4835', 'es4837', 'es4839',\n",
    "       'es4861', 'es4862', 'es4863', 'es4864', 'es4888', 'es4889',\n",
    "       'fs5132', 'fs5411', 'fs5625', 'fs5637', 'fs5638', 'fs5640',\n",
    "       'fs5687', 'fs5688', 'fs5689', 'fs5690', 'fs5691', 'fs5695',\n",
    "       'fs5696', 'fs5697', 'le1095', 'me3071', 'me3165'],\n",
    "[38., 44., 45., 35., 34., 34., 32., 32., 32., 32., 32., 27., 36.,\n",
    "       36., 36., 38., 38., 29., 29., 29., 35., 35., 29., 36., 36., 38.,\n",
    "       38., 38., 36., 36., 36., 28., 28., 28., 28., 28., 35., 34., 34.,\n",
    "       34., 35., 35., 44., 41., 44., 44., 44., 44., 48., 48., 48., 48.,\n",
    "       48., 44., 46., 46., 36., 27., 35.]))"
   ]
  },
  {
   "cell_type": "code",
   "execution_count": 59,
   "id": "852ab27a-caec-409b-b99d-c0e817b15149",
   "metadata": {},
   "outputs": [],
   "source": [
    "for key, value in replace_case.items():\n",
    "    i = df_models[df_models.style_id == key].index\n",
    "    case_discrepancy_actual.loc[i,'case_size'] = value"
   ]
  },
  {
   "cell_type": "code",
   "execution_count": 60,
   "id": "656c5435-e6bb-4a0b-a4b8-af28717ef292",
   "metadata": {},
   "outputs": [],
   "source": [
    "new_case_size = []\n",
    "for i in df_models.index:\n",
    "    if i in case_discrepancy_actual:\n",
    "        x = case_discrepancy_actual.loc[i,'case_size']\n",
    "    elif str(df_models.loc[i,'size']) != 'nan':\n",
    "        x = df_models.loc[i,'size']\n",
    "    else:\n",
    "        try:\n",
    "            x = float(df_models.loc[i,'case'].strip('mm'))\n",
    "        except:\n",
    "            x = np.nan\n",
    "    new_case_size.append(x)\n",
    "df_models['case_size'] = new_case_size"
   ]
  },
  {
   "cell_type": "code",
   "execution_count": 61,
   "id": "273d4015-b3dc-494f-888c-3a4241405365",
   "metadata": {},
   "outputs": [
    {
     "data": {
      "text/html": [
       "<div>\n",
       "<style scoped>\n",
       "    .dataframe tbody tr th:only-of-type {\n",
       "        vertical-align: middle;\n",
       "    }\n",
       "\n",
       "    .dataframe tbody tr th {\n",
       "        vertical-align: top;\n",
       "    }\n",
       "\n",
       "    .dataframe thead th {\n",
       "        text-align: right;\n",
       "    }\n",
       "</style>\n",
       "<table border=\"1\" class=\"dataframe\">\n",
       "  <thead>\n",
       "    <tr style=\"text-align: right;\">\n",
       "      <th></th>\n",
       "      <th>case</th>\n",
       "      <th>size</th>\n",
       "      <th>case_size</th>\n",
       "    </tr>\n",
       "  </thead>\n",
       "  <tbody>\n",
       "    <tr>\n",
       "      <th>3</th>\n",
       "      <td>cecile</td>\n",
       "      <td>NaN</td>\n",
       "      <td>NaN</td>\n",
       "    </tr>\n",
       "    <tr>\n",
       "      <th>6</th>\n",
       "      <td>cecile</td>\n",
       "      <td>NaN</td>\n",
       "      <td>NaN</td>\n",
       "    </tr>\n",
       "    <tr>\n",
       "      <th>7</th>\n",
       "      <td>cecile</td>\n",
       "      <td>NaN</td>\n",
       "      <td>NaN</td>\n",
       "    </tr>\n",
       "    <tr>\n",
       "      <th>8</th>\n",
       "      <td>cecile</td>\n",
       "      <td>NaN</td>\n",
       "      <td>NaN</td>\n",
       "    </tr>\n",
       "    <tr>\n",
       "      <th>10</th>\n",
       "      <td>cecile</td>\n",
       "      <td>NaN</td>\n",
       "      <td>NaN</td>\n",
       "    </tr>\n",
       "    <tr>\n",
       "      <th>...</th>\n",
       "      <td>...</td>\n",
       "      <td>...</td>\n",
       "      <td>...</td>\n",
       "    </tr>\n",
       "    <tr>\n",
       "      <th>1651</th>\n",
       "      <td>dean</td>\n",
       "      <td>NaN</td>\n",
       "      <td>NaN</td>\n",
       "    </tr>\n",
       "    <tr>\n",
       "      <th>1652</th>\n",
       "      <td>machine</td>\n",
       "      <td>NaN</td>\n",
       "      <td>NaN</td>\n",
       "    </tr>\n",
       "    <tr>\n",
       "      <th>1653</th>\n",
       "      <td>machine</td>\n",
       "      <td>NaN</td>\n",
       "      <td>NaN</td>\n",
       "    </tr>\n",
       "    <tr>\n",
       "      <th>1656</th>\n",
       "      <td>muse</td>\n",
       "      <td>NaN</td>\n",
       "      <td>NaN</td>\n",
       "    </tr>\n",
       "    <tr>\n",
       "      <th>1661</th>\n",
       "      <td>automatic</td>\n",
       "      <td>NaN</td>\n",
       "      <td>NaN</td>\n",
       "    </tr>\n",
       "  </tbody>\n",
       "</table>\n",
       "<p>298 rows × 3 columns</p>\n",
       "</div>"
      ],
      "text/plain": [
       "           case  size  case_size\n",
       "3        cecile   NaN        NaN\n",
       "6        cecile   NaN        NaN\n",
       "7        cecile   NaN        NaN\n",
       "8        cecile   NaN        NaN\n",
       "10       cecile   NaN        NaN\n",
       "...         ...   ...        ...\n",
       "1651       dean   NaN        NaN\n",
       "1652    machine   NaN        NaN\n",
       "1653    machine   NaN        NaN\n",
       "1656       muse   NaN        NaN\n",
       "1661  automatic   NaN        NaN\n",
       "\n",
       "[298 rows x 3 columns]"
      ]
     },
     "execution_count": 61,
     "metadata": {},
     "output_type": "execute_result"
    }
   ],
   "source": [
    "df_models[df_models['case_size'].isna()][['case','size','case_size']]"
   ]
  },
  {
   "cell_type": "markdown",
   "id": "f62fdb0a-96b9-4801-a216-c7f0f4295dd4",
   "metadata": {},
   "source": [
    "There are lots of models where the case size is missing. Let's see if there is a good strategy to impute the case size."
   ]
  },
  {
   "cell_type": "code",
   "execution_count": 62,
   "id": "4fb44533-17b7-434a-a922-3078f2dbc32b",
   "metadata": {},
   "outputs": [
    {
     "data": {
      "text/plain": [
       "collection\n",
       "fb-02                11.710801\n",
       "daisy3h              10.000000\n",
       "izzy                  9.811558\n",
       "forresterchrono       9.276014\n",
       "carlieminiv-day       8.000000\n",
       "garrett               6.936639\n",
       "andyandaddisonset     6.000000\n",
       "retropilot            5.656854\n",
       "stella                5.220539\n",
       "carliemini            5.032733\n",
       "carlie                4.779468\n",
       "fb-01                 4.697781\n",
       "tailor                4.281373\n",
       "comuter3h             4.140393\n",
       "copeland              3.938928\n",
       "jacqueline            3.770258\n",
       "atwater               3.577709\n",
       "comuter3hdate         3.113996\n",
       "bronson               3.070598\n",
       "georgia               3.042555\n",
       "Name: case_size, dtype: float64"
      ]
     },
     "execution_count": 62,
     "metadata": {},
     "output_type": "execute_result"
    }
   ],
   "source": [
    "df_models.groupby('collection')['case_size'].std().sort_values(ascending = False)[0:20]"
   ]
  },
  {
   "cell_type": "markdown",
   "id": "f0a07e75-4e45-40e2-a81f-e00dd7ead56d",
   "metadata": {},
   "source": [
    "It is not obvious what the case size should be. For now, I will replace with \"No case size reported\""
   ]
  },
  {
   "cell_type": "code",
   "execution_count": 63,
   "id": "52dc3e85-c71b-497e-a9b7-6052c521a77c",
   "metadata": {},
   "outputs": [],
   "source": [
    "df_models['case_size'] = df_models['case_size'].fillna('no case size reported')"
   ]
  },
  {
   "cell_type": "code",
   "execution_count": 64,
   "id": "ee525837-e75e-4199-a052-080347880ad1",
   "metadata": {},
   "outputs": [],
   "source": [
    "df_models.drop(columns=['case','size'],inplace=True)"
   ]
  },
  {
   "cell_type": "markdown",
   "id": "648755e1-c734-47f1-a917-ec7ee705c52e",
   "metadata": {
    "tags": []
   },
   "source": [
    "#### Fill empty sales with 0."
   ]
  },
  {
   "cell_type": "code",
   "execution_count": 65,
   "id": "cab56ab0-4f3c-46c4-97ca-57766d76fef7",
   "metadata": {},
   "outputs": [],
   "source": [
    "fill_num_col_zero(df_models)"
   ]
  },
  {
   "cell_type": "markdown",
   "id": "e9a90c22-4c74-4244-b000-26b0618f64b0",
   "metadata": {
    "tags": []
   },
   "source": [
    "#### Fill empty and 0 status with \"No status reported\""
   ]
  },
  {
   "cell_type": "code",
   "execution_count": 66,
   "id": "7d5412b8-7f6a-4071-9da5-9e802884a2d1",
   "metadata": {},
   "outputs": [],
   "source": [
    "df_models['status'] = df_models['status'].fillna(\"no status reported\")"
   ]
  },
  {
   "cell_type": "code",
   "execution_count": 67,
   "id": "b75560c2-a75e-4729-b732-f4a1400ccc2c",
   "metadata": {},
   "outputs": [],
   "source": [
    "df_models['status'].replace(0,\"no status reported\",inplace=True)\n",
    "df_models['status'].replace('0',\"no status reported\",inplace=True)"
   ]
  },
  {
   "cell_type": "code",
   "execution_count": 68,
   "id": "a192b221-3e8b-4552-8070-61dc17859b0f",
   "metadata": {},
   "outputs": [
    {
     "data": {
      "text/plain": [
       "discd                 690\n",
       "no status reported    467\n",
       "2019h4                 68\n",
       "2020h1                 60\n",
       "2020h3                 56\n",
       "2020h2                 49\n",
       "2019h3                 49\n",
       "2021h3                 46\n",
       "2021h4                 45\n",
       "2019h2                 38\n",
       "2022h1                 31\n",
       "2021h1                 29\n",
       "2021h2                 27\n",
       "2018h4                 25\n",
       "2019h1                 21\n",
       "2018h3                  8\n",
       "2020h4                  6\n",
       "2022h2                  6\n",
       "2018                    3\n",
       "Name: status, dtype: int64"
      ]
     },
     "execution_count": 68,
     "metadata": {},
     "output_type": "execute_result"
    }
   ],
   "source": [
    "df_models['status'].value_counts()"
   ]
  },
  {
   "cell_type": "markdown",
   "id": "ff152108-6540-4652-b5da-9e5da6310003",
   "metadata": {
    "tags": []
   },
   "source": [
    "#### Recalculate wholesale price based on retail price"
   ]
  },
  {
   "cell_type": "code",
   "execution_count": 69,
   "id": "71f25605-d177-441b-b7b3-4cafaa5388ab",
   "metadata": {},
   "outputs": [],
   "source": [
    "df_models['wholesale_price'] = df_models['retail_price']*0.5"
   ]
  },
  {
   "cell_type": "markdown",
   "id": "fd7e60f2-224c-496e-9f32-90d45770e3bb",
   "metadata": {
    "jp-MarkdownHeadingCollapsed": true,
    "tags": []
   },
   "source": [
    "#### Examine color"
   ]
  },
  {
   "cell_type": "markdown",
   "id": "38833994-ccc1-4fa1-882b-7b7301417c41",
   "metadata": {},
   "source": [
    "There are discrepancies based on abbreviations and different spellings. Let's standardize."
   ]
  },
  {
   "cell_type": "code",
   "execution_count": 70,
   "id": "debdab75-414b-4223-a949-dd059986aa80",
   "metadata": {},
   "outputs": [
    {
     "name": "stdout",
     "output_type": "stream",
     "text": [
      "Num of colors, before: 31\n",
      "Num of colors, after: 28\n"
     ]
    },
    {
     "data": {
      "text/plain": [
       "no color reported    529\n",
       "black                253\n",
       "silver               208\n",
       "white                133\n",
       "blue                 130\n",
       "rose gold            113\n",
       "gold                  80\n",
       "mother of pearl       49\n",
       "grey                  42\n",
       "green                 39\n",
       "brown                 28\n",
       "cream                 17\n",
       "pink                  16\n",
       "multicolor            13\n",
       "smoke                 10\n",
       "skeleton              10\n",
       "red                    8\n",
       "champagne              8\n",
       "gunmetal               7\n",
       "two-tone               6\n",
       "purple                 6\n",
       "caramel                6\n",
       "clear                  5\n",
       "burgundy               2\n",
       "tan                    2\n",
       "turquoise              2\n",
       "yellow                 1\n",
       "nude                   1\n",
       "Name: color, dtype: int64"
      ]
     },
     "execution_count": 70,
     "metadata": {},
     "output_type": "execute_result"
    }
   ],
   "source": [
    "df_models['color'] = df_models['color'].fillna(\"no color reported\")\n",
    "\n",
    "df_models['color'] = simplify_color(df_models['color'])\n",
    "\n",
    "df_models['color'].value_counts()"
   ]
  },
  {
   "cell_type": "markdown",
   "id": "7d0f47f0-10da-4a4b-a87b-c82afb7901ac",
   "metadata": {
    "tags": []
   },
   "source": [
    "#### Examine country of origin"
   ]
  },
  {
   "cell_type": "code",
   "execution_count": 71,
   "id": "2b38f491-311e-4104-89f7-45c6020ac96a",
   "metadata": {},
   "outputs": [
    {
     "data": {
      "text/plain": [
       "japan - jp       1141\n",
       "china - cn         49\n",
       "thailand - th       5\n",
       "Name: country_of_origin, dtype: int64"
      ]
     },
     "execution_count": 71,
     "metadata": {},
     "output_type": "execute_result"
    }
   ],
   "source": [
    "df_models['country_of_origin'].value_counts()"
   ]
  },
  {
   "cell_type": "code",
   "execution_count": 72,
   "id": "7247ce4e-b056-4128-bef0-8a472988a10d",
   "metadata": {},
   "outputs": [],
   "source": [
    "df_models['country_of_origin'] = df_models['country_of_origin'].fillna(\"no country reported\")"
   ]
  },
  {
   "cell_type": "markdown",
   "id": "fea325e9-1a97-4974-9f33-8b75116258c3",
   "metadata": {
    "tags": []
   },
   "source": [
    "#### Examine warranty"
   ]
  },
  {
   "cell_type": "code",
   "execution_count": 73,
   "id": "3d4ac240-141a-4ea9-af7a-bbdf22f9ee5d",
   "metadata": {},
   "outputs": [
    {
     "data": {
      "text/plain": [
       "2 - year international limited warranty    1192\n",
       "1 - year international limited warranty       3\n",
       "Name: warranty, dtype: int64"
      ]
     },
     "execution_count": 73,
     "metadata": {},
     "output_type": "execute_result"
    }
   ],
   "source": [
    "df_models['warranty'].value_counts()"
   ]
  },
  {
   "cell_type": "code",
   "execution_count": 74,
   "id": "677547f4-fde6-4de4-b3c5-3ed2fd6e4c71",
   "metadata": {},
   "outputs": [],
   "source": [
    "df_models['warranty'] = df_models['warranty'].fillna(\"no warranty reported\")"
   ]
  },
  {
   "cell_type": "markdown",
   "id": "16cd379d-2ab2-4f83-a3f6-60af1caa7a89",
   "metadata": {
    "tags": []
   },
   "source": [
    "#### Examine band color"
   ]
  },
  {
   "cell_type": "code",
   "execution_count": 75,
   "id": "36b15812-400e-49d4-a1ad-76fb6e232dd2",
   "metadata": {},
   "outputs": [],
   "source": [
    "df_models['band_color'].replace('multi','multicolor',inplace=True)\n",
    "\n",
    "df_models['band_color'] = df_models['band_color'].fillna(\"no color reported\")"
   ]
  },
  {
   "cell_type": "code",
   "execution_count": 76,
   "id": "7c416ee3-818a-4f42-889e-b59af4e4a1a0",
   "metadata": {},
   "outputs": [
    {
     "data": {
      "text/plain": [
       "no color reported    535\n",
       "brown                256\n",
       "silver               198\n",
       "black                183\n",
       "rose gold            116\n",
       "blue                  91\n",
       "gold                  70\n",
       "grey                  47\n",
       "multicolor            41\n",
       "two-tone              40\n",
       "green                 30\n",
       "pink                  29\n",
       "white                 24\n",
       "nude                  22\n",
       "red                   12\n",
       "purple                 7\n",
       "gunmetal               5\n",
       "tan                    3\n",
       "cream                  3\n",
       "burgundy               3\n",
       "rose                   2\n",
       "champagne              2\n",
       "yellow                 2\n",
       "tortoise               1\n",
       "turquoise              1\n",
       "orange                 1\n",
       "Name: band_color, dtype: int64"
      ]
     },
     "execution_count": 76,
     "metadata": {},
     "output_type": "execute_result"
    }
   ],
   "source": [
    "df_models['band_color'].value_counts()"
   ]
  },
  {
   "cell_type": "markdown",
   "id": "eb3b3dfe-f6c3-4aa6-b2e4-d25bc0cb8a1f",
   "metadata": {
    "tags": []
   },
   "source": [
    "#### Examine band material"
   ]
  },
  {
   "cell_type": "code",
   "execution_count": 77,
   "id": "3220e281-3028-48fb-8f7a-bdd23738ee67",
   "metadata": {},
   "outputs": [],
   "source": [
    "df_models['band_material'] = df_models['band_material'].fillna(\"no material reported\")"
   ]
  },
  {
   "cell_type": "code",
   "execution_count": 78,
   "id": "fa5d972c-6e79-47d6-a353-bcf99377f39e",
   "metadata": {},
   "outputs": [
    {
     "data": {
      "text/plain": [
       "stainless steel         561\n",
       "no material reported    529\n",
       "leather                 526\n",
       "silicone                 50\n",
       "ceramic                  27\n",
       "mesh                      9\n",
       "alloy                     5\n",
       "plastic                   5\n",
       "acetate                   3\n",
       "nylon                     3\n",
       "fabric                    3\n",
       "polyurethane              2\n",
       "canvas                    1\n",
       "Name: band_material, dtype: int64"
      ]
     },
     "execution_count": 78,
     "metadata": {},
     "output_type": "execute_result"
    }
   ],
   "source": [
    "df_models['band_material'].value_counts()"
   ]
  },
  {
   "cell_type": "markdown",
   "id": "33605375-5172-4273-aad0-99ccfa13e53d",
   "metadata": {
    "tags": []
   },
   "source": [
    "#### Examine case material"
   ]
  },
  {
   "cell_type": "code",
   "execution_count": 79,
   "id": "a30cc7d2-23ea-4979-a98d-43b50cb8ee3b",
   "metadata": {},
   "outputs": [],
   "source": [
    "df_models['case_material'] = df_models['case_material'].fillna(\"no material reported\")"
   ]
  },
  {
   "cell_type": "code",
   "execution_count": 80,
   "id": "0e974e42-b335-4118-90d1-c310f3e06f1c",
   "metadata": {},
   "outputs": [
    {
     "data": {
      "text/plain": [
       "stainless steel         1137\n",
       "no material reported     529\n",
       "ceramic                   27\n",
       "alloy                     12\n",
       "resin                      9\n",
       "nylon                      7\n",
       "acetate                    1\n",
       "polyurethane               1\n",
       "carbon                     1\n",
       "Name: case_material, dtype: int64"
      ]
     },
     "execution_count": 80,
     "metadata": {},
     "output_type": "execute_result"
    }
   ],
   "source": [
    "df_models['case_material'].value_counts()"
   ]
  },
  {
   "cell_type": "markdown",
   "id": "211ea16e-b403-47f4-a2a2-e8eefcd66dcf",
   "metadata": {
    "tags": []
   },
   "source": [
    "#### Examine clasp type"
   ]
  },
  {
   "cell_type": "code",
   "execution_count": 81,
   "id": "0a1e43f0-9b2f-4fcd-87ea-4dad58ffa279",
   "metadata": {},
   "outputs": [],
   "source": [
    "df_models['clasp_type'] = df_models['clasp_type'].fillna(\"no clasp type reported\")"
   ]
  },
  {
   "cell_type": "code",
   "execution_count": 82,
   "id": "901424b3-63e2-4f08-9402-e2808ee69c4b",
   "metadata": {},
   "outputs": [
    {
     "data": {
      "text/plain": [
       "no clasp type reported    830\n",
       "buckle                    447\n",
       "fold-over                 306\n",
       "deployment                112\n",
       "clasp                      13\n",
       "613                         6\n",
       "safety                      4\n",
       "velcro                      4\n",
       "tang                        2\n",
       "Name: clasp_type, dtype: int64"
      ]
     },
     "execution_count": 82,
     "metadata": {},
     "output_type": "execute_result"
    }
   ],
   "source": [
    "df_models['clasp_type'].value_counts()"
   ]
  },
  {
   "cell_type": "markdown",
   "id": "1e9f06c8-5aff-497e-9a1e-22a7ece69c50",
   "metadata": {
    "tags": []
   },
   "source": [
    "#### Examine dial color"
   ]
  },
  {
   "cell_type": "code",
   "execution_count": 83,
   "id": "82d736e2-6460-404f-935b-0773d21c33ba",
   "metadata": {},
   "outputs": [
    {
     "name": "stdout",
     "output_type": "stream",
     "text": [
      "Num of colors, before: 25\n",
      "Num of colors, after: 25\n"
     ]
    }
   ],
   "source": [
    "df_models['dial_color'] = df_models['dial_color'].fillna(\"no color reported\")\n",
    "\n",
    "df_models['dial_color'] = simplify_color(df_models['dial_color'])"
   ]
  },
  {
   "cell_type": "code",
   "execution_count": 84,
   "id": "1b017403-af58-4c1e-addb-f22e5346d245",
   "metadata": {},
   "outputs": [
    {
     "data": {
      "text/plain": [
       "no color reported    529\n",
       "black                285\n",
       "blue                 156\n",
       "white                148\n",
       "silver               148\n",
       "rose gold             76\n",
       "mother of pearl       62\n",
       "green                 60\n",
       "grey                  44\n",
       "gold                  41\n",
       "brown                 31\n",
       "cream                 26\n",
       "pink                  23\n",
       "digital               20\n",
       "red                   20\n",
       "multicolor            13\n",
       "purple                10\n",
       "skeleton              10\n",
       "champagne             10\n",
       "tan                    4\n",
       "turquoise              2\n",
       "clear                  2\n",
       "burgundy               2\n",
       "yellow                 1\n",
       "beige                  1\n",
       "Name: dial_color, dtype: int64"
      ]
     },
     "execution_count": 84,
     "metadata": {},
     "output_type": "execute_result"
    }
   ],
   "source": [
    "df_models['dial_color'].value_counts()"
   ]
  },
  {
   "cell_type": "markdown",
   "id": "59918826-1f6a-4e38-bd7d-d7557d70ccd1",
   "metadata": {
    "tags": []
   },
   "source": [
    "#### Examine movement type"
   ]
  },
  {
   "cell_type": "code",
   "execution_count": 85,
   "id": "80a1b3a2-a75f-46da-83bd-9b02039da82f",
   "metadata": {},
   "outputs": [],
   "source": [
    "df_models['movement_type'] = df_models['movement_type'].fillna(\"no movement type reported\")"
   ]
  },
  {
   "cell_type": "code",
   "execution_count": 86,
   "id": "f731d816-1fba-4ed5-8eb9-5286a93b4cd7",
   "metadata": {},
   "outputs": [
    {
     "data": {
      "text/plain": [
       "quartz                       1074\n",
       "no movement type reported     536\n",
       "automatic                      73\n",
       "digital                        18\n",
       "mechanical                     15\n",
       "solar                           8\n",
       "Name: movement_type, dtype: int64"
      ]
     },
     "execution_count": 86,
     "metadata": {},
     "output_type": "execute_result"
    }
   ],
   "source": [
    "df_models['movement_type'].value_counts()"
   ]
  },
  {
   "cell_type": "markdown",
   "id": "83ad2c89-4739-42dc-9ea9-7a54c7119b73",
   "metadata": {
    "tags": []
   },
   "source": [
    "#### Examine water resistance"
   ]
  },
  {
   "cell_type": "code",
   "execution_count": 87,
   "id": "7d2f894e-ddf4-4b86-87c3-fcf8c0944e90",
   "metadata": {},
   "outputs": [],
   "source": [
    "df_models['water_resistant'] = df_models['water_resistant'].fillna(\"no water resistance reported\")\n",
    "df_models['water_resistant'] = df_models['water_resistant'].replace('nan',\"no water resistance reported\")"
   ]
  },
  {
   "cell_type": "code",
   "execution_count": 88,
   "id": "09df7db7-038f-4d1a-88bc-5e49d7662259",
   "metadata": {},
   "outputs": [
    {
     "data": {
      "text/plain": [
       "50m - 160ft - 5atm              932\n",
       "no water resistance reported    530\n",
       "30m - 100ft - 3atm              146\n",
       "100m - 330ft - 10atm            116\n",
       "Name: water_resistant, dtype: int64"
      ]
     },
     "execution_count": 88,
     "metadata": {},
     "output_type": "execute_result"
    }
   ],
   "source": [
    "df_models['water_resistant'].value_counts()"
   ]
  },
  {
   "cell_type": "markdown",
   "id": "81110d4d-182b-4e61-87b1-73fb7442d8e1",
   "metadata": {
    "tags": []
   },
   "source": [
    "#### Examine band material"
   ]
  },
  {
   "cell_type": "code",
   "execution_count": 89,
   "id": "70490f29-bf6e-4d3f-98f9-2144e83a7df1",
   "metadata": {},
   "outputs": [],
   "source": [
    "df_models['max_cart_qty'] = df_models['max_cart_qty'].astype(int).replace(0,\"no max quantity reported\")"
   ]
  },
  {
   "cell_type": "code",
   "execution_count": 90,
   "id": "30b6a144-b168-43c8-8eed-f145bbd1a611",
   "metadata": {},
   "outputs": [
    {
     "data": {
      "text/plain": [
       "10000                       848\n",
       "no max quantity reported    529\n",
       "100                         347\n",
       "Name: max_cart_qty, dtype: int64"
      ]
     },
     "execution_count": 90,
     "metadata": {},
     "output_type": "execute_result"
    }
   ],
   "source": [
    "df_models['max_cart_qty'].value_counts()"
   ]
  },
  {
   "cell_type": "markdown",
   "id": "708adec5-7a4c-4b32-bfee-4e0ecc1bbf55",
   "metadata": {
    "tags": []
   },
   "source": [
    "### Merge df_models and df_proposal"
   ]
  },
  {
   "cell_type": "code",
   "execution_count": 91,
   "id": "2ee459d5-4557-4875-a54f-f6e9c445438e",
   "metadata": {},
   "outputs": [],
   "source": [
    "df_models = df_models.merge(df_proposal, how = 'outer', on = 'style_id')"
   ]
  },
  {
   "cell_type": "code",
   "execution_count": 92,
   "id": "e3d797e9-5614-476b-8fe6-5c9a9b22302f",
   "metadata": {
    "tags": []
   },
   "outputs": [
    {
     "name": "stdout",
     "output_type": "stream",
     "text": [
      "<class 'pandas.core.frame.DataFrame'>\n",
      "Int64Index: 1759 entries, 0 to 1758\n",
      "Columns: 130 entries, style_id to qty_xyz_cost\n",
      "dtypes: float64(109), object(21)\n",
      "memory usage: 1.8+ MB\n"
     ]
    }
   ],
   "source": [
    "df_models.info()"
   ]
  },
  {
   "cell_type": "code",
   "execution_count": 93,
   "id": "3bb4a307-2587-4212-89fd-b069340d48e3",
   "metadata": {},
   "outputs": [
    {
     "name": "stdout",
     "output_type": "stream",
     "text": [
      "wholesale_price_x\n",
      "retail_price_x\n",
      "collection_x\n",
      "gender_x\n"
     ]
    }
   ],
   "source": [
    "# Print the duplicated columns\n",
    "for col in return_nondate_col(df_models).columns:\n",
    "    if '_x' in col[-2::]:\n",
    "        print(col)"
   ]
  },
  {
   "cell_type": "code",
   "execution_count": 94,
   "id": "8acf5bf5-1d51-4b4c-b044-1a788288bcb2",
   "metadata": {},
   "outputs": [
    {
     "name": "stderr",
     "output_type": "stream",
     "text": [
      "/Users/vitoriamorenocosta/Desktop/DSI/projects/capstone/code/custom_functions.py:215: UserWarning: wholesale_price_x and wholesale_price_y do not match\n",
      "  warnings.warn(f'{priority_col} and {secondary_col} do not match')\n",
      "/Users/vitoriamorenocosta/Desktop/DSI/projects/capstone/code/custom_functions.py:215: UserWarning: retail_price_x and retail_price_y do not match\n",
      "  warnings.warn(f'{priority_col} and {secondary_col} do not match')\n"
     ]
    }
   ],
   "source": [
    "# Wholesale price and retail price shouldn't have any issues, so use the consolidate identical function\n",
    "for col in ['wholesale_price_x','retail_price_x']:\n",
    "    if '_x' in col[-2::]:\n",
    "        consolidate_identical_columns(df_models,col,col[:-1]+'y',col[:-2])"
   ]
  },
  {
   "cell_type": "code",
   "execution_count": 95,
   "id": "b8d571e5-6249-4199-82f8-c03736df1869",
   "metadata": {},
   "outputs": [
    {
     "name": "stdout",
     "output_type": "stream",
     "text": [
      "Num of collections, before: 55\n",
      "Num of collections, after: 48\n"
     ]
    },
    {
     "data": {
      "text/html": [
       "<div>\n",
       "<style scoped>\n",
       "    .dataframe tbody tr th:only-of-type {\n",
       "        vertical-align: middle;\n",
       "    }\n",
       "\n",
       "    .dataframe tbody tr th {\n",
       "        vertical-align: top;\n",
       "    }\n",
       "\n",
       "    .dataframe thead th {\n",
       "        text-align: right;\n",
       "    }\n",
       "</style>\n",
       "<table border=\"1\" class=\"dataframe\">\n",
       "  <thead>\n",
       "    <tr style=\"text-align: right;\">\n",
       "      <th></th>\n",
       "      <th>style_id</th>\n",
       "      <th>collection_x</th>\n",
       "      <th>collection_y</th>\n",
       "      <th>status</th>\n",
       "    </tr>\n",
       "  </thead>\n",
       "  <tbody>\n",
       "    <tr>\n",
       "      <th>522</th>\n",
       "      <td>es4432</td>\n",
       "      <td>carlie</td>\n",
       "      <td>carliemini</td>\n",
       "      <td>2018h3</td>\n",
       "    </tr>\n",
       "    <tr>\n",
       "      <th>523</th>\n",
       "      <td>es4433</td>\n",
       "      <td>carlie</td>\n",
       "      <td>carliemini</td>\n",
       "      <td>no status reported</td>\n",
       "    </tr>\n",
       "    <tr>\n",
       "      <th>562</th>\n",
       "      <td>es4502</td>\n",
       "      <td>carlie</td>\n",
       "      <td>carliemini</td>\n",
       "      <td>2018h4</td>\n",
       "    </tr>\n",
       "    <tr>\n",
       "      <th>910</th>\n",
       "      <td>es5176set</td>\n",
       "      <td>andyandaddisonset</td>\n",
       "      <td>addison</td>\n",
       "      <td>2022h1</td>\n",
       "    </tr>\n",
       "    <tr>\n",
       "      <th>1180</th>\n",
       "      <td>fs5439</td>\n",
       "      <td>minimalist</td>\n",
       "      <td>minimalist3h</td>\n",
       "      <td>no status reported</td>\n",
       "    </tr>\n",
       "    <tr>\n",
       "      <th>1184</th>\n",
       "      <td>fs5447</td>\n",
       "      <td>minimalist</td>\n",
       "      <td>minimalist-mono</td>\n",
       "      <td>no status reported</td>\n",
       "    </tr>\n",
       "    <tr>\n",
       "      <th>1193</th>\n",
       "      <td>fs5459</td>\n",
       "      <td>colorundertones</td>\n",
       "      <td>minimalist3h</td>\n",
       "      <td>no status reported</td>\n",
       "    </tr>\n",
       "    <tr>\n",
       "      <th>1223</th>\n",
       "      <td>fs5503</td>\n",
       "      <td>neutra</td>\n",
       "      <td>neutrachrono</td>\n",
       "      <td>2019h1</td>\n",
       "    </tr>\n",
       "    <tr>\n",
       "      <th>1250</th>\n",
       "      <td>fs5551</td>\n",
       "      <td>minimalist</td>\n",
       "      <td>minimalist3h</td>\n",
       "      <td>2019h2</td>\n",
       "    </tr>\n",
       "    <tr>\n",
       "      <th>1424</th>\n",
       "      <td>fs5822</td>\n",
       "      <td>everett</td>\n",
       "      <td>everett3h</td>\n",
       "      <td>no status reported</td>\n",
       "    </tr>\n",
       "    <tr>\n",
       "      <th>1425</th>\n",
       "      <td>fs5823</td>\n",
       "      <td>everett</td>\n",
       "      <td>everett3h</td>\n",
       "      <td>no status reported</td>\n",
       "    </tr>\n",
       "    <tr>\n",
       "      <th>1426</th>\n",
       "      <td>fs5824</td>\n",
       "      <td>everett</td>\n",
       "      <td>everett3h</td>\n",
       "      <td>no status reported</td>\n",
       "    </tr>\n",
       "    <tr>\n",
       "      <th>1432</th>\n",
       "      <td>fs5832</td>\n",
       "      <td>pilotchrono</td>\n",
       "      <td>retropilot</td>\n",
       "      <td>2021h2</td>\n",
       "    </tr>\n",
       "    <tr>\n",
       "      <th>1433</th>\n",
       "      <td>fs5833</td>\n",
       "      <td>pilotchrono</td>\n",
       "      <td>retropilot</td>\n",
       "      <td>2021h2</td>\n",
       "    </tr>\n",
       "    <tr>\n",
       "      <th>1438</th>\n",
       "      <td>fs5838</td>\n",
       "      <td>minimalistsolar</td>\n",
       "      <td>minimalistsolar-á</td>\n",
       "      <td>no status reported</td>\n",
       "    </tr>\n",
       "    <tr>\n",
       "      <th>1439</th>\n",
       "      <td>fs5839</td>\n",
       "      <td>minimalistsolar</td>\n",
       "      <td>minimalistsolar-á</td>\n",
       "      <td>no status reported</td>\n",
       "    </tr>\n",
       "    <tr>\n",
       "      <th>1440</th>\n",
       "      <td>fs5840</td>\n",
       "      <td>minimalistsolar</td>\n",
       "      <td>minimalistsolar-á</td>\n",
       "      <td>no status reported</td>\n",
       "    </tr>\n",
       "    <tr>\n",
       "      <th>1441</th>\n",
       "      <td>fs5841</td>\n",
       "      <td>minimalistsolar</td>\n",
       "      <td>minimalistsolar-á</td>\n",
       "      <td>no status reported</td>\n",
       "    </tr>\n",
       "    <tr>\n",
       "      <th>1458</th>\n",
       "      <td>fs5861</td>\n",
       "      <td>everett</td>\n",
       "      <td>everettsolardigital</td>\n",
       "      <td>2021h3</td>\n",
       "    </tr>\n",
       "    <tr>\n",
       "      <th>1459</th>\n",
       "      <td>fs5862</td>\n",
       "      <td>everett</td>\n",
       "      <td>everettsolardigital</td>\n",
       "      <td>2021h3</td>\n",
       "    </tr>\n",
       "    <tr>\n",
       "      <th>1505</th>\n",
       "      <td>fs5908</td>\n",
       "      <td>neutra</td>\n",
       "      <td>minimalist</td>\n",
       "      <td>2022h1</td>\n",
       "    </tr>\n",
       "    <tr>\n",
       "      <th>1521</th>\n",
       "      <td>fs5928</td>\n",
       "      <td>neutraminimalist</td>\n",
       "      <td>minimalist</td>\n",
       "      <td>no status reported</td>\n",
       "    </tr>\n",
       "    <tr>\n",
       "      <th>1523</th>\n",
       "      <td>fs5930</td>\n",
       "      <td>neutrapride</td>\n",
       "      <td>neutra</td>\n",
       "      <td>no status reported</td>\n",
       "    </tr>\n",
       "    <tr>\n",
       "      <th>1524</th>\n",
       "      <td>fs5931</td>\n",
       "      <td>neutrapride</td>\n",
       "      <td>neutra</td>\n",
       "      <td>no status reported</td>\n",
       "    </tr>\n",
       "    <tr>\n",
       "      <th>1671</th>\n",
       "      <td>me3160</td>\n",
       "      <td>neutra</td>\n",
       "      <td>neutraauto</td>\n",
       "      <td>no status reported</td>\n",
       "    </tr>\n",
       "  </tbody>\n",
       "</table>\n",
       "</div>"
      ],
      "text/plain": [
       "       style_id       collection_x         collection_y              status\n",
       "522      es4432             carlie           carliemini              2018h3\n",
       "523      es4433             carlie           carliemini  no status reported\n",
       "562      es4502             carlie           carliemini              2018h4\n",
       "910   es5176set  andyandaddisonset              addison              2022h1\n",
       "1180     fs5439         minimalist         minimalist3h  no status reported\n",
       "1184     fs5447         minimalist      minimalist-mono  no status reported\n",
       "1193     fs5459    colorundertones         minimalist3h  no status reported\n",
       "1223     fs5503             neutra         neutrachrono              2019h1\n",
       "1250     fs5551         minimalist         minimalist3h              2019h2\n",
       "1424     fs5822            everett            everett3h  no status reported\n",
       "1425     fs5823            everett            everett3h  no status reported\n",
       "1426     fs5824            everett            everett3h  no status reported\n",
       "1432     fs5832        pilotchrono           retropilot              2021h2\n",
       "1433     fs5833        pilotchrono           retropilot              2021h2\n",
       "1438     fs5838    minimalistsolar    minimalistsolar-á  no status reported\n",
       "1439     fs5839    minimalistsolar    minimalistsolar-á  no status reported\n",
       "1440     fs5840    minimalistsolar    minimalistsolar-á  no status reported\n",
       "1441     fs5841    minimalistsolar    minimalistsolar-á  no status reported\n",
       "1458     fs5861            everett  everettsolardigital              2021h3\n",
       "1459     fs5862            everett  everettsolardigital              2021h3\n",
       "1505     fs5908             neutra           minimalist              2022h1\n",
       "1521     fs5928   neutraminimalist           minimalist  no status reported\n",
       "1523     fs5930        neutrapride               neutra  no status reported\n",
       "1524     fs5931        neutrapride               neutra  no status reported\n",
       "1671     me3160             neutra           neutraauto  no status reported"
      ]
     },
     "execution_count": 95,
     "metadata": {},
     "output_type": "execute_result"
    }
   ],
   "source": [
    "# Collection names are a different story...\n",
    "# Simplify the collection names\n",
    "df_models['collection_y'] = simplify_collections(df_models['collection_y'])\n",
    "\n",
    "# Check for discrepancies in collection\n",
    "df_models[df_models.collection_x != df_models.collection_y][['style_id','collection_x','collection_y','status']].dropna()"
   ]
  },
  {
   "cell_type": "code",
   "execution_count": 96,
   "id": "f4771ded-fc75-49f1-9e90-36f958e0de52",
   "metadata": {},
   "outputs": [],
   "source": [
    "# Replace new collection names with the older ones - will make modeling more consistent\n",
    "consolidate_columns(df_models,'collection_x','collection_y','collection')"
   ]
  },
  {
   "cell_type": "code",
   "execution_count": 97,
   "id": "6742cf69-24cf-42ef-aecf-35bf8fca332d",
   "metadata": {},
   "outputs": [
    {
     "data": {
      "text/html": [
       "<div>\n",
       "<style scoped>\n",
       "    .dataframe tbody tr th:only-of-type {\n",
       "        vertical-align: middle;\n",
       "    }\n",
       "\n",
       "    .dataframe tbody tr th {\n",
       "        vertical-align: top;\n",
       "    }\n",
       "\n",
       "    .dataframe thead th {\n",
       "        text-align: right;\n",
       "    }\n",
       "</style>\n",
       "<table border=\"1\" class=\"dataframe\">\n",
       "  <thead>\n",
       "    <tr style=\"text-align: right;\">\n",
       "      <th></th>\n",
       "      <th>style_id</th>\n",
       "      <th>gender_x</th>\n",
       "      <th>gender_y</th>\n",
       "      <th>status</th>\n",
       "    </tr>\n",
       "  </thead>\n",
       "  <tbody>\n",
       "    <tr>\n",
       "      <th>43</th>\n",
       "      <td>ce1107</td>\n",
       "      <td>ladies</td>\n",
       "      <td>women</td>\n",
       "      <td>no status reported</td>\n",
       "    </tr>\n",
       "    <tr>\n",
       "      <th>44</th>\n",
       "      <td>ce1108</td>\n",
       "      <td>ladies</td>\n",
       "      <td>women</td>\n",
       "      <td>no status reported</td>\n",
       "    </tr>\n",
       "    <tr>\n",
       "      <th>47</th>\n",
       "      <td>ce1111</td>\n",
       "      <td>ladies</td>\n",
       "      <td>women</td>\n",
       "      <td>2021h3</td>\n",
       "    </tr>\n",
       "    <tr>\n",
       "      <th>48</th>\n",
       "      <td>ce1112</td>\n",
       "      <td>ladies</td>\n",
       "      <td>women</td>\n",
       "      <td>2021h3</td>\n",
       "    </tr>\n",
       "    <tr>\n",
       "      <th>49</th>\n",
       "      <td>ce1113</td>\n",
       "      <td>ladies</td>\n",
       "      <td>women</td>\n",
       "      <td>2021h3</td>\n",
       "    </tr>\n",
       "    <tr>\n",
       "      <th>...</th>\n",
       "      <td>...</td>\n",
       "      <td>...</td>\n",
       "      <td>...</td>\n",
       "      <td>...</td>\n",
       "    </tr>\n",
       "    <tr>\n",
       "      <th>1713</th>\n",
       "      <td>me3208</td>\n",
       "      <td>mens</td>\n",
       "      <td>men</td>\n",
       "      <td>2021h4</td>\n",
       "    </tr>\n",
       "    <tr>\n",
       "      <th>1715</th>\n",
       "      <td>me3210</td>\n",
       "      <td>mens</td>\n",
       "      <td>men</td>\n",
       "      <td>2021h4</td>\n",
       "    </tr>\n",
       "    <tr>\n",
       "      <th>1716</th>\n",
       "      <td>me3211</td>\n",
       "      <td>ladies</td>\n",
       "      <td>women</td>\n",
       "      <td>2021h4</td>\n",
       "    </tr>\n",
       "    <tr>\n",
       "      <th>1719</th>\n",
       "      <td>me3214</td>\n",
       "      <td>ladies</td>\n",
       "      <td>women</td>\n",
       "      <td>2022h1</td>\n",
       "    </tr>\n",
       "    <tr>\n",
       "      <th>1723</th>\n",
       "      <td>me3220</td>\n",
       "      <td>mens</td>\n",
       "      <td>men</td>\n",
       "      <td>no status reported</td>\n",
       "    </tr>\n",
       "  </tbody>\n",
       "</table>\n",
       "<p>265 rows × 4 columns</p>\n",
       "</div>"
      ],
      "text/plain": [
       "     style_id gender_x gender_y              status\n",
       "43     ce1107   ladies    women  no status reported\n",
       "44     ce1108   ladies    women  no status reported\n",
       "47     ce1111   ladies    women              2021h3\n",
       "48     ce1112   ladies    women              2021h3\n",
       "49     ce1113   ladies    women              2021h3\n",
       "...       ...      ...      ...                 ...\n",
       "1713   me3208     mens      men              2021h4\n",
       "1715   me3210     mens      men              2021h4\n",
       "1716   me3211   ladies    women              2021h4\n",
       "1719   me3214   ladies    women              2022h1\n",
       "1723   me3220     mens      men  no status reported\n",
       "\n",
       "[265 rows x 4 columns]"
      ]
     },
     "execution_count": 97,
     "metadata": {},
     "output_type": "execute_result"
    }
   ],
   "source": [
    "# Check for discrepancies in collection\n",
    "df_models[df_models.gender_x != df_models.gender_y][['style_id','gender_x','gender_y','status']].dropna()"
   ]
  },
  {
   "cell_type": "code",
   "execution_count": 98,
   "id": "b65ebd06-2ff1-4b5a-82ab-d4256cede947",
   "metadata": {},
   "outputs": [],
   "source": [
    "# Replace new genders with the older ones - will make modeling more consistent\n",
    "consolidate_columns(df_models,'gender_x','gender_y','gender')\n",
    "\n",
    "# There are some nulls, so replace men and women with mens and ladies\n",
    "df_models.gender = df_models.gender.replace({'men':'mens','women':'ladies'})"
   ]
  },
  {
   "cell_type": "code",
   "execution_count": 99,
   "id": "02e4e515-f35c-4227-8a64-0f28ef6f8a65",
   "metadata": {},
   "outputs": [
    {
     "data": {
      "text/plain": [
       "2022h3    34\n",
       "2022h2     1\n",
       "Name: priority, dtype: int64"
      ]
     },
     "execution_count": 99,
     "metadata": {},
     "output_type": "execute_result"
    }
   ],
   "source": [
    "# Identify how many watches did not have a match\n",
    "# Priority indicates the \"tier\" of the watch\n",
    "df_models[df_models['status'].isna()]['priority'].value_counts()"
   ]
  },
  {
   "cell_type": "code",
   "execution_count": 100,
   "id": "36b5b3a3-e054-49c9-b05e-e0bea57c8795",
   "metadata": {},
   "outputs": [
    {
     "data": {
      "text/plain": [
       "c         98\n",
       "b         93\n",
       "2022h3    34\n",
       "2022h2    32\n",
       "2022h1    31\n",
       "a         12\n",
       "Name: priority, dtype: int64"
      ]
     },
     "execution_count": 100,
     "metadata": {},
     "output_type": "execute_result"
    }
   ],
   "source": [
    "df_models['priority'].value_counts()"
   ]
  },
  {
   "cell_type": "markdown",
   "id": "ddcd858b-57ca-4aab-9f61-8a93d3de6c39",
   "metadata": {},
   "source": [
    "Based on the priority of the watches that do not match, it seems that these are new models, hence why they were not on the watch flow chart or website. Let's see if they match up with the new models."
   ]
  },
  {
   "cell_type": "markdown",
   "id": "000e5125-2df3-498b-bcfb-0fb3c0ae80db",
   "metadata": {
    "tags": []
   },
   "source": [
    "### Merge df_models and df_new_website"
   ]
  },
  {
   "cell_type": "code",
   "execution_count": 101,
   "id": "962923b5-f423-4e78-829d-e8be81fe250b",
   "metadata": {},
   "outputs": [],
   "source": [
    "df_models = df_models.merge(df_new_website, how = 'left', on = 'style_id')"
   ]
  },
  {
   "cell_type": "code",
   "execution_count": 102,
   "id": "5bcbb85e-a8b6-4283-8981-b4898bd985cd",
   "metadata": {},
   "outputs": [
    {
     "data": {
      "text/plain": [
       "['country_of_origin_x',\n",
       " 'warranty_x',\n",
       " 'band_color_x',\n",
       " 'band_material_x',\n",
       " 'case_material_x',\n",
       " 'dial_color_x',\n",
       " 'case_size_x',\n",
       " 'priority_x',\n",
       " 'retail_price_x',\n",
       " 'collection_x',\n",
       " 'gender_x']"
      ]
     },
     "execution_count": 102,
     "metadata": {},
     "output_type": "execute_result"
    }
   ],
   "source": [
    "# Print the duplicated columns\n",
    "dup_col = []\n",
    "for col in return_nondate_col(df_models).columns:\n",
    "    if '_x' in col[-2::]:\n",
    "        dup_col.append(col)\n",
    "dup_col"
   ]
  },
  {
   "cell_type": "code",
   "execution_count": 103,
   "id": "e82a4ced-1482-481c-b48b-f058fbbf0243",
   "metadata": {},
   "outputs": [
    {
     "name": "stderr",
     "output_type": "stream",
     "text": [
      "/Users/vitoriamorenocosta/Desktop/DSI/projects/capstone/code/custom_functions.py:152: UserWarning: There are null values in country_of_origin\n",
      "  warnings.warn(f'There are null values in {new_col}')\n",
      "/Users/vitoriamorenocosta/Desktop/DSI/projects/capstone/code/custom_functions.py:152: UserWarning: There are null values in warranty\n",
      "  warnings.warn(f'There are null values in {new_col}')\n",
      "/Users/vitoriamorenocosta/Desktop/DSI/projects/capstone/code/custom_functions.py:152: UserWarning: There are null values in band_color\n",
      "  warnings.warn(f'There are null values in {new_col}')\n",
      "/Users/vitoriamorenocosta/Desktop/DSI/projects/capstone/code/custom_functions.py:152: UserWarning: There are null values in band_material\n",
      "  warnings.warn(f'There are null values in {new_col}')\n",
      "/Users/vitoriamorenocosta/Desktop/DSI/projects/capstone/code/custom_functions.py:152: UserWarning: There are null values in case_material\n",
      "  warnings.warn(f'There are null values in {new_col}')\n",
      "/Users/vitoriamorenocosta/Desktop/DSI/projects/capstone/code/custom_functions.py:152: UserWarning: There are null values in dial_color\n",
      "  warnings.warn(f'There are null values in {new_col}')\n",
      "/Users/vitoriamorenocosta/Desktop/DSI/projects/capstone/code/custom_functions.py:152: UserWarning: There are null values in case_size\n",
      "  warnings.warn(f'There are null values in {new_col}')\n",
      "/Users/vitoriamorenocosta/Desktop/DSI/projects/capstone/code/custom_functions.py:152: UserWarning: There are null values in priority\n",
      "  warnings.warn(f'There are null values in {new_col}')\n"
     ]
    }
   ],
   "source": [
    "# Wholesale price and retail price shouldn't have any issues, so use the consolidate identical function\n",
    "for col in ['country_of_origin_x',\n",
    " 'warranty_x',\n",
    " 'band_color_x',\n",
    " 'band_material_x',\n",
    " 'case_material_x',\n",
    " 'dial_color_x',\n",
    " 'case_size_x',\n",
    " 'priority_x',\n",
    " 'gender_x']:\n",
    "    if '_x' in col[-2::]:\n",
    "        consolidate_identical_columns(df_models,col,col[:-1]+'y',col[:-2])"
   ]
  },
  {
   "cell_type": "markdown",
   "id": "787886ca-15b0-44f2-a197-f72a2fb90d2b",
   "metadata": {
    "tags": []
   },
   "source": [
    "#### Check where the retail price differ between datasets"
   ]
  },
  {
   "cell_type": "code",
   "execution_count": 104,
   "id": "61d21e4f",
   "metadata": {},
   "outputs": [
    {
     "data": {
      "text/html": [
       "<div>\n",
       "<style scoped>\n",
       "    .dataframe tbody tr th:only-of-type {\n",
       "        vertical-align: middle;\n",
       "    }\n",
       "\n",
       "    .dataframe tbody tr th {\n",
       "        vertical-align: top;\n",
       "    }\n",
       "\n",
       "    .dataframe thead th {\n",
       "        text-align: right;\n",
       "    }\n",
       "</style>\n",
       "<table border=\"1\" class=\"dataframe\">\n",
       "  <thead>\n",
       "    <tr style=\"text-align: right;\">\n",
       "      <th></th>\n",
       "      <th>style_id</th>\n",
       "      <th>retail_price_x</th>\n",
       "      <th>retail_price_y</th>\n",
       "    </tr>\n",
       "  </thead>\n",
       "  <tbody>\n",
       "    <tr>\n",
       "      <th>1725</th>\n",
       "      <td>es5206</td>\n",
       "      <td>135.0</td>\n",
       "      <td>140.0</td>\n",
       "    </tr>\n",
       "    <tr>\n",
       "      <th>1739</th>\n",
       "      <td>es5234</td>\n",
       "      <td>145.0</td>\n",
       "      <td>150.0</td>\n",
       "    </tr>\n",
       "    <tr>\n",
       "      <th>1740</th>\n",
       "      <td>es5235</td>\n",
       "      <td>145.0</td>\n",
       "      <td>150.0</td>\n",
       "    </tr>\n",
       "    <tr>\n",
       "      <th>1744</th>\n",
       "      <td>fs5936</td>\n",
       "      <td>145.0</td>\n",
       "      <td>150.0</td>\n",
       "    </tr>\n",
       "    <tr>\n",
       "      <th>1747</th>\n",
       "      <td>fs5941</td>\n",
       "      <td>155.0</td>\n",
       "      <td>160.0</td>\n",
       "    </tr>\n",
       "  </tbody>\n",
       "</table>\n",
       "</div>"
      ],
      "text/plain": [
       "     style_id  retail_price_x  retail_price_y\n",
       "1725   es5206           135.0           140.0\n",
       "1739   es5234           145.0           150.0\n",
       "1740   es5235           145.0           150.0\n",
       "1744   fs5936           145.0           150.0\n",
       "1747   fs5941           155.0           160.0"
      ]
     },
     "execution_count": 104,
     "metadata": {},
     "output_type": "execute_result"
    }
   ],
   "source": [
    "col = 'retail_price_x'\n",
    "discrepancy = df_models[(df_models[col] != df_models[col[:-1]+'y'])][['style_id',col,col[:-1]+'y']].dropna()\n",
    "discrepancy"
   ]
  },
  {
   "cell_type": "code",
   "execution_count": 105,
   "id": "953e51cf",
   "metadata": {},
   "outputs": [],
   "source": [
    "# replace older values with newer prices\n",
    "consolidate_columns(df_models,'retail_price_y','retail_price_x','retail_price')"
   ]
  },
  {
   "cell_type": "markdown",
   "id": "1b6d888f-d897-4740-a4f7-6f13f6a9c80a",
   "metadata": {
    "tags": []
   },
   "source": [
    "#### Check where the collection differ between datasets"
   ]
  },
  {
   "cell_type": "code",
   "execution_count": 106,
   "id": "319f832c-08f9-46be-9361-4ae5649ffae2",
   "metadata": {},
   "outputs": [
    {
     "data": {
      "text/html": [
       "<div>\n",
       "<style scoped>\n",
       "    .dataframe tbody tr th:only-of-type {\n",
       "        vertical-align: middle;\n",
       "    }\n",
       "\n",
       "    .dataframe tbody tr th {\n",
       "        vertical-align: top;\n",
       "    }\n",
       "\n",
       "    .dataframe thead th {\n",
       "        text-align: right;\n",
       "    }\n",
       "</style>\n",
       "<table border=\"1\" class=\"dataframe\">\n",
       "  <thead>\n",
       "    <tr style=\"text-align: right;\">\n",
       "      <th></th>\n",
       "      <th>style_id</th>\n",
       "      <th>collection_x</th>\n",
       "      <th>collection_y</th>\n",
       "    </tr>\n",
       "  </thead>\n",
       "  <tbody>\n",
       "  </tbody>\n",
       "</table>\n",
       "</div>"
      ],
      "text/plain": [
       "Empty DataFrame\n",
       "Columns: [style_id, collection_x, collection_y]\n",
       "Index: []"
      ]
     },
     "execution_count": 106,
     "metadata": {},
     "output_type": "execute_result"
    }
   ],
   "source": [
    "col = 'collection_x'\n",
    "discrepancy = df_models[(df_models[col] != df_models[col[:-1]+'y'])][['style_id',col,col[:-1]+'y']].dropna()\n",
    "discrepancy"
   ]
  },
  {
   "cell_type": "code",
   "execution_count": 107,
   "id": "e2e7e17e-ecf1-464e-b7f5-8d18f224ceed",
   "metadata": {},
   "outputs": [],
   "source": [
    "# replace older values with newer prices\n",
    "consolidate_columns(df_models,'collection_y','collection_x','collection')"
   ]
  },
  {
   "cell_type": "code",
   "execution_count": 108,
   "id": "747badf5-c25d-4186-9982-5f40ec6f5c32",
   "metadata": {},
   "outputs": [],
   "source": [
    "# Reorganize columns\n",
    "df_models = sort_columns(df_models)"
   ]
  },
  {
   "cell_type": "markdown",
   "id": "5d413d8f-72a4-48cf-a003-adf1ba58d60c",
   "metadata": {
    "tags": []
   },
   "source": [
    "### Merge df_models and df_new_plan"
   ]
  },
  {
   "cell_type": "code",
   "execution_count": 109,
   "id": "ba157b92-f7b0-489f-9f63-4789f9236f74",
   "metadata": {},
   "outputs": [],
   "source": [
    "df_models = df_models.merge(df_new_plan, how = 'left', on = 'style_id')"
   ]
  },
  {
   "cell_type": "code",
   "execution_count": 110,
   "id": "52c6ebe0-78dd-4e86-80dd-329d3861081d",
   "metadata": {},
   "outputs": [
    {
     "name": "stdout",
     "output_type": "stream",
     "text": [
      "<class 'pandas.core.frame.DataFrame'>\n",
      "Int64Index: 1759 entries, 0 to 1758\n",
      "Data columns (total 3 columns):\n",
      " #   Column          Non-Null Count  Dtype  \n",
      "---  ------          --------------  -----  \n",
      " 0   color_y         33 non-null     object \n",
      " 1   retail_price_y  33 non-null     float64\n",
      " 2   collection_y    33 non-null     object \n",
      "dtypes: float64(1), object(2)\n",
      "memory usage: 55.0+ KB\n"
     ]
    }
   ],
   "source": [
    "df_models[['color_y', 'retail_price_y', 'collection_y']].info()"
   ]
  },
  {
   "cell_type": "code",
   "execution_count": 111,
   "id": "2ceb95fa-8a2c-464d-bc42-6813a91ec334",
   "metadata": {},
   "outputs": [
    {
     "data": {
      "text/plain": [
       "['color_x', 'retail_price_x', 'collection_x']"
      ]
     },
     "execution_count": 111,
     "metadata": {},
     "output_type": "execute_result"
    }
   ],
   "source": [
    "# Print the duplicated columns\n",
    "dup_col = []\n",
    "for col in return_nondate_col(df_models).columns:\n",
    "    if '_x' in col[-2::]:\n",
    "        dup_col.append(col)\n",
    "dup_col"
   ]
  },
  {
   "cell_type": "code",
   "execution_count": 112,
   "id": "c3322f4e-c3f0-46ce-99e8-5abf78c81874",
   "metadata": {},
   "outputs": [
    {
     "name": "stderr",
     "output_type": "stream",
     "text": [
      "/Users/vitoriamorenocosta/Desktop/DSI/projects/capstone/code/custom_functions.py:152: UserWarning: There are null values in color\n",
      "  warnings.warn(f'There are null values in {new_col}')\n"
     ]
    }
   ],
   "source": [
    "# Wholesale price and retail price shouldn't have any issues, so use the consolidate identical function\n",
    "for col in ['color_x']:\n",
    "    if '_x' in col[-2::]:\n",
    "        consolidate_identical_columns(df_models,col,col[:-1]+'y',col[:-2])"
   ]
  },
  {
   "cell_type": "markdown",
   "id": "5408d8d1-9f63-4a22-8736-76c30d620633",
   "metadata": {
    "tags": []
   },
   "source": [
    "#### Check where the retail price differ between datasets"
   ]
  },
  {
   "cell_type": "code",
   "execution_count": 113,
   "id": "c635b8f1-09d9-418d-8c3c-1b1a7ae9e5e8",
   "metadata": {},
   "outputs": [
    {
     "data": {
      "text/html": [
       "<div>\n",
       "<style scoped>\n",
       "    .dataframe tbody tr th:only-of-type {\n",
       "        vertical-align: middle;\n",
       "    }\n",
       "\n",
       "    .dataframe tbody tr th {\n",
       "        vertical-align: top;\n",
       "    }\n",
       "\n",
       "    .dataframe thead th {\n",
       "        text-align: right;\n",
       "    }\n",
       "</style>\n",
       "<table border=\"1\" class=\"dataframe\">\n",
       "  <thead>\n",
       "    <tr style=\"text-align: right;\">\n",
       "      <th></th>\n",
       "      <th>style_id</th>\n",
       "      <th>retail_price_x</th>\n",
       "      <th>retail_price_y</th>\n",
       "    </tr>\n",
       "  </thead>\n",
       "  <tbody>\n",
       "    <tr>\n",
       "      <th>1725</th>\n",
       "      <td>es5206</td>\n",
       "      <td>140.0</td>\n",
       "      <td>135.0</td>\n",
       "    </tr>\n",
       "    <tr>\n",
       "      <th>1739</th>\n",
       "      <td>es5234</td>\n",
       "      <td>150.0</td>\n",
       "      <td>145.0</td>\n",
       "    </tr>\n",
       "    <tr>\n",
       "      <th>1740</th>\n",
       "      <td>es5235</td>\n",
       "      <td>150.0</td>\n",
       "      <td>145.0</td>\n",
       "    </tr>\n",
       "    <tr>\n",
       "      <th>1744</th>\n",
       "      <td>fs5936</td>\n",
       "      <td>150.0</td>\n",
       "      <td>145.0</td>\n",
       "    </tr>\n",
       "    <tr>\n",
       "      <th>1747</th>\n",
       "      <td>fs5941</td>\n",
       "      <td>160.0</td>\n",
       "      <td>155.0</td>\n",
       "    </tr>\n",
       "  </tbody>\n",
       "</table>\n",
       "</div>"
      ],
      "text/plain": [
       "     style_id  retail_price_x  retail_price_y\n",
       "1725   es5206           140.0           135.0\n",
       "1739   es5234           150.0           145.0\n",
       "1740   es5235           150.0           145.0\n",
       "1744   fs5936           150.0           145.0\n",
       "1747   fs5941           160.0           155.0"
      ]
     },
     "execution_count": 113,
     "metadata": {},
     "output_type": "execute_result"
    }
   ],
   "source": [
    "col = 'retail_price_x'\n",
    "discrepancy = df_models[(df_models[col] != df_models[col[:-1]+'y'])][['style_id',col,col[:-1]+'y']].dropna()\n",
    "discrepancy"
   ]
  },
  {
   "cell_type": "code",
   "execution_count": 114,
   "id": "f834f4c5-3946-4b7e-a185-7ca76f594436",
   "metadata": {},
   "outputs": [],
   "source": [
    "# keep original prices from the webiste\n",
    "consolidate_columns(df_models,'retail_price_x','retail_price_y','retail_price')"
   ]
  },
  {
   "cell_type": "markdown",
   "id": "38abbf65-73c1-4007-a6dc-da59a8584f56",
   "metadata": {
    "tags": []
   },
   "source": [
    "#### Check where the collection differ between datasets"
   ]
  },
  {
   "cell_type": "code",
   "execution_count": 115,
   "id": "85a83d5f-5273-4bed-a8cb-2e0754df52ae",
   "metadata": {},
   "outputs": [
    {
     "data": {
      "text/html": [
       "<div>\n",
       "<style scoped>\n",
       "    .dataframe tbody tr th:only-of-type {\n",
       "        vertical-align: middle;\n",
       "    }\n",
       "\n",
       "    .dataframe tbody tr th {\n",
       "        vertical-align: top;\n",
       "    }\n",
       "\n",
       "    .dataframe thead th {\n",
       "        text-align: right;\n",
       "    }\n",
       "</style>\n",
       "<table border=\"1\" class=\"dataframe\">\n",
       "  <thead>\n",
       "    <tr style=\"text-align: right;\">\n",
       "      <th></th>\n",
       "      <th>style_id</th>\n",
       "      <th>collection_x</th>\n",
       "      <th>collection_y</th>\n",
       "    </tr>\n",
       "  </thead>\n",
       "  <tbody>\n",
       "    <tr>\n",
       "      <th>1726</th>\n",
       "      <td>es5212</td>\n",
       "      <td>carlie</td>\n",
       "      <td>carlie mini</td>\n",
       "    </tr>\n",
       "    <tr>\n",
       "      <th>1727</th>\n",
       "      <td>es5213</td>\n",
       "      <td>carlie</td>\n",
       "      <td>carlie mini</td>\n",
       "    </tr>\n",
       "    <tr>\n",
       "      <th>1728</th>\n",
       "      <td>es5214</td>\n",
       "      <td>carlie</td>\n",
       "      <td>carlie mini</td>\n",
       "    </tr>\n",
       "    <tr>\n",
       "      <th>1729</th>\n",
       "      <td>es5215</td>\n",
       "      <td>carlie</td>\n",
       "      <td>carlie mini</td>\n",
       "    </tr>\n",
       "    <tr>\n",
       "      <th>1751</th>\n",
       "      <td>fs5946</td>\n",
       "      <td>blue</td>\n",
       "      <td>fossil blue</td>\n",
       "    </tr>\n",
       "    <tr>\n",
       "      <th>1752</th>\n",
       "      <td>fs5947</td>\n",
       "      <td>blue</td>\n",
       "      <td>fossil blue</td>\n",
       "    </tr>\n",
       "    <tr>\n",
       "      <th>1753</th>\n",
       "      <td>fs5948</td>\n",
       "      <td>blue</td>\n",
       "      <td>fossil blue</td>\n",
       "    </tr>\n",
       "    <tr>\n",
       "      <th>1754</th>\n",
       "      <td>fs5949</td>\n",
       "      <td>blue</td>\n",
       "      <td>fossil blue</td>\n",
       "    </tr>\n",
       "    <tr>\n",
       "      <th>1755</th>\n",
       "      <td>fs5950</td>\n",
       "      <td>blue</td>\n",
       "      <td>fossil blue</td>\n",
       "    </tr>\n",
       "    <tr>\n",
       "      <th>1756</th>\n",
       "      <td>fs5951</td>\n",
       "      <td>blue</td>\n",
       "      <td>fossil blue</td>\n",
       "    </tr>\n",
       "    <tr>\n",
       "      <th>1757</th>\n",
       "      <td>fs5952</td>\n",
       "      <td>blue</td>\n",
       "      <td>fossil blue</td>\n",
       "    </tr>\n",
       "  </tbody>\n",
       "</table>\n",
       "</div>"
      ],
      "text/plain": [
       "     style_id collection_x collection_y\n",
       "1726   es5212       carlie  carlie mini\n",
       "1727   es5213       carlie  carlie mini\n",
       "1728   es5214       carlie  carlie mini\n",
       "1729   es5215       carlie  carlie mini\n",
       "1751   fs5946         blue  fossil blue\n",
       "1752   fs5947         blue  fossil blue\n",
       "1753   fs5948         blue  fossil blue\n",
       "1754   fs5949         blue  fossil blue\n",
       "1755   fs5950         blue  fossil blue\n",
       "1756   fs5951         blue  fossil blue\n",
       "1757   fs5952         blue  fossil blue"
      ]
     },
     "execution_count": 115,
     "metadata": {},
     "output_type": "execute_result"
    }
   ],
   "source": [
    "col = 'collection_x'\n",
    "discrepancy = df_models[(df_models[col] != df_models[col[:-1]+'y'])][['style_id',col,col[:-1]+'y']].dropna()\n",
    "discrepancy"
   ]
  },
  {
   "cell_type": "code",
   "execution_count": 116,
   "id": "e47ed92b-e9a9-45e6-94ec-c1d1e26e0f01",
   "metadata": {},
   "outputs": [],
   "source": [
    "# keep original collection from the webiste\n",
    "consolidate_columns(df_models,'collection_x','collection_y','collection')"
   ]
  },
  {
   "cell_type": "code",
   "execution_count": 117,
   "id": "31bd1813-96f5-4758-b11f-0643aa6d37d6",
   "metadata": {},
   "outputs": [],
   "source": [
    "# Reorganize columns\n",
    "df_models = sort_columns(df_models)"
   ]
  },
  {
   "cell_type": "code",
   "execution_count": 118,
   "id": "7885524a-1da6-430d-a3e0-12f0efe45c16",
   "metadata": {},
   "outputs": [
    {
     "data": {
      "text/plain": [
       "Index(['style_id', 'status', 'clasp_type', 'movement_type', 'water_resistant',\n",
       "       'max_cart_qty', 'case', 'availability', 'qty_on_hand', 'qty_on_order',\n",
       "       'qty_total_inv', 'qty_sales_order', 'qty_sold_last_6m', 'qty_avg/mo',\n",
       "       'months_of_supply', 'xyz_cost', 'qty_xyz_cost', 'wholesale_price',\n",
       "       'clasp', 'movement', 'water_resistance', 'country_of_origin',\n",
       "       'warranty', 'band_color', 'band_material', 'case_material',\n",
       "       'dial_color', 'case_size', 'priority', 'gender', 'plan_order', 'color',\n",
       "       'retail_price', 'collection'],\n",
       "      dtype='object')"
      ]
     },
     "execution_count": 118,
     "metadata": {},
     "output_type": "execute_result"
    }
   ],
   "source": [
    "return_nondate_col(df_models).columns"
   ]
  },
  {
   "cell_type": "code",
   "execution_count": 119,
   "id": "d6d42fbe-48e1-4627-8b66-d830f8ff3680",
   "metadata": {},
   "outputs": [],
   "source": [
    "# Find the non-null columns for the new models\n",
    "new_non_null_col = []\n",
    "for c in df_models:\n",
    "    new_models = df_models[(df_models['status'].astype(str)=='nan')]\n",
    "    if str(new_models.loc[new_models[new_models['warranty'].astype(str) != 'nan'].index[0] ,c]) != 'nan':\n",
    "        new_non_null_col.append(c)"
   ]
  },
  {
   "cell_type": "code",
   "execution_count": 120,
   "id": "4b80eeed-ac4b-4f09-87e6-527a9acafc8b",
   "metadata": {},
   "outputs": [
    {
     "data": {
      "text/html": [
       "<div>\n",
       "<style scoped>\n",
       "    .dataframe tbody tr th:only-of-type {\n",
       "        vertical-align: middle;\n",
       "    }\n",
       "\n",
       "    .dataframe tbody tr th {\n",
       "        vertical-align: top;\n",
       "    }\n",
       "\n",
       "    .dataframe thead th {\n",
       "        text-align: right;\n",
       "    }\n",
       "</style>\n",
       "<table border=\"1\" class=\"dataframe\">\n",
       "  <thead>\n",
       "    <tr style=\"text-align: right;\">\n",
       "      <th></th>\n",
       "      <th>style_id</th>\n",
       "      <th>case</th>\n",
       "      <th>availability</th>\n",
       "      <th>qty_on_hand</th>\n",
       "      <th>qty_on_order</th>\n",
       "      <th>qty_total_inv</th>\n",
       "      <th>qty_sales_order</th>\n",
       "      <th>qty_sold_last_6m</th>\n",
       "      <th>qty_avg/mo</th>\n",
       "      <th>xyz_cost</th>\n",
       "      <th>...</th>\n",
       "      <th>band_material</th>\n",
       "      <th>case_material</th>\n",
       "      <th>dial_color</th>\n",
       "      <th>case_size</th>\n",
       "      <th>priority</th>\n",
       "      <th>gender</th>\n",
       "      <th>plan_order</th>\n",
       "      <th>color</th>\n",
       "      <th>retail_price</th>\n",
       "      <th>collection</th>\n",
       "    </tr>\n",
       "  </thead>\n",
       "  <tbody>\n",
       "    <tr>\n",
       "      <th>1724</th>\n",
       "      <td>es5183set</td>\n",
       "      <td>28mm</td>\n",
       "      <td>available</td>\n",
       "      <td>0.0</td>\n",
       "      <td>0.0</td>\n",
       "      <td>0.0</td>\n",
       "      <td>40.0</td>\n",
       "      <td>0.0</td>\n",
       "      <td>0.0</td>\n",
       "      <td>49.00</td>\n",
       "      <td>...</td>\n",
       "      <td>NaN</td>\n",
       "      <td>NaN</td>\n",
       "      <td>NaN</td>\n",
       "      <td>NaN</td>\n",
       "      <td>2022h2</td>\n",
       "      <td>ladies</td>\n",
       "      <td>NaN</td>\n",
       "      <td>NaN</td>\n",
       "      <td>140.0</td>\n",
       "      <td>carlie</td>\n",
       "    </tr>\n",
       "    <tr>\n",
       "      <th>1758</th>\n",
       "      <td>le1156</td>\n",
       "      <td>42mm</td>\n",
       "      <td>delivery more than 6 weeks</td>\n",
       "      <td>0.0</td>\n",
       "      <td>0.0</td>\n",
       "      <td>0.0</td>\n",
       "      <td>0.0</td>\n",
       "      <td>0.0</td>\n",
       "      <td>0.0</td>\n",
       "      <td>68.25</td>\n",
       "      <td>...</td>\n",
       "      <td>NaN</td>\n",
       "      <td>NaN</td>\n",
       "      <td>NaN</td>\n",
       "      <td>NaN</td>\n",
       "      <td>2022h3</td>\n",
       "      <td>mens</td>\n",
       "      <td>NaN</td>\n",
       "      <td>NaN</td>\n",
       "      <td>195.0</td>\n",
       "      <td>blue</td>\n",
       "    </tr>\n",
       "  </tbody>\n",
       "</table>\n",
       "<p>2 rows × 28 columns</p>\n",
       "</div>"
      ],
      "text/plain": [
       "       style_id  case                availability  qty_on_hand  qty_on_order  \\\n",
       "1724  es5183set  28mm                   available          0.0           0.0   \n",
       "1758     le1156  42mm  delivery more than 6 weeks          0.0           0.0   \n",
       "\n",
       "      qty_total_inv  qty_sales_order  qty_sold_last_6m  qty_avg/mo  xyz_cost  \\\n",
       "1724            0.0             40.0               0.0         0.0     49.00   \n",
       "1758            0.0              0.0               0.0         0.0     68.25   \n",
       "\n",
       "      ...  band_material  case_material dial_color case_size priority  gender  \\\n",
       "1724  ...            NaN            NaN        NaN       NaN   2022h2  ladies   \n",
       "1758  ...            NaN            NaN        NaN       NaN   2022h3    mens   \n",
       "\n",
       "     plan_order color retail_price collection  \n",
       "1724        NaN   NaN        140.0     carlie  \n",
       "1758        NaN   NaN        195.0       blue  \n",
       "\n",
       "[2 rows x 28 columns]"
      ]
     },
     "execution_count": 120,
     "metadata": {},
     "output_type": "execute_result"
    }
   ],
   "source": [
    "df_models[df_models['status'].isna() & df_models['warranty'].isna()][new_non_null_col]"
   ]
  },
  {
   "cell_type": "code",
   "execution_count": 121,
   "id": "9965edfa-008f-433f-b154-8eb9f2868cfb",
   "metadata": {},
   "outputs": [
    {
     "data": {
      "text/plain": [
       "['clasp',\n",
       " 'movement',\n",
       " 'water_resistance',\n",
       " 'country_of_origin',\n",
       " 'warranty',\n",
       " 'band_color',\n",
       " 'band_material',\n",
       " 'case_material',\n",
       " 'dial_color',\n",
       " 'case_size',\n",
       " 'plan_order',\n",
       " 'color']"
      ]
     },
     "execution_count": 121,
     "metadata": {},
     "output_type": "execute_result"
    }
   ],
   "source": [
    "# Find the null columns for the new models where there should be values\n",
    "null_col = []\n",
    "for key,count in zip(new_models[new_non_null_col].isna().sum().keys(),new_models[new_non_null_col].isna().sum().values):\n",
    "    if count > 0:\n",
    "        null_col.append(key)\n",
    "null_col"
   ]
  },
  {
   "cell_type": "code",
   "execution_count": 122,
   "id": "4d8fcb87-28f1-48e3-af95-bca77a952611",
   "metadata": {},
   "outputs": [],
   "source": [
    "# Manually fill in using data and website search\n",
    "new_model_missing = {'es5183set':{'clasp':'deployment',\n",
    " 'movement':'quartz',\n",
    " 'water_resistance':'5 atm',\n",
    " 'country_of_origin':'no country reported',\n",
    " 'warranty':'2 year limited',\n",
    " 'band_color':'gold',\n",
    " 'band_material':'stainless steel',\n",
    " 'case_material':'stainless steel',\n",
    " 'dial_color':'silver',\n",
    " 'case_size':'28',\n",
    " 'plan_order':'nan',\n",
    " 'color':'gold'}, \n",
    "                     'le1156':{'clasp':'buckle',\n",
    " 'movement':'solar',\n",
    " 'water_resistance':'10 atm',\n",
    " 'country_of_origin':'no country reported',\n",
    " 'warranty':'2 year limited',\n",
    " 'band_color':'green',\n",
    " 'band_material':'leather',\n",
    " 'case_material':'stainless steel',\n",
    " 'dial_color':'black',\n",
    " 'case_size':'42',\n",
    " 'plan_order':'nan',\n",
    " 'color':'black'}}\n",
    "\n",
    "for model, replacements in new_model_missing.items():\n",
    "    i = df_models[df_models.style_id == model].index[0]\n",
    "    for c, value in replacements.items():\n",
    "        df_models.loc[i,c] = value"
   ]
  },
  {
   "cell_type": "markdown",
   "id": "330e5797-9b06-4081-b56a-045c69a36295",
   "metadata": {},
   "source": [
    "#### Inspect all non-date columns of the merged dataset"
   ]
  },
  {
   "cell_type": "code",
   "execution_count": 123,
   "id": "d6edb807-2c9d-465c-b0e9-2385b136b06c",
   "metadata": {},
   "outputs": [
    {
     "name": "stdout",
     "output_type": "stream",
     "text": [
      "<class 'pandas.core.frame.DataFrame'>\n",
      "Int64Index: 1759 entries, 0 to 1758\n",
      "Data columns (total 34 columns):\n",
      " #   Column             Non-Null Count  Dtype  \n",
      "---  ------             --------------  -----  \n",
      " 0   style_id           1759 non-null   object \n",
      " 1   status             1724 non-null   object \n",
      " 2   clasp_type         1724 non-null   object \n",
      " 3   movement_type      1724 non-null   object \n",
      " 4   water_resistant    1724 non-null   object \n",
      " 5   max_cart_qty       1724 non-null   object \n",
      " 6   case               300 non-null    object \n",
      " 7   availability       300 non-null    object \n",
      " 8   qty_on_hand        300 non-null    float64\n",
      " 9   qty_on_order       300 non-null    float64\n",
      " 10  qty_total_inv      300 non-null    float64\n",
      " 11  qty_sales_order    300 non-null    float64\n",
      " 12  qty_sold_last_6m   300 non-null    float64\n",
      " 13  qty_avg/mo         300 non-null    float64\n",
      " 14  months_of_supply   216 non-null    float64\n",
      " 15  xyz_cost           300 non-null    float64\n",
      " 16  qty_xyz_cost       300 non-null    float64\n",
      " 17  wholesale_price    1759 non-null   float64\n",
      " 18  clasp              35 non-null     object \n",
      " 19  movement           35 non-null     object \n",
      " 20  water_resistance   35 non-null     object \n",
      " 21  country_of_origin  1759 non-null   object \n",
      " 22  warranty           1759 non-null   object \n",
      " 23  band_color         1759 non-null   object \n",
      " 24  band_material      1759 non-null   object \n",
      " 25  case_material      1759 non-null   object \n",
      " 26  dial_color         1759 non-null   object \n",
      " 27  case_size          1759 non-null   object \n",
      " 28  priority           300 non-null    object \n",
      " 29  gender             1759 non-null   object \n",
      " 30  plan_order         35 non-null     object \n",
      " 31  color              1759 non-null   object \n",
      " 32  retail_price       1759 non-null   float64\n",
      " 33  collection         1759 non-null   object \n",
      "dtypes: float64(11), object(23)\n",
      "memory usage: 545.5+ KB\n"
     ]
    }
   ],
   "source": [
    "return_nondate_col(df_models).info()"
   ]
  },
  {
   "cell_type": "code",
   "execution_count": 124,
   "id": "716e6f79-92ec-40fc-a346-c4dee399e0df",
   "metadata": {},
   "outputs": [
    {
     "data": {
      "text/plain": [
       "{'availability',\n",
       " 'case',\n",
       " 'clasp',\n",
       " 'clasp_type',\n",
       " 'max_cart_qty',\n",
       " 'months_of_supply',\n",
       " 'movement',\n",
       " 'movement_type',\n",
       " 'plan_order',\n",
       " 'priority',\n",
       " 'qty_avg/mo',\n",
       " 'qty_on_hand',\n",
       " 'qty_on_order',\n",
       " 'qty_sales_order',\n",
       " 'qty_sold_last_6m',\n",
       " 'qty_total_inv',\n",
       " 'qty_xyz_cost',\n",
       " 'status',\n",
       " 'water_resistance',\n",
       " 'water_resistant',\n",
       " 'xyz_cost'}"
      ]
     },
     "execution_count": 124,
     "metadata": {},
     "output_type": "execute_result"
    }
   ],
   "source": [
    "# make a list of columns that have null values to inspect further\n",
    "null_col = []\n",
    "for key, value in dict(return_nondate_col(df_models).isna().sum()).items():\n",
    "    if value > 0:\n",
    "        null_col.append(key)\n",
    "set(null_col)"
   ]
  },
  {
   "cell_type": "code",
   "execution_count": 125,
   "id": "61824640-e2c4-40c0-9c57-2a6542f440c5",
   "metadata": {},
   "outputs": [],
   "source": [
    "# Consolidate clasp\n",
    "consolidate_identical_columns(df_models,'clasp_type','clasp','clasp_type_new')"
   ]
  },
  {
   "cell_type": "code",
   "execution_count": 126,
   "id": "b8b262fb-4d76-41cb-a834-6ed71273193b",
   "metadata": {},
   "outputs": [],
   "source": [
    "# Compare, replace values, and consolidate water resistance\n",
    "df_models.water_resistant.replace({'50m - 160ft - 5atm':'5 atm', '30m - 100ft - 3atm':'3 atm', '100m - 330ft - 10atm':'10 atm'},inplace=True)\n",
    "consolidate_identical_columns(df_models,'water_resistant','water_resistance','water_resistance_new')"
   ]
  },
  {
   "cell_type": "code",
   "execution_count": 127,
   "id": "3dfc2021-964d-494b-82ef-36cc81fbc40d",
   "metadata": {},
   "outputs": [],
   "source": [
    "# Consolidate movement\n",
    "consolidate_identical_columns(df_models,'movement_type','movement','movement_type_new')"
   ]
  },
  {
   "cell_type": "code",
   "execution_count": 128,
   "id": "7cf7db8b-9125-45fc-9a69-3c0c49a9fb37",
   "metadata": {},
   "outputs": [],
   "source": [
    "# Consolidate status & priority ( status should be the primary, and keep a priority column)\n",
    "df_models['proposal_priority'] = df_models.priority\n",
    "consolidate_columns(df_models, 'status','priority','status_new')"
   ]
  },
  {
   "cell_type": "code",
   "execution_count": 129,
   "id": "92b7ed5b-9f4a-4071-b199-7766c2e1c5c6",
   "metadata": {},
   "outputs": [],
   "source": [
    "# Clean case size (remove mm) and delete case\n",
    "df_models.case_size = df_models.case_size.astype(str).str.replace(' mm','').replace('no case size reported',np.nan).astype(float).fillna('no case size reported')\n",
    "df_models.drop(columns='case',inplace=True)"
   ]
  },
  {
   "cell_type": "code",
   "execution_count": 130,
   "id": "60ef3ab6-bae1-48af-aac4-efdc62e9aa3e",
   "metadata": {},
   "outputs": [
    {
     "name": "stderr",
     "output_type": "stream",
     "text": [
      "/Users/vitoriamorenocosta/Desktop/DSI/projects/capstone/code/custom_functions.py:152: UserWarning: There are null values in planned_order\n",
      "  warnings.warn(f'There are null values in {new_col}')\n"
     ]
    }
   ],
   "source": [
    "# Consolidate qty_sales_order and plan order\n",
    "consolidate_columns(df_models,'plan_order','qty_sales_order','planned_order')"
   ]
  },
  {
   "cell_type": "code",
   "execution_count": 131,
   "id": "01e2331c-e621-4d24-87fa-695237624223",
   "metadata": {},
   "outputs": [
    {
     "data": {
      "text/plain": [
       "{'availability',\n",
       " 'max_cart_qty',\n",
       " 'months_of_supply',\n",
       " 'planned_order',\n",
       " 'proposal_priority',\n",
       " 'qty_avg/mo',\n",
       " 'qty_on_hand',\n",
       " 'qty_on_order',\n",
       " 'qty_sold_last_6m',\n",
       " 'qty_total_inv',\n",
       " 'qty_xyz_cost',\n",
       " 'xyz_cost'}"
      ]
     },
     "execution_count": 131,
     "metadata": {},
     "output_type": "execute_result"
    }
   ],
   "source": [
    "# make a list of columns that have null values to inspect further\n",
    "null_col = []\n",
    "for key, value in dict(return_nondate_col(df_models).isna().sum()).items():\n",
    "    if value > 0:\n",
    "        null_col.append(key)\n",
    "set(null_col)"
   ]
  },
  {
   "cell_type": "code",
   "execution_count": 132,
   "id": "6eb0962e-6d9e-4747-81d6-0da2267c6d3c",
   "metadata": {},
   "outputs": [],
   "source": [
    "# Inspect the value counts to make sure all consistent and fix any last issues"
   ]
  },
  {
   "cell_type": "code",
   "execution_count": 133,
   "id": "8aef6e3d-9de2-44b4-81ff-440c19bde8ea",
   "metadata": {},
   "outputs": [],
   "source": [
    "# Replace XYZ cost, qty_xyz_cost, and wholesale price based on new retail price\n",
    "df_models.wholesale_price = df_models.retail_price*0.5\n",
    "df_models.xyz_cost = df_models.wholesale_price*0.7\n",
    "df_models.qty_xyz_cost = df_models.xyz_cost*df_models.planned_order"
   ]
  },
  {
   "cell_type": "code",
   "execution_count": 134,
   "id": "f588d6ca-27d2-4284-add5-e72a8c6ad3b7",
   "metadata": {},
   "outputs": [],
   "source": [
    "# Replace inconsistent warranty\n",
    "df_models.warranty.replace({'2 year limited':'2 - year international limited warranty','1 year limited':'1 - year international limited warranty'},inplace=True)"
   ]
  },
  {
   "cell_type": "code",
   "execution_count": 135,
   "id": "9c4978bb-d51b-4607-9ed6-71de2b1a833d",
   "metadata": {},
   "outputs": [
    {
     "name": "stdout",
     "output_type": "stream",
     "text": [
      "Num of colors, before: 29\n",
      "Num of colors, after: 26\n"
     ]
    }
   ],
   "source": [
    "# Replace inconsistent colors\n",
    "df_models.band_color = simplify_color(df_models.band_color)"
   ]
  },
  {
   "cell_type": "code",
   "execution_count": 136,
   "id": "e8c4a2f2-0079-497a-ac4b-5f6344d4e598",
   "metadata": {},
   "outputs": [
    {
     "name": "stdout",
     "output_type": "stream",
     "text": [
      "Num of colors, before: 27\n",
      "Num of colors, after: 25\n"
     ]
    }
   ],
   "source": [
    "# Replace inconsistent colors\n",
    "df_models.dial_color = simplify_color(df_models.dial_color)"
   ]
  },
  {
   "cell_type": "code",
   "execution_count": 137,
   "id": "73ae8eaf-e8f3-4737-81fd-cc617e138c76",
   "metadata": {},
   "outputs": [
    {
     "name": "stdout",
     "output_type": "stream",
     "text": [
      "Num of colors, before: 35\n",
      "Num of colors, after: 28\n"
     ]
    }
   ],
   "source": [
    "# Replace inconsistent colors\n",
    "df_models.color = simplify_color(df_models.color)"
   ]
  },
  {
   "cell_type": "code",
   "execution_count": 138,
   "id": "5b5ad8aa-f36f-443f-ba2a-026b1538f6b1",
   "metadata": {},
   "outputs": [
    {
     "name": "stdout",
     "output_type": "stream",
     "text": [
      "Num of collections, before: 187\n",
      "Num of collections, after: 187\n"
     ]
    }
   ],
   "source": [
    "# Simplify collections\n",
    "df_models.collection = simplify_collections(df_models.collection)"
   ]
  },
  {
   "cell_type": "code",
   "execution_count": 139,
   "id": "5a91e112-e5ac-4545-8e88-fede5520ff37",
   "metadata": {},
   "outputs": [],
   "source": [
    "# Fix one-off missing collection\n",
    "df_models.loc[df_models[df_models.style_id == 'bq3210'].index[0],'collection'] = 'blythe'"
   ]
  },
  {
   "cell_type": "code",
   "execution_count": 140,
   "id": "f0a8447f-6c5a-4f1b-bb42-bf063113671f",
   "metadata": {},
   "outputs": [],
   "source": [
    "# Remove new from the columns names\n",
    "for c in df_models.columns:\n",
    "    if c[-4::] == '_new':\n",
    "        df_models.rename({c:c[:-4]},axis='columns',inplace=True)"
   ]
  },
  {
   "cell_type": "code",
   "execution_count": 141,
   "id": "1bb6f6ca-c3b1-4bf6-9b09-58872b806c93",
   "metadata": {},
   "outputs": [
    {
     "name": "stdout",
     "output_type": "stream",
     "text": [
      "<class 'pandas.core.frame.DataFrame'>\n",
      "Int64Index: 1759 entries, 0 to 1758\n",
      "Data columns (total 29 columns):\n",
      " #   Column             Non-Null Count  Dtype  \n",
      "---  ------             --------------  -----  \n",
      " 0   style_id           1759 non-null   object \n",
      " 1   max_cart_qty       1724 non-null   object \n",
      " 2   availability       300 non-null    object \n",
      " 3   qty_on_hand        300 non-null    float64\n",
      " 4   qty_on_order       300 non-null    float64\n",
      " 5   qty_total_inv      300 non-null    float64\n",
      " 6   qty_sold_last_6m   300 non-null    float64\n",
      " 7   qty_avg/mo         300 non-null    float64\n",
      " 8   months_of_supply   216 non-null    float64\n",
      " 9   xyz_cost           1759 non-null   float64\n",
      " 10  qty_xyz_cost       300 non-null    float64\n",
      " 11  wholesale_price    1759 non-null   float64\n",
      " 12  country_of_origin  1759 non-null   object \n",
      " 13  warranty           1759 non-null   object \n",
      " 14  band_color         1759 non-null   object \n",
      " 15  band_material      1759 non-null   object \n",
      " 16  case_material      1759 non-null   object \n",
      " 17  dial_color         1759 non-null   object \n",
      " 18  case_size          1759 non-null   object \n",
      " 19  gender             1759 non-null   object \n",
      " 20  color              1759 non-null   object \n",
      " 21  retail_price       1759 non-null   float64\n",
      " 22  collection         1759 non-null   object \n",
      " 23  clasp_type         1759 non-null   object \n",
      " 24  water_resistance   1759 non-null   object \n",
      " 25  movement_type      1759 non-null   object \n",
      " 26  proposal_priority  300 non-null    object \n",
      " 27  status             1759 non-null   object \n",
      " 28  planned_order      300 non-null    float64\n",
      "dtypes: float64(11), object(18)\n",
      "memory usage: 476.8+ KB\n"
     ]
    }
   ],
   "source": [
    "return_nondate_col(df_models).info()"
   ]
  },
  {
   "cell_type": "code",
   "execution_count": 142,
   "id": "41062fd4-9546-4c7b-9502-e5aefe3ae6a8",
   "metadata": {},
   "outputs": [],
   "source": [
    "# Reorganize df_models for saving\n",
    "sort_columns(df_models).to_csv('../data/cleaned_datasets/df_models.csv',index=False)"
   ]
  },
  {
   "cell_type": "code",
   "execution_count": 145,
   "id": "7ac855a7-a72a-4598-8138-525b0876a142",
   "metadata": {},
   "outputs": [
    {
     "name": "stdout",
     "output_type": "stream",
     "text": [
      "<class 'pandas.core.frame.DataFrame'>\n",
      "Int64Index: 1759 entries, 0 to 1758\n",
      "Data columns (total 29 columns):\n",
      " #   Column             Non-Null Count  Dtype  \n",
      "---  ------             --------------  -----  \n",
      " 0   style_id           1759 non-null   object \n",
      " 1   max_cart_qty       1724 non-null   object \n",
      " 2   availability       300 non-null    object \n",
      " 3   qty_on_hand        300 non-null    float64\n",
      " 4   qty_on_order       300 non-null    float64\n",
      " 5   qty_total_inv      300 non-null    float64\n",
      " 6   qty_sold_last_6m   300 non-null    float64\n",
      " 7   qty_avg/mo         300 non-null    float64\n",
      " 8   months_of_supply   216 non-null    float64\n",
      " 9   xyz_cost           1759 non-null   float64\n",
      " 10  qty_xyz_cost       300 non-null    float64\n",
      " 11  wholesale_price    1759 non-null   float64\n",
      " 12  country_of_origin  1759 non-null   object \n",
      " 13  warranty           1759 non-null   object \n",
      " 14  band_color         1759 non-null   object \n",
      " 15  band_material      1759 non-null   object \n",
      " 16  case_material      1759 non-null   object \n",
      " 17  dial_color         1759 non-null   object \n",
      " 18  case_size          1759 non-null   object \n",
      " 19  gender             1759 non-null   object \n",
      " 20  color              1759 non-null   object \n",
      " 21  retail_price       1759 non-null   float64\n",
      " 22  collection         1759 non-null   object \n",
      " 23  clasp_type         1759 non-null   object \n",
      " 24  water_resistance   1759 non-null   object \n",
      " 25  movement_type      1759 non-null   object \n",
      " 26  proposal_priority  300 non-null    object \n",
      " 27  status             1759 non-null   object \n",
      " 28  planned_order      300 non-null    float64\n",
      "dtypes: float64(11), object(18)\n",
      "memory usage: 476.8+ KB\n"
     ]
    }
   ],
   "source": [
    "return_nondate_col(sort_columns(df_models)).info()"
   ]
  },
  {
   "cell_type": "code",
   "execution_count": null,
   "id": "a806ba23-9db0-47ef-b01b-50f66e8867b8",
   "metadata": {},
   "outputs": [],
   "source": []
  }
 ],
 "metadata": {
  "kernelspec": {
   "display_name": "Python 3 (ipykernel)",
   "language": "python",
   "name": "python3"
  },
  "language_info": {
   "codemirror_mode": {
    "name": "ipython",
    "version": 3
   },
   "file_extension": ".py",
   "mimetype": "text/x-python",
   "name": "python",
   "nbconvert_exporter": "python",
   "pygments_lexer": "ipython3",
   "version": "3.8.8"
  }
 },
 "nbformat": 4,
 "nbformat_minor": 5
}
